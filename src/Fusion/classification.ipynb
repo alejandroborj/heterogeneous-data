{
 "cells": [
  {
   "cell_type": "code",
   "execution_count": 17,
   "metadata": {},
   "outputs": [],
   "source": [
    "import pandas as pd\n",
    "import sklearn\n",
    "import sklearn.metrics"
   ]
  },
  {
   "cell_type": "code",
   "execution_count": 37,
   "metadata": {},
   "outputs": [],
   "source": [
    "# Using only split 0\n",
    "\n",
    "SPLITS = [0,1,2,3]\n",
    "\n",
    "wsi_data = pd.concat([pd.read_csv(f\"D:\\data\\Outputs\\WSI\\PDAC_train_0_{SPLIT}.csv\") for SPLIT in SPLITS]) # CHANGE THE SECOND INDEX\n",
    "\n",
    "data = [wsi_data, pd.read_csv(f\"D:\\data\\Outputs\\RNASeq\\PDAC_train_1.csv\")]\n",
    "\n",
    "data[1][\"Sample ID\"] =  data[1][\"Sample ID\"].apply(lambda x: x.replace('.', '-') if len(x.split('.')) == 3 else x.replace('.', '-')[:-2])\n",
    " \n",
    "\n",
    "sample_ids = list(set(data[0][\"Sample ID\"]).intersection(data[1][\"Sample ID\"]))\n",
    "\n",
    "# Dropping all data that is not in both sets\n",
    "for dat in data:\n",
    "    for column in dat:\n",
    "        if column not in sample_ids:\n",
    "            dat.drop(column, axis=\"columns\")\n",
    "\n",
    "data = pd.merge(data[0], data[1], on='Sample ID')\n",
    "data = data.dropna()"
   ]
  },
  {
   "cell_type": "code",
   "execution_count": 38,
   "metadata": {},
   "outputs": [
    {
     "name": "stdout",
     "output_type": "stream",
     "text": [
      "0     1\n",
      "1     1\n",
      "2     1\n",
      "3     1\n",
      "4     0\n",
      "5     1\n",
      "6     1\n",
      "7     1\n",
      "8     1\n",
      "9     1\n",
      "10    1\n",
      "11    1\n",
      "12    1\n",
      "13    0\n",
      "14    1\n",
      "15    1\n",
      "16    1\n",
      "17    1\n",
      "18    1\n",
      "19    1\n",
      "20    1\n",
      "21    1\n",
      "22    0\n",
      "23    1\n",
      "24    0\n",
      "25    1\n",
      "26    1\n",
      "27    0\n",
      "28    1\n",
      "29    1\n",
      "30    1\n",
      "31    0\n",
      "32    1\n",
      "33    1\n",
      "34    1\n",
      "35    1\n",
      "36    1\n",
      "37    1\n",
      "38    0\n",
      "39    1\n",
      "40    1\n",
      "Name: Label_x, dtype: int64 0     0.0\n",
      "1     0.0\n",
      "2     0.0\n",
      "3     0.0\n",
      "4     1.0\n",
      "5     0.0\n",
      "6     0.0\n",
      "7     0.0\n",
      "8     0.0\n",
      "9     0.0\n",
      "10    0.0\n",
      "11    0.0\n",
      "12    0.0\n",
      "13    1.0\n",
      "14    0.0\n",
      "15    0.0\n",
      "16    0.0\n",
      "17    0.0\n",
      "18    0.0\n",
      "19    0.0\n",
      "20    0.0\n",
      "21    0.0\n",
      "22    1.0\n",
      "23    0.0\n",
      "24    1.0\n",
      "25    0.0\n",
      "26    0.0\n",
      "27    1.0\n",
      "28    0.0\n",
      "29    0.0\n",
      "30    0.0\n",
      "31    1.0\n",
      "32    0.0\n",
      "33    0.0\n",
      "34    0.0\n",
      "35    0.0\n",
      "36    0.0\n",
      "37    0.0\n",
      "38    1.0\n",
      "39    0.0\n",
      "40    0.0\n",
      "dtype: float64\n"
     ]
    }
   ],
   "source": [
    "labels = data[\"Label_x\"]\n",
    "out = round((data[\"Output_x\"] + data[\"Output_y\"])/2)\n",
    "\n",
    "print(labels,out)"
   ]
  },
  {
   "cell_type": "code",
   "execution_count": 39,
   "metadata": {},
   "outputs": [
    {
     "name": "stdout",
     "output_type": "stream",
     "text": [
      "0.0\n",
      "0.0\n",
      "[[ 0  7]\n",
      " [34  0]]\n"
     ]
    }
   ],
   "source": [
    "conf_m = sklearn.metrics.confusion_matrix(labels, out, labels=[0, 1])\n",
    "acc = sklearn.metrics.accuracy_score(labels, out)\n",
    "f1 = sklearn.metrics.f1_score(labels, out)\n",
    "\n",
    "print(acc)\n",
    "print(f1)\n",
    "print(conf_m)"
   ]
  },
  {
   "cell_type": "code",
   "execution_count": null,
   "metadata": {},
   "outputs": [],
   "source": [
    "def preprocess(train_data, test_data):\n",
    "    train_sample_ids, test_sample_ids = train_data[\"Unnamed: 0\"], test_data[\"Unnamed: 0\"]\n",
    "    train_genes, test_genes = train_data.columns[1:-1], test_data.columns[1:-1]\n",
    "\n",
    "    genes = list(set(train_genes).intersection(test_genes))\n",
    "\n",
    "    for column in test_data:\n",
    "        if column not in genes:\n",
    "            test_data.drop(column, axis=\"columns\")\n",
    "\n",
    "    for column in train_data:\n",
    "        if column not in genes:\n",
    "            train_data.drop(column, axis=\"columns\")\n",
    "\n",
    "    train_X, test_X = [list(row[1][genes]) for row in train_data.iterrows()], [list(row[1][genes]) for row in test_data.iterrows()]\n",
    "    train_y, test_y = [0 if dat==\"Solid Tissue Normal\" else 1 for dat in train_data[\"Labels\"]], [0 if dat==\"Solid Tissue Normal\" else 1 for dat in test_data[\"Labels\"]]\n",
    "\n",
    "    #test_X, test:y = sklearn.utils.shuffle(test_X, test_y, random_state=0)\n",
    "    \n",
    "    return train_X, train_y, test_X, test_y, train_sample_ids, test_sample_ids"
   ]
  }
 ],
 "metadata": {
  "kernelspec": {
   "display_name": "Python 3.9.12 ('openslide')",
   "language": "python",
   "name": "python3"
  },
  "language_info": {
   "codemirror_mode": {
    "name": "ipython",
    "version": 3
   },
   "file_extension": ".py",
   "mimetype": "text/x-python",
   "name": "python",
   "nbconvert_exporter": "python",
   "pygments_lexer": "ipython3",
   "version": "3.9.12"
  },
  "orig_nbformat": 4,
  "vscode": {
   "interpreter": {
    "hash": "de74446a7cd3a56c425ecbffb2a7ad915342ddab3c48353acb4566475bd7705f"
   }
  }
 },
 "nbformat": 4,
 "nbformat_minor": 2
}
