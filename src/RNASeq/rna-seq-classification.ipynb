{
 "cells": [
  {
   "cell_type": "markdown",
   "id": "0792ffba",
   "metadata": {},
   "source": [
    "# RNA-Seq classification"
   ]
  },
  {
   "cell_type": "code",
   "execution_count": 1,
   "id": "d165cb82",
   "metadata": {},
   "outputs": [],
   "source": [
    "import pandas as pd\n",
    "from sklearn.svm import SVC\n",
    "import sklearn\n",
    "\n",
    "import numpy as np\n",
    "import seaborn as sn\n",
    "import matplotlib.pyplot as plt"
   ]
  },
  {
   "cell_type": "code",
   "execution_count": 2,
   "id": "04f0c16c",
   "metadata": {},
   "outputs": [],
   "source": [
    "def plot_conf(SPLIT_NAME, conf):\n",
    "\n",
    "    fig, ax = plt.subplots()\n",
    "        \n",
    "    lab = [\"Negative\", \"Positive\"]\n",
    "\n",
    "    group_names = ['True Neg','False Pos','False Neg','True Pos']\n",
    "    group_counts = [\"{0:0.0f}\".format(value) for value in conf.flatten()]\n",
    "    group_percentages = [\"{0:.2%}\".format(value) for value in conf.flatten()/np.sum(conf)]\n",
    "    labels = [f\"{v1}\\n{v2}\\n{v3}\" for v1, v2, v3 in zip(group_names,group_counts,group_percentages)]\n",
    "    labels = np.asarray(labels).reshape(2,2)\n",
    "\n",
    "    sn.heatmap(conf, annot=labels, fmt='', cmap='Blues', ax= ax)\n",
    "\n",
    "    ax.set_xticklabels(lab)\n",
    "    ax.set_yticklabels(lab)\n",
    "\n",
    "    ax.set_xlabel(\"Predicted class\")\n",
    "    ax.set_ylabel(\"True class\")\n",
    "\n",
    "    \n",
    "    fig.savefig(f\"C:/Users/Alejandro/Desktop/heterogeneous-data/results/RNASeq/conf/conf_matrix_{SPLIT_NAME}.pdf\")"
   ]
  },
  {
   "cell_type": "code",
   "execution_count": 3,
   "id": "0bba107c",
   "metadata": {},
   "outputs": [],
   "source": [
    "def preprocess(train_data, test_data):\n",
    "    train_sample_ids, test_sample_ids = train_data[\"Unnamed: 0\"], test_data[\"Unnamed: 0\"]\n",
    "    train_genes, test_genes = train_data.columns[1:-1], test_data.columns[1:-1]\n",
    "\n",
    "    genes = list(set(train_genes).intersection(test_genes))\n",
    "\n",
    "    for column in test_data:\n",
    "        if column not in genes:\n",
    "            test_data.drop(column, axis=\"columns\")\n",
    "\n",
    "    for column in train_data:\n",
    "        if column not in genes:\n",
    "            train_data.drop(column, axis=\"columns\")\n",
    "\n",
    "    train_X, test_X = [list(row[1][genes]) for row in train_data.iterrows()], [list(row[1][genes]) for row in test_data.iterrows()]\n",
    "    train_y, test_y = [0 if dat==\"Solid Tissue Normal\" else 1 for dat in train_data[\"Labels\"]], [0 if dat==\"Solid Tissue Normal\" else 1 for dat in test_data[\"Labels\"]]\n",
    "\n",
    "    #test_X, test:y = sklearn.utils.shuffle(test_X, test_y, random_state=0)\n",
    "    \n",
    "    return train_X, train_y, test_X, test_y, train_sample_ids, test_sample_ids"
   ]
  },
  {
   "cell_type": "code",
   "execution_count": 11,
   "id": "e0d8c499",
   "metadata": {},
   "outputs": [
    {
     "name": "stdout",
     "output_type": "stream",
     "text": [
      "SPLIT0\n",
      "[[ 7  2]\n",
      " [ 1 17]]\n",
      "0.8888888888888888\n",
      "SPLIT1\n",
      "[[ 7  0]\n",
      " [ 0 20]]\n",
      "1.0\n",
      "SPLIT2\n",
      "[[ 5  1]\n",
      " [ 0 16]]\n",
      "0.9545454545454546\n",
      "SPLIT3\n",
      "[[ 4  0]\n",
      " [ 2 18]]\n",
      "0.9166666666666666\n",
      "SPLIT4\n",
      "[[ 5  0]\n",
      " [ 2 15]]\n",
      "0.9090909090909091\n",
      "SPLIT5\n",
      "[[ 4  2]\n",
      " [ 0 18]]\n",
      "0.9166666666666666\n",
      "SPLIT6\n",
      "[[ 2  0]\n",
      " [ 0 14]]\n",
      "1.0\n",
      "SPLIT7\n",
      "[[ 2  0]\n",
      " [ 0 17]]\n",
      "1.0\n",
      "SPLIT8\n",
      "[[ 6  0]\n",
      " [ 0 17]]\n",
      "1.0\n",
      "SPLIT9\n",
      "[[ 9  3]\n",
      " [ 1 21]]\n",
      "0.8823529411764706\n"
     ]
    }
   ],
   "source": [
    "SPLITS = [0,1,2,3,4,5,6,7,8,9]\n",
    "tot_conf, tot_acc, tot_f1 = [], [], []\n",
    "\n",
    "\n",
    "for SPLIT in SPLITS:\n",
    "\n",
    "    train_out = pd.DataFrame(columns=[\"Sample ID\", \"Output\", \"Label\"])\n",
    "    test_out = pd.DataFrame(columns=[\"Sample ID\", \"Output\", \"Label\"])\n",
    "    \n",
    "    train_data = pd.read_csv(f\"D:/data/RNASeq/dataset/mRMR-LC-2classes-RNA-train{SPLIT}.csv\")\n",
    "    test_data = pd.read_csv(f\"D:/data/RNASeq/dataset/mRMR-LC-2classes-RNA-test{SPLIT}.csv\")\n",
    "\n",
    "    train_X, train_y, test_X, test_y, train_sample_ids, test_sample_ids = preprocess(train_data, test_data)\n",
    "\n",
    "    clf = SVC(probability=True, kernel=\"rbf\")\n",
    "\n",
    "    clf.fit(train_X, train_y)\n",
    "\n",
    "    train_out[\"Sample ID\"], test_out[\"Sample ID\"] = train_sample_ids, test_sample_ids\n",
    "    train_out[\"Output\"], test_out[\"Output\"] = clf.predict_proba(train_X)[:,0], clf.predict_proba(test_X)[:,0]\n",
    "    train_out[\"Label\"], test_out[\"Label\"] = train_y, test_y\n",
    "\n",
    "    out_test = clf.predict(test_X)\n",
    "    labels = test_y\n",
    "\n",
    "    conf_m = sklearn.metrics.confusion_matrix(labels, out_test, labels=[0, 1])\n",
    "    acc = sklearn.metrics.accuracy_score(labels, out_test)\n",
    "    f1 = sklearn.metrics.f1_score(labels, out_test)\n",
    "\n",
    "    print(f\"SPLIT{SPLIT}\\n{conf_m}\\n{acc}\")\n",
    "\n",
    "    tot_conf.append(conf_m)\n",
    "    tot_acc.append(acc)\n",
    "    tot_f1.append(f1)\n",
    "\n",
    "    train_out.to_csv(f\"D:\\data\\Outputs\\RNASeq\\PDAC_train_{SPLIT}.csv\")\n",
    "    test_out.to_csv(f\"D:\\data\\Outputs\\RNASeq\\PDAC_test_{SPLIT}.csv\")"
   ]
  },
  {
   "cell_type": "code",
   "execution_count": 12,
   "id": "827cb717",
   "metadata": {},
   "outputs": [
    {
     "name": "stdout",
     "output_type": "stream",
     "text": [
      "Accuracy: 0.947 0.047\n",
      "F1-Score:  0.963 0.033\n",
      "[[ 51   8]\n",
      " [  6 173]]\n"
     ]
    },
    {
     "data": {
      "image/png": "[encoded data removed]",
      "text/plain": [
       "<Figure size 432x288 with 2 Axes>"
      ]
     },
     "metadata": {
      "needs_background": "light"
     },
     "output_type": "display_data"
    }
   ],
   "source": [
    "print(\"Accuracy:\", round(np.mean(tot_acc), 3), round(np.std(tot_acc),3))\n",
    "print(\"F1-Score: \", round(np.mean(tot_f1), 3), round(np.std(tot_f1), 3))\n",
    "tot_conf = np.sum(tot_conf, axis=0)\n",
    "print(tot_conf)\n",
    "\n",
    "plot_conf(\"10CV\", tot_conf)"
   ]
  },
  {
   "cell_type": "code",
   "execution_count": null,
   "id": "8cf366d8",
   "metadata": {},
   "outputs": [],
   "source": []
  }
 ],
 "metadata": {
  "kernelspec": {
   "display_name": "Python 3.9.12 ('openslide')",
   "language": "python",
   "name": "python3"
  },
  "language_info": {
   "codemirror_mode": {
    "name": "ipython",
    "version": 3
   },
   "file_extension": ".py",
   "mimetype": "text/x-python",
   "name": "python",
   "nbconvert_exporter": "python",
   "pygments_lexer": "ipython3",
   "version": "3.9.12"
  },
  "toc": {
   "base_numbering": 1,
   "nav_menu": {},
   "number_sections": true,
   "sideBar": true,
   "skip_h1_title": false,
   "title_cell": "Table of Contents",
   "title_sidebar": "Contents",
   "toc_cell": false,
   "toc_position": {},
   "toc_section_display": true,
   "toc_window_display": true
  },
  "varInspector": {
   "cols": {
    "lenName": 16,
    "lenType": 16,
    "lenVar": 40
   },
   "kernels_config": {
    "python": {
     "delete_cmd_postfix": "",
     "delete_cmd_prefix": "del ",
     "library": "var_list.py",
     "varRefreshCmd": "print(var_dic_list())"
    },
    "r": {
     "delete_cmd_postfix": ") ",
     "delete_cmd_prefix": "rm(",
     "library": "var_list.r",
     "varRefreshCmd": "cat(var_dic_list()) "
    }
   },
   "types_to_exclude": [
    "module",
    "function",
    "builtin_function_or_method",
    "instance",
    "_Feature"
   ],
   "window_display": false
  },
  "vscode": {
   "interpreter": {
    "hash": "de74446a7cd3a56c425ecbffb2a7ad915342ddab3c48353acb4566475bd7705f"
   }
  }
 },
 "nbformat": 4,
 "nbformat_minor": 5
}
