{
 "cells": [
  {
   "cell_type": "markdown",
   "id": "0792ffba",
   "metadata": {},
   "source": [
    "# RNA-Seq classification"
   ]
  },
  {
   "cell_type": "code",
   "execution_count": 18,
   "id": "d165cb82",
   "metadata": {},
   "outputs": [],
   "source": [
    "import pandas as pd\n",
    "from sklearn.svm import SVC\n",
    "import sklearn\n",
    "\n",
    "data = pd.read_csv(\"D:/data/RNASeq/dataset/mRMR-LC-2classes-RNA.csv\")\n",
    "\n",
    "sample_ids = data.index\n",
    "genes = data.columns[1:-1]\n",
    "\n",
    "X = [list(row[1][genes]) for row in data.iterrows()]\n",
    "y = [0 if dat==\"Solid Tissue Normal\" else 1 for dat in data[\"Labels\"]]\n",
    "\n",
    "X, y = sklearn.utils.shuffle(X, y, random_state=0)"
   ]
  },
  {
   "cell_type": "code",
   "execution_count": 21,
   "id": "e0d8c499",
   "metadata": {},
   "outputs": [
    {
     "data": {
      "text/plain": [
       "SVC()"
      ]
     },
     "execution_count": 21,
     "metadata": {},
     "output_type": "execute_result"
    }
   ],
   "source": [
    "clf = SVC()\n",
    "\n",
    "train_X = X[:int(0.8*len(X))]\n",
    "train_y = y[:int(0.8*len(y))]\n",
    "\n",
    "val_X = X[int(0.8*len(X)):]\n",
    "val_y = y[int(0.8*len(y)):]\n",
    "\n",
    "clf.fit(train_X, train_y)"
   ]
  },
  {
   "cell_type": "code",
   "execution_count": 22,
   "id": "827cb717",
   "metadata": {},
   "outputs": [],
   "source": [
    "out = clf.predict(val_X)\n",
    "labels = val_y\n",
    "\n",
    "conf_m = sklearn.metrics.confusion_matrix(labels, out, labels=[0, 1])"
   ]
  },
  {
   "cell_type": "code",
   "execution_count": 23,
   "id": "ea0a5430",
   "metadata": {},
   "outputs": [
    {
     "name": "stdout",
     "output_type": "stream",
     "text": [
      "[[67  2]\n",
      " [ 0 33]]\n"
     ]
    }
   ],
   "source": [
    "print(conf_m)"
   ]
  }
 ],
 "metadata": {
  "kernelspec": {
   "display_name": "Python 3.9.12 ('openslide')",
   "language": "python",
   "name": "python3"
  },
  "language_info": {
   "codemirror_mode": {
    "name": "ipython",
    "version": 3
   },
   "file_extension": ".py",
   "mimetype": "text/x-python",
   "name": "python",
   "nbconvert_exporter": "python",
   "pygments_lexer": "ipython3",
   "version": "3.9.12"
  },
  "toc": {
   "base_numbering": 1,
   "nav_menu": {},
   "number_sections": true,
   "sideBar": true,
   "skip_h1_title": false,
   "title_cell": "Table of Contents",
   "title_sidebar": "Contents",
   "toc_cell": false,
   "toc_position": {},
   "toc_section_display": true,
   "toc_window_display": true
  },
  "varInspector": {
   "cols": {
    "lenName": 16,
    "lenType": 16,
    "lenVar": 40
   },
   "kernels_config": {
    "python": {
     "delete_cmd_postfix": "",
     "delete_cmd_prefix": "del ",
     "library": "var_list.py",
     "varRefreshCmd": "print(var_dic_list())"
    },
    "r": {
     "delete_cmd_postfix": ") ",
     "delete_cmd_prefix": "rm(",
     "library": "var_list.r",
     "varRefreshCmd": "cat(var_dic_list()) "
    }
   },
   "types_to_exclude": [
    "module",
    "function",
    "builtin_function_or_method",
    "instance",
    "_Feature"
   ],
   "window_display": false
  },
  "vscode": {
   "interpreter": {
    "hash": "de74446a7cd3a56c425ecbffb2a7ad915342ddab3c48353acb4566475bd7705f"
   }
  }
 },
 "nbformat": 4,
 "nbformat_minor": 5
}
