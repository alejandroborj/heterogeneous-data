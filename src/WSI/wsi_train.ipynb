{
 "cells": [
  {
   "cell_type": "markdown",
   "metadata": {},
   "source": [
    "# Model training"
   ]
  },
  {
   "cell_type": "code",
   "execution_count": 1,
   "metadata": {},
   "outputs": [],
   "source": [
    "from tqdm.notebook import tqdm\n",
    "import numpy as np\n",
    "import matplotlib.pyplot as plt\n",
    "import pandas as pd\n",
    "import sklearn.metrics\n",
    "import sys\n",
    "\n",
    "import torch\n",
    "import torchvision.transforms as transforms\n",
    "import torchvision.models\n",
    "import torch.optim as optim\n",
    "import torch.nn as nn\n",
    "from torch.utils.data import DataLoader\n",
    "from torch.utils.data import WeightedRandomSampler\n",
    "import time\n",
    "import torchstain\n",
    "\n",
    "import data_reader\n",
    "import dataset\n",
    "from plots import learning_curve_train\n",
    "\n",
    "from normalization import normalize_staining"
   ]
  },
  {
   "cell_type": "code",
   "execution_count": 2,
   "metadata": {},
   "outputs": [
    {
     "name": "stdout",
     "output_type": "stream",
     "text": [
      "Using GPU : cuda:0\n"
     ]
    }
   ],
   "source": [
    "# Choosing device for tensor processing\n",
    "\n",
    "if torch.cuda.is_available():\n",
    "    device = torch.device(\"cuda:0\")\n",
    "    print(\"Using GPU :\", device)\n",
    "else:\n",
    "    device = torch.device(\"cpu\")\n",
    "    print(\"Using CPU \")"
   ]
  },
  {
   "cell_type": "code",
   "execution_count": 3,
   "metadata": {},
   "outputs": [],
   "source": [
    "# Training and data variables\n",
    "\n",
    "MODE = \"w\"\n",
    "EXP_NAME = \"256_tcia_mac\" # \"test_normalization\"#\"256_tcia_25ep\"#\"tcia_effnet\"\n",
    "\n",
    "# DATA_SET_NAME = \"data_set_X20_100%_SPLIT\" # f\"tcia_data_set_SPLIT\" # f\"train_256_tcia_data_set_SPLIT\" #\n",
    "# DATA_SET_NAME = \"train_512_gdc+tcia_normal_data_set_SPLIT\"\n",
    "DATA_SET_NAME = \"train_256_tcia_mac_SPLIT\"\n",
    "PATCH_SIZE = 512\n",
    "\n",
    "BATCH_SIZE = 16\n",
    "EPOCHS = 25\n",
    "\n",
    "SIZE_X = PATCH_SIZE\n",
    "SIZE_Y = PATCH_SIZE\n",
    "\n",
    "fine_tuning = False"
   ]
  },
  {
   "cell_type": "code",
   "execution_count": 4,
   "metadata": {},
   "outputs": [],
   "source": [
    "def init_weights(m): # XAVIER initialization for final layer weight initialization\n",
    "    if type(m) == nn.Linear:\n",
    "        torch.nn.init.xavier_uniform_(m.weight)\n",
    "        m.bias.data.fill_(0.01)\n",
    "\n",
    "def init(fine_tuning=False):\n",
    "    global net, loss_function, scheduler, optimizer, MODEL_NAME\n",
    "\n",
    "    if fine_tuning == True:\n",
    "        print(f\"Loading {MODEL_NAME}\")\n",
    "        net = torch.load(f\"C:\\\\Users\\\\Alejandro\\\\Desktop\\\\heterogeneous-data\\\\results\\\\WSI\\\\models\\\\{MODEL_NAME}.pth\") # Model loading\n",
    "\n",
    "        for param in net.layer4[1].parameters():\n",
    "           param.requires_grad = True\n",
    "\n",
    "        '''\n",
    "        for param in net.features[8].parameters():\n",
    "            param.requires_grad = True\n",
    "\n",
    "        for param in net.features[9].parameters():# net.layer4[1].parameters():\n",
    "            param.requires_grad = True # Unfreezing the last residual block\n",
    "        '''\n",
    "\n",
    "        n_params = sum(p.numel() for p in net.fc.parameters())# + sum(p.numel() for p in net.features[8].parameters())\n",
    "\n",
    "        learning_rate = 1E-5#1E-8 # LR\n",
    "\n",
    "        optimizer = optim.Adam(net.parameters(), lr=learning_rate, betas=(0.9, 0.999), eps=1e-08)# Optimizer\n",
    "\n",
    "    else:\n",
    "        net = torchvision.models.resnet18(pretrained=True).to(device)\n",
    "        #net = torchvision.models.efficientnet_b1(pretrained=True).to(device) \n",
    "    \n",
    "        net.fc = nn.Sequential(\n",
    "                    nn.Dropout(p=0.5),  \n",
    "                    nn.Linear(512, 2),\n",
    "                    #nn.ReLU(inplace=True),\n",
    "                    #nn.Linear(512, 2),\n",
    "                    nn.Softmax(dim = -1)\n",
    "                    ).to(device)\n",
    "\n",
    "        for param in net.fc.parameters():\n",
    "            param.requires_grad = True\n",
    "\n",
    "        net.fc.apply(init_weights) # Xavier init\n",
    "\n",
    "        n_params = sum(p.numel() for p in net.fc.parameters())# + sum(p.numel() for p in net.layer4[1].parameters())\n",
    "    \n",
    "        learning_rate = 1E-4\n",
    "\n",
    "        optimizer = optim.Adam(net.fc.parameters(), lr=learning_rate)#, betas=(0.9, 0.999), eps=1e-08)# Optimizer\n",
    "\n",
    "    print(\"Number of free parameters: \", n_params)\n",
    "    #Hyperparameters:\n",
    "    loss_function = nn.CrossEntropyLoss()  # Loss\n",
    "    lambda1 = lambda epoch: 0.8 ** epoch # Scheduler\n",
    "    scheduler = torch.optim.lr_scheduler.LambdaLR(optimizer, lr_lambda=lambda1)\n"
   ]
  },
  {
   "cell_type": "code",
   "execution_count": 5,
   "metadata": {},
   "outputs": [],
   "source": [
    "def fwd_pass(X, y, case_ids, train=False):\n",
    "    if train: \n",
    "        net.zero_grad()\n",
    "\n",
    "    \"\"\"# TOTAL MEAN AND STD DEV\n",
    "    mean_set = [166.44544832, 115.25740225, 149.71458135]\n",
    "    std_set = [51.04418855, 53.39864174, 43.56392919]\n",
    "    normalize_set = torchvision.transforms.Normalize(mean=mean_set, std=std_set)\n",
    "    # NORMALIZATION\n",
    "    mean_gtex = [144.84250856,  90.71206166, 128.46787316]\n",
    "    std_gtex = [61.96567854, 60.13392162, 51.13692362]\n",
    "    normalize_gtex = torchvision.transforms.Normalize(mean=mean_gtex, std=std_gtex)\n",
    "\n",
    "    mean_tcga = [190.30330768, 142.36479088, 173.17902561]\n",
    "    std_tcga = [38.98271104, 45.96033188, 35.20046394]\n",
    "    normalize_tcga = torchvision.transforms.Normalize(mean=mean_tcga, std=std_tcga)\"\"\"\n",
    "\n",
    "    mean = [0.485, 0.456, 0.406]\n",
    "    std = [0.229, 0.224, 0.225]\n",
    "    normalize = torchvision.transforms.Normalize(mean=mean, std=std)\n",
    "\n",
    "\n",
    "    for i, (case_id, x) in enumerate(zip(case_ids, X)):\n",
    "        X[i] = normalize(X[i]/255)\n",
    "    \n",
    "    #plt.imshow(X[0].permute(2,1,0).to(\"cpu\"))\n",
    "    #plt.show()\n",
    "    outputs = net(X)\n",
    "    \n",
    "    y_pred = [torch.argmax(i) for i in outputs.cpu()]\n",
    "    y_true = [torch.argmax(i) for i in y.cpu()]\n",
    "\n",
    "    loss = loss_function(outputs, y)\n",
    "    conf_m = sklearn.metrics.confusion_matrix(y_true, y_pred, labels=[0, 1])\n",
    "    acc = sklearn.metrics.accuracy_score(y_true, y_pred)\n",
    "    f1 = sklearn.metrics.f1_score(y_true, y_pred, average=\"macro\")\n",
    "    auc = 0# sklearn.metrics.roc_auc_score(y_true, y_pred, labels=[0, 1])# average= \"micro\" multi_class=\"ovr\") #!!!!\n",
    "\n",
    "    if train:\n",
    "        loss.backward() # Calculate gradients using backprop\n",
    "        #torch.nn.utils.clip_grad_norm_(net.parameters(), max_norm=0.0001)# To prevent exploding or vanishing gradients\n",
    "        optimizer.step() # Updates W and b using previously calculated gradients\n",
    "\n",
    "    return [acc, loss, conf_m, f1, auc]"
   ]
  },
  {
   "cell_type": "code",
   "execution_count": 6,
   "metadata": {},
   "outputs": [],
   "source": [
    "def train():\n",
    "  global net, loss_function, scheduler, optimizer, train_set, val_set, MODEL_NAME, EPOCHS, val_dataloader, train_dataloader\n",
    "  \n",
    "  print(MODEL_NAME)\n",
    "  patience, prev_val_loss = 0, 0\n",
    "\n",
    "  with open(f\"C:\\\\Users\\\\Alejandro\\\\Desktop\\\\heterogeneous-data\\\\results\\\\WSI\\\\log\\\\model_{MODEL_NAME}.log\", MODE) as f:\n",
    "    for epoch in range(EPOCHS):\n",
    "      acc, loss, f1, auc = 0, 0, 0, 0\n",
    "      val_acc, val_loss, val_f1, val_auc = 0, 0, 0, 0\n",
    "      conf_m, val_conf_m = np.zeros((2,2)), np.zeros((2,2))\n",
    "\n",
    "      print(\"\\nEPOCH: \", epoch+1)\n",
    "\n",
    "      n_patches = sum(len(batch[0]) for batch in iter(train_dataloader))\n",
    "\n",
    "      for batch_X, batch_y, patch_ids in tqdm(iter(train_dataloader)):\n",
    "        batch_X, batch_y = batch_X.type(torch.FloatTensor).to(device).permute(0,3,2,1), batch_y.type(torch.FloatTensor).to(device) \n",
    "        \n",
    "        net.train() # Making sure that the model is in training mode\n",
    "        \n",
    "        performance_metrics = fwd_pass(batch_X, batch_y, patch_ids, train=True)\n",
    "        acc_aux, loss_aux, conf_m_aux, f1_aux, auc_aux = performance_metrics[0], performance_metrics[1], performance_metrics[2], performance_metrics[3], performance_metrics[4]\n",
    "        acc += acc_aux*(len(batch_X)/n_patches) # Calculating the average loss and acc through batches sum ACCi*Wi/N (Wi = weight of the batch)\n",
    "        loss += loss_aux*(len(batch_X)/n_patches)\n",
    "        conf_m += conf_m_aux\n",
    "        f1 += f1_aux*(len(batch_X)/n_patches)\n",
    "        auc += auc_aux*(len(batch_X)/n_patches)\n",
    "\n",
    "      for batch_X, batch_y, patch_ids in tqdm(iter(val_dataloader)):\n",
    "\n",
    "        batch_X, batch_y = batch_X.type(torch.FloatTensor).to(device).permute(0, 3, 2, 1), batch_y.type(torch.FloatTensor).to(device)\n",
    "\n",
    "        net.eval() # Making sure that the model is not training and deactivate droptout\n",
    "        \n",
    "        with torch.no_grad(): # Disable all computations, works together with net.eval()\n",
    "          performance_metrics = fwd_pass(batch_X, batch_y, patch_ids, train=False)\n",
    "          \n",
    "        acc_aux, loss_aux, conf_m_aux, f1_aux, auc_aux = performance_metrics[0], performance_metrics[1], performance_metrics[2], performance_metrics[3], performance_metrics[4]  \n",
    "        val_acc += acc_aux*(len(batch_X)/len(val_set)) # Calculating the average loss and acc through batches sum ACCi*Wi/N (Wi = weight of the batch)\n",
    "        val_loss += loss_aux*(len(batch_X)/len(val_set))\n",
    "        val_conf_m += conf_m_aux\n",
    "        val_f1 += f1_aux*(len(batch_X)/len(val_set))\n",
    "        val_auc += auc_aux*(len(batch_X)/len(val_set))\n",
    "\n",
    "        \n",
    "      print(\"Val loss: \", val_loss.item(), \" Train loss: \", loss.item(), \"\\n\")\n",
    "      print(\"Val acc: \", val_acc, \" Train acc: \", acc, \"\\n\")\n",
    "      print(\"Val AUC: \", val_auc, \" Train AUC: \", auc,\"\\n\")\n",
    "      print(\"Val f1: \", val_f1, \" Train f1: \", f1, \"\\n\")\n",
    "      print(\"Val CONF: \\n\", val_conf_m, \"\\nTrain CONF: \\n\", conf_m, \"\\n\")\n",
    "\n",
    "      conf_m = f\"{conf_m[0][0]}+{conf_m[0][1]}+{conf_m[1][0]}+{conf_m[1][1]}\"\n",
    "      val_conf_m = f\"{val_conf_m[0][0]}+{val_conf_m[0][1]}+{val_conf_m[1][0]}+{val_conf_m[1][1]}\"\n",
    "    \n",
    "      f.write(f\"{MODEL_NAME},{round(time.time(),3)},{round(float(acc),3)},{round(float(loss),4)},{conf_m},{round(float(auc),4)},\")\n",
    "      f.write(f\"{round(float(val_acc),3)},{round(float(val_loss),4)},{val_conf_m}, {round(float(val_auc),4)}\\n\")\n",
    "      f.write(\"\\n\\n\")\n",
    "\n",
    "      # Early stopping, if the difference between loss and validation loss \n",
    "      # is bigger than the threshold for 3 epochs in a row training is stopped\n",
    "      if val_loss.item()>prev_val_loss:\n",
    "        patience +=1\n",
    "      else:\n",
    "        patience = 0\n",
    "\n",
    "      print(\"Learning Rate: \", optimizer.param_groups[0][\"lr\"])\n",
    "      scheduler.step() # Changing the learning rate\n",
    "\n",
    "      if patience >= 2:\n",
    "        print(\"Stopping early: \")\n",
    "        break\n",
    "      prev_val_loss = val_loss.item()\n",
    "\n",
    "      torch.save(net, f\"C:\\\\Users\\\\Alejandro\\\\Desktop\\\\heterogeneous-data\\\\results\\\\WSI\\\\models\\\\{MODEL_NAME}.pth\")"
   ]
  },
  {
   "cell_type": "code",
   "execution_count": 7,
   "metadata": {},
   "outputs": [
    {
     "name": "stdout",
     "output_type": "stream",
     "text": [
      "Loading training split: 2\n",
      "Read lmdb\n",
      "27300\n",
      "Loading training split: 3\n",
      "Read lmdb\n",
      "27881\n",
      "Loading training split: 4\n",
      "Read lmdb\n",
      "26374\n",
      "Loading training split: 5\n",
      "Read lmdb\n",
      "30172\n",
      "Loading training split: 6\n",
      "Read lmdb\n",
      "26227\n",
      "Loading training split: 7\n",
      "Read lmdb\n",
      "18963\n",
      "Loading training split: 8\n",
      "Read lmdb\n",
      "26957\n",
      "Loading training split: 9\n",
      "Read lmdb\n",
      "23642\n",
      "Patches for training: 207516\n",
      "\n",
      "Loading validation split: 0\n",
      "Read lmdb\n",
      "26772\n",
      "Patches for validation: 26772\n",
      "\n",
      "Number of free parameters:  1026\n",
      "256_tcia_mac0\n",
      "\n",
      "EPOCH:  1\n"
     ]
    },
    {
     "name": "stderr",
     "output_type": "stream",
     "text": [
      "c:\\Users\\Alejandro\\anaconda3\\envs\\openslide\\lib\\site-packages\\torch\\utils\\data\\_utils\\collate.py:146: UserWarning: The given NumPy array is not writable, and PyTorch does not support non-writable tensors. This means writing to this tensor will result in undefined behavior. You may want to copy the array to protect its data or make it writable before converting it to a tensor. This type of warning will be suppressed for the rest of this program. (Triggered internally at  C:\\cb\\pytorch_1000000000000\\work\\torch\\csrc\\utils\\tensor_numpy.cpp:178.)\n",
      "  return default_collate([torch.as_tensor(b) for b in batch])\n"
     ]
    },
    {
     "data": {
      "application/vnd.jupyter.widget-view+json": {
       "model_id": "fdc9de6facf840079b1d07d03156f25c",
       "version_major": 2,
       "version_minor": 0
      },
      "text/plain": [
       "  0%|          | 0/8128 [00:00<?, ?it/s]"
      ]
     },
     "metadata": {},
     "output_type": "display_data"
    },
    {
     "data": {
      "application/vnd.jupyter.widget-view+json": {
       "model_id": "43ebd56603524d24ab5e6669ac0e2a99",
       "version_major": 2,
       "version_minor": 0
      },
      "text/plain": [
       "  0%|          | 0/1674 [00:00<?, ?it/s]"
      ]
     },
     "metadata": {},
     "output_type": "display_data"
    },
    {
     "name": "stdout",
     "output_type": "stream",
     "text": [
      "Val loss:  0.5411427617073059  Train loss:  0.6137908697128296 \n",
      "\n",
      "Val acc:  0.7597863439414335  Train acc:  0.6737184515295318 \n",
      "\n",
      "Val AUC:  0.0  Train AUC:  0.0 \n",
      "\n",
      "Val f1:  0.6944770820962566  Train f1:  0.6641790334635472 \n",
      "\n",
      "Val CONF: \n",
      " [[ 4723.  3794.]\n",
      " [ 2637. 15618.]] \n",
      "Train CONF: \n",
      " [[41768. 23301.]\n",
      " [19128. 45841.]] \n",
      "\n",
      "Learning Rate:  0.0001\n",
      "\n",
      "EPOCH:  2\n"
     ]
    },
    {
     "data": {
      "application/vnd.jupyter.widget-view+json": {
       "model_id": "8c72a8c8951641bab4baea8eed8b56bb",
       "version_major": 2,
       "version_minor": 0
      },
      "text/plain": [
       "  0%|          | 0/8128 [00:00<?, ?it/s]"
      ]
     },
     "metadata": {},
     "output_type": "display_data"
    },
    {
     "data": {
      "application/vnd.jupyter.widget-view+json": {
       "model_id": "8b5fb966c0e942b3a89ce8e016a3d16f",
       "version_major": 2,
       "version_minor": 0
      },
      "text/plain": [
       "  0%|          | 0/1674 [00:00<?, ?it/s]"
      ]
     },
     "metadata": {},
     "output_type": "display_data"
    },
    {
     "name": "stdout",
     "output_type": "stream",
     "text": [
      "Val loss:  0.5409698486328125  Train loss:  0.5807573199272156 \n",
      "\n",
      "Val acc:  0.7591139997011822  Train acc:  0.7132607391685285 \n",
      "\n",
      "Val AUC:  0.0  Train AUC:  0.0 \n",
      "\n",
      "Val f1:  0.7037716235150263  Train f1:  0.7053621569646217 \n",
      "\n",
      "Val CONF: \n",
      " [[ 5239.  3278.]\n",
      " [ 3171. 15084.]] \n",
      "Train CONF: \n",
      " [[44534. 20519.]\n",
      " [16768. 48217.]] \n",
      "\n",
      "Learning Rate:  8e-05\n",
      "\n",
      "EPOCH:  3\n"
     ]
    },
    {
     "data": {
      "application/vnd.jupyter.widget-view+json": {
       "model_id": "a20b7739aa5643a38e7867c8104fab5d",
       "version_major": 2,
       "version_minor": 0
      },
      "text/plain": [
       "  0%|          | 0/8128 [00:00<?, ?it/s]"
      ]
     },
     "metadata": {},
     "output_type": "display_data"
    },
    {
     "data": {
      "application/vnd.jupyter.widget-view+json": {
       "model_id": "8c295bfcf2f24a12ac7ca5273f6ac081",
       "version_major": 2,
       "version_minor": 0
      },
      "text/plain": [
       "  0%|          | 0/1674 [00:00<?, ?it/s]"
      ]
     },
     "metadata": {},
     "output_type": "display_data"
    },
    {
     "name": "stdout",
     "output_type": "stream",
     "text": [
      "Val loss:  0.5559168457984924  Train loss:  0.5734956860542297 \n",
      "\n",
      "Val acc:  0.7445091887046175  Train acc:  0.7211353604330804 \n",
      "\n",
      "Val AUC:  0.0  Train AUC:  0.0 \n",
      "\n",
      "Val f1:  0.7020620368660789  Train f1:  0.7132008623292101 \n",
      "\n",
      "Val CONF: \n",
      " [[ 5913.  2604.]\n",
      " [ 4236. 14019.]] \n",
      "Train CONF: \n",
      " [[45215. 19799.]\n",
      " [16464. 48560.]] \n",
      "\n",
      "Learning Rate:  6.400000000000001e-05\n",
      "\n",
      "EPOCH:  4\n"
     ]
    },
    {
     "data": {
      "application/vnd.jupyter.widget-view+json": {
       "model_id": "8b084cade40b4833b61a6d8fbb02360c",
       "version_major": 2,
       "version_minor": 0
      },
      "text/plain": [
       "  0%|          | 0/8128 [00:00<?, ?it/s]"
      ]
     },
     "metadata": {},
     "output_type": "display_data"
    },
    {
     "data": {
      "application/vnd.jupyter.widget-view+json": {
       "model_id": "803caae19e6d49f8befd9ca5345ad447",
       "version_major": 2,
       "version_minor": 0
      },
      "text/plain": [
       "  0%|          | 0/1674 [00:00<?, ?it/s]"
      ]
     },
     "metadata": {},
     "output_type": "display_data"
    },
    {
     "name": "stdout",
     "output_type": "stream",
     "text": [
      "Val loss:  0.5463743209838867  Train loss:  0.5722362399101257 \n",
      "\n",
      "Val acc:  0.7549305244285083  Train acc:  0.7232731970654482 \n",
      "\n",
      "Val AUC:  0.0  Train AUC:  0.0 \n",
      "\n",
      "Val f1:  0.7029491647680379  Train f1:  0.7156631011064051 \n",
      "\n",
      "Val CONF: \n",
      " [[ 5383.  3134.]\n",
      " [ 3427. 14828.]] \n",
      "Train CONF: \n",
      " [[45456. 19515.]\n",
      " [16470. 48597.]] \n",
      "\n",
      "Learning Rate:  5.120000000000001e-05\n",
      "\n",
      "EPOCH:  5\n"
     ]
    },
    {
     "data": {
      "application/vnd.jupyter.widget-view+json": {
       "model_id": "15a94b4ebe9443a3beb74ac074256e52",
       "version_major": 2,
       "version_minor": 0
      },
      "text/plain": [
       "  0%|          | 0/8128 [00:00<?, ?it/s]"
      ]
     },
     "metadata": {},
     "output_type": "display_data"
    },
    {
     "data": {
      "application/vnd.jupyter.widget-view+json": {
       "model_id": "f93c90f27ac3413893baf4dd78673eec",
       "version_major": 2,
       "version_minor": 0
      },
      "text/plain": [
       "  0%|          | 0/1674 [00:00<?, ?it/s]"
      ]
     },
     "metadata": {},
     "output_type": "display_data"
    },
    {
     "name": "stdout",
     "output_type": "stream",
     "text": [
      "Val loss:  0.5412630438804626  Train loss:  0.5711652040481567 \n",
      "\n",
      "Val acc:  0.7591139997011835  Train acc:  0.7231962964671625 \n",
      "\n",
      "Val AUC:  0.0  Train AUC:  0.0 \n",
      "\n",
      "Val f1:  0.7048320688815  Train f1:  0.7154719720999217 \n",
      "\n",
      "Val CONF: \n",
      " [[ 5233.  3284.]\n",
      " [ 3165. 15090.]] \n",
      "Train CONF: \n",
      " [[45251. 19614.]\n",
      " [16381. 48792.]] \n",
      "\n",
      "Learning Rate:  4.096000000000001e-05\n",
      "\n",
      "EPOCH:  6\n"
     ]
    },
    {
     "data": {
      "application/vnd.jupyter.widget-view+json": {
       "model_id": "667b5e7e42fe4a568fe5cc696803a74f",
       "version_major": 2,
       "version_minor": 0
      },
      "text/plain": [
       "  0%|          | 0/8128 [00:00<?, ?it/s]"
      ]
     },
     "metadata": {},
     "output_type": "display_data"
    },
    {
     "data": {
      "application/vnd.jupyter.widget-view+json": {
       "model_id": "f1cb535786394c5d8e160559702fd784",
       "version_major": 2,
       "version_minor": 0
      },
      "text/plain": [
       "  0%|          | 0/1674 [00:00<?, ?it/s]"
      ]
     },
     "metadata": {},
     "output_type": "display_data"
    },
    {
     "name": "stdout",
     "output_type": "stream",
     "text": [
      "Val loss:  0.5460553765296936  Train loss:  0.5706900358200073 \n",
      "\n",
      "Val acc:  0.7540714178993001  Train acc:  0.7248112090311849 \n",
      "\n",
      "Val AUC:  0.0  Train AUC:  0.0 \n",
      "\n",
      "Val f1:  0.7008433860600632  Train f1:  0.7173179301579152 \n",
      "\n",
      "Val CONF: \n",
      " [[ 5343.  3174.]\n",
      " [ 3410. 14845.]] \n",
      "Train CONF: \n",
      " [[45471. 19443.]\n",
      " [16342. 48782.]] \n",
      "\n",
      "Learning Rate:  3.276800000000001e-05\n",
      "\n",
      "EPOCH:  7\n"
     ]
    },
    {
     "data": {
      "application/vnd.jupyter.widget-view+json": {
       "model_id": "da69595676a94fb7a46f0e55e54ea6cc",
       "version_major": 2,
       "version_minor": 0
      },
      "text/plain": [
       "  0%|          | 0/8128 [00:00<?, ?it/s]"
      ]
     },
     "metadata": {},
     "output_type": "display_data"
    },
    {
     "data": {
      "application/vnd.jupyter.widget-view+json": {
       "model_id": "e9ab83bb52ee44e793b0a8c1c47657dd",
       "version_major": 2,
       "version_minor": 0
      },
      "text/plain": [
       "  0%|          | 0/1674 [00:00<?, ?it/s]"
      ]
     },
     "metadata": {},
     "output_type": "display_data"
    },
    {
     "name": "stdout",
     "output_type": "stream",
     "text": [
      "Val loss:  0.5513288974761963  Train loss:  0.5707923769950867 \n",
      "\n",
      "Val acc:  0.7491782459285847  Train acc:  0.7239729925098599 \n",
      "\n",
      "Val AUC:  0.0  Train AUC:  0.0 \n",
      "\n",
      "Val f1:  0.7009947490595949  Train f1:  0.7166051967583404 \n",
      "\n",
      "Val CONF: \n",
      " [[ 5537.  2980.]\n",
      " [ 3735. 14520.]] \n",
      "Train CONF: \n",
      " [[46215. 19346.]\n",
      " [16548. 47929.]] \n",
      "\n",
      "Learning Rate:  2.621440000000001e-05\n",
      "Stopping early: \n",
      "Loading training split: 0\n",
      "Read lmdb\n",
      "26772\n",
      "Loading training split: 3\n",
      "Read lmdb\n",
      "27881\n",
      "Loading training split: 4\n",
      "Read lmdb\n",
      "26374\n",
      "Loading training split: 5\n",
      "Read lmdb\n",
      "30172\n",
      "Loading training split: 6\n",
      "Read lmdb\n",
      "26227\n",
      "Loading training split: 7\n",
      "Read lmdb\n",
      "18963\n",
      "Loading training split: 8\n",
      "Read lmdb\n",
      "26957\n",
      "Loading training split: 9\n",
      "Read lmdb\n",
      "23642\n",
      "Patches for training: 206988\n",
      "\n",
      "Loading validation split: 1\n",
      "Read lmdb\n",
      "29594\n",
      "Patches for validation: 29594\n",
      "\n",
      "Number of free parameters:  1026\n",
      "256_tcia_mac1\n",
      "\n",
      "EPOCH:  1\n"
     ]
    },
    {
     "data": {
      "application/vnd.jupyter.widget-view+json": {
       "model_id": "9b297026bc684647a2e7b6f5bc6c8402",
       "version_major": 2,
       "version_minor": 0
      },
      "text/plain": [
       "  0%|          | 0/8193 [00:00<?, ?it/s]"
      ]
     },
     "metadata": {},
     "output_type": "display_data"
    },
    {
     "data": {
      "application/vnd.jupyter.widget-view+json": {
       "model_id": "1342b7f0cab94a328c6e0ef295bde305",
       "version_major": 2,
       "version_minor": 0
      },
      "text/plain": [
       "  0%|          | 0/1850 [00:00<?, ?it/s]"
      ]
     },
     "metadata": {},
     "output_type": "display_data"
    },
    {
     "name": "stdout",
     "output_type": "stream",
     "text": [
      "Val loss:  0.6041439175605774  Train loss:  0.6093558073043823 \n",
      "\n",
      "Val acc:  0.6867608298979554  Train acc:  0.67958439497732 \n",
      "\n",
      "Val AUC:  0.0  Train AUC:  0.0 \n",
      "\n",
      "Val f1:  0.6479183770428405  Train f1:  0.6705764820384719 \n",
      "\n",
      "Val CONF: \n",
      " [[ 6340.  4181.]\n",
      " [ 5089. 13984.]] \n",
      "Train CONF: \n",
      " [[43141. 22627.]\n",
      " [19375. 45943.]] \n",
      "\n",
      "Learning Rate:  0.0001\n",
      "\n",
      "EPOCH:  2\n"
     ]
    },
    {
     "data": {
      "application/vnd.jupyter.widget-view+json": {
       "model_id": "7f28f33e1f9c4fb3ae1c286c2d9c4e07",
       "version_major": 2,
       "version_minor": 0
      },
      "text/plain": [
       "  0%|          | 0/8193 [00:00<?, ?it/s]"
      ]
     },
     "metadata": {},
     "output_type": "display_data"
    },
    {
     "data": {
      "application/vnd.jupyter.widget-view+json": {
       "model_id": "2c08c01c776d4e40a23bdddb9060bd55",
       "version_major": 2,
       "version_minor": 0
      },
      "text/plain": [
       "  0%|          | 0/1850 [00:00<?, ?it/s]"
      ]
     },
     "metadata": {},
     "output_type": "display_data"
    },
    {
     "name": "stdout",
     "output_type": "stream",
     "text": [
      "Val loss:  0.5893217325210571  Train loss:  0.5803054571151733 \n",
      "\n",
      "Val acc:  0.6999053862269375  Train acc:  0.7142181468653959 \n",
      "\n",
      "Val AUC:  0.0  Train AUC:  0.0 \n",
      "\n",
      "Val f1:  0.6546932528284575  Train f1:  0.7059998194273125 \n",
      "\n",
      "Val CONF: \n",
      " [[ 6015.  4506.]\n",
      " [ 4375. 14698.]] \n",
      "Train CONF: \n",
      " [[44606. 20681.]\n",
      " [16781. 49018.]] \n",
      "\n",
      "Learning Rate:  8e-05\n",
      "\n",
      "EPOCH:  3\n"
     ]
    },
    {
     "data": {
      "application/vnd.jupyter.widget-view+json": {
       "model_id": "086ffec2f91a4f4a935e5264070cea34",
       "version_major": 2,
       "version_minor": 0
      },
      "text/plain": [
       "  0%|          | 0/8193 [00:00<?, ?it/s]"
      ]
     },
     "metadata": {},
     "output_type": "display_data"
    },
    {
     "data": {
      "application/vnd.jupyter.widget-view+json": {
       "model_id": "a09d8b8e92f64f42923605d2794ec8cd",
       "version_major": 2,
       "version_minor": 0
      },
      "text/plain": [
       "  0%|          | 0/1850 [00:00<?, ?it/s]"
      ]
     },
     "metadata": {},
     "output_type": "display_data"
    },
    {
     "name": "stdout",
     "output_type": "stream",
     "text": [
      "Val loss:  0.5971564054489136  Train loss:  0.5759952068328857 \n",
      "\n",
      "Val acc:  0.6901061025883642  Train acc:  0.7177654364310266 \n",
      "\n",
      "Val AUC:  0.0  Train AUC:  0.0 \n",
      "\n",
      "Val f1:  0.6570842817787885  Train f1:  0.7099432056538448 \n",
      "\n",
      "Val CONF: \n",
      " [[ 6909.  3612.]\n",
      " [ 5559. 13514.]] \n",
      "Train CONF: \n",
      " [[45402. 20138.]\n",
      " [16859. 48687.]] \n",
      "\n",
      "Learning Rate:  6.400000000000001e-05\n",
      "\n",
      "EPOCH:  4\n"
     ]
    },
    {
     "data": {
      "application/vnd.jupyter.widget-view+json": {
       "model_id": "a6e3a6626fdf476aba697c0dafe924bb",
       "version_major": 2,
       "version_minor": 0
      },
      "text/plain": [
       "  0%|          | 0/8193 [00:00<?, ?it/s]"
      ]
     },
     "metadata": {},
     "output_type": "display_data"
    },
    {
     "data": {
      "application/vnd.jupyter.widget-view+json": {
       "model_id": "abc5255d99d34c258b4b3be2c44af922",
       "version_major": 2,
       "version_minor": 0
      },
      "text/plain": [
       "  0%|          | 0/1850 [00:00<?, ?it/s]"
      ]
     },
     "metadata": {},
     "output_type": "display_data"
    },
    {
     "name": "stdout",
     "output_type": "stream",
     "text": [
      "Val loss:  0.5877829194068909  Train loss:  0.5737698674201965 \n",
      "\n",
      "Val acc:  0.7029803338514549  Train acc:  0.7211754115618599 \n",
      "\n",
      "Val AUC:  0.0  Train AUC:  0.0 \n",
      "\n",
      "Val f1:  0.6612903163304539  Train f1:  0.7132780942635129 \n",
      "\n",
      "Val CONF: \n",
      " [[ 6264.  4257.]\n",
      " [ 4533. 14540.]] \n",
      "Train CONF: \n",
      " [[45352. 19957.]\n",
      " [16593. 49184.]] \n",
      "\n",
      "Learning Rate:  5.120000000000001e-05\n",
      "\n",
      "EPOCH:  5\n"
     ]
    },
    {
     "data": {
      "application/vnd.jupyter.widget-view+json": {
       "model_id": "f2df76260cbd41848c96e5216bf975ec",
       "version_major": 2,
       "version_minor": 0
      },
      "text/plain": [
       "  0%|          | 0/8193 [00:00<?, ?it/s]"
      ]
     },
     "metadata": {},
     "output_type": "display_data"
    },
    {
     "data": {
      "application/vnd.jupyter.widget-view+json": {
       "model_id": "4f3850634f9d41898447370592e2f1d2",
       "version_major": 2,
       "version_minor": 0
      },
      "text/plain": [
       "  0%|          | 0/1850 [00:00<?, ?it/s]"
      ]
     },
     "metadata": {},
     "output_type": "display_data"
    },
    {
     "name": "stdout",
     "output_type": "stream",
     "text": [
      "Val loss:  0.5925966501235962  Train loss:  0.5724034905433655 \n",
      "\n",
      "Val acc:  0.6962222072041651  Train acc:  0.722395984315625 \n",
      "\n",
      "Val AUC:  0.0  Train AUC:  0.0 \n",
      "\n",
      "Val f1:  0.6600007803885611  Train f1:  0.7148130449248351 \n",
      "\n",
      "Val CONF: \n",
      " [[ 6669.  3852.]\n",
      " [ 5138. 13935.]] \n",
      "Train CONF: \n",
      " [[45614. 19924.]\n",
      " [16466. 49082.]] \n",
      "\n",
      "Learning Rate:  4.096000000000001e-05\n",
      "\n",
      "EPOCH:  6\n"
     ]
    },
    {
     "data": {
      "application/vnd.jupyter.widget-view+json": {
       "model_id": "d30ccdfb7b074990bff0599e955fb2d5",
       "version_major": 2,
       "version_minor": 0
      },
      "text/plain": [
       "  0%|          | 0/8193 [00:00<?, ?it/s]"
      ]
     },
     "metadata": {},
     "output_type": "display_data"
    },
    {
     "data": {
      "application/vnd.jupyter.widget-view+json": {
       "model_id": "a8ec8814ae994ae0a7036ab54b5d6744",
       "version_major": 2,
       "version_minor": 0
      },
      "text/plain": [
       "  0%|          | 0/1850 [00:00<?, ?it/s]"
      ]
     },
     "metadata": {},
     "output_type": "display_data"
    },
    {
     "name": "stdout",
     "output_type": "stream",
     "text": [
      "Val loss:  0.5934465527534485  Train loss:  0.5720990896224976 \n",
      "\n",
      "Val acc:  0.6948030006082313  Train acc:  0.7230825564896167 \n",
      "\n",
      "Val AUC:  0.0  Train AUC:  0.0 \n",
      "\n",
      "Val f1:  0.658449866345723  Train f1:  0.7155591071225436 \n",
      "\n",
      "Val CONF: \n",
      " [[ 6577.  3944.]\n",
      " [ 5088. 13985.]] \n",
      "Train CONF: \n",
      " [[45860. 19639.]\n",
      " [16661. 48926.]] \n",
      "\n",
      "Learning Rate:  3.276800000000001e-05\n",
      "Stopping early: \n",
      "Loading training split: 0\n",
      "Read lmdb\n",
      "26772\n",
      "Loading training split: 1\n",
      "Read lmdb\n",
      "29594\n",
      "Loading training split: 4\n",
      "Read lmdb\n",
      "26374\n",
      "Loading training split: 5\n",
      "Read lmdb\n",
      "30172\n",
      "Loading training split: 6\n",
      "Read lmdb\n",
      "26227\n",
      "Loading training split: 7\n",
      "Read lmdb\n",
      "18963\n",
      "Loading training split: 8\n",
      "Read lmdb\n",
      "26957\n",
      "Loading training split: 9\n",
      "Read lmdb\n",
      "23642\n",
      "Patches for training: 208701\n",
      "\n",
      "Loading validation split: 2\n",
      "Read lmdb\n",
      "27300\n",
      "Patches for validation: 27300\n",
      "\n",
      "Number of free parameters:  1026\n",
      "256_tcia_mac2\n",
      "\n",
      "EPOCH:  1\n"
     ]
    },
    {
     "data": {
      "application/vnd.jupyter.widget-view+json": {
       "model_id": "91c14dbe1837416e8d55ff033f12687d",
       "version_major": 2,
       "version_minor": 0
      },
      "text/plain": [
       "  0%|          | 0/8444 [00:00<?, ?it/s]"
      ]
     },
     "metadata": {},
     "output_type": "display_data"
    },
    {
     "data": {
      "application/vnd.jupyter.widget-view+json": {
       "model_id": "2af84e6f603642ef828428de6bfe7d19",
       "version_major": 2,
       "version_minor": 0
      },
      "text/plain": [
       "  0%|          | 0/1707 [00:00<?, ?it/s]"
      ]
     },
     "metadata": {},
     "output_type": "display_data"
    },
    {
     "name": "stdout",
     "output_type": "stream",
     "text": [
      "Val loss:  0.5482292175292969  Train loss:  0.6293210983276367 \n",
      "\n",
      "Val acc:  0.7508058608058569  Train acc:  0.654766310865008 \n",
      "\n",
      "Val AUC:  0.0  Train AUC:  0.0 \n",
      "\n",
      "Val f1:  0.6988946866517135  Train f1:  0.6440838854525166 \n",
      "\n",
      "Val CONF: \n",
      " [[ 5464.  2529.]\n",
      " [ 4274. 15033.]] \n",
      "Train CONF: \n",
      " [[42606. 24929.]\n",
      " [21710. 45849.]] \n",
      "\n",
      "Learning Rate:  0.0001\n",
      "\n",
      "EPOCH:  2\n"
     ]
    },
    {
     "data": {
      "application/vnd.jupyter.widget-view+json": {
       "model_id": "6f75f251ced74421bd1ba506e65d4b7f",
       "version_major": 2,
       "version_minor": 0
      },
      "text/plain": [
       "  0%|          | 0/8444 [00:00<?, ?it/s]"
      ]
     },
     "metadata": {},
     "output_type": "display_data"
    },
    {
     "data": {
      "application/vnd.jupyter.widget-view+json": {
       "model_id": "3351cbe15efc41148d3cc2001762dbb6",
       "version_major": 2,
       "version_minor": 0
      },
      "text/plain": [
       "  0%|          | 0/1707 [00:00<?, ?it/s]"
      ]
     },
     "metadata": {},
     "output_type": "display_data"
    },
    {
     "name": "stdout",
     "output_type": "stream",
     "text": [
      "Val loss:  0.5650623440742493  Train loss:  0.5855965614318848 \n",
      "\n",
      "Val acc:  0.7309523809523786  Train acc:  0.7076776170666101 \n",
      "\n",
      "Val AUC:  0.0  Train AUC:  0.0 \n",
      "\n",
      "Val f1:  0.6872218265728058  Train f1:  0.6995802306726404 \n",
      "\n",
      "Val CONF: \n",
      " [[ 5753.  2240.]\n",
      " [ 5105. 14202.]] \n",
      "Train CONF: \n",
      " [[45954. 21268.]\n",
      " [18223. 49649.]] \n",
      "\n",
      "Learning Rate:  8e-05\n",
      "Stopping early: \n",
      "Loading training split: 0\n",
      "Read lmdb\n",
      "26772\n",
      "Loading training split: 1\n",
      "Read lmdb\n",
      "29594\n",
      "Loading training split: 2\n",
      "Read lmdb\n",
      "27300\n",
      "Loading training split: 5\n",
      "Read lmdb\n",
      "30172\n",
      "Loading training split: 6\n",
      "Read lmdb\n",
      "26227\n",
      "Loading training split: 7\n",
      "Read lmdb\n",
      "18963\n",
      "Loading training split: 8\n",
      "Read lmdb\n",
      "26957\n",
      "Loading training split: 9\n",
      "Read lmdb\n",
      "23642\n",
      "Patches for training: 209627\n",
      "\n",
      "Loading validation split: 3\n",
      "Read lmdb\n",
      "27881\n",
      "Patches for validation: 27881\n",
      "\n",
      "Number of free parameters:  1026\n",
      "256_tcia_mac3\n",
      "\n",
      "EPOCH:  1\n"
     ]
    },
    {
     "data": {
      "application/vnd.jupyter.widget-view+json": {
       "model_id": "4589a2aacf9b4ccba0254d674151f6aa",
       "version_major": 2,
       "version_minor": 0
      },
      "text/plain": [
       "  0%|          | 0/8221 [00:00<?, ?it/s]"
      ]
     },
     "metadata": {},
     "output_type": "display_data"
    },
    {
     "data": {
      "application/vnd.jupyter.widget-view+json": {
       "model_id": "99053e12bd614fde8cbb83f600336177",
       "version_major": 2,
       "version_minor": 0
      },
      "text/plain": [
       "  0%|          | 0/1743 [00:00<?, ?it/s]"
      ]
     },
     "metadata": {},
     "output_type": "display_data"
    },
    {
     "name": "stdout",
     "output_type": "stream",
     "text": [
      "Val loss:  0.5803982615470886  Train loss:  0.6329694390296936 \n",
      "\n",
      "Val acc:  0.7167963846346999  Train acc:  0.6497399793199946 \n",
      "\n",
      "Val AUC:  0.0  Train AUC:  0.0 \n",
      "\n",
      "Val f1:  0.6850637835307736  Train f1:  0.6394771468595482 \n",
      "\n",
      "Val CONF: \n",
      " [[ 6712.  1805.]\n",
      " [ 6091. 13273.]] \n",
      "Train CONF: \n",
      " [[41560. 24337.]\n",
      " [21732. 43899.]] \n",
      "\n",
      "Learning Rate:  0.0001\n",
      "\n",
      "EPOCH:  2\n"
     ]
    },
    {
     "data": {
      "application/vnd.jupyter.widget-view+json": {
       "model_id": "45c3c19201fd495eb3e9a7d07535e3f2",
       "version_major": 2,
       "version_minor": 0
      },
      "text/plain": [
       "  0%|          | 0/8221 [00:00<?, ?it/s]"
      ]
     },
     "metadata": {},
     "output_type": "display_data"
    },
    {
     "data": {
      "application/vnd.jupyter.widget-view+json": {
       "model_id": "0910f636f15545b3ba8c76e087dcfcfa",
       "version_major": 2,
       "version_minor": 0
      },
      "text/plain": [
       "  0%|          | 0/1743 [00:00<?, ?it/s]"
      ]
     },
     "metadata": {},
     "output_type": "display_data"
    },
    {
     "name": "stdout",
     "output_type": "stream",
     "text": [
      "Val loss:  0.5564504265785217  Train loss:  0.5973408818244934 \n",
      "\n",
      "Val acc:  0.7445572253505982  Train acc:  0.6936773918861416 \n",
      "\n",
      "Val AUC:  0.0  Train AUC:  0.0 \n",
      "\n",
      "Val f1:  0.7068919229696059  Train f1:  0.685261040660838 \n",
      "\n",
      "Val CONF: \n",
      " [[ 6500.  2017.]\n",
      " [ 5105. 14259.]] \n",
      "Train CONF: \n",
      " [[44660. 21174.]\n",
      " [19116. 46578.]] \n",
      "\n",
      "Learning Rate:  8e-05\n",
      "\n",
      "EPOCH:  3\n"
     ]
    },
    {
     "data": {
      "application/vnd.jupyter.widget-view+json": {
       "model_id": "f75ba1f67c644a46bed7c6a824a0816e",
       "version_major": 2,
       "version_minor": 0
      },
      "text/plain": [
       "  0%|          | 0/8221 [00:00<?, ?it/s]"
      ]
     },
     "metadata": {},
     "output_type": "display_data"
    },
    {
     "data": {
      "application/vnd.jupyter.widget-view+json": {
       "model_id": "e383d675d4384b15af4d89550c9cc7e6",
       "version_major": 2,
       "version_minor": 0
      },
      "text/plain": [
       "  0%|          | 0/1743 [00:00<?, ?it/s]"
      ]
     },
     "metadata": {},
     "output_type": "display_data"
    },
    {
     "name": "stdout",
     "output_type": "stream",
     "text": [
      "Val loss:  0.5410321950912476  Train loss:  0.5911442041397095 \n",
      "\n",
      "Val acc:  0.7620243176356691  Train acc:  0.700185511830182 \n",
      "\n",
      "Val AUC:  0.0  Train AUC:  0.0 \n",
      "\n",
      "Val f1:  0.720981032786701  Train f1:  0.6922782555067662 \n",
      "\n",
      "Val CONF: \n",
      " [[ 6264.  2253.]\n",
      " [ 4382. 14982.]] \n",
      "Train CONF: \n",
      " [[45136. 20696.]\n",
      " [18738. 46958.]] \n",
      "\n",
      "Learning Rate:  6.400000000000001e-05\n",
      "\n",
      "EPOCH:  4\n"
     ]
    },
    {
     "data": {
      "application/vnd.jupyter.widget-view+json": {
       "model_id": "0ca2081d66e64ad0aebdf0fcb200c67f",
       "version_major": 2,
       "version_minor": 0
      },
      "text/plain": [
       "  0%|          | 0/8221 [00:00<?, ?it/s]"
      ]
     },
     "metadata": {},
     "output_type": "display_data"
    },
    {
     "data": {
      "application/vnd.jupyter.widget-view+json": {
       "model_id": "a043959acdbb4f6797dc3252fcb89b00",
       "version_major": 2,
       "version_minor": 0
      },
      "text/plain": [
       "  0%|          | 0/1743 [00:00<?, ?it/s]"
      ]
     },
     "metadata": {},
     "output_type": "display_data"
    },
    {
     "name": "stdout",
     "output_type": "stream",
     "text": [
      "Val loss:  0.5564892292022705  Train loss:  0.5890941023826599 \n",
      "\n",
      "Val acc:  0.7443061583157002  Train acc:  0.703021409889909 \n",
      "\n",
      "Val AUC:  0.0  Train AUC:  0.0 \n",
      "\n",
      "Val f1:  0.7068145411841857  Train f1:  0.6950523655190692 \n",
      "\n",
      "Val CONF: \n",
      " [[ 6468.  2049.]\n",
      " [ 5080. 14284.]] \n",
      "Train CONF: \n",
      " [[44932. 20638.]\n",
      " [18423. 47535.]] \n",
      "\n",
      "Learning Rate:  5.120000000000001e-05\n",
      "\n",
      "EPOCH:  5\n"
     ]
    },
    {
     "data": {
      "application/vnd.jupyter.widget-view+json": {
       "model_id": "b2d07b594d9e4caab4738136bd58b447",
       "version_major": 2,
       "version_minor": 0
      },
      "text/plain": [
       "  0%|          | 0/8221 [00:00<?, ?it/s]"
      ]
     },
     "metadata": {},
     "output_type": "display_data"
    },
    {
     "data": {
      "application/vnd.jupyter.widget-view+json": {
       "model_id": "9a6a518d2482464484d78583881b6b9a",
       "version_major": 2,
       "version_minor": 0
      },
      "text/plain": [
       "  0%|          | 0/1743 [00:00<?, ?it/s]"
      ]
     },
     "metadata": {},
     "output_type": "display_data"
    },
    {
     "name": "stdout",
     "output_type": "stream",
     "text": [
      "Val loss:  0.555780827999115  Train loss:  0.5887288451194763 \n",
      "\n",
      "Val acc:  0.7440192245615319  Train acc:  0.7024131743811194 \n",
      "\n",
      "Val AUC:  0.0  Train AUC:  0.0 \n",
      "\n",
      "Val f1:  0.707267979971917  Train f1:  0.6945516575943305 \n",
      "\n",
      "Val CONF: \n",
      " [[ 6514.  2003.]\n",
      " [ 5134. 14230.]] \n",
      "Train CONF: \n",
      " [[45430. 20347.]\n",
      " [18794. 46957.]] \n",
      "\n",
      "Learning Rate:  4.096000000000001e-05\n",
      "\n",
      "EPOCH:  6\n"
     ]
    },
    {
     "data": {
      "application/vnd.jupyter.widget-view+json": {
       "model_id": "a4dceeec59b644c0a4eceebbe123d8b2",
       "version_major": 2,
       "version_minor": 0
      },
      "text/plain": [
       "  0%|          | 0/8221 [00:00<?, ?it/s]"
      ]
     },
     "metadata": {},
     "output_type": "display_data"
    },
    {
     "data": {
      "application/vnd.jupyter.widget-view+json": {
       "model_id": "39a29241aca947bba08e97876deb59e7",
       "version_major": 2,
       "version_minor": 0
      },
      "text/plain": [
       "  0%|          | 0/1743 [00:00<?, ?it/s]"
      ]
     },
     "metadata": {},
     "output_type": "display_data"
    },
    {
     "name": "stdout",
     "output_type": "stream",
     "text": [
      "Val loss:  0.5613800287246704  Train loss:  0.5878106355667114 \n",
      "\n",
      "Val acc:  0.7373121480578196  Train acc:  0.7042226750197711 \n",
      "\n",
      "Val AUC:  0.0  Train AUC:  0.0 \n",
      "\n",
      "Val f1:  0.702641829770333  Train f1:  0.6964449008050893 \n",
      "\n",
      "Val CONF: \n",
      " [[ 6560.  1957.]\n",
      " [ 5367. 13997.]] \n",
      "Train CONF: \n",
      " [[45340. 20253.]\n",
      " [18650. 47285.]] \n",
      "\n",
      "Learning Rate:  3.276800000000001e-05\n",
      "\n",
      "EPOCH:  7\n"
     ]
    },
    {
     "data": {
      "application/vnd.jupyter.widget-view+json": {
       "model_id": "c8eb61cadce447668286542345dfe405",
       "version_major": 2,
       "version_minor": 0
      },
      "text/plain": [
       "  0%|          | 0/8221 [00:00<?, ?it/s]"
      ]
     },
     "metadata": {},
     "output_type": "display_data"
    },
    {
     "data": {
      "application/vnd.jupyter.widget-view+json": {
       "model_id": "1423c5fc4b8e41a399e7d8581bfa62f3",
       "version_major": 2,
       "version_minor": 0
      },
      "text/plain": [
       "  0%|          | 0/1743 [00:00<?, ?it/s]"
      ]
     },
     "metadata": {},
     "output_type": "display_data"
    },
    {
     "name": "stdout",
     "output_type": "stream",
     "text": [
      "Val loss:  0.5708682537078857  Train loss:  0.5895030498504639 \n",
      "\n",
      "Val acc:  0.7265879989957339  Train acc:  0.7015008211179382 \n",
      "\n",
      "Val AUC:  0.0  Train AUC:  0.0 \n",
      "\n",
      "Val f1:  0.6934565820933917  Train f1:  0.6936413567361913 \n",
      "\n",
      "Val CONF: \n",
      " [[ 6695.  1822.]\n",
      " [ 5801. 13563.]] \n",
      "Train CONF: \n",
      " [[45420. 20333.]\n",
      " [18928. 46847.]] \n",
      "\n",
      "Learning Rate:  2.621440000000001e-05\n",
      "Stopping early: \n",
      "Loading training split: 0\n",
      "Read lmdb\n",
      "26772\n",
      "Loading training split: 1\n",
      "Read lmdb\n",
      "29594\n",
      "Loading training split: 2\n",
      "Read lmdb\n",
      "27300\n",
      "Loading training split: 3\n",
      "Read lmdb\n",
      "27881\n",
      "Loading training split: 6\n",
      "Read lmdb\n",
      "26227\n",
      "Loading training split: 7\n",
      "Read lmdb\n",
      "18963\n",
      "Loading training split: 8\n",
      "Read lmdb\n",
      "26957\n",
      "Loading training split: 9\n",
      "Read lmdb\n",
      "23642\n",
      "Patches for training: 207336\n",
      "\n",
      "Loading validation split: 4\n",
      "Read lmdb\n",
      "26374\n",
      "Patches for validation: 26374\n",
      "\n",
      "Number of free parameters:  1026\n",
      "256_tcia_mac4\n",
      "\n",
      "EPOCH:  1\n"
     ]
    },
    {
     "data": {
      "application/vnd.jupyter.widget-view+json": {
       "model_id": "b76e15206fa8461d828d5e1898587161",
       "version_major": 2,
       "version_minor": 0
      },
      "text/plain": [
       "  0%|          | 0/8158 [00:00<?, ?it/s]"
      ]
     },
     "metadata": {},
     "output_type": "display_data"
    },
    {
     "data": {
      "application/vnd.jupyter.widget-view+json": {
       "model_id": "50bb3cfe3ec344c0b8ff516dc9cb1abf",
       "version_major": 2,
       "version_minor": 0
      },
      "text/plain": [
       "  0%|          | 0/1649 [00:00<?, ?it/s]"
      ]
     },
     "metadata": {},
     "output_type": "display_data"
    },
    {
     "name": "stdout",
     "output_type": "stream",
     "text": [
      "Val loss:  0.4962012767791748  Train loss:  0.6308742761611938 \n",
      "\n",
      "Val acc:  0.813187229847576  Train acc:  0.6545822288279747 \n",
      "\n",
      "Val AUC:  0.0  Train AUC:  0.0 \n",
      "\n",
      "Val f1:  0.7945350163970128  Train f1:  0.6445138335928952 \n",
      "\n",
      "Val CONF: \n",
      " [[ 8175.  1601.]\n",
      " [ 3326. 13272.]] \n",
      "Train CONF: \n",
      " [[41052. 24621.]\n",
      " [20465. 44388.]] \n",
      "\n",
      "Learning Rate:  0.0001\n",
      "\n",
      "EPOCH:  2\n"
     ]
    },
    {
     "data": {
      "application/vnd.jupyter.widget-view+json": {
       "model_id": "22ac94c6e59d488886802568703c3b1d",
       "version_major": 2,
       "version_minor": 0
      },
      "text/plain": [
       "  0%|          | 0/8158 [00:00<?, ?it/s]"
      ]
     },
     "metadata": {},
     "output_type": "display_data"
    },
    {
     "data": {
      "application/vnd.jupyter.widget-view+json": {
       "model_id": "44a60499b352431abcd4129bb611d742",
       "version_major": 2,
       "version_minor": 0
      },
      "text/plain": [
       "  0%|          | 0/1649 [00:00<?, ?it/s]"
      ]
     },
     "metadata": {},
     "output_type": "display_data"
    },
    {
     "name": "stdout",
     "output_type": "stream",
     "text": [
      "Val loss:  0.5050243139266968  Train loss:  0.5976693630218506 \n",
      "\n",
      "Val acc:  0.8053385910366248  Train acc:  0.6930266766774416 \n",
      "\n",
      "Val AUC:  0.0  Train AUC:  0.0 \n",
      "\n",
      "Val f1:  0.7889308440592242  Train f1:  0.6847798039741964 \n",
      "\n",
      "Val CONF: \n",
      " [[ 8510.  1266.]\n",
      " [ 3868. 12730.]] \n",
      "Train CONF: \n",
      " [[44022. 21518.]\n",
      " [18550. 46436.]] \n",
      "\n",
      "Learning Rate:  8e-05\n",
      "Stopping early: \n",
      "Loading training split: 0\n",
      "Read lmdb\n",
      "26772\n",
      "Loading training split: 1\n",
      "Read lmdb\n",
      "29594\n",
      "Loading training split: 2\n",
      "Read lmdb\n",
      "27300\n",
      "Loading training split: 3\n",
      "Read lmdb\n",
      "27881\n",
      "Loading training split: 4\n",
      "Read lmdb\n",
      "26374\n",
      "Loading training split: 7\n",
      "Read lmdb\n",
      "18963\n",
      "Loading training split: 8\n",
      "Read lmdb\n",
      "26957\n",
      "Loading training split: 9\n",
      "Read lmdb\n",
      "23642\n",
      "Patches for training: 207483\n",
      "\n",
      "Loading validation split: 5\n",
      "Read lmdb\n",
      "30172\n",
      "Patches for validation: 30172\n",
      "\n",
      "Number of free parameters:  1026\n",
      "256_tcia_mac5\n",
      "\n",
      "EPOCH:  1\n"
     ]
    },
    {
     "data": {
      "application/vnd.jupyter.widget-view+json": {
       "model_id": "67bf8a14730a423cba2d54f184981c7b",
       "version_major": 2,
       "version_minor": 0
      },
      "text/plain": [
       "  0%|          | 0/8326 [00:00<?, ?it/s]"
      ]
     },
     "metadata": {},
     "output_type": "display_data"
    },
    {
     "data": {
      "application/vnd.jupyter.widget-view+json": {
       "model_id": "aca359d2461d49dfb3b23f171dcfd3b2",
       "version_major": 2,
       "version_minor": 0
      },
      "text/plain": [
       "  0%|          | 0/1886 [00:00<?, ?it/s]"
      ]
     },
     "metadata": {},
     "output_type": "display_data"
    },
    {
     "name": "stdout",
     "output_type": "stream",
     "text": [
      "Val loss:  0.5778705477714539  Train loss:  0.6213076710700989 \n",
      "\n",
      "Val acc:  0.7180829908524622  Train acc:  0.6641091859103132 \n",
      "\n",
      "Val AUC:  0.0  Train AUC:  0.0 \n",
      "\n",
      "Val f1:  0.6744995281181634  Train f1:  0.6544739212112571 \n",
      "\n",
      "Val CONF: \n",
      " [[ 6413.  2605.]\n",
      " [ 5901. 15253.]] \n",
      "Train CONF: \n",
      " [[42729. 23910.]\n",
      " [20832. 45733.]] \n",
      "\n",
      "Learning Rate:  0.0001\n",
      "\n",
      "EPOCH:  2\n"
     ]
    },
    {
     "data": {
      "application/vnd.jupyter.widget-view+json": {
       "model_id": "be508b64f2144e099c44401079b41fb6",
       "version_major": 2,
       "version_minor": 0
      },
      "text/plain": [
       "  0%|          | 0/8326 [00:00<?, ?it/s]"
      ]
     },
     "metadata": {},
     "output_type": "display_data"
    },
    {
     "data": {
      "application/vnd.jupyter.widget-view+json": {
       "model_id": "aad46f74e2cf49c8b24bd55d2c16c778",
       "version_major": 2,
       "version_minor": 0
      },
      "text/plain": [
       "  0%|          | 0/1886 [00:00<?, ?it/s]"
      ]
     },
     "metadata": {},
     "output_type": "display_data"
    },
    {
     "name": "stdout",
     "output_type": "stream",
     "text": [
      "Val loss:  0.5618958473205566  Train loss:  0.5850778818130493 \n",
      "\n",
      "Val acc:  0.7347872199390321  Train acc:  0.7079442058796818 \n",
      "\n",
      "Val AUC:  0.0  Train AUC:  0.0 \n",
      "\n",
      "Val f1:  0.6873500716325103  Train f1:  0.7000786944845356 \n",
      "\n",
      "Val CONF: \n",
      " [[ 6206.  2812.]\n",
      " [ 5190. 15964.]] \n",
      "Train CONF: \n",
      " [[45389. 21218.]\n",
      " [17685. 48912.]] \n",
      "\n",
      "Learning Rate:  8e-05\n",
      "\n",
      "EPOCH:  3\n"
     ]
    },
    {
     "data": {
      "application/vnd.jupyter.widget-view+json": {
       "model_id": "823b1749d3954d1ca870f7c86c331bd1",
       "version_major": 2,
       "version_minor": 0
      },
      "text/plain": [
       "  0%|          | 0/8326 [00:00<?, ?it/s]"
      ]
     },
     "metadata": {},
     "output_type": "display_data"
    },
    {
     "data": {
      "application/vnd.jupyter.widget-view+json": {
       "model_id": "d7671e6b9d0a4bc8bf1d0db752970154",
       "version_major": 2,
       "version_minor": 0
      },
      "text/plain": [
       "  0%|          | 0/1886 [00:00<?, ?it/s]"
      ]
     },
     "metadata": {},
     "output_type": "display_data"
    },
    {
     "name": "stdout",
     "output_type": "stream",
     "text": [
      "Val loss:  0.5484809279441833  Train loss:  0.5816396474838257 \n",
      "\n",
      "Val acc:  0.7509280127270486  Train acc:  0.7119230653733907 \n",
      "\n",
      "Val AUC:  0.0  Train AUC:  0.0 \n",
      "\n",
      "Val f1:  0.6969163705001795  Train f1:  0.7038932600005366 \n",
      "\n",
      "Val CONF: \n",
      " [[ 5920.  3098.]\n",
      " [ 4417. 16737.]] \n",
      "Train CONF: \n",
      " [[45397. 20870.]\n",
      " [17503. 49434.]] \n",
      "\n",
      "Learning Rate:  6.400000000000001e-05\n",
      "\n",
      "EPOCH:  4\n"
     ]
    },
    {
     "data": {
      "application/vnd.jupyter.widget-view+json": {
       "model_id": "eb96e95470c64be3baa05792f3531c65",
       "version_major": 2,
       "version_minor": 0
      },
      "text/plain": [
       "  0%|          | 0/8326 [00:00<?, ?it/s]"
      ]
     },
     "metadata": {},
     "output_type": "display_data"
    },
    {
     "data": {
      "application/vnd.jupyter.widget-view+json": {
       "model_id": "de21ac1f41934f8fb47f9c3d30a2deec",
       "version_major": 2,
       "version_minor": 0
      },
      "text/plain": [
       "  0%|          | 0/1886 [00:00<?, ?it/s]"
      ]
     },
     "metadata": {},
     "output_type": "display_data"
    },
    {
     "name": "stdout",
     "output_type": "stream",
     "text": [
      "Val loss:  0.5686935186386108  Train loss:  0.5782705545425415 \n",
      "\n",
      "Val acc:  0.7267665385125449  Train acc:  0.7139875679408771 \n",
      "\n",
      "Val AUC:  0.0  Train AUC:  0.0 \n",
      "\n",
      "Val f1:  0.6835493217964984  Train f1:  0.7061664335684066 \n",
      "\n",
      "Val CONF: \n",
      " [[ 6392.  2626.]\n",
      " [ 5618. 15536.]] \n",
      "Train CONF: \n",
      " [[45701. 20750.]\n",
      " [17348. 49405.]] \n",
      "\n",
      "Learning Rate:  5.120000000000001e-05\n",
      "\n",
      "EPOCH:  5\n"
     ]
    },
    {
     "data": {
      "application/vnd.jupyter.widget-view+json": {
       "model_id": "d38b4ec06bab4b96a932486d446d90fc",
       "version_major": 2,
       "version_minor": 0
      },
      "text/plain": [
       "  0%|          | 0/8326 [00:00<?, ?it/s]"
      ]
     },
     "metadata": {},
     "output_type": "display_data"
    },
    {
     "data": {
      "application/vnd.jupyter.widget-view+json": {
       "model_id": "3ad8b59581254f7ab84e82954a94a8a6",
       "version_major": 2,
       "version_minor": 0
      },
      "text/plain": [
       "  0%|          | 0/1886 [00:00<?, ?it/s]"
      ]
     },
     "metadata": {},
     "output_type": "display_data"
    },
    {
     "name": "stdout",
     "output_type": "stream",
     "text": [
      "Val loss:  0.5509786605834961  Train loss:  0.5794150233268738 \n",
      "\n",
      "Val acc:  0.7470171019488431  Train acc:  0.7142052791207237 \n",
      "\n",
      "Val AUC:  0.0  Train AUC:  0.0 \n",
      "\n",
      "Val f1:  0.6946593895223502  Train f1:  0.7061829368857915 \n",
      "\n",
      "Val CONF: \n",
      " [[ 6049.  2969.]\n",
      " [ 4664. 16490.]] \n",
      "Train CONF: \n",
      " [[46006. 20752.]\n",
      " [17317. 49129.]] \n",
      "\n",
      "Learning Rate:  4.096000000000001e-05\n",
      "\n",
      "EPOCH:  6\n"
     ]
    },
    {
     "data": {
      "application/vnd.jupyter.widget-view+json": {
       "model_id": "23bfe1ef7db14b38a87081713f3d2904",
       "version_major": 2,
       "version_minor": 0
      },
      "text/plain": [
       "  0%|          | 0/8326 [00:00<?, ?it/s]"
      ]
     },
     "metadata": {},
     "output_type": "display_data"
    },
    {
     "data": {
      "application/vnd.jupyter.widget-view+json": {
       "model_id": "5cbcfedc210a458abaa3df34d8a29fc7",
       "version_major": 2,
       "version_minor": 0
      },
      "text/plain": [
       "  0%|          | 0/1886 [00:00<?, ?it/s]"
      ]
     },
     "metadata": {},
     "output_type": "display_data"
    },
    {
     "name": "stdout",
     "output_type": "stream",
     "text": [
      "Val loss:  0.549394965171814  Train loss:  0.5766984820365906 \n",
      "\n",
      "Val acc:  0.7494034203897807  Train acc:  0.7171181045613996 \n",
      "\n",
      "Val AUC:  0.0  Train AUC:  0.0 \n",
      "\n",
      "Val f1:  0.6978649135153688  Train f1:  0.7093839753705478 \n",
      "\n",
      "Val CONF: \n",
      " [[ 6038.  2980.]\n",
      " [ 4581. 16573.]] \n",
      "Train CONF: \n",
      " [[46489. 20360.]\n",
      " [17321. 49034.]] \n",
      "\n",
      "Learning Rate:  3.276800000000001e-05\n",
      "\n",
      "EPOCH:  7\n"
     ]
    },
    {
     "data": {
      "application/vnd.jupyter.widget-view+json": {
       "model_id": "0d511c20a4184a6b8c8a8c3d7e8331db",
       "version_major": 2,
       "version_minor": 0
      },
      "text/plain": [
       "  0%|          | 0/8326 [00:00<?, ?it/s]"
      ]
     },
     "metadata": {},
     "output_type": "display_data"
    },
    {
     "data": {
      "application/vnd.jupyter.widget-view+json": {
       "model_id": "d3b86774ec5b49178b837606715bc893",
       "version_major": 2,
       "version_minor": 0
      },
      "text/plain": [
       "  0%|          | 0/1886 [00:00<?, ?it/s]"
      ]
     },
     "metadata": {},
     "output_type": "display_data"
    },
    {
     "name": "stdout",
     "output_type": "stream",
     "text": [
      "Val loss:  0.5629183053970337  Train loss:  0.5770738124847412 \n",
      "\n",
      "Val acc:  0.7328317645499302  Train acc:  0.7165400438425032 \n",
      "\n",
      "Val AUC:  0.0  Train AUC:  0.0 \n",
      "\n",
      "Val f1:  0.6857895117395684  Train f1:  0.7091070967925264 \n",
      "\n",
      "Val CONF: \n",
      " [[ 6218.  2800.]\n",
      " [ 5261. 15893.]] \n",
      "Train CONF: \n",
      " [[46039. 20472.]\n",
      " [17286. 49407.]] \n",
      "\n",
      "Learning Rate:  2.621440000000001e-05\n",
      "\n",
      "EPOCH:  8\n"
     ]
    },
    {
     "data": {
      "application/vnd.jupyter.widget-view+json": {
       "model_id": "2b3af19f8ef44eca8febd3127140ff92",
       "version_major": 2,
       "version_minor": 0
      },
      "text/plain": [
       "  0%|          | 0/8326 [00:00<?, ?it/s]"
      ]
     },
     "metadata": {},
     "output_type": "display_data"
    },
    {
     "data": {
      "application/vnd.jupyter.widget-view+json": {
       "model_id": "8ef3a35c66ec467f8440e796a69c4793",
       "version_major": 2,
       "version_minor": 0
      },
      "text/plain": [
       "  0%|          | 0/1886 [00:00<?, ?it/s]"
      ]
     },
     "metadata": {},
     "output_type": "display_data"
    },
    {
     "name": "stdout",
     "output_type": "stream",
     "text": [
      "Val loss:  0.5573541522026062  Train loss:  0.5760474801063538 \n",
      "\n",
      "Val acc:  0.74065358610634  Train acc:  0.7171556409717172 \n",
      "\n",
      "Val AUC:  0.0  Train AUC:  0.0 \n",
      "\n",
      "Val f1:  0.6902174944731873  Train f1:  0.709418895747099 \n",
      "\n",
      "Val CONF: \n",
      " [[ 6139.  2879.]\n",
      " [ 4946. 16208.]] \n",
      "Train CONF: \n",
      " [[46224. 20385.]\n",
      " [17291. 49304.]] \n",
      "\n",
      "Learning Rate:  2.097152000000001e-05\n",
      "\n",
      "EPOCH:  9\n"
     ]
    },
    {
     "data": {
      "application/vnd.jupyter.widget-view+json": {
       "model_id": "dedffb4d17954bc0820927c01eeb9d5c",
       "version_major": 2,
       "version_minor": 0
      },
      "text/plain": [
       "  0%|          | 0/8326 [00:00<?, ?it/s]"
      ]
     },
     "metadata": {},
     "output_type": "display_data"
    },
    {
     "data": {
      "application/vnd.jupyter.widget-view+json": {
       "model_id": "5ebe289434824879854f39071a97ace9",
       "version_major": 2,
       "version_minor": 0
      },
      "text/plain": [
       "  0%|          | 0/1886 [00:00<?, ?it/s]"
      ]
     },
     "metadata": {},
     "output_type": "display_data"
    },
    {
     "name": "stdout",
     "output_type": "stream",
     "text": [
      "Val loss:  0.5487884879112244  Train loss:  0.5775507092475891 \n",
      "\n",
      "Val acc:  0.7493371337664221  Train acc:  0.715436473379153 \n",
      "\n",
      "Val AUC:  0.0  Train AUC:  0.0 \n",
      "\n",
      "Val f1:  0.6977727270912683  Train f1:  0.707697516588507 \n",
      "\n",
      "Val CONF: \n",
      " [[ 6001.  3017.]\n",
      " [ 4546. 16608.]] \n",
      "Train CONF: \n",
      " [[46453. 20355.]\n",
      " [17550. 48846.]] \n",
      "\n",
      "Learning Rate:  1.677721600000001e-05\n",
      "\n",
      "EPOCH:  10\n"
     ]
    },
    {
     "data": {
      "application/vnd.jupyter.widget-view+json": {
       "model_id": "d777a51819624b648ed3075d246b53a5",
       "version_major": 2,
       "version_minor": 0
      },
      "text/plain": [
       "  0%|          | 0/8326 [00:00<?, ?it/s]"
      ]
     },
     "metadata": {},
     "output_type": "display_data"
    },
    {
     "data": {
      "application/vnd.jupyter.widget-view+json": {
       "model_id": "ace599c299344ab8ba450537c975e3bd",
       "version_major": 2,
       "version_minor": 0
      },
      "text/plain": [
       "  0%|          | 0/1886 [00:00<?, ?it/s]"
      ]
     },
     "metadata": {},
     "output_type": "display_data"
    },
    {
     "name": "stdout",
     "output_type": "stream",
     "text": [
      "Val loss:  0.5589281916618347  Train loss:  0.5772298574447632 \n",
      "\n",
      "Val acc:  0.739394140262512  Train acc:  0.7159394612774158 \n",
      "\n",
      "Val AUC:  0.0  Train AUC:  0.0 \n",
      "\n",
      "Val f1:  0.6928479025124977  Train f1:  0.7082639045285919 \n",
      "\n",
      "Val CONF: \n",
      " [[ 6277.  2741.]\n",
      " [ 5122. 16032.]] \n",
      "Train CONF: \n",
      " [[46376. 20223.]\n",
      " [17615. 48990.]] \n",
      "\n",
      "Learning Rate:  1.3421772800000007e-05\n",
      "\n",
      "EPOCH:  11\n"
     ]
    },
    {
     "data": {
      "application/vnd.jupyter.widget-view+json": {
       "model_id": "514df9d3e18b4a1099fec8a94228c508",
       "version_major": 2,
       "version_minor": 0
      },
      "text/plain": [
       "  0%|          | 0/8326 [00:00<?, ?it/s]"
      ]
     },
     "metadata": {},
     "output_type": "display_data"
    },
    {
     "data": {
      "application/vnd.jupyter.widget-view+json": {
       "model_id": "c7a3b1294ba344aa95538619fd2fa775",
       "version_major": 2,
       "version_minor": 0
      },
      "text/plain": [
       "  0%|          | 0/1886 [00:00<?, ?it/s]"
      ]
     },
     "metadata": {},
     "output_type": "display_data"
    },
    {
     "name": "stdout",
     "output_type": "stream",
     "text": [
      "Val loss:  0.540558934211731  Train loss:  0.577868640422821 \n",
      "\n",
      "Val acc:  0.7591144107119348  Train acc:  0.7156466772769369 \n",
      "\n",
      "Val AUC:  0.0  Train AUC:  0.0 \n",
      "\n",
      "Val f1:  0.7035416146633147  Train f1:  0.7080803948398162 \n",
      "\n",
      "Val CONF: \n",
      " [[ 5907.  3111.]\n",
      " [ 4157. 16997.]] \n",
      "Train CONF: \n",
      " [[45991. 20443.]\n",
      " [17434. 49336.]] \n",
      "\n",
      "Learning Rate:  1.0737418240000007e-05\n",
      "\n",
      "EPOCH:  12\n"
     ]
    },
    {
     "data": {
      "application/vnd.jupyter.widget-view+json": {
       "model_id": "63ca5abb14cd46f287f4288633afb59d",
       "version_major": 2,
       "version_minor": 0
      },
      "text/plain": [
       "  0%|          | 0/8326 [00:00<?, ?it/s]"
      ]
     },
     "metadata": {},
     "output_type": "display_data"
    },
    {
     "data": {
      "application/vnd.jupyter.widget-view+json": {
       "model_id": "1a42630309614a678d416379a7981774",
       "version_major": 2,
       "version_minor": 0
      },
      "text/plain": [
       "  0%|          | 0/1886 [00:00<?, ?it/s]"
      ]
     },
     "metadata": {},
     "output_type": "display_data"
    },
    {
     "name": "stdout",
     "output_type": "stream",
     "text": [
      "Val loss:  0.5563660860061646  Train loss:  0.5755631923675537 \n",
      "\n",
      "Val acc:  0.7409518759114572  Train acc:  0.7180415002552203 \n",
      "\n",
      "Val AUC:  0.0  Train AUC:  0.0 \n",
      "\n",
      "Val f1:  0.6920957410294806  Train f1:  0.7104818472167834 \n",
      "\n",
      "Val CONF: \n",
      " [[ 6100.  2918.]\n",
      " [ 4898. 16256.]] \n",
      "Train CONF: \n",
      " [[46317. 20149.]\n",
      " [17409. 49329.]] \n",
      "\n",
      "Learning Rate:  8.589934592000006e-06\n",
      "\n",
      "EPOCH:  13\n"
     ]
    },
    {
     "data": {
      "application/vnd.jupyter.widget-view+json": {
       "model_id": "0e586883da59444ea5d4d24b7fb99e1d",
       "version_major": 2,
       "version_minor": 0
      },
      "text/plain": [
       "  0%|          | 0/8326 [00:00<?, ?it/s]"
      ]
     },
     "metadata": {},
     "output_type": "display_data"
    },
    {
     "data": {
      "application/vnd.jupyter.widget-view+json": {
       "model_id": "97d1ab228f724e06b47e34a691ed01ac",
       "version_major": 2,
       "version_minor": 0
      },
      "text/plain": [
       "  0%|          | 0/1886 [00:00<?, ?it/s]"
      ]
     },
     "metadata": {},
     "output_type": "display_data"
    },
    {
     "name": "stdout",
     "output_type": "stream",
     "text": [
      "Val loss:  0.5617343187332153  Train loss:  0.5769433379173279 \n",
      "\n",
      "Val acc:  0.734720933315673  Train acc:  0.7168253205609193 \n",
      "\n",
      "Val AUC:  0.0  Train AUC:  0.0 \n",
      "\n",
      "Val f1:  0.6884921744627754  Train f1:  0.7092339145443926 \n",
      "\n",
      "Val CONF: \n",
      " [[ 6282.  2736.]\n",
      " [ 5268. 15886.]] \n",
      "Train CONF: \n",
      " [[46202. 20266.]\n",
      " [17454. 49282.]] \n",
      "\n",
      "Learning Rate:  6.871947673600004e-06\n",
      "Stopping early: \n",
      "Loading training split: 0\n",
      "Read lmdb\n",
      "26772\n",
      "Loading training split: 1\n",
      "Read lmdb\n",
      "29594\n",
      "Loading training split: 2\n",
      "Read lmdb\n",
      "27300\n",
      "Loading training split: 3\n",
      "Read lmdb\n",
      "27881\n",
      "Loading training split: 4\n",
      "Read lmdb\n",
      "26374\n",
      "Loading training split: 5\n",
      "Read lmdb\n",
      "30172\n",
      "Loading training split: 8\n",
      "Read lmdb\n",
      "26957\n",
      "Loading training split: 9\n",
      "Read lmdb\n",
      "23642\n",
      "Patches for training: 218692\n",
      "\n",
      "Loading validation split: 6\n",
      "Read lmdb\n",
      "26227\n",
      "Patches for validation: 26227\n",
      "\n",
      "Number of free parameters:  1026\n",
      "256_tcia_mac6\n",
      "\n",
      "EPOCH:  1\n"
     ]
    },
    {
     "data": {
      "application/vnd.jupyter.widget-view+json": {
       "model_id": "4d83f9c4868444afbb43678bbc334cc0",
       "version_major": 2,
       "version_minor": 0
      },
      "text/plain": [
       "  0%|          | 0/8764 [00:00<?, ?it/s]"
      ]
     },
     "metadata": {},
     "output_type": "display_data"
    },
    {
     "data": {
      "application/vnd.jupyter.widget-view+json": {
       "model_id": "671a4067fbd144c39aa805fd0a33687b",
       "version_major": 2,
       "version_minor": 0
      },
      "text/plain": [
       "  0%|          | 0/1640 [00:00<?, ?it/s]"
      ]
     },
     "metadata": {},
     "output_type": "display_data"
    },
    {
     "name": "stdout",
     "output_type": "stream",
     "text": [
      "Val loss:  0.5619914531707764  Train loss:  0.6156491637229919 \n",
      "\n",
      "Val acc:  0.7378274297479669  Train acc:  0.6710644549357326 \n",
      "\n",
      "Val AUC:  0.0  Train AUC:  0.0 \n",
      "\n",
      "Val f1:  0.7005342276736694  Train f1:  0.6615434455291104 \n",
      "\n",
      "Val CONF: \n",
      " [[ 6067.  2370.]\n",
      " [ 4506. 13284.]] \n",
      "Train CONF: \n",
      " [[45472. 24791.]\n",
      " [21333. 48626.]] \n",
      "\n",
      "Learning Rate:  0.0001\n",
      "\n",
      "EPOCH:  2\n"
     ]
    },
    {
     "data": {
      "application/vnd.jupyter.widget-view+json": {
       "model_id": "f8688d0da7444431adbd2396dbb2b73f",
       "version_major": 2,
       "version_minor": 0
      },
      "text/plain": [
       "  0%|          | 0/8764 [00:00<?, ?it/s]"
      ]
     },
     "metadata": {},
     "output_type": "display_data"
    },
    {
     "data": {
      "application/vnd.jupyter.widget-view+json": {
       "model_id": "c57cee39a9a44759b5a675aef3d4e89d",
       "version_major": 2,
       "version_minor": 0
      },
      "text/plain": [
       "  0%|          | 0/1640 [00:00<?, ?it/s]"
      ]
     },
     "metadata": {},
     "output_type": "display_data"
    },
    {
     "name": "stdout",
     "output_type": "stream",
     "text": [
      "Val loss:  0.5575892925262451  Train loss:  0.5856995582580566 \n",
      "\n",
      "Val acc:  0.7434323407175785  Train acc:  0.7073355108328103 \n",
      "\n",
      "Val AUC:  0.0  Train AUC:  0.0 \n",
      "\n",
      "Val f1:  0.7067501930687589  Train f1:  0.6993297559228874 \n",
      "\n",
      "Val CONF: \n",
      " [[ 6168.  2269.]\n",
      " [ 4460. 13330.]] \n",
      "Train CONF: \n",
      " [[47794. 22296.]\n",
      " [18742. 51390.]] \n",
      "\n",
      "Learning Rate:  8e-05\n",
      "\n",
      "EPOCH:  3\n"
     ]
    },
    {
     "data": {
      "application/vnd.jupyter.widget-view+json": {
       "model_id": "e1e69065597841a384075698f347136b",
       "version_major": 2,
       "version_minor": 0
      },
      "text/plain": [
       "  0%|          | 0/8764 [00:00<?, ?it/s]"
      ]
     },
     "metadata": {},
     "output_type": "display_data"
    },
    {
     "data": {
      "application/vnd.jupyter.widget-view+json": {
       "model_id": "a83cbb4f2d664e5086e691f09d25320d",
       "version_major": 2,
       "version_minor": 0
      },
      "text/plain": [
       "  0%|          | 0/1640 [00:00<?, ?it/s]"
      ]
     },
     "metadata": {},
     "output_type": "display_data"
    },
    {
     "name": "stdout",
     "output_type": "stream",
     "text": [
      "Val loss:  0.5623553395271301  Train loss:  0.5798991322517395 \n",
      "\n",
      "Val acc:  0.7372555000571904  Train acc:  0.7143244284063643 \n",
      "\n",
      "Val AUC:  0.0  Train AUC:  0.0 \n",
      "\n",
      "Val f1:  0.703563743335835  Train f1:  0.7064888390814312 \n",
      "\n",
      "Val CONF: \n",
      " [[ 6299.  2138.]\n",
      " [ 4753. 13037.]] \n",
      "Train CONF: \n",
      " [[48307. 21825.]\n",
      " [18233. 51857.]] \n",
      "\n",
      "Learning Rate:  6.400000000000001e-05\n",
      "\n",
      "EPOCH:  4\n"
     ]
    },
    {
     "data": {
      "application/vnd.jupyter.widget-view+json": {
       "model_id": "066688ab5dbf4e8fb83e0c5efc016767",
       "version_major": 2,
       "version_minor": 0
      },
      "text/plain": [
       "  0%|          | 0/8764 [00:00<?, ?it/s]"
      ]
     },
     "metadata": {},
     "output_type": "display_data"
    },
    {
     "data": {
      "application/vnd.jupyter.widget-view+json": {
       "model_id": "68c6fc7cdb37459f99db26b69307f6a2",
       "version_major": 2,
       "version_minor": 0
      },
      "text/plain": [
       "  0%|          | 0/1640 [00:00<?, ?it/s]"
      ]
     },
     "metadata": {},
     "output_type": "display_data"
    },
    {
     "name": "stdout",
     "output_type": "stream",
     "text": [
      "Val loss:  0.5543123483657837  Train loss:  0.5797096490859985 \n",
      "\n",
      "Val acc:  0.7456819308346344  Train acc:  0.7151231618433442 \n",
      "\n",
      "Val AUC:  0.0  Train AUC:  0.0 \n",
      "\n",
      "Val f1:  0.7102903724349795  Train f1:  0.7072127457785594 \n",
      "\n",
      "Val CONF: \n",
      " [[ 6222.  2215.]\n",
      " [ 4455. 13335.]] \n",
      "Train CONF: \n",
      " [[48536. 21515.]\n",
      " [18431. 51740.]] \n",
      "\n",
      "Learning Rate:  5.120000000000001e-05\n",
      "\n",
      "EPOCH:  5\n"
     ]
    },
    {
     "data": {
      "application/vnd.jupyter.widget-view+json": {
       "model_id": "cac42bf14896484fb247b736316e2658",
       "version_major": 2,
       "version_minor": 0
      },
      "text/plain": [
       "  0%|          | 0/8764 [00:00<?, ?it/s]"
      ]
     },
     "metadata": {},
     "output_type": "display_data"
    },
    {
     "data": {
      "application/vnd.jupyter.widget-view+json": {
       "model_id": "6349d08429184e58986235b3cef9fd1a",
       "version_major": 2,
       "version_minor": 0
      },
      "text/plain": [
       "  0%|          | 0/1640 [00:00<?, ?it/s]"
      ]
     },
     "metadata": {},
     "output_type": "display_data"
    },
    {
     "name": "stdout",
     "output_type": "stream",
     "text": [
      "Val loss:  0.5620518326759338  Train loss:  0.5774261951446533 \n",
      "\n",
      "Val acc:  0.7383231021466414  Train acc:  0.7166635763289471 \n",
      "\n",
      "Val AUC:  0.0  Train AUC:  0.0 \n",
      "\n",
      "Val f1:  0.7054213935572982  Train f1:  0.7088652497452923 \n",
      "\n",
      "Val CONF: \n",
      " [[ 6330.  2107.]\n",
      " [ 4756. 13034.]] \n",
      "Train CONF: \n",
      " [[48413. 21571.]\n",
      " [18159. 52079.]] \n",
      "\n",
      "Learning Rate:  4.096000000000001e-05\n",
      "\n",
      "EPOCH:  6\n"
     ]
    },
    {
     "data": {
      "application/vnd.jupyter.widget-view+json": {
       "model_id": "e835e2a290ed4d2687066d5059e04062",
       "version_major": 2,
       "version_minor": 0
      },
      "text/plain": [
       "  0%|          | 0/8764 [00:00<?, ?it/s]"
      ]
     },
     "metadata": {},
     "output_type": "display_data"
    },
    {
     "data": {
      "application/vnd.jupyter.widget-view+json": {
       "model_id": "d4fc49b1683440409ac406805eafa5e0",
       "version_major": 2,
       "version_minor": 0
      },
      "text/plain": [
       "  0%|          | 0/1640 [00:00<?, ?it/s]"
      ]
     },
     "metadata": {},
     "output_type": "display_data"
    },
    {
     "name": "stdout",
     "output_type": "stream",
     "text": [
      "Val loss:  0.5539288520812988  Train loss:  0.574633777141571 \n",
      "\n",
      "Val acc:  0.7463301178175141  Train acc:  0.7200439303390133 \n",
      "\n",
      "Val AUC:  0.0  Train AUC:  0.0 \n",
      "\n",
      "Val f1:  0.711151900481694  Train f1:  0.7123970891717992 \n",
      "\n",
      "Val CONF: \n",
      " [[ 6222.  2215.]\n",
      " [ 4438. 13352.]] \n",
      "Train CONF: \n",
      " [[48824. 21115.]\n",
      " [18141. 52142.]] \n",
      "\n",
      "Learning Rate:  3.276800000000001e-05\n",
      "\n",
      "EPOCH:  7\n"
     ]
    },
    {
     "data": {
      "application/vnd.jupyter.widget-view+json": {
       "model_id": "b35b9ba30dd14b279afa07e2192e7b1b",
       "version_major": 2,
       "version_minor": 0
      },
      "text/plain": [
       "  0%|          | 0/8764 [00:00<?, ?it/s]"
      ]
     },
     "metadata": {},
     "output_type": "display_data"
    },
    {
     "data": {
      "application/vnd.jupyter.widget-view+json": {
       "model_id": "d7553a96eaff4e32a47efb1927592310",
       "version_major": 2,
       "version_minor": 0
      },
      "text/plain": [
       "  0%|          | 0/1640 [00:00<?, ?it/s]"
      ]
     },
     "metadata": {},
     "output_type": "display_data"
    },
    {
     "name": "stdout",
     "output_type": "stream",
     "text": [
      "Val loss:  0.5563012361526489  Train loss:  0.5751922726631165 \n",
      "\n",
      "Val acc:  0.74347046936363  Train acc:  0.7186532783728491 \n",
      "\n",
      "Val AUC:  0.0  Train AUC:  0.0 \n",
      "\n",
      "Val f1:  0.7091589471736379  Train f1:  0.7110566187353103 \n",
      "\n",
      "Val CONF: \n",
      " [[ 6241.  2196.]\n",
      " [ 4532. 13258.]] \n",
      "Train CONF: \n",
      " [[48695. 21371.]\n",
      " [18080. 52076.]] \n",
      "\n",
      "Learning Rate:  2.621440000000001e-05\n",
      "\n",
      "EPOCH:  8\n"
     ]
    },
    {
     "data": {
      "application/vnd.jupyter.widget-view+json": {
       "model_id": "0733b9af17704e53a6e6e0cd6dd0a6e8",
       "version_major": 2,
       "version_minor": 0
      },
      "text/plain": [
       "  0%|          | 0/8764 [00:00<?, ?it/s]"
      ]
     },
     "metadata": {},
     "output_type": "display_data"
    },
    {
     "data": {
      "application/vnd.jupyter.widget-view+json": {
       "model_id": "2816c36657b8412ba8e72d12b0e5ff79",
       "version_major": 2,
       "version_minor": 0
      },
      "text/plain": [
       "  0%|          | 0/1640 [00:00<?, ?it/s]"
      ]
     },
     "metadata": {},
     "output_type": "display_data"
    },
    {
     "name": "stdout",
     "output_type": "stream",
     "text": [
      "Val loss:  0.5487689971923828  Train loss:  0.5776306390762329 \n",
      "\n",
      "Val acc:  0.7522781866015914  Train acc:  0.7168846543338273 \n",
      "\n",
      "Val AUC:  0.0  Train AUC:  0.0 \n",
      "\n",
      "Val f1:  0.7155881376244737  Train f1:  0.7094526403494549 \n",
      "\n",
      "Val CONF: \n",
      " [[ 6133.  2304.]\n",
      " [ 4193. 13597.]] \n",
      "Train CONF: \n",
      " [[48727. 21389.]\n",
      " [18310. 51796.]] \n",
      "\n",
      "Learning Rate:  2.097152000000001e-05\n",
      "\n",
      "EPOCH:  9\n"
     ]
    },
    {
     "data": {
      "application/vnd.jupyter.widget-view+json": {
       "model_id": "91316adec8d44803b10ccfbba6c4d83e",
       "version_major": 2,
       "version_minor": 0
      },
      "text/plain": [
       "  0%|          | 0/8764 [00:00<?, ?it/s]"
      ]
     },
     "metadata": {},
     "output_type": "display_data"
    },
    {
     "data": {
      "application/vnd.jupyter.widget-view+json": {
       "model_id": "80ae80218bb84c62b3a674fa6a772fb5",
       "version_major": 2,
       "version_minor": 0
      },
      "text/plain": [
       "  0%|          | 0/1640 [00:00<?, ?it/s]"
      ]
     },
     "metadata": {},
     "output_type": "display_data"
    },
    {
     "name": "stdout",
     "output_type": "stream",
     "text": [
      "Val loss:  0.5443556904792786  Train loss:  0.5778161287307739 \n",
      "\n",
      "Val acc:  0.7564723376672866  Train acc:  0.7155011339162023 \n",
      "\n",
      "Val AUC:  0.0  Train AUC:  0.0 \n",
      "\n",
      "Val f1:  0.717325860860492  Train f1:  0.7076604882529877 \n",
      "\n",
      "Val CONF: \n",
      " [[ 6042.  2395.]\n",
      " [ 3992. 13798.]] \n",
      "Train CONF: \n",
      " [[48894. 21384.]\n",
      " [18509. 51435.]] \n",
      "\n",
      "Learning Rate:  1.677721600000001e-05\n",
      "\n",
      "EPOCH:  10\n"
     ]
    },
    {
     "data": {
      "application/vnd.jupyter.widget-view+json": {
       "model_id": "a525c9eb756e4d44bbc236d405845273",
       "version_major": 2,
       "version_minor": 0
      },
      "text/plain": [
       "  0%|          | 0/8764 [00:00<?, ?it/s]"
      ]
     },
     "metadata": {},
     "output_type": "display_data"
    },
    {
     "data": {
      "application/vnd.jupyter.widget-view+json": {
       "model_id": "7b4487d54176471cbbcbcd797f5050db",
       "version_major": 2,
       "version_minor": 0
      },
      "text/plain": [
       "  0%|          | 0/1640 [00:00<?, ?it/s]"
      ]
     },
     "metadata": {},
     "output_type": "display_data"
    },
    {
     "name": "stdout",
     "output_type": "stream",
     "text": [
      "Val loss:  0.5434940457344055  Train loss:  0.5757778286933899 \n",
      "\n",
      "Val acc:  0.7584550272619774  Train acc:  0.7182681747514499 \n",
      "\n",
      "Val AUC:  0.0  Train AUC:  0.0 \n",
      "\n",
      "Val f1:  0.7203818157875237  Train f1:  0.7105226871735498 \n",
      "\n",
      "Val CONF: \n",
      " [[ 6016.  2421.]\n",
      " [ 3914. 13876.]] \n",
      "Train CONF: \n",
      " [[48305. 21487.]\n",
      " [18018. 52412.]] \n",
      "\n",
      "Learning Rate:  1.3421772800000007e-05\n",
      "\n",
      "EPOCH:  11\n"
     ]
    },
    {
     "data": {
      "application/vnd.jupyter.widget-view+json": {
       "model_id": "724627f8b37441e9aa4135a31a59d8f8",
       "version_major": 2,
       "version_minor": 0
      },
      "text/plain": [
       "  0%|          | 0/8764 [00:00<?, ?it/s]"
      ]
     },
     "metadata": {},
     "output_type": "display_data"
    },
    {
     "data": {
      "application/vnd.jupyter.widget-view+json": {
       "model_id": "89cdae8bb08643be8171c15c83ae6bb7",
       "version_major": 2,
       "version_minor": 0
      },
      "text/plain": [
       "  0%|          | 0/1640 [00:00<?, ?it/s]"
      ]
     },
     "metadata": {},
     "output_type": "display_data"
    },
    {
     "name": "stdout",
     "output_type": "stream",
     "text": [
      "Val loss:  0.5688626766204834  Train loss:  0.5765408873558044 \n",
      "\n",
      "Val acc:  0.7292484843863181  Train acc:  0.7177475717077043 \n",
      "\n",
      "Val AUC:  0.0  Train AUC:  0.0 \n",
      "\n",
      "Val f1:  0.6973011030861928  Train f1:  0.710255690493276 \n",
      "\n",
      "Val CONF: \n",
      " [[ 6519.  1918.]\n",
      " [ 5183. 12607.]] \n",
      "Train CONF: \n",
      " [[49172. 21256.]\n",
      " [18322. 51472.]] \n",
      "\n",
      "Learning Rate:  1.0737418240000007e-05\n",
      "\n",
      "EPOCH:  12\n"
     ]
    },
    {
     "data": {
      "application/vnd.jupyter.widget-view+json": {
       "model_id": "04ff0062119846d3a8b1319fcbc32370",
       "version_major": 2,
       "version_minor": 0
      },
      "text/plain": [
       "  0%|          | 0/8764 [00:00<?, ?it/s]"
      ]
     },
     "metadata": {},
     "output_type": "display_data"
    },
    {
     "data": {
      "application/vnd.jupyter.widget-view+json": {
       "model_id": "bd2fa7f051f24b3390a8b6e82a15382b",
       "version_major": 2,
       "version_minor": 0
      },
      "text/plain": [
       "  0%|          | 0/1640 [00:00<?, ?it/s]"
      ]
     },
     "metadata": {},
     "output_type": "display_data"
    },
    {
     "name": "stdout",
     "output_type": "stream",
     "text": [
      "Val loss:  0.5526555180549622  Train loss:  0.5749536752700806 \n",
      "\n",
      "Val acc:  0.74774087772143  Train acc:  0.7191453552224129 \n",
      "\n",
      "Val AUC:  0.0  Train AUC:  0.0 \n",
      "\n",
      "Val f1:  0.7126009295208517  Train f1:  0.7115605752679007 \n",
      "\n",
      "Val CONF: \n",
      " [[ 6257.  2180.]\n",
      " [ 4436. 13354.]] \n",
      "Train CONF: \n",
      " [[48830. 21241.]\n",
      " [18141. 52010.]] \n",
      "\n",
      "Learning Rate:  8.589934592000006e-06\n",
      "\n",
      "EPOCH:  13\n"
     ]
    },
    {
     "data": {
      "application/vnd.jupyter.widget-view+json": {
       "model_id": "3d5e1e97d0804061af10d8e99a642995",
       "version_major": 2,
       "version_minor": 0
      },
      "text/plain": [
       "  0%|          | 0/8764 [00:00<?, ?it/s]"
      ]
     },
     "metadata": {},
     "output_type": "display_data"
    },
    {
     "data": {
      "application/vnd.jupyter.widget-view+json": {
       "model_id": "e0d1e7653b4b4d3d9a789d0b08e9a0b8",
       "version_major": 2,
       "version_minor": 0
      },
      "text/plain": [
       "  0%|          | 0/1640 [00:00<?, ?it/s]"
      ]
     },
     "metadata": {},
     "output_type": "display_data"
    },
    {
     "name": "stdout",
     "output_type": "stream",
     "text": [
      "Val loss:  0.552200198173523  Train loss:  0.5748403668403625 \n",
      "\n",
      "Val acc:  0.7475883631372241  Train acc:  0.7181897277174591 \n",
      "\n",
      "Val AUC:  0.0  Train AUC:  0.0 \n",
      "\n",
      "Val f1:  0.7099494077118514  Train f1:  0.7107031850818208 \n",
      "\n",
      "Val CONF: \n",
      " [[ 6184.  2253.]\n",
      " [ 4367. 13423.]] \n",
      "Train CONF: \n",
      " [[48963. 21087.]\n",
      " [18429. 51743.]] \n",
      "\n",
      "Learning Rate:  6.871947673600004e-06\n",
      "\n",
      "EPOCH:  14\n"
     ]
    },
    {
     "data": {
      "application/vnd.jupyter.widget-view+json": {
       "model_id": "69d6dd54f0774fb1a5466bb2bfea9be3",
       "version_major": 2,
       "version_minor": 0
      },
      "text/plain": [
       "  0%|          | 0/8764 [00:00<?, ?it/s]"
      ]
     },
     "metadata": {},
     "output_type": "display_data"
    },
    {
     "data": {
      "application/vnd.jupyter.widget-view+json": {
       "model_id": "1f062bbd0dc44e049771065502984a35",
       "version_major": 2,
       "version_minor": 0
      },
      "text/plain": [
       "  0%|          | 0/1640 [00:00<?, ?it/s]"
      ]
     },
     "metadata": {},
     "output_type": "display_data"
    },
    {
     "name": "stdout",
     "output_type": "stream",
     "text": [
      "Val loss:  0.5503737330436707  Train loss:  0.5748206973075867 \n",
      "\n",
      "Val acc:  0.7501048537766392  Train acc:  0.7189955927029819 \n",
      "\n",
      "Val AUC:  0.0  Train AUC:  0.0 \n",
      "\n",
      "Val f1:  0.7120276010913326  Train f1:  0.711488929400824 \n",
      "\n",
      "Val CONF: \n",
      " [[ 6198.  2239.]\n",
      " [ 4315. 13475.]] \n",
      "Train CONF: \n",
      " [[49044. 21088.]\n",
      " [18315. 51775.]] \n",
      "\n",
      "Learning Rate:  5.497558138880004e-06\n",
      "\n",
      "EPOCH:  15\n"
     ]
    },
    {
     "data": {
      "application/vnd.jupyter.widget-view+json": {
       "model_id": "3fbb994f33854f18ac291502a6918896",
       "version_major": 2,
       "version_minor": 0
      },
      "text/plain": [
       "  0%|          | 0/8764 [00:00<?, ?it/s]"
      ]
     },
     "metadata": {},
     "output_type": "display_data"
    },
    {
     "data": {
      "application/vnd.jupyter.widget-view+json": {
       "model_id": "3c0aa3c0328d4f4892351378e45ac334",
       "version_major": 2,
       "version_minor": 0
      },
      "text/plain": [
       "  0%|          | 0/1640 [00:00<?, ?it/s]"
      ]
     },
     "metadata": {},
     "output_type": "display_data"
    },
    {
     "name": "stdout",
     "output_type": "stream",
     "text": [
      "Val loss:  0.5550304055213928  Train loss:  0.5761491656303406 \n",
      "\n",
      "Val acc:  0.7444618141609763  Train acc:  0.717733308610617 \n",
      "\n",
      "Val AUC:  0.0  Train AUC:  0.0 \n",
      "\n",
      "Val f1:  0.7100810527825614  Train f1:  0.7100313964608761 \n",
      "\n",
      "Val CONF: \n",
      " [[ 6234.  2203.]\n",
      " [ 4499. 13291.]] \n",
      "Train CONF: \n",
      " [[48926. 21120.]\n",
      " [18460. 51716.]] \n",
      "\n",
      "Learning Rate:  4.398046511104004e-06\n",
      "\n",
      "EPOCH:  16\n"
     ]
    },
    {
     "data": {
      "application/vnd.jupyter.widget-view+json": {
       "model_id": "34763156aba04e89b9c5c911d4957253",
       "version_major": 2,
       "version_minor": 0
      },
      "text/plain": [
       "  0%|          | 0/8764 [00:00<?, ?it/s]"
      ]
     },
     "metadata": {},
     "output_type": "display_data"
    },
    {
     "data": {
      "application/vnd.jupyter.widget-view+json": {
       "model_id": "547b9a453bfd40d482353e3f4565f794",
       "version_major": 2,
       "version_minor": 0
      },
      "text/plain": [
       "  0%|          | 0/1640 [00:00<?, ?it/s]"
      ]
     },
     "metadata": {},
     "output_type": "display_data"
    },
    {
     "name": "stdout",
     "output_type": "stream",
     "text": [
      "Val loss:  0.5467493534088135  Train loss:  0.5767319798469543 \n",
      "\n",
      "Val acc:  0.7542227475502317  Train acc:  0.7170415484018019 \n",
      "\n",
      "Val AUC:  0.0  Train AUC:  0.0 \n",
      "\n",
      "Val f1:  0.7172899944947398  Train f1:  0.7093844183627792 \n",
      "\n",
      "Val CONF: \n",
      " [[ 6148.  2289.]\n",
      " [ 4157. 13633.]] \n",
      "Train CONF: \n",
      " [[48627. 21426.]\n",
      " [18251. 51918.]] \n",
      "\n",
      "Learning Rate:  3.5184372088832033e-06\n",
      "\n",
      "EPOCH:  17\n"
     ]
    },
    {
     "data": {
      "application/vnd.jupyter.widget-view+json": {
       "model_id": "83b1df745c3e4ca0a19eaba6766177e0",
       "version_major": 2,
       "version_minor": 0
      },
      "text/plain": [
       "  0%|          | 0/8764 [00:00<?, ?it/s]"
      ]
     },
     "metadata": {},
     "output_type": "display_data"
    },
    {
     "data": {
      "application/vnd.jupyter.widget-view+json": {
       "model_id": "f0f2ff46aa6b4260b83426679c4444b1",
       "version_major": 2,
       "version_minor": 0
      },
      "text/plain": [
       "  0%|          | 0/1640 [00:00<?, ?it/s]"
      ]
     },
     "metadata": {},
     "output_type": "display_data"
    },
    {
     "name": "stdout",
     "output_type": "stream",
     "text": [
      "Val loss:  0.5532380938529968  Train loss:  0.5772846341133118 \n",
      "\n",
      "Val acc:  0.7468639188622385  Train acc:  0.7158577113434237 \n",
      "\n",
      "Val AUC:  0.0  Train AUC:  0.0 \n",
      "\n",
      "Val f1:  0.7107923642955086  Train f1:  0.7081185988210958 \n",
      "\n",
      "Val CONF: \n",
      " [[ 6230.  2207.]\n",
      " [ 4432. 13358.]] \n",
      "Train CONF: \n",
      " [[48231. 21698.]\n",
      " [18145. 52148.]] \n",
      "\n",
      "Learning Rate:  2.8147497671065624e-06\n",
      "\n",
      "EPOCH:  18\n"
     ]
    },
    {
     "data": {
      "application/vnd.jupyter.widget-view+json": {
       "model_id": "bc609783062a4b458fcb64fe19b41911",
       "version_major": 2,
       "version_minor": 0
      },
      "text/plain": [
       "  0%|          | 0/8764 [00:00<?, ?it/s]"
      ]
     },
     "metadata": {},
     "output_type": "display_data"
    },
    {
     "data": {
      "application/vnd.jupyter.widget-view+json": {
       "model_id": "b8c28b01c733465a916691da981f28aa",
       "version_major": 2,
       "version_minor": 0
      },
      "text/plain": [
       "  0%|          | 0/1640 [00:00<?, ?it/s]"
      ]
     },
     "metadata": {},
     "output_type": "display_data"
    },
    {
     "name": "stdout",
     "output_type": "stream",
     "text": [
      "Val loss:  0.5566105842590332  Train loss:  0.5754154920578003 \n",
      "\n",
      "Val acc:  0.7432798261333725  Train acc:  0.7186461468243033 \n",
      "\n",
      "Val AUC:  0.0  Train AUC:  0.0 \n",
      "\n",
      "Val f1:  0.7087693276496189  Train f1:  0.7109770828362703 \n",
      "\n",
      "Val CONF: \n",
      " [[ 6290.  2147.]\n",
      " [ 4586. 13204.]] \n",
      "Train CONF: \n",
      " [[48783. 21383.]\n",
      " [18069. 51987.]] \n",
      "\n",
      "Learning Rate:  2.2517998136852503e-06\n",
      "Stopping early: \n",
      "Loading training split: 0\n",
      "Read lmdb\n",
      "26772\n",
      "Loading training split: 1\n",
      "Read lmdb\n",
      "29594\n",
      "Loading training split: 2\n",
      "Read lmdb\n",
      "27300\n",
      "Loading training split: 3\n",
      "Read lmdb\n",
      "27881\n",
      "Loading training split: 4\n",
      "Read lmdb\n",
      "26374\n",
      "Loading training split: 5\n",
      "Read lmdb\n",
      "30172\n",
      "Loading training split: 6\n",
      "Read lmdb\n",
      "26227\n",
      "Loading training split: 9\n",
      "Read lmdb\n",
      "23642\n",
      "Patches for training: 217962\n",
      "\n",
      "Loading validation split: 7\n",
      "Read lmdb\n",
      "18963\n",
      "Patches for validation: 18963\n",
      "\n",
      "Number of free parameters:  1026\n",
      "256_tcia_mac7\n",
      "\n",
      "EPOCH:  1\n"
     ]
    },
    {
     "data": {
      "application/vnd.jupyter.widget-view+json": {
       "model_id": "4de86637001c4942982bb1bce5f7ff7a",
       "version_major": 2,
       "version_minor": 0
      },
      "text/plain": [
       "  0%|          | 0/8629 [00:00<?, ?it/s]"
      ]
     },
     "metadata": {},
     "output_type": "display_data"
    },
    {
     "data": {
      "application/vnd.jupyter.widget-view+json": {
       "model_id": "fe542916a367467f8be336309d8a5a1a",
       "version_major": 2,
       "version_minor": 0
      },
      "text/plain": [
       "  0%|          | 0/1186 [00:00<?, ?it/s]"
      ]
     },
     "metadata": {},
     "output_type": "display_data"
    },
    {
     "name": "stdout",
     "output_type": "stream",
     "text": [
      "Val loss:  0.5623000860214233  Train loss:  0.6222241520881653 \n",
      "\n",
      "Val acc:  0.7343247376469929  Train acc:  0.662967738197017 \n",
      "\n",
      "Val AUC:  0.0  Train AUC:  0.0 \n",
      "\n",
      "Val f1:  0.6666675489940417  Train f1:  0.652017899926587 \n",
      "\n",
      "Val CONF: \n",
      " [[ 3210.  2299.]\n",
      " [ 2739. 10715.]] \n",
      "Train CONF: \n",
      " [[42387. 26231.]\n",
      " [20299. 49141.]] \n",
      "\n",
      "Learning Rate:  0.0001\n",
      "\n",
      "EPOCH:  2\n"
     ]
    },
    {
     "data": {
      "application/vnd.jupyter.widget-view+json": {
       "model_id": "68b971ff9b244fc4b1e156b06b65a7e0",
       "version_major": 2,
       "version_minor": 0
      },
      "text/plain": [
       "  0%|          | 0/8629 [00:00<?, ?it/s]"
      ]
     },
     "metadata": {},
     "output_type": "display_data"
    },
    {
     "data": {
      "application/vnd.jupyter.widget-view+json": {
       "model_id": "beff6e04f8e249448c018292950b04db",
       "version_major": 2,
       "version_minor": 0
      },
      "text/plain": [
       "  0%|          | 0/1186 [00:00<?, ?it/s]"
      ]
     },
     "metadata": {},
     "output_type": "display_data"
    },
    {
     "name": "stdout",
     "output_type": "stream",
     "text": [
      "Val loss:  0.5737922787666321  Train loss:  0.5889884829521179 \n",
      "\n",
      "Val acc:  0.7216685123661826  Train acc:  0.7034217502788981 \n",
      "\n",
      "Val AUC:  0.0  Train AUC:  0.0 \n",
      "\n",
      "Val f1:  0.6696754613747182  Train f1:  0.6950812071940763 \n",
      "\n",
      "Val CONF: \n",
      " [[3710. 1799.]\n",
      " [3479. 9975.]] \n",
      "Train CONF: \n",
      " [[46113. 22980.]\n",
      " [17965. 51000.]] \n",
      "\n",
      "Learning Rate:  8e-05\n",
      "Stopping early: \n",
      "Loading training split: 0\n",
      "Read lmdb\n",
      "26772\n",
      "Loading training split: 1\n",
      "Read lmdb\n",
      "29594\n",
      "Loading training split: 2\n",
      "Read lmdb\n",
      "27300\n",
      "Loading training split: 3\n",
      "Read lmdb\n",
      "27881\n",
      "Loading training split: 4\n",
      "Read lmdb\n",
      "26374\n",
      "Loading training split: 5\n",
      "Read lmdb\n",
      "30172\n",
      "Loading training split: 6\n",
      "Read lmdb\n",
      "26227\n",
      "Loading training split: 7\n",
      "Read lmdb\n",
      "18963\n",
      "Patches for training: 213283\n",
      "\n",
      "Loading validation split: 8\n",
      "Read lmdb\n",
      "26957\n",
      "Patches for validation: 26957\n",
      "\n",
      "Number of free parameters:  1026\n",
      "256_tcia_mac8\n",
      "\n",
      "EPOCH:  1\n"
     ]
    },
    {
     "data": {
      "application/vnd.jupyter.widget-view+json": {
       "model_id": "61be2b0d66bf4b54b41730092674767b",
       "version_major": 2,
       "version_minor": 0
      },
      "text/plain": [
       "  0%|          | 0/8536 [00:00<?, ?it/s]"
      ]
     },
     "metadata": {},
     "output_type": "display_data"
    },
    {
     "data": {
      "application/vnd.jupyter.widget-view+json": {
       "model_id": "ef724dfbab4f43e9bac687798612ef30",
       "version_major": 2,
       "version_minor": 0
      },
      "text/plain": [
       "  0%|          | 0/1685 [00:00<?, ?it/s]"
      ]
     },
     "metadata": {},
     "output_type": "display_data"
    },
    {
     "name": "stdout",
     "output_type": "stream",
     "text": [
      "Val loss:  0.5143811702728271  Train loss:  0.618226170539856 \n",
      "\n",
      "Val acc:  0.7904069443929213  Train acc:  0.6687265698219979 \n",
      "\n",
      "Val AUC:  0.0  Train AUC:  0.0 \n",
      "\n",
      "Val f1:  0.7503536550967611  Train f1:  0.6586652643767087 \n",
      "\n",
      "Val CONF: \n",
      " [[ 6300.  3219.]\n",
      " [ 2431. 15007.]] \n",
      "Train CONF: \n",
      " [[43262. 25303.]\n",
      " [19941. 48070.]] \n",
      "\n",
      "Learning Rate:  0.0001\n",
      "\n",
      "EPOCH:  2\n"
     ]
    },
    {
     "data": {
      "application/vnd.jupyter.widget-view+json": {
       "model_id": "fd20fe25a40a4c93981dded5e78cd4a4",
       "version_major": 2,
       "version_minor": 0
      },
      "text/plain": [
       "  0%|          | 0/8536 [00:00<?, ?it/s]"
      ]
     },
     "metadata": {},
     "output_type": "display_data"
    },
    {
     "data": {
      "application/vnd.jupyter.widget-view+json": {
       "model_id": "e91ef9065d8242afabedac7052eb2f60",
       "version_major": 2,
       "version_minor": 0
      },
      "text/plain": [
       "  0%|          | 0/1685 [00:00<?, ?it/s]"
      ]
     },
     "metadata": {},
     "output_type": "display_data"
    },
    {
     "name": "stdout",
     "output_type": "stream",
     "text": [
      "Val loss:  0.511164665222168  Train loss:  0.5848292708396912 \n",
      "\n",
      "Val acc:  0.7924472307749363  Train acc:  0.708953256794827 \n",
      "\n",
      "Val AUC:  0.0  Train AUC:  0.0 \n",
      "\n",
      "Val f1:  0.7532976653638889  Train f1:  0.7008843570089426 \n",
      "\n",
      "Val CONF: \n",
      " [[ 6306.  3213.]\n",
      " [ 2382. 15056.]] \n",
      "Train CONF: \n",
      " [[45784. 22572.]\n",
      " [17178. 51042.]] \n",
      "\n",
      "Learning Rate:  8e-05\n",
      "\n",
      "EPOCH:  3\n"
     ]
    },
    {
     "data": {
      "application/vnd.jupyter.widget-view+json": {
       "model_id": "322df0c24a9e4061967d7a6af198096d",
       "version_major": 2,
       "version_minor": 0
      },
      "text/plain": [
       "  0%|          | 0/8536 [00:00<?, ?it/s]"
      ]
     },
     "metadata": {},
     "output_type": "display_data"
    },
    {
     "data": {
      "application/vnd.jupyter.widget-view+json": {
       "model_id": "97903d68b7bb4f8696def636defa5091",
       "version_major": 2,
       "version_minor": 0
      },
      "text/plain": [
       "  0%|          | 0/1685 [00:00<?, ?it/s]"
      ]
     },
     "metadata": {},
     "output_type": "display_data"
    },
    {
     "name": "stdout",
     "output_type": "stream",
     "text": [
      "Val loss:  0.5124901533126831  Train loss:  0.5785247087478638 \n",
      "\n",
      "Val acc:  0.7918907890343858  Train acc:  0.7151329662606202 \n",
      "\n",
      "Val AUC:  0.0  Train AUC:  0.0 \n",
      "\n",
      "Val f1:  0.7508849637415348  Train f1:  0.7072569872680177 \n",
      "\n",
      "Val CONF: \n",
      " [[ 6123.  3396.]\n",
      " [ 2214. 15224.]] \n",
      "Train CONF: \n",
      " [[46191. 21928.]\n",
      " [16978. 51479.]] \n",
      "\n",
      "Learning Rate:  6.400000000000001e-05\n",
      "\n",
      "EPOCH:  4\n"
     ]
    },
    {
     "data": {
      "application/vnd.jupyter.widget-view+json": {
       "model_id": "d5d15396ca894355a27afaffab741f34",
       "version_major": 2,
       "version_minor": 0
      },
      "text/plain": [
       "  0%|          | 0/8536 [00:00<?, ?it/s]"
      ]
     },
     "metadata": {},
     "output_type": "display_data"
    },
    {
     "data": {
      "application/vnd.jupyter.widget-view+json": {
       "model_id": "0fd6e1626095425398128b3de0d6225b",
       "version_major": 2,
       "version_minor": 0
      },
      "text/plain": [
       "  0%|          | 0/1685 [00:00<?, ?it/s]"
      ]
     },
     "metadata": {},
     "output_type": "display_data"
    },
    {
     "name": "stdout",
     "output_type": "stream",
     "text": [
      "Val loss:  0.5149220824241638  Train loss:  0.5774824619293213 \n",
      "\n",
      "Val acc:  0.7915940201060939  Train acc:  0.717131853327161 \n",
      "\n",
      "Val AUC:  0.0  Train AUC:  0.0 \n",
      "\n",
      "Val f1:  0.7538899374212605  Train f1:  0.7091208003365549 \n",
      "\n",
      "Val CONF: \n",
      " [[ 6531.  2988.]\n",
      " [ 2630. 14808.]] \n",
      "Train CONF: \n",
      " [[46259. 21996.]\n",
      " [16637. 51684.]] \n",
      "\n",
      "Learning Rate:  5.120000000000001e-05\n",
      "Stopping early: \n",
      "Loading training split: 1\n",
      "Read lmdb\n",
      "29594\n",
      "Loading training split: 2\n",
      "Read lmdb\n",
      "27300\n",
      "Loading training split: 3\n",
      "Read lmdb\n",
      "27881\n",
      "Loading training split: 4\n",
      "Read lmdb\n",
      "26374\n",
      "Loading training split: 5\n",
      "Read lmdb\n",
      "30172\n",
      "Loading training split: 6\n",
      "Read lmdb\n",
      "26227\n",
      "Loading training split: 7\n",
      "Read lmdb\n",
      "18963\n",
      "Loading training split: 8\n",
      "Read lmdb\n",
      "26957\n",
      "Patches for training: 213468\n",
      "\n",
      "Loading validation split: 9\n",
      "Read lmdb\n",
      "23642\n",
      "Patches for validation: 23642\n",
      "\n",
      "Number of free parameters:  1026\n",
      "256_tcia_mac9\n",
      "\n",
      "EPOCH:  1\n"
     ]
    },
    {
     "data": {
      "application/vnd.jupyter.widget-view+json": {
       "model_id": "b6af02187c83471e9b82f33fc34a851f",
       "version_major": 2,
       "version_minor": 0
      },
      "text/plain": [
       "  0%|          | 0/8662 [00:00<?, ?it/s]"
      ]
     },
     "metadata": {},
     "output_type": "display_data"
    },
    {
     "data": {
      "application/vnd.jupyter.widget-view+json": {
       "model_id": "7789b1e5e9634c13b6506a610ad9ca27",
       "version_major": 2,
       "version_minor": 0
      },
      "text/plain": [
       "  0%|          | 0/1478 [00:00<?, ?it/s]"
      ]
     },
     "metadata": {},
     "output_type": "display_data"
    },
    {
     "name": "stdout",
     "output_type": "stream",
     "text": [
      "Val loss:  0.5889965891838074  Train loss:  0.6112807989120483 \n",
      "\n",
      "Val acc:  0.7062008290330816  Train acc:  0.6764540337710532 \n",
      "\n",
      "Val AUC:  0.0  Train AUC:  0.0 \n",
      "\n",
      "Val f1:  0.6298509729140037  Train f1:  0.6671771326881051 \n",
      "\n",
      "Val CONF: \n",
      " [[ 3558.  2692.]\n",
      " [ 4254. 13138.]] \n",
      "Train CONF: \n",
      " [[44859. 24399.]\n",
      " [20438. 48884.]] \n",
      "\n",
      "Learning Rate:  0.0001\n",
      "\n",
      "EPOCH:  2\n"
     ]
    },
    {
     "data": {
      "application/vnd.jupyter.widget-view+json": {
       "model_id": "b9ccf92a4e44437b9b264ec2fb8c726c",
       "version_major": 2,
       "version_minor": 0
      },
      "text/plain": [
       "  0%|          | 0/8662 [00:00<?, ?it/s]"
      ]
     },
     "metadata": {},
     "output_type": "display_data"
    },
    {
     "data": {
      "application/vnd.jupyter.widget-view+json": {
       "model_id": "e9a04190d2e043979cbb3fc3795c0329",
       "version_major": 2,
       "version_minor": 0
      },
      "text/plain": [
       "  0%|          | 0/1478 [00:00<?, ?it/s]"
      ]
     },
     "metadata": {},
     "output_type": "display_data"
    },
    {
     "name": "stdout",
     "output_type": "stream",
     "text": [
      "Val loss:  0.5713096261024475  Train loss:  0.5783599019050598 \n",
      "\n",
      "Val acc:  0.724854073259459  Train acc:  0.7161278683792154 \n",
      "\n",
      "Val AUC:  0.0  Train AUC:  0.0 \n",
      "\n",
      "Val f1:  0.6363853593896537  Train f1:  0.7081789700433694 \n",
      "\n",
      "Val CONF: \n",
      " [[ 3276.  2974.]\n",
      " [ 3531. 13861.]] \n",
      "Train CONF: \n",
      " [[47033. 22020.]\n",
      " [17319. 52208.]] \n",
      "\n",
      "Learning Rate:  8e-05\n",
      "\n",
      "EPOCH:  3\n"
     ]
    },
    {
     "data": {
      "application/vnd.jupyter.widget-view+json": {
       "model_id": "d5e2094a133e4c60aca138de98fdaa9b",
       "version_major": 2,
       "version_minor": 0
      },
      "text/plain": [
       "  0%|          | 0/8662 [00:00<?, ?it/s]"
      ]
     },
     "metadata": {},
     "output_type": "display_data"
    },
    {
     "data": {
      "application/vnd.jupyter.widget-view+json": {
       "model_id": "707ce5afeaa041f08eb9a215da445287",
       "version_major": 2,
       "version_minor": 0
      },
      "text/plain": [
       "  0%|          | 0/1478 [00:00<?, ?it/s]"
      ]
     },
     "metadata": {},
     "output_type": "display_data"
    },
    {
     "name": "stdout",
     "output_type": "stream",
     "text": [
      "Val loss:  0.5687228441238403  Train loss:  0.5727468132972717 \n",
      "\n",
      "Val acc:  0.7265036798917234  Train acc:  0.7226006638763979 \n",
      "\n",
      "Val AUC:  0.0  Train AUC:  0.0 \n",
      "\n",
      "Val f1:  0.6423282099651535  Train f1:  0.7150170024854758 \n",
      "\n",
      "Val CONF: \n",
      " [[ 3374.  2876.]\n",
      " [ 3590. 13802.]] \n",
      "Train CONF: \n",
      " [[48018. 21224.]\n",
      " [17218. 52120.]] \n",
      "\n",
      "Learning Rate:  6.400000000000001e-05\n",
      "\n",
      "EPOCH:  4\n"
     ]
    },
    {
     "data": {
      "application/vnd.jupyter.widget-view+json": {
       "model_id": "bd890b91fdfc4ee9bed06a0d062f0c20",
       "version_major": 2,
       "version_minor": 0
      },
      "text/plain": [
       "  0%|          | 0/8662 [00:00<?, ?it/s]"
      ]
     },
     "metadata": {},
     "output_type": "display_data"
    },
    {
     "data": {
      "application/vnd.jupyter.widget-view+json": {
       "model_id": "3d154ed94944445fb975ffb14795cb4b",
       "version_major": 2,
       "version_minor": 0
      },
      "text/plain": [
       "  0%|          | 0/1478 [00:00<?, ?it/s]"
      ]
     },
     "metadata": {},
     "output_type": "display_data"
    },
    {
     "name": "stdout",
     "output_type": "stream",
     "text": [
      "Val loss:  0.5607706904411316  Train loss:  0.5739800333976746 \n",
      "\n",
      "Val acc:  0.735428474748335  Train acc:  0.720147207389169 \n",
      "\n",
      "Val AUC:  0.0  Train AUC:  0.0 \n",
      "\n",
      "Val f1:  0.6466863466809694  Train f1:  0.7122606790029982 \n",
      "\n",
      "Val CONF: \n",
      " [[ 3349.  2901.]\n",
      " [ 3354. 14038.]] \n",
      "Train CONF: \n",
      " [[47607. 21571.]\n",
      " [17211. 52191.]] \n",
      "\n",
      "Learning Rate:  5.120000000000001e-05\n",
      "\n",
      "EPOCH:  5\n"
     ]
    },
    {
     "data": {
      "application/vnd.jupyter.widget-view+json": {
       "model_id": "4ff314e1db2b4d1aa86b82512c800391",
       "version_major": 2,
       "version_minor": 0
      },
      "text/plain": [
       "  0%|          | 0/8662 [00:00<?, ?it/s]"
      ]
     },
     "metadata": {},
     "output_type": "display_data"
    },
    {
     "data": {
      "application/vnd.jupyter.widget-view+json": {
       "model_id": "b90783e20d464027a0f5a692d4aa68f0",
       "version_major": 2,
       "version_minor": 0
      },
      "text/plain": [
       "  0%|          | 0/1478 [00:00<?, ?it/s]"
      ]
     },
     "metadata": {},
     "output_type": "display_data"
    },
    {
     "name": "stdout",
     "output_type": "stream",
     "text": [
      "Val loss:  0.5708127021789551  Train loss:  0.5730575323104858 \n",
      "\n",
      "Val acc:  0.7242196091701254  Train acc:  0.7218357627362635 \n",
      "\n",
      "Val AUC:  0.0  Train AUC:  0.0 \n",
      "\n",
      "Val f1:  0.6398700723206442  Train f1:  0.7139953781548577 \n",
      "\n",
      "Val CONF: \n",
      " [[ 3443.  2807.]\n",
      " [ 3713. 13679.]] \n",
      "Train CONF: \n",
      " [[47819. 21461.]\n",
      " [17087. 52213.]] \n",
      "\n",
      "Learning Rate:  4.096000000000001e-05\n",
      "\n",
      "EPOCH:  6\n"
     ]
    },
    {
     "data": {
      "application/vnd.jupyter.widget-view+json": {
       "model_id": "c28d55925bb34aa7a37ab4df3d7a88a6",
       "version_major": 2,
       "version_minor": 0
      },
      "text/plain": [
       "  0%|          | 0/8662 [00:00<?, ?it/s]"
      ]
     },
     "metadata": {},
     "output_type": "display_data"
    },
    {
     "data": {
      "application/vnd.jupyter.widget-view+json": {
       "model_id": "bf90c528127a48ba9a096f398053e029",
       "version_major": 2,
       "version_minor": 0
      },
      "text/plain": [
       "  0%|          | 0/1478 [00:00<?, ?it/s]"
      ]
     },
     "metadata": {},
     "output_type": "display_data"
    },
    {
     "name": "stdout",
     "output_type": "stream",
     "text": [
      "Val loss:  0.5572185516357422  Train loss:  0.5730515122413635 \n",
      "\n",
      "Val acc:  0.7387699856188188  Train acc:  0.7220378120940355 \n",
      "\n",
      "Val AUC:  0.0  Train AUC:  0.0 \n",
      "\n",
      "Val f1:  0.6446882882337811  Train f1:  0.7145607198253027 \n",
      "\n",
      "Val CONF: \n",
      " [[ 3190.  3060.]\n",
      " [ 3116. 14276.]] \n",
      "Train CONF: \n",
      " [[47822. 21386.]\n",
      " [17134. 52238.]] \n",
      "\n",
      "Learning Rate:  3.276800000000001e-05\n",
      "\n",
      "EPOCH:  7\n"
     ]
    },
    {
     "data": {
      "application/vnd.jupyter.widget-view+json": {
       "model_id": "959133507b9746cb93e30b96689508b1",
       "version_major": 2,
       "version_minor": 0
      },
      "text/plain": [
       "  0%|          | 0/8662 [00:00<?, ?it/s]"
      ]
     },
     "metadata": {},
     "output_type": "display_data"
    },
    {
     "data": {
      "application/vnd.jupyter.widget-view+json": {
       "model_id": "3b3f2a8aa5da45d788d73441367711b3",
       "version_major": 2,
       "version_minor": 0
      },
      "text/plain": [
       "  0%|          | 0/1478 [00:00<?, ?it/s]"
      ]
     },
     "metadata": {},
     "output_type": "display_data"
    },
    {
     "name": "stdout",
     "output_type": "stream",
     "text": [
      "Val loss:  0.5555537939071655  Train loss:  0.5727028846740723 \n",
      "\n",
      "Val acc:  0.7395313425260193  Train acc:  0.7217780343483294 \n",
      "\n",
      "Val AUC:  0.0  Train AUC:  0.0 \n",
      "\n",
      "Val f1:  0.6435334823079064  Train f1:  0.7139349358306762 \n",
      "\n",
      "Val CONF: \n",
      " [[ 3111.  3139.]\n",
      " [ 3019. 14373.]] \n",
      "Train CONF: \n",
      " [[47643. 21467.]\n",
      " [17089. 52381.]] \n",
      "\n",
      "Learning Rate:  2.621440000000001e-05\n",
      "\n",
      "EPOCH:  8\n"
     ]
    },
    {
     "data": {
      "application/vnd.jupyter.widget-view+json": {
       "model_id": "62a45917527c43738a3de01621792091",
       "version_major": 2,
       "version_minor": 0
      },
      "text/plain": [
       "  0%|          | 0/8662 [00:00<?, ?it/s]"
      ]
     },
     "metadata": {},
     "output_type": "display_data"
    },
    {
     "data": {
      "application/vnd.jupyter.widget-view+json": {
       "model_id": "4e4951083e2749f3961565f574e6ab31",
       "version_major": 2,
       "version_minor": 0
      },
      "text/plain": [
       "  0%|          | 0/1478 [00:00<?, ?it/s]"
      ]
     },
     "metadata": {},
     "output_type": "display_data"
    },
    {
     "name": "stdout",
     "output_type": "stream",
     "text": [
      "Val loss:  0.5614192485809326  Train loss:  0.5718539357185364 \n",
      "\n",
      "Val acc:  0.7333981896624697  Train acc:  0.7227233367007576 \n",
      "\n",
      "Val AUC:  0.0  Train AUC:  0.0 \n",
      "\n",
      "Val f1:  0.639620958129749  Train f1:  0.7149849176961505 \n",
      "\n",
      "Val CONF: \n",
      " [[ 3214.  3036.]\n",
      " [ 3267. 14125.]] \n",
      "Train CONF: \n",
      " [[47837. 21301.]\n",
      " [17124. 52318.]] \n",
      "\n",
      "Learning Rate:  2.097152000000001e-05\n",
      "\n",
      "EPOCH:  9\n"
     ]
    },
    {
     "data": {
      "application/vnd.jupyter.widget-view+json": {
       "model_id": "a630d5ff229c4da2a965691b58fc9db7",
       "version_major": 2,
       "version_minor": 0
      },
      "text/plain": [
       "  0%|          | 0/8662 [00:00<?, ?it/s]"
      ]
     },
     "metadata": {},
     "output_type": "display_data"
    },
    {
     "data": {
      "application/vnd.jupyter.widget-view+json": {
       "model_id": "477a717ab6414071a906abeadb493e57",
       "version_major": 2,
       "version_minor": 0
      },
      "text/plain": [
       "  0%|          | 0/1478 [00:00<?, ?it/s]"
      ]
     },
     "metadata": {},
     "output_type": "display_data"
    },
    {
     "name": "stdout",
     "output_type": "stream",
     "text": [
      "Val loss:  0.5656824707984924  Train loss:  0.5711792707443237 \n",
      "\n",
      "Val acc:  0.7293799170966973  Train acc:  0.7234810217924033 \n",
      "\n",
      "Val AUC:  0.0  Train AUC:  0.0 \n",
      "\n",
      "Val f1:  0.6424037652384503  Train f1:  0.7157327914985124 \n",
      "\n",
      "Val CONF: \n",
      " [[ 3369.  2881.]\n",
      " [ 3517. 13875.]] \n",
      "Train CONF: \n",
      " [[48424. 20997.]\n",
      " [17323. 51836.]] \n",
      "\n",
      "Learning Rate:  1.677721600000001e-05\n",
      "Stopping early: \n"
     ]
    }
   ],
   "source": [
    "# Choosing only the images from the according splits (10CV)\n",
    "\n",
    "SPLITS = [0,1,2,3,4,5,6,7,8,9] # Number of iterations > n_splits\n",
    "n_splits = 10 # Number of splits to use\n",
    "\n",
    "for SPLIT in SPLITS:\n",
    "    MODEL_NAME = EXP_NAME + f\"{SPLIT}\"\n",
    "\n",
    "    TRAIN_SPLITS = list(range(n_splits))\n",
    "    # We take out the SPLIT and SPLIT+1 sets for val and testing\n",
    "    if SPLIT == n_splits-1: # For the final split for validation we take the first one for test\n",
    "        TRAIN_SPLITS.remove(0) \n",
    "    else:\n",
    "        TRAIN_SPLITS.remove(SPLIT+1)\n",
    "    TRAIN_SPLITS.remove(SPLIT)\n",
    "\n",
    "    train_set = dataset.PatchDataset([], [], [])\n",
    "    val_set = dataset.PatchDataset([], [], [])\n",
    "    test_set = dataset.PatchDataset([], [], [])\n",
    "\n",
    "    # Loading training splits:\n",
    "    for i in TRAIN_SPLITS:\n",
    "        print(f\"Loading training split: {i}\")\n",
    "        SPLIT_NAME = DATA_SET_NAME + f\"{i}\"\n",
    "        \n",
    "        X_, y_, _ , patch_ids_ = data_reader.read_lmdb(f\"D:/data/WSI/patches/{SPLIT_NAME}\")\n",
    "\n",
    "        train_set.inputs.extend(X_)\n",
    "        train_set.labels.extend(y_)\n",
    "        train_set.case_ids.extend(patch_ids_)\n",
    "\n",
    "    # Random oversampler\n",
    "    negative =  [i[0] for i in train_set.labels]\n",
    "    positive =  [i[1] for i in train_set.labels]\n",
    "\n",
    "    class_sample_count = np.array([sum(negative), sum(positive)])\n",
    "    weight = 1. / class_sample_count\n",
    "    samples_weight = np.array([weight[np.argmax(t)] for t in train_set.labels])\n",
    "    samples_weight = torch.from_numpy(samples_weight) # Probability for a sample to be sampled\n",
    "    #samples_weight = torch.tensor([1/len(samples_weight)]*len(samples_weight))\n",
    "    sampler = WeightedRandomSampler(samples_weight.type('torch.DoubleTensor'), 2*int(sum(negative)))#, replacement=False) #int(len(train_set)))#\n",
    "    # Will take len(samples_weight) number of samples, this can be changed\n",
    "\n",
    "    # Creating DataLoader\n",
    "    train_dataloader = DataLoader(train_set, batch_size=BATCH_SIZE, sampler=sampler)\n",
    "    \n",
    "    print(f\"Patches for training: {len(train_set)}\\n\")\n",
    "    \n",
    "    # Loading validation splits:\n",
    "    SPLIT_NAME = DATA_SET_NAME + f\"{SPLIT}\"\n",
    "\n",
    "    print(f\"Loading validation split: {SPLIT}\")\n",
    "\n",
    "    X_, y_, _ , patch_ids_ = data_reader.read_lmdb(f\"D:/data/WSI/patches/{SPLIT_NAME}\")\n",
    "\n",
    "    val_set.inputs.extend(X_)\n",
    "    val_set.labels.extend(y_)\n",
    "    val_set.case_ids.extend(patch_ids_)\n",
    "\n",
    "    val_dataloader = DataLoader(val_set, batch_size=BATCH_SIZE, shuffle=True)\n",
    "\n",
    "    print(f\"Patches for validation: {len(val_set)}\\n\")\n",
    "\n",
    "    init(fine_tuning=fine_tuning)\n",
    "\n",
    "    train()\n",
    "\n",
    "    del train_set, val_set\n"
   ]
  },
  {
   "cell_type": "code",
   "execution_count": 8,
   "metadata": {},
   "outputs": [],
   "source": [
    "torch.save(net, f\"C:\\\\Users\\\\Alejandro\\\\Desktop\\\\heterogeneous-data\\\\results\\\\WSI\\\\models\\\\{MODEL_NAME}.pth\")"
   ]
  },
  {
   "cell_type": "code",
   "execution_count": 9,
   "metadata": {},
   "outputs": [
    {
     "name": "stdout",
     "output_type": "stream",
     "text": [
      "256_tcia_mac0\n"
     ]
    },
    {
     "name": "stderr",
     "output_type": "stream",
     "text": [
      "c:\\Users\\Alejandro\\Desktop\\heterogeneous-data\\src\\WSI\\plots.py:29: UserWarning: Matplotlib is currently using module://matplotlib_inline.backend_inline, which is a non-GUI backend, so cannot show the figure.\n",
      "  fig.show()\n"
     ]
    },
    {
     "data": {
      "image/png": "[encoded data removed]",
      "text/plain": [
       "<Figure size 504x432 with 2 Axes>"
      ]
     },
     "metadata": {
      "needs_background": "light"
     },
     "output_type": "display_data"
    },
    {
     "data": {
      "image/png": "[encoded data removed]",
      "text/plain": [
       "<Figure size 360x504 with 2 Axes>"
      ]
     },
     "metadata": {
      "needs_background": "light"
     },
     "output_type": "display_data"
    }
   ],
   "source": [
    "for SPLIT in range(1):\n",
    "    NAME = EXP_NAME + f\"{SPLIT}\"\n",
    "    print(NAME)\n",
    "    learning_curve_train(NAME)"
   ]
  }
 ],
 "metadata": {
  "interpreter": {
   "hash": "de74446a7cd3a56c425ecbffb2a7ad915342ddab3c48353acb4566475bd7705f"
  },
  "kernelspec": {
   "display_name": "Python 3.9.12 ('openslide')",
   "language": "python",
   "name": "python3"
  },
  "language_info": {
   "codemirror_mode": {
    "name": "ipython",
    "version": 3
   },
   "file_extension": ".py",
   "mimetype": "text/x-python",
   "name": "python",
   "nbconvert_exporter": "python",
   "pygments_lexer": "ipython3",
   "version": "3.9.12"
  },
  "orig_nbformat": 4
 },
 "nbformat": 4,
 "nbformat_minor": 2
}
