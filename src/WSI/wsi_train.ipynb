{
 "cells": [
  {
   "cell_type": "markdown",
   "metadata": {},
   "source": [
    "# Model training"
   ]
  },
  {
   "cell_type": "code",
   "execution_count": 8,
   "metadata": {},
   "outputs": [],
   "source": [
    "from tqdm.notebook import tqdm\n",
    "import numpy as np\n",
    "import matplotlib.pyplot as plt\n",
    "import pandas as pd\n",
    "import sklearn.metrics\n",
    "\n",
    "import torch\n",
    "import torchvision.transforms as transforms\n",
    "import torchvision.models\n",
    "import torch.optim as optim\n",
    "import torch.nn as nn\n",
    "from torch.utils.data import DataLoader\n",
    "from torch.utils.data import WeightedRandomSampler\n",
    "import time\n",
    "\n",
    "import data_reader\n",
    "import dataset\n",
    "from plots import learning_curve_train"
   ]
  },
  {
   "cell_type": "code",
   "execution_count": 9,
   "metadata": {},
   "outputs": [
    {
     "name": "stdout",
     "output_type": "stream",
     "text": [
      "Using GPU : cuda:0\n"
     ]
    }
   ],
   "source": [
    "# Choosing device for tensor processing\n",
    "\n",
    "if torch.cuda.is_available():\n",
    "    device = torch.device(\"cuda:0\")\n",
    "    print(\"Using GPU :\", device)\n",
    "else:\n",
    "    device = torch.device(\"cpu\")\n",
    "    print(\"Using CPU \")"
   ]
  },
  {
   "cell_type": "code",
   "execution_count": 11,
   "metadata": {},
   "outputs": [],
   "source": [
    "# Training and data variables\n",
    "\n",
    "MODE = \"w\"\n",
    "EXP_NAME = \"256_tcia_25ep\"#\"tcia_effnet\"\n",
    "\n",
    "DATA_SET_NAME =  f\"train_256_tcia_data_set_SPLIT\" # \"data_set_X20_100%_SPLIT\" # f\"tcia_data_set_SPLIT\" # \n",
    "PATCH_SIZE = 256\n",
    "\n",
    "BATCH_SIZE = 16\n",
    "EPOCHS = 25\n",
    "\n",
    "SIZE_X = PATCH_SIZE\n",
    "SIZE_Y = PATCH_SIZE\n",
    "\n",
    "fine_tuning = True"
   ]
  },
  {
   "cell_type": "code",
   "execution_count": 12,
   "metadata": {},
   "outputs": [],
   "source": [
    "def init_weights(m): # XAVIER initialization for final layer weight initialization\n",
    "    if type(m) == nn.Linear:\n",
    "        torch.nn.init.xavier_uniform_(m.weight)\n",
    "        m.bias.data.fill_(0.01)\n",
    "\n",
    "def init(fine_tuning=False):\n",
    "    global net, loss_function, scheduler, optimizer, MODEL_NAME\n",
    "\n",
    "    if fine_tuning == True:\n",
    "        print(f\"Loading {MODEL_NAME}\")\n",
    "        net = torch.load(f\"C:\\\\Users\\\\Alejandro\\\\Desktop\\\\heterogeneous-data\\\\results\\\\WSI\\\\models\\\\{MODEL_NAME}.pth\") # Model loading\n",
    "\n",
    "        for param in net.layer4[1].parameters():\n",
    "           param.requires_grad = True\n",
    "\n",
    "        '''\n",
    "        for param in net.features[8].parameters():\n",
    "            param.requires_grad = True\n",
    "\n",
    "        for param in net.features[9].parameters():# net.layer4[1].parameters():\n",
    "            param.requires_grad = True # Unfreezing the last residual block\n",
    "        '''\n",
    "\n",
    "        n_params = sum(p.numel() for p in net.fc.parameters())# + sum(p.numel() for p in net.features[8].parameters())\n",
    "\n",
    "        learning_rate = 1E-8 # LR\n",
    "\n",
    "        optimizer = optim.Adam(net.parameters(), lr=learning_rate, betas=(0.9, 0.999), eps=1e-08)# Optimizer\n",
    "\n",
    "    else:\n",
    "        net = torchvision.models.resnet18(pretrained=True).to(device)\n",
    "        #net = torchvision.models.efficientnet_b1(pretrained=True).to(device) \n",
    "    \n",
    "        net.fc = nn.Sequential(\n",
    "                    nn.Dropout(p=0.5),  \n",
    "                    nn.Linear(512, 2),\n",
    "                    #nn.ReLU(inplace=True),\n",
    "                    #nn.Linear(512, 2),\n",
    "                    nn.Softmax(dim = -1)\n",
    "                    ).to(device)\n",
    "\n",
    "        for param in net.fc.parameters():\n",
    "            param.requires_grad = True\n",
    "\n",
    "        net.fc.apply(init_weights) # Xavier init\n",
    "\n",
    "        n_params = sum(p.numel() for p in net.fc.parameters())# + sum(p.numel() for p in net.layer4[1].parameters())\n",
    "    \n",
    "        learning_rate = 1E-4#1E-3\n",
    "\n",
    "        optimizer = optim.Adam(net.fc.parameters(), lr=learning_rate)#, betas=(0.9, 0.999), eps=1e-08)# Optimizer\n",
    "\n",
    "    print(\"Number of free parameters: \", n_params)\n",
    "    #Hyperparameters:\n",
    "    loss_function = nn.CrossEntropyLoss()  # Loss\n",
    "    lambda1 = lambda epoch: 0.8 ** epoch # Scheduler\n",
    "    scheduler = torch.optim.lr_scheduler.LambdaLR(optimizer, lr_lambda=lambda1)\n"
   ]
  },
  {
   "cell_type": "code",
   "execution_count": 13,
   "metadata": {},
   "outputs": [],
   "source": [
    "def fwd_pass(X, y, train=False):\n",
    "    if train: \n",
    "        net.zero_grad()\n",
    "        \n",
    "    # NORMALIZATION\n",
    "    mean = [0.485, 0.456, 0.406]\n",
    "    std = [0.229, 0.224, 0.225]\n",
    "    normalize = torchvision.transforms.Normalize(mean=mean, std=std)\n",
    "\n",
    "    for i, x in enumerate(X):\n",
    "        X[i] = normalize(X[i]/255) # Np array\n",
    "\n",
    "    outputs = net(X)\n",
    "    \n",
    "    y_pred = [torch.argmax(i) for i in outputs.cpu()]\n",
    "    y_true = [torch.argmax(i) for i in y.cpu()]\n",
    "\n",
    "    loss = loss_function(outputs, y)\n",
    "    conf_m = sklearn.metrics.confusion_matrix(y_true, y_pred, labels=[0, 1])\n",
    "    acc = sklearn.metrics.accuracy_score(y_true, y_pred)\n",
    "    f1 = sklearn.metrics.f1_score(y_true, y_pred)\n",
    "    auc = 0 #sklearn.metrics.roc_auc_score(y_true, y_pred, average= \"micro\", multi_class=\"ovr\") #!!!!\n",
    "\n",
    "    if train:\n",
    "        loss.backward() # Calculate gradients using backprop\n",
    "        optimizer.step() # Updates W and b using previously calculated gradients\n",
    "\n",
    "    return [acc, loss, conf_m, f1, auc]"
   ]
  },
  {
   "cell_type": "code",
   "execution_count": 14,
   "metadata": {},
   "outputs": [],
   "source": [
    "def train():\n",
    "  global net, loss_function, scheduler, optimizer, train_set, val_set, MODEL_NAME, EPOCHS\n",
    "  \n",
    "  print(MODEL_NAME)\n",
    "  patience, prev_val_loss = 0, 0\n",
    "\n",
    "  with open(f\"C:\\\\Users\\\\Alejandro\\\\Desktop\\\\heterogeneous-data\\\\results\\\\WSI\\\\log\\\\model_{MODEL_NAME}.log\", MODE) as f:\n",
    "    for epoch in range(EPOCHS):\n",
    "      acc, loss, f1, auc = 0, 0, 0, 0\n",
    "      val_acc, val_loss, val_f1, val_auc = 0, 0, 0, 0\n",
    "      conf_m, val_conf_m = np.zeros((2,2)), np.zeros((2,2))\n",
    "\n",
    "      print(\"\\nEPOCH: \", epoch+1)\n",
    "\n",
    "      n_patches = sum(len(batch[0]) for batch in iter(train_dataloader))\n",
    "\n",
    "      for batch_X, batch_y in tqdm(iter(train_dataloader)):\n",
    "         # Number of patches in dataloader\n",
    "        batch_X, batch_y = batch_X.type(torch.FloatTensor).to(device).permute(0,3,2,1), batch_y.type(torch.FloatTensor).to(device) \n",
    "        \n",
    "        net.train() # Making sure that the model is in training mode\n",
    "        \n",
    "        performance_metrics = fwd_pass(batch_X, batch_y, train=True)\n",
    "        acc_aux, loss_aux, conf_m_aux, f1_aux, auc_aux = performance_metrics[0], performance_metrics[1], performance_metrics[2], performance_metrics[3], performance_metrics[4]\n",
    "        acc += acc_aux*(len(batch_X)/n_patches) # Calculating the average loss and acc through batches sum ACCi*Wi/N (Wi = weight of the batch)\n",
    "        loss += loss_aux*(len(batch_X)/n_patches)\n",
    "        conf_m += conf_m_aux\n",
    "        f1 += f1_aux*(len(batch_X)/n_patches)\n",
    "        auc += auc_aux*(len(batch_X)/n_patches)\n",
    "\n",
    "      for batch_X, batch_y in tqdm(iter(val_dataloader)):\n",
    "\n",
    "        batch_X, batch_y = batch_X.type(torch.FloatTensor).to(device).permute(0, 3, 2, 1), batch_y.type(torch.FloatTensor).to(device)\n",
    "\n",
    "        net.eval() # Making sure that the model is not training and deactivate droptout\n",
    "        \n",
    "        with torch.no_grad(): # Disable all computations, works together with net.eval()\n",
    "          performance_metrics = fwd_pass(batch_X, batch_y, train=False)\n",
    "          \n",
    "        acc_aux, loss_aux, conf_m_aux, f1_aux, auc_aux = performance_metrics[0], performance_metrics[1], performance_metrics[2], performance_metrics[3], performance_metrics[4]  \n",
    "        val_acc += acc_aux*(len(batch_X)/len(val_set)) # Calculating the average loss and acc through batches sum ACCi*Wi/N (Wi = weight of the batch)\n",
    "        val_loss += loss_aux*(len(batch_X)/len(val_set))\n",
    "        val_conf_m += conf_m_aux\n",
    "        val_f1 += f1_aux*(len(batch_X)/len(val_set))\n",
    "        val_auc += auc_aux*(len(batch_X)/len(val_set))\n",
    "        \n",
    "      print(\"Val loss: \", val_loss.item(), \" Train loss: \", loss.item(), \"\\n\")\n",
    "      print(\"Val acc: \", val_acc, \" Train acc: \", acc, \"\\n\")\n",
    "      print(\"Val AUC: \", val_auc, \" Train AUC: \", auc)\n",
    "      print(\"Val f1: \", val_f1, \" Train f1: \", f1, \"\\n\")\n",
    "      print(\"Val CONF: \\n\", val_conf_m, \"\\nTrain CONF: \\n\", conf_m, \"\\n\")\n",
    "\n",
    "      conf_m = f\"{conf_m[0][0]}+{conf_m[0][1]}+{conf_m[1][0]}+{conf_m[1][1]}\"\n",
    "      val_conf_m = f\"{val_conf_m[0][0]}+{val_conf_m[0][1]}+{val_conf_m[1][0]}+{val_conf_m[1][1]}\"\n",
    "    \n",
    "      f.write(f\"{MODEL_NAME},{round(time.time(),3)},{round(float(acc),3)},{round(float(loss),4)},{conf_m},{round(float(auc),4)},\")\n",
    "      f.write(f\"{round(float(val_acc),3)},{round(float(val_loss),4)},{val_conf_m}, {round(float(val_auc),4)}\\n\")\n",
    "      f.write(\"\\n\\n\")\n",
    "\n",
    "      # Early stopping, if the difference between loss and validation loss \n",
    "      # is bigger than the threshold for 3 epochs in a row training is stopped\n",
    "      if val_loss.item()>prev_val_loss:\n",
    "        patience +=1\n",
    "      else:\n",
    "        patience = 0\n",
    "\n",
    "      print(\"Learning Rate: \", optimizer.param_groups[0][\"lr\"])\n",
    "      scheduler.step() # Changing the learning rate\n",
    "\n",
    "      if patience >= 2:\n",
    "        print(\"Stopping early: \")\n",
    "        break\n",
    "      prev_val_loss = val_loss.item()\n",
    "\n",
    "    torch.save(net, f\"C:\\\\Users\\\\Alejandro\\\\Desktop\\\\heterogeneous-data\\\\results\\\\WSI\\\\models\\\\{MODEL_NAME}.pth\")"
   ]
  },
  {
   "cell_type": "code",
   "execution_count": 15,
   "metadata": {},
   "outputs": [
    {
     "name": "stdout",
     "output_type": "stream",
     "text": [
      "Loading training split: 0\n",
      "Read lmdb\n",
      "26772\n",
      "Loading training split: 3\n",
      "Read lmdb\n",
      "27881\n",
      "Loading training split: 4\n",
      "Read lmdb\n",
      "28378\n",
      "Loading training split: 5\n",
      "Read lmdb\n",
      "30172\n",
      "Loading training split: 6\n",
      "Read lmdb\n",
      "26227\n",
      "Loading training split: 7\n",
      "Read lmdb\n",
      "18963\n",
      "Loading training split: 8\n",
      "Read lmdb\n",
      "26957\n",
      "Loading training split: 9\n",
      "Read lmdb\n",
      "23642\n",
      "Patches for training: 208992\n",
      "\n",
      "Loading validation split: 1\n",
      "Read lmdb\n",
      "29594\n",
      "Patches for validation: 29594\n",
      "\n",
      "Loading 256_tcia_25ep1\n",
      "Number of free parameters:  1026\n",
      "256_tcia_25ep1\n",
      "\n",
      "EPOCH:  1\n"
     ]
    },
    {
     "data": {
      "application/vnd.jupyter.widget-view+json": {
       "model_id": "be8a652aca494334ab8b0dbe6ddad080",
       "version_major": 2,
       "version_minor": 0
      },
      "text/plain": [
       "  0%|          | 0/8256 [00:00<?, ?it/s]"
      ]
     },
     "metadata": {},
     "output_type": "display_data"
    },
    {
     "data": {
      "application/vnd.jupyter.widget-view+json": {
       "model_id": "9de7c12dbd2d45da882be30414a08449",
       "version_major": 2,
       "version_minor": 0
      },
      "text/plain": [
       "  0%|          | 0/1850 [00:00<?, ?it/s]"
      ]
     },
     "metadata": {},
     "output_type": "display_data"
    },
    {
     "name": "stdout",
     "output_type": "stream",
     "text": [
      "Val loss:  0.5850934386253357  Train loss:  0.5662650465965271 \n",
      "\n",
      "Val acc:  0.7101101574643487  Train acc:  0.7304221428138687 \n",
      "\n",
      "Val AUC:  0.0  Train AUC:  0.0\n",
      "Val f1:  0.7608681391239848  Train f1:  0.7291760074401779 \n",
      "\n",
      "Val CONF: \n",
      " [[ 6678.  3843.]\n",
      " [ 4736. 14337.]] \n",
      "Train CONF: \n",
      " [[46520. 19243.]\n",
      " [16365. 49960.]] \n",
      "\n",
      "Learning Rate:  1e-08\n",
      "\n",
      "EPOCH:  2\n"
     ]
    },
    {
     "data": {
      "application/vnd.jupyter.widget-view+json": {
       "model_id": "9efc26c5a4bf4301a09f4a73119ec4f7",
       "version_major": 2,
       "version_minor": 0
      },
      "text/plain": [
       "  0%|          | 0/8256 [00:00<?, ?it/s]"
      ]
     },
     "metadata": {},
     "output_type": "display_data"
    },
    {
     "data": {
      "application/vnd.jupyter.widget-view+json": {
       "model_id": "d3feae4a457545e79583ec149fc664ac",
       "version_major": 2,
       "version_minor": 0
      },
      "text/plain": [
       "  0%|          | 0/1850 [00:00<?, ?it/s]"
      ]
     },
     "metadata": {},
     "output_type": "display_data"
    },
    {
     "name": "stdout",
     "output_type": "stream",
     "text": [
      "Val loss:  0.5864289402961731  Train loss:  0.5641944408416748 \n",
      "\n",
      "Val acc:  0.7075758599716148  Train acc:  0.7325949367088507 \n",
      "\n",
      "Val AUC:  0.0  Train AUC:  0.0\n",
      "Val f1:  0.7600996575348925  Train f1:  0.7307480043547425 \n",
      "\n",
      "Val CONF: \n",
      " [[ 6482.  4039.]\n",
      " [ 4615. 14458.]] \n",
      "Train CONF: \n",
      " [[46987. 19191.]\n",
      " [16130. 49780.]] \n",
      "\n",
      "Learning Rate:  8e-09\n",
      "Stopping early: \n",
      "Loading training split: 0\n",
      "Read lmdb\n",
      "26772\n",
      "Loading training split: 1\n",
      "Read lmdb\n",
      "29594\n",
      "Loading training split: 4\n",
      "Read lmdb\n",
      "28378\n",
      "Loading training split: 5\n",
      "Read lmdb\n",
      "30172\n",
      "Loading training split: 6\n",
      "Read lmdb\n",
      "26227\n",
      "Loading training split: 7\n",
      "Read lmdb\n",
      "18963\n",
      "Loading training split: 8\n",
      "Read lmdb\n",
      "26957\n",
      "Loading training split: 9\n",
      "Read lmdb\n",
      "23642\n",
      "Patches for training: 210705\n",
      "\n",
      "Loading validation split: 2\n",
      "Read lmdb\n",
      "27300\n",
      "Patches for validation: 27300\n",
      "\n",
      "Loading 256_tcia_25ep2\n",
      "Number of free parameters:  1026\n",
      "256_tcia_25ep2\n",
      "\n",
      "EPOCH:  1\n"
     ]
    },
    {
     "data": {
      "application/vnd.jupyter.widget-view+json": {
       "model_id": "11a52865caab4a708d6d193dd26bac95",
       "version_major": 2,
       "version_minor": 0
      },
      "text/plain": [
       "  0%|          | 0/8506 [00:00<?, ?it/s]"
      ]
     },
     "metadata": {},
     "output_type": "display_data"
    },
    {
     "data": {
      "application/vnd.jupyter.widget-view+json": {
       "model_id": "1cbeea8f5def4884b7ee59fbe2c7d18d",
       "version_major": 2,
       "version_minor": 0
      },
      "text/plain": [
       "  0%|          | 0/1707 [00:00<?, ?it/s]"
      ]
     },
     "metadata": {},
     "output_type": "display_data"
    },
    {
     "name": "stdout",
     "output_type": "stream",
     "text": [
      "Val loss:  0.5470466613769531  Train loss:  0.5684623718261719 \n",
      "\n",
      "Val acc:  0.7534798534798511  Train acc:  0.7263990124617867 \n",
      "\n",
      "Val AUC:  0.0  Train AUC:  0.0\n",
      "Val f1:  0.8052177182662871  Train f1:  0.7169063299155033 \n",
      "\n",
      "Val CONF: \n",
      " [[ 5976.  2017.]\n",
      " [ 4713. 14594.]] \n",
      "Train CONF: \n",
      " [[49909. 18525.]\n",
      " [18711. 48951.]] \n",
      "\n",
      "Learning Rate:  1e-08\n",
      "\n",
      "EPOCH:  2\n"
     ]
    },
    {
     "data": {
      "application/vnd.jupyter.widget-view+json": {
       "model_id": "a1debd43b57a4027825ef92ca3b0b24b",
       "version_major": 2,
       "version_minor": 0
      },
      "text/plain": [
       "  0%|          | 0/8506 [00:00<?, ?it/s]"
      ]
     },
     "metadata": {},
     "output_type": "display_data"
    },
    {
     "data": {
      "application/vnd.jupyter.widget-view+json": {
       "model_id": "15e43e942ff241c6848b58d46d4c9d1d",
       "version_major": 2,
       "version_minor": 0
      },
      "text/plain": [
       "  0%|          | 0/1707 [00:00<?, ?it/s]"
      ]
     },
     "metadata": {},
     "output_type": "display_data"
    },
    {
     "name": "stdout",
     "output_type": "stream",
     "text": [
      "Val loss:  0.5422292947769165  Train loss:  0.5708288550376892 \n",
      "\n",
      "Val acc:  0.7590476190476174  Train acc:  0.7234378673877193 \n",
      "\n",
      "Val AUC:  0.0  Train AUC:  0.0\n",
      "Val f1:  0.8114868741708577  Train f1:  0.7150301615076018 \n",
      "\n",
      "Val CONF: \n",
      " [[ 5908.  2085.]\n",
      " [ 4493. 14814.]] \n",
      "Train CONF: \n",
      " [[49550. 18571.]\n",
      " [19068. 48907.]] \n",
      "\n",
      "Learning Rate:  8e-09\n",
      "\n",
      "EPOCH:  3\n"
     ]
    },
    {
     "data": {
      "application/vnd.jupyter.widget-view+json": {
       "model_id": "0a63732191364ef69e75c93ce4b90a69",
       "version_major": 2,
       "version_minor": 0
      },
      "text/plain": [
       "  0%|          | 0/8506 [00:00<?, ?it/s]"
      ]
     },
     "metadata": {},
     "output_type": "display_data"
    },
    {
     "data": {
      "application/vnd.jupyter.widget-view+json": {
       "model_id": "bc3a523942554265be6123a932b22c39",
       "version_major": 2,
       "version_minor": 0
      },
      "text/plain": [
       "  0%|          | 0/1707 [00:00<?, ?it/s]"
      ]
     },
     "metadata": {},
     "output_type": "display_data"
    },
    {
     "name": "stdout",
     "output_type": "stream",
     "text": [
      "Val loss:  0.5332396030426025  Train loss:  0.5676186680793762 \n",
      "\n",
      "Val acc:  0.7699633699633673  Train acc:  0.7279126498941896 \n",
      "\n",
      "Val AUC:  0.0  Train AUC:  0.0\n",
      "Val f1:  0.8227748685348362  Train f1:  0.7206514688799659 \n",
      "\n",
      "Val CONF: \n",
      " [[ 5755.  2238.]\n",
      " [ 4042. 15265.]] \n",
      "Train CONF: \n",
      " [[49549. 18095.]\n",
      " [18935. 49517.]] \n",
      "\n",
      "Learning Rate:  6.400000000000001e-09\n",
      "\n",
      "EPOCH:  4\n"
     ]
    },
    {
     "data": {
      "application/vnd.jupyter.widget-view+json": {
       "model_id": "eaa26ef139a7416abb91f2100c35da55",
       "version_major": 2,
       "version_minor": 0
      },
      "text/plain": [
       "  0%|          | 0/8506 [00:00<?, ?it/s]"
      ]
     },
     "metadata": {},
     "output_type": "display_data"
    },
    {
     "data": {
      "application/vnd.jupyter.widget-view+json": {
       "model_id": "e838bfc08d12434a891c097043b786b2",
       "version_major": 2,
       "version_minor": 0
      },
      "text/plain": [
       "  0%|          | 0/1707 [00:00<?, ?it/s]"
      ]
     },
     "metadata": {},
     "output_type": "display_data"
    },
    {
     "name": "stdout",
     "output_type": "stream",
     "text": [
      "Val loss:  0.5330291986465454  Train loss:  0.5659849643707275 \n",
      "\n",
      "Val acc:  0.7696703296703273  Train acc:  0.729426287326589 \n",
      "\n",
      "Val AUC:  0.0  Train AUC:  0.0\n",
      "Val f1:  0.8219088499835674  Train f1:  0.7213688340540777 \n",
      "\n",
      "Val CONF: \n",
      " [[ 5817.  2176.]\n",
      " [ 4112. 15195.]] \n",
      "Train CONF: \n",
      " [[49765. 18164.]\n",
      " [18660. 49507.]] \n",
      "\n",
      "Learning Rate:  5.120000000000001e-09\n",
      "\n",
      "EPOCH:  5\n"
     ]
    },
    {
     "data": {
      "application/vnd.jupyter.widget-view+json": {
       "model_id": "4a19ca865a31424ca32e2563947f882e",
       "version_major": 2,
       "version_minor": 0
      },
      "text/plain": [
       "  0%|          | 0/8506 [00:00<?, ?it/s]"
      ]
     },
     "metadata": {},
     "output_type": "display_data"
    },
    {
     "data": {
      "application/vnd.jupyter.widget-view+json": {
       "model_id": "7db5d1b819c34da8936d276c2a5c4e04",
       "version_major": 2,
       "version_minor": 0
      },
      "text/plain": [
       "  0%|          | 0/1707 [00:00<?, ?it/s]"
      ]
     },
     "metadata": {},
     "output_type": "display_data"
    },
    {
     "name": "stdout",
     "output_type": "stream",
     "text": [
      "Val loss:  0.5380480289459229  Train loss:  0.5678165555000305 \n",
      "\n",
      "Val acc:  0.7636996336996326  Train acc:  0.7274130025864051 \n",
      "\n",
      "Val AUC:  0.0  Train AUC:  0.0\n",
      "Val f1:  0.8149640777567742  Train f1:  0.7198043406877869 \n",
      "\n",
      "Val CONF: \n",
      " [[ 5827.  2166.]\n",
      " [ 4285. 15022.]] \n",
      "Train CONF: \n",
      " [[49620. 18479.]\n",
      " [18619. 49378.]] \n",
      "\n",
      "Learning Rate:  4.096000000000001e-09\n",
      "\n",
      "EPOCH:  6\n"
     ]
    },
    {
     "data": {
      "application/vnd.jupyter.widget-view+json": {
       "model_id": "f4186626bd6f4679ac5bb3d0483f7ed0",
       "version_major": 2,
       "version_minor": 0
      },
      "text/plain": [
       "  0%|          | 0/8506 [00:00<?, ?it/s]"
      ]
     },
     "metadata": {},
     "output_type": "display_data"
    },
    {
     "data": {
      "application/vnd.jupyter.widget-view+json": {
       "model_id": "ff288cfe519544a19bba4598d232cb47",
       "version_major": 2,
       "version_minor": 0
      },
      "text/plain": [
       "  0%|          | 0/1707 [00:00<?, ?it/s]"
      ]
     },
     "metadata": {},
     "output_type": "display_data"
    },
    {
     "name": "stdout",
     "output_type": "stream",
     "text": [
      "Val loss:  0.5360535383224487  Train loss:  0.5675268769264221 \n",
      "\n",
      "Val acc:  0.7672893772893765  Train acc:  0.7282506466023921 \n",
      "\n",
      "Val AUC:  0.0  Train AUC:  0.0\n",
      "Val f1:  0.8194640679740994  Train f1:  0.7209261451040677 \n",
      "\n",
      "Val CONF: \n",
      " [[ 5829.  2164.]\n",
      " [ 4189. 15118.]] \n",
      "Train CONF: \n",
      " [[49539. 18228.]\n",
      " [18756. 49573.]] \n",
      "\n",
      "Learning Rate:  3.276800000000001e-09\n",
      "\n",
      "EPOCH:  7\n"
     ]
    },
    {
     "data": {
      "application/vnd.jupyter.widget-view+json": {
       "model_id": "b5c7f73af94c4b9587439d0a1f11ba06",
       "version_major": 2,
       "version_minor": 0
      },
      "text/plain": [
       "  0%|          | 0/8506 [00:00<?, ?it/s]"
      ]
     },
     "metadata": {},
     "output_type": "display_data"
    },
    {
     "data": {
      "application/vnd.jupyter.widget-view+json": {
       "model_id": "7183bc48efa546619dba2d55d6aec270",
       "version_major": 2,
       "version_minor": 0
      },
      "text/plain": [
       "  0%|          | 0/1707 [00:00<?, ?it/s]"
      ]
     },
     "metadata": {},
     "output_type": "display_data"
    },
    {
     "name": "stdout",
     "output_type": "stream",
     "text": [
      "Val loss:  0.5398536324501038  Train loss:  0.5655169486999512 \n",
      "\n",
      "Val acc:  0.7623443223443218  Train acc:  0.7304549729602641 \n",
      "\n",
      "Val AUC:  0.0  Train AUC:  0.0\n",
      "Val f1:  0.8140801192282567  Train f1:  0.7227301209181918 \n",
      "\n",
      "Val CONF: \n",
      " [[ 5887.  2106.]\n",
      " [ 4382. 14925.]] \n",
      "Train CONF: \n",
      " [[49855. 18288.]\n",
      " [18396. 49557.]] \n",
      "\n",
      "Learning Rate:  2.6214400000000012e-09\n",
      "\n",
      "EPOCH:  8\n"
     ]
    },
    {
     "data": {
      "application/vnd.jupyter.widget-view+json": {
       "model_id": "1c4eedc91f5349e19d7302cf8d57bd50",
       "version_major": 2,
       "version_minor": 0
      },
      "text/plain": [
       "  0%|          | 0/8506 [00:00<?, ?it/s]"
      ]
     },
     "metadata": {},
     "output_type": "display_data"
    },
    {
     "data": {
      "application/vnd.jupyter.widget-view+json": {
       "model_id": "2a81721ae34e41a98530b3827a15f007",
       "version_major": 2,
       "version_minor": 0
      },
      "text/plain": [
       "  0%|          | 0/1707 [00:00<?, ?it/s]"
      ]
     },
     "metadata": {},
     "output_type": "display_data"
    },
    {
     "name": "stdout",
     "output_type": "stream",
     "text": [
      "Val loss:  0.5412338972091675  Train loss:  0.5665603876113892 \n",
      "\n",
      "Val acc:  0.7605494505494491  Train acc:  0.7292572889724891 \n",
      "\n",
      "Val AUC:  0.0  Train AUC:  0.0\n",
      "Val f1:  0.8127859024554381  Train f1:  0.7208722336458461 \n",
      "\n",
      "Val CONF: \n",
      " [[ 5868.  2125.]\n",
      " [ 4412. 14895.]] \n",
      "Train CONF: \n",
      " [[49829. 18491.]\n",
      " [18356. 49420.]] \n",
      "\n",
      "Learning Rate:  2.0971520000000006e-09\n",
      "Stopping early: \n",
      "Loading training split: 0\n",
      "Read lmdb\n",
      "26772\n",
      "Loading training split: 1\n",
      "Read lmdb\n",
      "29594\n",
      "Loading training split: 2\n",
      "Read lmdb\n",
      "27300\n",
      "Loading training split: 5\n",
      "Read lmdb\n",
      "30172\n",
      "Loading training split: 6\n",
      "Read lmdb\n",
      "26227\n",
      "Loading training split: 7\n",
      "Read lmdb\n",
      "18963\n",
      "Loading training split: 8\n",
      "Read lmdb\n",
      "26957\n",
      "Loading training split: 9\n",
      "Read lmdb\n",
      "23642\n",
      "Patches for training: 209627\n",
      "\n",
      "Loading validation split: 3\n",
      "Read lmdb\n",
      "27881\n",
      "Patches for validation: 27881\n",
      "\n",
      "Loading 256_tcia_25ep3\n",
      "Number of free parameters:  1026\n",
      "256_tcia_25ep3\n",
      "\n",
      "EPOCH:  1\n"
     ]
    },
    {
     "data": {
      "application/vnd.jupyter.widget-view+json": {
       "model_id": "d3d0bc278f484f9397687604d2dbab6d",
       "version_major": 2,
       "version_minor": 0
      },
      "text/plain": [
       "  0%|          | 0/8221 [00:00<?, ?it/s]"
      ]
     },
     "metadata": {},
     "output_type": "display_data"
    },
    {
     "data": {
      "application/vnd.jupyter.widget-view+json": {
       "model_id": "57a8d1c028064b86b886d6eb0709803e",
       "version_major": 2,
       "version_minor": 0
      },
      "text/plain": [
       "  0%|          | 0/1743 [00:00<?, ?it/s]"
      ]
     },
     "metadata": {},
     "output_type": "display_data"
    },
    {
     "name": "stdout",
     "output_type": "stream",
     "text": [
      "Val loss:  0.5442028641700745  Train loss:  0.5756955742835999 \n",
      "\n",
      "Val acc:  0.7577561780423963  Train acc:  0.7196642539991449 \n",
      "\n",
      "Val AUC:  0.0  Train AUC:  0.0\n",
      "Val f1:  0.8072277301333632  Train f1:  0.717312133866269 \n",
      "\n",
      "Val CONF: \n",
      " [[ 6256.  2261.]\n",
      " [ 4493. 14871.]] \n",
      "Train CONF: \n",
      " [[46039. 19672.]\n",
      " [17200. 48617.]] \n",
      "\n",
      "Learning Rate:  1e-08\n",
      "\n",
      "EPOCH:  2\n"
     ]
    },
    {
     "data": {
      "application/vnd.jupyter.widget-view+json": {
       "model_id": "0b3daf6c3315463ea0dd384b593eaa47",
       "version_major": 2,
       "version_minor": 0
      },
      "text/plain": [
       "  0%|          | 0/8221 [00:00<?, ?it/s]"
      ]
     },
     "metadata": {},
     "output_type": "display_data"
    },
    {
     "data": {
      "application/vnd.jupyter.widget-view+json": {
       "model_id": "9564269ed6f649feb84a14ea2ddf88d5",
       "version_major": 2,
       "version_minor": 0
      },
      "text/plain": [
       "  0%|          | 0/1743 [00:00<?, ?it/s]"
      ]
     },
     "metadata": {},
     "output_type": "display_data"
    },
    {
     "name": "stdout",
     "output_type": "stream",
     "text": [
      "Val loss:  0.5342812538146973  Train loss:  0.5773216485977173 \n",
      "\n",
      "Val acc:  0.7710268641727369  Train acc:  0.7166534882306398 \n",
      "\n",
      "Val AUC:  0.0  Train AUC:  0.0\n",
      "Val f1:  0.8234333372006639  Train f1:  0.7146366865007384 \n",
      "\n",
      "Val CONF: \n",
      " [[ 5918.  2599.]\n",
      " [ 3785. 15579.]] \n",
      "Train CONF: \n",
      " [[45800. 19976.]\n",
      " [17292. 48460.]] \n",
      "\n",
      "Learning Rate:  8e-09\n",
      "\n",
      "EPOCH:  3\n"
     ]
    },
    {
     "data": {
      "application/vnd.jupyter.widget-view+json": {
       "model_id": "a7d340d502014624b21043c0f466c6fe",
       "version_major": 2,
       "version_minor": 0
      },
      "text/plain": [
       "  0%|          | 0/8221 [00:00<?, ?it/s]"
      ]
     },
     "metadata": {},
     "output_type": "display_data"
    },
    {
     "data": {
      "application/vnd.jupyter.widget-view+json": {
       "model_id": "d14dcb66309c442dae914e46b183c6c5",
       "version_major": 2,
       "version_minor": 0
      },
      "text/plain": [
       "  0%|          | 0/1743 [00:00<?, ?it/s]"
      ]
     },
     "metadata": {},
     "output_type": "display_data"
    },
    {
     "name": "stdout",
     "output_type": "stream",
     "text": [
      "Val loss:  0.5369669795036316  Train loss:  0.5747257471084595 \n",
      "\n",
      "Val acc:  0.7670456583336354  Train acc:  0.7198163128763417 \n",
      "\n",
      "Val AUC:  0.0  Train AUC:  0.0\n",
      "Val f1:  0.8176831944214087  Train f1:  0.7181406654294104 \n",
      "\n",
      "Val CONF: \n",
      " [[ 6096.  2421.]\n",
      " [ 4074. 15290.]] \n",
      "Train CONF: \n",
      " [[45903. 19716.]\n",
      " [17136. 48773.]] \n",
      "\n",
      "Learning Rate:  6.400000000000001e-09\n",
      "\n",
      "EPOCH:  4\n"
     ]
    },
    {
     "data": {
      "application/vnd.jupyter.widget-view+json": {
       "model_id": "de1ce53af96d4f78b9f375f740afa8ca",
       "version_major": 2,
       "version_minor": 0
      },
      "text/plain": [
       "  0%|          | 0/8221 [00:00<?, ?it/s]"
      ]
     },
     "metadata": {},
     "output_type": "display_data"
    },
    {
     "data": {
      "application/vnd.jupyter.widget-view+json": {
       "model_id": "7afef2126e2e4d73ac31f35ad30c3ddb",
       "version_major": 2,
       "version_minor": 0
      },
      "text/plain": [
       "  0%|          | 0/1743 [00:00<?, ?it/s]"
      ]
     },
     "metadata": {},
     "output_type": "display_data"
    },
    {
     "name": "stdout",
     "output_type": "stream",
     "text": [
      "Val loss:  0.5535696744918823  Train loss:  0.5739942789077759 \n",
      "\n",
      "Val acc:  0.7441985581578876  Train acc:  0.7197326804938857 \n",
      "\n",
      "Val AUC:  0.0  Train AUC:  0.0\n",
      "Val f1:  0.7922849827364253  Train f1:  0.7178545276939035 \n",
      "\n",
      "Val CONF: \n",
      " [[ 6402.  2115.]\n",
      " [ 5017. 14347.]] \n",
      "Train CONF: \n",
      " [[45985. 19676.]\n",
      " [17187. 48680.]] \n",
      "\n",
      "Learning Rate:  5.120000000000001e-09\n",
      "Stopping early: \n",
      "Loading training split: 0\n",
      "Read lmdb\n",
      "26772\n",
      "Loading training split: 1\n",
      "Read lmdb\n",
      "29594\n",
      "Loading training split: 2\n",
      "Read lmdb\n",
      "27300\n",
      "Loading training split: 3\n",
      "Read lmdb\n",
      "27881\n",
      "Loading training split: 6\n",
      "Read lmdb\n",
      "26227\n",
      "Loading training split: 7\n",
      "Read lmdb\n",
      "18963\n",
      "Loading training split: 8\n",
      "Read lmdb\n",
      "26957\n",
      "Loading training split: 9\n",
      "Read lmdb\n",
      "23642\n",
      "Patches for training: 207336\n",
      "\n",
      "Loading validation split: 4\n",
      "Read lmdb\n",
      "28378\n",
      "Patches for validation: 28378\n",
      "\n",
      "Loading 256_tcia_25ep4\n",
      "Number of free parameters:  1026\n",
      "256_tcia_25ep4\n",
      "\n",
      "EPOCH:  1\n"
     ]
    },
    {
     "data": {
      "application/vnd.jupyter.widget-view+json": {
       "model_id": "bf31c3d908e142b0a6552513048cac09",
       "version_major": 2,
       "version_minor": 0
      },
      "text/plain": [
       "  0%|          | 0/8158 [00:00<?, ?it/s]"
      ]
     },
     "metadata": {},
     "output_type": "display_data"
    },
    {
     "data": {
      "application/vnd.jupyter.widget-view+json": {
       "model_id": "af6bad40e7654bb5b659dc54a5978ddf",
       "version_major": 2,
       "version_minor": 0
      },
      "text/plain": [
       "  0%|          | 0/1774 [00:00<?, ?it/s]"
      ]
     },
     "metadata": {},
     "output_type": "display_data"
    },
    {
     "name": "stdout",
     "output_type": "stream",
     "text": [
      "Val loss:  0.49226659536361694  Train loss:  0.5755767822265625 \n",
      "\n",
      "Val acc:  0.8171470857706726  Train acc:  0.7186384321897481 \n",
      "\n",
      "Val AUC:  0.0  Train AUC:  0.0\n",
      "Val f1:  0.8419231224271756  Train f1:  0.7144141433646612 \n",
      "\n",
      "Val CONF: \n",
      " [[ 8604.  1673.]\n",
      " [ 3516. 14585.]] \n",
      "Train CONF: \n",
      " [[46058. 19209.]\n",
      " [17516. 47743.]] \n",
      "\n",
      "Learning Rate:  1e-08\n",
      "\n",
      "EPOCH:  2\n"
     ]
    },
    {
     "data": {
      "application/vnd.jupyter.widget-view+json": {
       "model_id": "176c8e689db145dcb5d9f9b7c316d58f",
       "version_major": 2,
       "version_minor": 0
      },
      "text/plain": [
       "  0%|          | 0/8158 [00:00<?, ?it/s]"
      ]
     },
     "metadata": {},
     "output_type": "display_data"
    },
    {
     "data": {
      "application/vnd.jupyter.widget-view+json": {
       "model_id": "56ddc762987a4d0ca8c984a1b85700b8",
       "version_major": 2,
       "version_minor": 0
      },
      "text/plain": [
       "  0%|          | 0/1774 [00:00<?, ?it/s]"
      ]
     },
     "metadata": {},
     "output_type": "display_data"
    },
    {
     "name": "stdout",
     "output_type": "stream",
     "text": [
      "Val loss:  0.4848673343658447  Train loss:  0.5741921067237854 \n",
      "\n",
      "Val acc:  0.8239481288321985  Train acc:  0.720362226682803 \n",
      "\n",
      "Val AUC:  0.0  Train AUC:  0.0\n",
      "Val f1:  0.8498151930729017  Train f1:  0.7168151062426041 \n",
      "\n",
      "Val CONF: \n",
      " [[ 8495.  1782.]\n",
      " [ 3214. 14887.]] \n",
      "Train CONF: \n",
      " [[45981. 19340.]\n",
      " [17160. 48045.]] \n",
      "\n",
      "Learning Rate:  8e-09\n",
      "\n",
      "EPOCH:  3\n"
     ]
    },
    {
     "data": {
      "application/vnd.jupyter.widget-view+json": {
       "model_id": "13f8459d557445189c915c6010495c4e",
       "version_major": 2,
       "version_minor": 0
      },
      "text/plain": [
       "  0%|          | 0/8158 [00:00<?, ?it/s]"
      ]
     },
     "metadata": {},
     "output_type": "display_data"
    },
    {
     "data": {
      "application/vnd.jupyter.widget-view+json": {
       "model_id": "eddec396fe3846c5a2508b999f44e9bc",
       "version_major": 2,
       "version_minor": 0
      },
      "text/plain": [
       "  0%|          | 0/1774 [00:00<?, ?it/s]"
      ]
     },
     "metadata": {},
     "output_type": "display_data"
    },
    {
     "name": "stdout",
     "output_type": "stream",
     "text": [
      "Val loss:  0.480876624584198  Train loss:  0.5758380889892578 \n",
      "\n",
      "Val acc:  0.8278596095567047  Train acc:  0.7190291589415105 \n",
      "\n",
      "Val AUC:  0.0  Train AUC:  0.0\n",
      "Val f1:  0.8549013170404903  Train f1:  0.7150048268572528 \n",
      "\n",
      "Val CONF: \n",
      " [[ 8367.  1910.]\n",
      " [ 2975. 15126.]] \n",
      "Train CONF: \n",
      " [[46034. 19331.]\n",
      " [17343. 47818.]] \n",
      "\n",
      "Learning Rate:  6.400000000000001e-09\n",
      "\n",
      "EPOCH:  4\n"
     ]
    },
    {
     "data": {
      "application/vnd.jupyter.widget-view+json": {
       "model_id": "fa0c11250ce04f3cb4189e7ebb9c49ed",
       "version_major": 2,
       "version_minor": 0
      },
      "text/plain": [
       "  0%|          | 0/8158 [00:00<?, ?it/s]"
      ]
     },
     "metadata": {},
     "output_type": "display_data"
    },
    {
     "data": {
      "application/vnd.jupyter.widget-view+json": {
       "model_id": "f47ddd9931514d1abf214d692244618e",
       "version_major": 2,
       "version_minor": 0
      },
      "text/plain": [
       "  0%|          | 0/1774 [00:00<?, ?it/s]"
      ]
     },
     "metadata": {},
     "output_type": "display_data"
    },
    {
     "name": "stdout",
     "output_type": "stream",
     "text": [
      "Val loss:  0.483739972114563  Train loss:  0.5727587342262268 \n",
      "\n",
      "Val acc:  0.824829092959341  Train acc:  0.7213045676723339 \n",
      "\n",
      "Val AUC:  0.0  Train AUC:  0.0\n",
      "Val f1:  0.8502086232421269  Train f1:  0.718111675908881 \n",
      "\n",
      "Val CONF: \n",
      " [[ 8521.  1756.]\n",
      " [ 3215. 14886.]] \n",
      "Train CONF: \n",
      " [[46118. 18916.]\n",
      " [17461. 48031.]] \n",
      "\n",
      "Learning Rate:  5.120000000000001e-09\n",
      "\n",
      "EPOCH:  5\n"
     ]
    },
    {
     "data": {
      "application/vnd.jupyter.widget-view+json": {
       "model_id": "2f919cddeb30475f94380bcb3a069024",
       "version_major": 2,
       "version_minor": 0
      },
      "text/plain": [
       "  0%|          | 0/8158 [00:00<?, ?it/s]"
      ]
     },
     "metadata": {},
     "output_type": "display_data"
    },
    {
     "data": {
      "application/vnd.jupyter.widget-view+json": {
       "model_id": "0fdba97a82d44deb96640b9c6c23cb5c",
       "version_major": 2,
       "version_minor": 0
      },
      "text/plain": [
       "  0%|          | 0/1774 [00:00<?, ?it/s]"
      ]
     },
     "metadata": {},
     "output_type": "display_data"
    },
    {
     "name": "stdout",
     "output_type": "stream",
     "text": [
      "Val loss:  0.4899263083934784  Train loss:  0.5727963447570801 \n",
      "\n",
      "Val acc:  0.816865177249987  Train acc:  0.7218408592923978 \n",
      "\n",
      "Val AUC:  0.0  Train AUC:  0.0\n",
      "Val f1:  0.8423146481927374  Train f1:  0.7189837309759328 \n",
      "\n",
      "Val CONF: \n",
      " [[ 8554.  1723.]\n",
      " [ 3474. 14627.]] \n",
      "Train CONF: \n",
      " [[46001. 18946.]\n",
      " [17361. 48218.]] \n",
      "\n",
      "Learning Rate:  4.096000000000001e-09\n",
      "Stopping early: \n",
      "Loading training split: 0\n",
      "Read lmdb\n",
      "26772\n",
      "Loading training split: 1\n",
      "Read lmdb\n",
      "29594\n",
      "Loading training split: 2\n",
      "Read lmdb\n",
      "27300\n",
      "Loading training split: 3\n",
      "Read lmdb\n",
      "27881\n",
      "Loading training split: 4\n",
      "Read lmdb\n",
      "28378\n",
      "Loading training split: 7\n",
      "Read lmdb\n",
      "18963\n",
      "Loading training split: 8\n",
      "Read lmdb\n",
      "26957\n",
      "Loading training split: 9\n",
      "Read lmdb\n",
      "23642\n",
      "Patches for training: 209487\n",
      "\n",
      "Loading validation split: 5\n",
      "Read lmdb\n",
      "30172\n",
      "Patches for validation: 30172\n",
      "\n",
      "Loading 256_tcia_25ep5\n",
      "Number of free parameters:  1026\n",
      "256_tcia_25ep5\n",
      "\n",
      "EPOCH:  1\n"
     ]
    },
    {
     "data": {
      "application/vnd.jupyter.widget-view+json": {
       "model_id": "e112b912d35b491a8e16f2b8b9b97de0",
       "version_major": 2,
       "version_minor": 0
      },
      "text/plain": [
       "  0%|          | 0/8388 [00:00<?, ?it/s]"
      ]
     },
     "metadata": {},
     "output_type": "display_data"
    },
    {
     "data": {
      "application/vnd.jupyter.widget-view+json": {
       "model_id": "30e9caf2faa6420c84ebee61a53deb03",
       "version_major": 2,
       "version_minor": 0
      },
      "text/plain": [
       "  0%|          | 0/1886 [00:00<?, ?it/s]"
      ]
     },
     "metadata": {},
     "output_type": "display_data"
    },
    {
     "name": "stdout",
     "output_type": "stream",
     "text": [
      "Val loss:  0.5497050285339355  Train loss:  0.5746615529060364 \n",
      "\n",
      "Val acc:  0.7483096911043514  Train acc:  0.7189097357793398 \n",
      "\n",
      "Val AUC:  0.0  Train AUC:  0.0\n",
      "Val f1:  0.8047154853797197  Train f1:  0.7170772522612783 \n",
      "\n",
      "Val CONF: \n",
      " [[ 6175.  2843.]\n",
      " [ 4751. 16403.]] \n",
      "Train CONF: \n",
      " [[46820. 20085.]\n",
      " [17639. 49662.]] \n",
      "\n",
      "Learning Rate:  1e-08\n",
      "\n",
      "EPOCH:  2\n"
     ]
    },
    {
     "data": {
      "application/vnd.jupyter.widget-view+json": {
       "model_id": "0544f31f1e604d7b9d7142406817e5b7",
       "version_major": 2,
       "version_minor": 0
      },
      "text/plain": [
       "  0%|          | 0/8388 [00:00<?, ?it/s]"
      ]
     },
     "metadata": {},
     "output_type": "display_data"
    },
    {
     "data": {
      "application/vnd.jupyter.widget-view+json": {
       "model_id": "e4a69ef87e064da49a0a8ec27271ee00",
       "version_major": 2,
       "version_minor": 0
      },
      "text/plain": [
       "  0%|          | 0/1886 [00:00<?, ?it/s]"
      ]
     },
     "metadata": {},
     "output_type": "display_data"
    },
    {
     "name": "stdout",
     "output_type": "stream",
     "text": [
      "Val loss:  0.5647879838943481  Train loss:  0.5745924115180969 \n",
      "\n",
      "Val acc:  0.7287882805250063  Train acc:  0.7205564579825213 \n",
      "\n",
      "Val AUC:  0.0  Train AUC:  0.0\n",
      "Val f1:  0.7841175592032072  Train f1:  0.7179928110799018 \n",
      "\n",
      "Val CONF: \n",
      " [[ 6368.  2650.]\n",
      " [ 5533. 15621.]] \n",
      "Train CONF: \n",
      " [[47033. 20143.]\n",
      " [17360. 49670.]] \n",
      "\n",
      "Learning Rate:  8e-09\n",
      "Stopping early: \n",
      "Loading training split: 0\n",
      "Read lmdb\n",
      "26772\n",
      "Loading training split: 1\n",
      "Read lmdb\n",
      "29594\n",
      "Loading training split: 2\n",
      "Read lmdb\n",
      "27300\n",
      "Loading training split: 3\n",
      "Read lmdb\n",
      "27881\n",
      "Loading training split: 4\n",
      "Read lmdb\n",
      "28378\n",
      "Loading training split: 5\n",
      "Read lmdb\n",
      "30172\n",
      "Loading training split: 8\n",
      "Read lmdb\n",
      "26957\n",
      "Loading training split: 9\n",
      "Read lmdb\n",
      "23642\n",
      "Patches for training: 220696\n",
      "\n",
      "Loading validation split: 6\n",
      "Read lmdb\n",
      "26227\n",
      "Patches for validation: 26227\n",
      "\n",
      "Loading 256_tcia_25ep6\n",
      "Number of free parameters:  1026\n",
      "256_tcia_25ep6\n",
      "\n",
      "EPOCH:  1\n"
     ]
    },
    {
     "data": {
      "application/vnd.jupyter.widget-view+json": {
       "model_id": "72b313fa08ce4391bd3da1a0f622aa7a",
       "version_major": 2,
       "version_minor": 0
      },
      "text/plain": [
       "  0%|          | 0/8827 [00:00<?, ?it/s]"
      ]
     },
     "metadata": {},
     "output_type": "display_data"
    },
    {
     "data": {
      "application/vnd.jupyter.widget-view+json": {
       "model_id": "94447aa61a154453b2c7e3be4983ab6f",
       "version_major": 2,
       "version_minor": 0
      },
      "text/plain": [
       "  0%|          | 0/1640 [00:00<?, ?it/s]"
      ]
     },
     "metadata": {},
     "output_type": "display_data"
    },
    {
     "name": "stdout",
     "output_type": "stream",
     "text": [
      "Val loss:  0.5416738986968994  Train loss:  0.5656898021697998 \n",
      "\n",
      "Val acc:  0.760170816334308  Train acc:  0.7301450178440012 \n",
      "\n",
      "Val AUC:  0.0  Train AUC:  0.0\n",
      "Val f1:  0.8045102836847908  Train f1:  0.7279652153343008 \n",
      "\n",
      "Val CONF: \n",
      " [[ 6327.  2110.]\n",
      " [ 4180. 13610.]] \n",
      "Train CONF: \n",
      " [[50076. 20890.]\n",
      " [17220. 53038.]] \n",
      "\n",
      "Learning Rate:  1e-08\n",
      "\n",
      "EPOCH:  2\n"
     ]
    },
    {
     "data": {
      "application/vnd.jupyter.widget-view+json": {
       "model_id": "709c5dfd0a604f8dbf06a98c22d1770e",
       "version_major": 2,
       "version_minor": 0
      },
      "text/plain": [
       "  0%|          | 0/8827 [00:00<?, ?it/s]"
      ]
     },
     "metadata": {},
     "output_type": "display_data"
    },
    {
     "data": {
      "application/vnd.jupyter.widget-view+json": {
       "model_id": "3ee6282a9f4549cabc21ecc62e26ce68",
       "version_major": 2,
       "version_minor": 0
      },
      "text/plain": [
       "  0%|          | 0/1640 [00:00<?, ?it/s]"
      ]
     },
     "metadata": {},
     "output_type": "display_data"
    },
    {
     "name": "stdout",
     "output_type": "stream",
     "text": [
      "Val loss:  0.5438900589942932  Train loss:  0.567887008190155 \n",
      "\n",
      "Val acc:  0.7561291798528198  Train acc:  0.7277728997904114 \n",
      "\n",
      "Val AUC:  0.0  Train AUC:  0.0\n",
      "Val f1:  0.7986285151519352  Train f1:  0.7262919576979036 \n",
      "\n",
      "Val CONF: \n",
      " [[ 6475.  1962.]\n",
      " [ 4434. 13356.]] \n",
      "Train CONF: \n",
      " [[49764. 20919.]\n",
      " [17526. 53015.]] \n",
      "\n",
      "Learning Rate:  8e-09\n",
      "Stopping early: \n",
      "Loading training split: 0\n",
      "Read lmdb\n",
      "26772\n",
      "Loading training split: 1\n",
      "Read lmdb\n",
      "29594\n",
      "Loading training split: 2\n",
      "Read lmdb\n",
      "27300\n",
      "Loading training split: 3\n",
      "Read lmdb\n",
      "27881\n",
      "Loading training split: 4\n",
      "Read lmdb\n",
      "28378\n",
      "Loading training split: 5\n",
      "Read lmdb\n",
      "30172\n",
      "Loading training split: 6\n",
      "Read lmdb\n",
      "26227\n",
      "Loading training split: 9\n",
      "Read lmdb\n",
      "23642\n",
      "Patches for training: 219966\n",
      "\n",
      "Loading validation split: 7\n",
      "Read lmdb\n",
      "18963\n",
      "Patches for validation: 18963\n",
      "\n",
      "Loading 256_tcia_25ep7\n",
      "Number of free parameters:  1026\n",
      "256_tcia_25ep7\n",
      "\n",
      "EPOCH:  1\n"
     ]
    },
    {
     "data": {
      "application/vnd.jupyter.widget-view+json": {
       "model_id": "b48017a120cd4da6a8aff697cd0d2417",
       "version_major": 2,
       "version_minor": 0
      },
      "text/plain": [
       "  0%|          | 0/8692 [00:00<?, ?it/s]"
      ]
     },
     "metadata": {},
     "output_type": "display_data"
    },
    {
     "data": {
      "application/vnd.jupyter.widget-view+json": {
       "model_id": "84b183c4b0cb4bedba4d212f46cccea1",
       "version_major": 2,
       "version_minor": 0
      },
      "text/plain": [
       "  0%|          | 0/1186 [00:00<?, ?it/s]"
      ]
     },
     "metadata": {},
     "output_type": "display_data"
    },
    {
     "name": "stdout",
     "output_type": "stream",
     "text": [
      "Val loss:  0.5456424355506897  Train loss:  0.5696054697036743 \n",
      "\n",
      "Val acc:  0.7540473553762569  Train acc:  0.7260606932259447 \n",
      "\n",
      "Val AUC:  0.0  Train AUC:  0.0\n",
      "Val f1:  0.8146955067401374  Train f1:  0.730361880344232 \n",
      "\n",
      "Val CONF: \n",
      " [[ 3567.  1942.]\n",
      " [ 2722. 10732.]] \n",
      "Train CONF: \n",
      " [[47215. 22419.]\n",
      " [15675. 53751.]] \n",
      "\n",
      "Learning Rate:  1e-08\n",
      "\n",
      "EPOCH:  2\n"
     ]
    },
    {
     "data": {
      "application/vnd.jupyter.widget-view+json": {
       "model_id": "8cab1c4314d84139878992d13e37e933",
       "version_major": 2,
       "version_minor": 0
      },
      "text/plain": [
       "  0%|          | 0/8692 [00:00<?, ?it/s]"
      ]
     },
     "metadata": {},
     "output_type": "display_data"
    },
    {
     "data": {
      "application/vnd.jupyter.widget-view+json": {
       "model_id": "2f2643f6db0d47a9a48bed3b500190db",
       "version_major": 2,
       "version_minor": 0
      },
      "text/plain": [
       "  0%|          | 0/1186 [00:00<?, ?it/s]"
      ]
     },
     "metadata": {},
     "output_type": "display_data"
    },
    {
     "name": "stdout",
     "output_type": "stream",
     "text": [
      "Val loss:  0.5347194671630859  Train loss:  0.5689941048622131 \n",
      "\n",
      "Val acc:  0.7629067130728224  Train acc:  0.7274198187832587 \n",
      "\n",
      "Val AUC:  0.0  Train AUC:  0.0\n",
      "Val f1:  0.8267249646670426  Train f1:  0.7314954113438082 \n",
      "\n",
      "Val CONF: \n",
      " [[ 3275.  2234.]\n",
      " [ 2262. 11192.]] \n",
      "Train CONF: \n",
      " [[47356. 22373.]\n",
      " [15532. 53799.]] \n",
      "\n",
      "Learning Rate:  8e-09\n",
      "\n",
      "EPOCH:  3\n"
     ]
    },
    {
     "data": {
      "application/vnd.jupyter.widget-view+json": {
       "model_id": "0f3e5459d980495a88b0106a99bc502e",
       "version_major": 2,
       "version_minor": 0
      },
      "text/plain": [
       "  0%|          | 0/8692 [00:00<?, ?it/s]"
      ]
     },
     "metadata": {},
     "output_type": "display_data"
    },
    {
     "data": {
      "application/vnd.jupyter.widget-view+json": {
       "model_id": "5fde049319e349949d132590fa500ea8",
       "version_major": 2,
       "version_minor": 0
      },
      "text/plain": [
       "  0%|          | 0/1186 [00:00<?, ?it/s]"
      ]
     },
     "metadata": {},
     "output_type": "display_data"
    },
    {
     "name": "stdout",
     "output_type": "stream",
     "text": [
      "Val loss:  0.5534880757331848  Train loss:  0.5693656802177429 \n",
      "\n",
      "Val acc:  0.7465590887517766  Train acc:  0.7257658564648354 \n",
      "\n",
      "Val AUC:  0.0  Train AUC:  0.0\n",
      "Val f1:  0.804115130500131  Train f1:  0.7305068168116089 \n",
      "\n",
      "Val CONF: \n",
      " [[ 3774.  1735.]\n",
      " [ 3071. 10383.]] \n",
      "Train CONF: \n",
      " [[47159. 22313.]\n",
      " [15822. 53766.]] \n",
      "\n",
      "Learning Rate:  6.400000000000001e-09\n",
      "\n",
      "EPOCH:  4\n"
     ]
    },
    {
     "data": {
      "application/vnd.jupyter.widget-view+json": {
       "model_id": "ae8adc2524e24c1da93b79121bea4616",
       "version_major": 2,
       "version_minor": 0
      },
      "text/plain": [
       "  0%|          | 0/8692 [00:00<?, ?it/s]"
      ]
     },
     "metadata": {},
     "output_type": "display_data"
    },
    {
     "data": {
      "application/vnd.jupyter.widget-view+json": {
       "model_id": "dd6e32f38169496193665b8f401fcf1b",
       "version_major": 2,
       "version_minor": 0
      },
      "text/plain": [
       "  0%|          | 0/1186 [00:00<?, ?it/s]"
      ]
     },
     "metadata": {},
     "output_type": "display_data"
    },
    {
     "name": "stdout",
     "output_type": "stream",
     "text": [
      "Val loss:  0.5428482890129089  Train loss:  0.5705348253250122 \n",
      "\n",
      "Val acc:  0.7562094605283949  Train acc:  0.7251114626779798 \n",
      "\n",
      "Val AUC:  0.0  Train AUC:  0.0\n",
      "Val f1:  0.8189998873778244  Train f1:  0.7288953496567216 \n",
      "\n",
      "Val CONF: \n",
      " [[ 3389.  2120.]\n",
      " [ 2503. 10951.]] \n",
      "Train CONF: \n",
      " [[47331. 22452.]\n",
      " [15774. 53503.]] \n",
      "\n",
      "Learning Rate:  5.120000000000001e-09\n",
      "\n",
      "EPOCH:  5\n"
     ]
    },
    {
     "data": {
      "application/vnd.jupyter.widget-view+json": {
       "model_id": "d1850a6610584946a70120d0cac1e3e4",
       "version_major": 2,
       "version_minor": 0
      },
      "text/plain": [
       "  0%|          | 0/8692 [00:00<?, ?it/s]"
      ]
     },
     "metadata": {},
     "output_type": "display_data"
    },
    {
     "data": {
      "application/vnd.jupyter.widget-view+json": {
       "model_id": "4cf7bfd3fee14ecebb2726283ecb939e",
       "version_major": 2,
       "version_minor": 0
      },
      "text/plain": [
       "  0%|          | 0/1186 [00:00<?, ?it/s]"
      ]
     },
     "metadata": {},
     "output_type": "display_data"
    },
    {
     "name": "stdout",
     "output_type": "stream",
     "text": [
      "Val loss:  0.5388191938400269  Train loss:  0.5684569478034973 \n",
      "\n",
      "Val acc:  0.7606918736486815  Train acc:  0.7269595857903058 \n",
      "\n",
      "Val AUC:  0.0  Train AUC:  0.0\n",
      "Val f1:  0.8246202733078306  Train f1:  0.7305640854058578 \n",
      "\n",
      "Val CONF: \n",
      " [[ 3321.  2188.]\n",
      " [ 2350. 11104.]] \n",
      "Train CONF: \n",
      " [[47476. 22318.]\n",
      " [15651. 53615.]] \n",
      "\n",
      "Learning Rate:  4.096000000000001e-09\n",
      "\n",
      "EPOCH:  6\n"
     ]
    },
    {
     "data": {
      "application/vnd.jupyter.widget-view+json": {
       "model_id": "798e5d7e36a94a76a0f1447c0ddde4ad",
       "version_major": 2,
       "version_minor": 0
      },
      "text/plain": [
       "  0%|          | 0/8692 [00:00<?, ?it/s]"
      ]
     },
     "metadata": {},
     "output_type": "display_data"
    },
    {
     "data": {
      "application/vnd.jupyter.widget-view+json": {
       "model_id": "8f5f4863014e41718b63e4470d7823fb",
       "version_major": 2,
       "version_minor": 0
      },
      "text/plain": [
       "  0%|          | 0/1186 [00:00<?, ?it/s]"
      ]
     },
     "metadata": {},
     "output_type": "display_data"
    },
    {
     "name": "stdout",
     "output_type": "stream",
     "text": [
      "Val loss:  0.5555252432823181  Train loss:  0.5681553483009338 \n",
      "\n",
      "Val acc:  0.7433950324315738  Train acc:  0.7272975693945043 \n",
      "\n",
      "Val AUC:  0.0  Train AUC:  0.0\n",
      "Val f1:  0.8013494105014344  Train f1:  0.7311281748041077 \n",
      "\n",
      "Val CONF: \n",
      " [[ 3814.  1695.]\n",
      " [ 3171. 10283.]] \n",
      "Train CONF: \n",
      " [[47462. 22084.]\n",
      " [15838. 53676.]] \n",
      "\n",
      "Learning Rate:  3.276800000000001e-09\n",
      "\n",
      "EPOCH:  7\n"
     ]
    },
    {
     "data": {
      "application/vnd.jupyter.widget-view+json": {
       "model_id": "eb2c158c44174804a9e763be6eba6bb1",
       "version_major": 2,
       "version_minor": 0
      },
      "text/plain": [
       "  0%|          | 0/8692 [00:00<?, ?it/s]"
      ]
     },
     "metadata": {},
     "output_type": "display_data"
    },
    {
     "data": {
      "application/vnd.jupyter.widget-view+json": {
       "model_id": "0b6a319f91484c8cbbf3c2c14fc21211",
       "version_major": 2,
       "version_minor": 0
      },
      "text/plain": [
       "  0%|          | 0/1186 [00:00<?, ?it/s]"
      ]
     },
     "metadata": {},
     "output_type": "display_data"
    },
    {
     "name": "stdout",
     "output_type": "stream",
     "text": [
      "Val loss:  0.5405646562576294  Train loss:  0.5675081610679626 \n",
      "\n",
      "Val acc:  0.7586879713125536  Train acc:  0.7281748885373228 \n",
      "\n",
      "Val AUC:  0.0  Train AUC:  0.0\n",
      "Val f1:  0.820249867949717  Train f1:  0.7318325293412569 \n",
      "\n",
      "Val CONF: \n",
      " [[ 3458.  2051.]\n",
      " [ 2525. 10929.]] \n",
      "Train CONF: \n",
      " [[47476. 22224.]\n",
      " [15576. 53784.]] \n",
      "\n",
      "Learning Rate:  2.6214400000000012e-09\n",
      "\n",
      "EPOCH:  8\n"
     ]
    },
    {
     "data": {
      "application/vnd.jupyter.widget-view+json": {
       "model_id": "68fb87fd03984470a5ca7acf8811d455",
       "version_major": 2,
       "version_minor": 0
      },
      "text/plain": [
       "  0%|          | 0/8692 [00:00<?, ?it/s]"
      ]
     },
     "metadata": {},
     "output_type": "display_data"
    },
    {
     "data": {
      "application/vnd.jupyter.widget-view+json": {
       "model_id": "0d76fc5322734beaa07d44dcb1a7fdc8",
       "version_major": 2,
       "version_minor": 0
      },
      "text/plain": [
       "  0%|          | 0/1186 [00:00<?, ?it/s]"
      ]
     },
     "metadata": {},
     "output_type": "display_data"
    },
    {
     "name": "stdout",
     "output_type": "stream",
     "text": [
      "Val loss:  0.5453601479530334  Train loss:  0.5691317319869995 \n",
      "\n",
      "Val acc:  0.7530454042081913  Train acc:  0.7263771034085965 \n",
      "\n",
      "Val AUC:  0.0  Train AUC:  0.0\n",
      "Val f1:  0.8124535619604254  Train f1:  0.7303405390798291 \n",
      "\n",
      "Val CONF: \n",
      " [[ 3654.  1855.]\n",
      " [ 2828. 10626.]] \n",
      "Train CONF: \n",
      " [[47363. 22235.]\n",
      " [15815. 53647.]] \n",
      "\n",
      "Learning Rate:  2.0971520000000006e-09\n",
      "\n",
      "EPOCH:  9\n"
     ]
    },
    {
     "data": {
      "application/vnd.jupyter.widget-view+json": {
       "model_id": "8db2ebf3951340d1a733a83afc7b7bf6",
       "version_major": 2,
       "version_minor": 0
      },
      "text/plain": [
       "  0%|          | 0/8692 [00:00<?, ?it/s]"
      ]
     },
     "metadata": {},
     "output_type": "display_data"
    },
    {
     "data": {
      "application/vnd.jupyter.widget-view+json": {
       "model_id": "6e64631302414dc3adcc2e52e56d38a6",
       "version_major": 2,
       "version_minor": 0
      },
      "text/plain": [
       "  0%|          | 0/1186 [00:00<?, ?it/s]"
      ]
     },
     "metadata": {},
     "output_type": "display_data"
    },
    {
     "name": "stdout",
     "output_type": "stream",
     "text": [
      "Val loss:  0.550852358341217  Train loss:  0.5669438242912292 \n",
      "\n",
      "Val acc:  0.7491430680799422  Train acc:  0.7289371494319021 \n",
      "\n",
      "Val AUC:  0.0  Train AUC:  0.0\n",
      "Val f1:  0.8079410884721998  Train f1:  0.7333296894465586 \n",
      "\n",
      "Val CONF: \n",
      " [[ 3721.  1788.]\n",
      " [ 2969. 10485.]] \n",
      "Train CONF: \n",
      " [[47519. 22029.]\n",
      " [15665. 53847.]] \n",
      "\n",
      "Learning Rate:  1.677721600000001e-09\n",
      "Stopping early: \n",
      "Loading training split: 0\n",
      "Read lmdb\n",
      "26772\n",
      "Loading training split: 1\n",
      "Read lmdb\n",
      "29594\n",
      "Loading training split: 2\n",
      "Read lmdb\n",
      "27300\n",
      "Loading training split: 3\n",
      "Read lmdb\n",
      "27881\n",
      "Loading training split: 4\n",
      "Read lmdb\n",
      "28378\n",
      "Loading training split: 5\n",
      "Read lmdb\n",
      "30172\n",
      "Loading training split: 6\n",
      "Read lmdb\n",
      "26227\n",
      "Loading training split: 7\n",
      "Read lmdb\n",
      "18963\n",
      "Patches for training: 215287\n",
      "\n",
      "Loading validation split: 8\n",
      "Read lmdb\n",
      "26957\n",
      "Patches for validation: 26957\n",
      "\n",
      "Loading 256_tcia_25ep8\n",
      "Number of free parameters:  1026\n",
      "256_tcia_25ep8\n",
      "\n",
      "EPOCH:  1\n"
     ]
    },
    {
     "data": {
      "application/vnd.jupyter.widget-view+json": {
       "model_id": "0cbb415b42a8431faba4bca9994acc25",
       "version_major": 2,
       "version_minor": 0
      },
      "text/plain": [
       "  0%|          | 0/8599 [00:00<?, ?it/s]"
      ]
     },
     "metadata": {},
     "output_type": "display_data"
    },
    {
     "data": {
      "application/vnd.jupyter.widget-view+json": {
       "model_id": "05f86c3772a54adaa6387be818c30cf4",
       "version_major": 2,
       "version_minor": 0
      },
      "text/plain": [
       "  0%|          | 0/1685 [00:00<?, ?it/s]"
      ]
     },
     "metadata": {},
     "output_type": "display_data"
    },
    {
     "name": "stdout",
     "output_type": "stream",
     "text": [
      "Val loss:  0.504089891910553  Train loss:  0.5690858364105225 \n",
      "\n",
      "Val acc:  0.8013132025076963  Train acc:  0.7259518236926944 \n",
      "\n",
      "Val AUC:  0.0  Train AUC:  0.0\n",
      "Val f1:  0.8408771888106549  Train f1:  0.728884807070159 \n",
      "\n",
      "Val CONF: \n",
      " [[ 6676.  2843.]\n",
      " [ 2513. 14925.]] \n",
      "Train CONF: \n",
      " [[47128. 21472.]\n",
      " [16231. 52747.]] \n",
      "\n",
      "Learning Rate:  1e-08\n",
      "\n",
      "EPOCH:  2\n"
     ]
    },
    {
     "data": {
      "application/vnd.jupyter.widget-view+json": {
       "model_id": "b5c637bda53b4ef799e839c98cbc1215",
       "version_major": 2,
       "version_minor": 0
      },
      "text/plain": [
       "  0%|          | 0/8599 [00:00<?, ?it/s]"
      ]
     },
     "metadata": {},
     "output_type": "display_data"
    },
    {
     "data": {
      "application/vnd.jupyter.widget-view+json": {
       "model_id": "123db8d31e5040448418dad4adf4ba6f",
       "version_major": 2,
       "version_minor": 0
      },
      "text/plain": [
       "  0%|          | 0/1685 [00:00<?, ?it/s]"
      ]
     },
     "metadata": {},
     "output_type": "display_data"
    },
    {
     "name": "stdout",
     "output_type": "stream",
     "text": [
      "Val loss:  0.5058364272117615  Train loss:  0.5679426193237305 \n",
      "\n",
      "Val acc:  0.799087435545497  Train acc:  0.7267659073397891 \n",
      "\n",
      "Val AUC:  0.0  Train AUC:  0.0\n",
      "Val f1:  0.8412965948149458  Train f1:  0.7289024543655122 \n",
      "\n",
      "Val CONF: \n",
      " [[ 6474.  3045.]\n",
      " [ 2371. 15067.]] \n",
      "Train CONF: \n",
      " [[47384. 21711.]\n",
      " [15880. 52603.]] \n",
      "\n",
      "Learning Rate:  8e-09\n",
      "Stopping early: \n",
      "Loading training split: 1\n",
      "Read lmdb\n",
      "29594\n",
      "Loading training split: 2\n",
      "Read lmdb\n",
      "27300\n",
      "Loading training split: 3\n",
      "Read lmdb\n",
      "27881\n",
      "Loading training split: 4\n",
      "Read lmdb\n",
      "28378\n",
      "Loading training split: 5\n",
      "Read lmdb\n",
      "30172\n",
      "Loading training split: 6\n",
      "Read lmdb\n",
      "26227\n",
      "Loading training split: 7\n",
      "Read lmdb\n",
      "18963\n",
      "Loading training split: 8\n",
      "Read lmdb\n",
      "26957\n",
      "Patches for training: 215472\n",
      "\n",
      "Loading validation split: 9\n",
      "Read lmdb\n",
      "23642\n",
      "Patches for validation: 23642\n",
      "\n",
      "Loading 256_tcia_25ep9\n",
      "Number of free parameters:  1026\n",
      "256_tcia_25ep9\n",
      "\n",
      "EPOCH:  1\n"
     ]
    },
    {
     "data": {
      "application/vnd.jupyter.widget-view+json": {
       "model_id": "c6cf7a37f6974c6caa1aec2aadbe913c",
       "version_major": 2,
       "version_minor": 0
      },
      "text/plain": [
       "  0%|          | 0/8724 [00:00<?, ?it/s]"
      ]
     },
     "metadata": {},
     "output_type": "display_data"
    },
    {
     "data": {
      "application/vnd.jupyter.widget-view+json": {
       "model_id": "95fc6877866049f9a3cd27b579ec7c36",
       "version_major": 2,
       "version_minor": 0
      },
      "text/plain": [
       "  0%|          | 0/1478 [00:00<?, ?it/s]"
      ]
     },
     "metadata": {},
     "output_type": "display_data"
    },
    {
     "name": "stdout",
     "output_type": "stream",
     "text": [
      "Val loss:  0.5401682257652283  Train loss:  0.5644124746322632 \n",
      "\n",
      "Val acc:  0.7632180018611016  Train acc:  0.731548480463074 \n",
      "\n",
      "Val AUC:  0.0  Train AUC:  0.0\n",
      "Val f1:  0.8305352270338315  Train f1:  0.7319724171160522 \n",
      "\n",
      "Val CONF: \n",
      " [[ 3647.  2603.]\n",
      " [ 2995. 14397.]] \n",
      "Train CONF: \n",
      " [[48914. 20972.]\n",
      " [16499. 53197.]] \n",
      "\n",
      "Learning Rate:  1e-08\n",
      "\n",
      "EPOCH:  2\n"
     ]
    },
    {
     "data": {
      "application/vnd.jupyter.widget-view+json": {
       "model_id": "6a28198829c845edb50e91128061ac35",
       "version_major": 2,
       "version_minor": 0
      },
      "text/plain": [
       "  0%|          | 0/8724 [00:00<?, ?it/s]"
      ]
     },
     "metadata": {},
     "output_type": "display_data"
    },
    {
     "data": {
      "application/vnd.jupyter.widget-view+json": {
       "model_id": "535d8c08f89346109331ee99fccb0935",
       "version_major": 2,
       "version_minor": 0
      },
      "text/plain": [
       "  0%|          | 0/1478 [00:00<?, ?it/s]"
      ]
     },
     "metadata": {},
     "output_type": "display_data"
    },
    {
     "name": "stdout",
     "output_type": "stream",
     "text": [
      "Val loss:  0.5541433691978455  Train loss:  0.5639380216598511 \n",
      "\n",
      "Val acc:  0.7469757211741868  Train acc:  0.7320571420383453 \n",
      "\n",
      "Val AUC:  0.0  Train AUC:  0.0\n",
      "Val f1:  0.8134542291108401  Train f1:  0.7319712251381135 \n",
      "\n",
      "Val CONF: \n",
      " [[ 3972.  2278.]\n",
      " [ 3704. 13688.]] \n",
      "Train CONF: \n",
      " [[49102. 20988.]\n",
      " [16412. 53080.]] \n",
      "\n",
      "Learning Rate:  8e-09\n",
      "Stopping early: \n"
     ]
    }
   ],
   "source": [
    "# Choosing only the images from the according splits (10CV)\n",
    "\n",
    "SPLITS = [1,2,3,4,5,6,7,8,9] # Number of iterations > n_splits\n",
    "n_splits = 10 # Number of splits to use\n",
    "\n",
    "for SPLIT in SPLITS:\n",
    "    MODEL_NAME = EXP_NAME + f\"{SPLIT}\"\n",
    "\n",
    "    TRAIN_SPLITS = list(range(n_splits))\n",
    "    # We take out the SPLIT and SPLIT+1 sets for val and testing\n",
    "    if SPLIT == n_splits-1: # For the final split for validation we take the first one for test\n",
    "        TRAIN_SPLITS.remove(0) \n",
    "    else:\n",
    "        TRAIN_SPLITS.remove(SPLIT+1)\n",
    "    TRAIN_SPLITS.remove(SPLIT)\n",
    "\n",
    "    train_set = dataset.PatchDataset([], [], [])\n",
    "    val_set = dataset.PatchDataset([], [], [])\n",
    "    test_set = dataset.PatchDataset([], [], [])\n",
    "\n",
    "    # Loading training splits:\n",
    "    for i in TRAIN_SPLITS:\n",
    "        print(f\"Loading training split: {i}\")\n",
    "        SPLIT_NAME = DATA_SET_NAME + f\"{i}\"\n",
    "        \n",
    "        X_, y_, _ , patch_ids_ = data_reader.read_lmdb(f\"D:/data/WSI/patches/{SPLIT_NAME}\")\n",
    "\n",
    "        train_set.inputs.extend(X_)\n",
    "        train_set.labels.extend(y_)\n",
    "        train_set.case_ids.extend(patch_ids_)\n",
    "\n",
    "    # Random oversampler\n",
    "    negative =  [i[0] for i in train_set.labels]\n",
    "    positive =  [i[1] for i in train_set.labels]\n",
    "\n",
    "    class_sample_count = np.array([sum(negative), sum(positive)])\n",
    "    weight = 1. / class_sample_count\n",
    "    samples_weight = np.array([weight[np.argmax(t)] for t in train_set.labels])\n",
    "    samples_weight = torch.from_numpy(samples_weight) # Probability for a sample to be sampled\n",
    "    #samples_weight = torch.tensor([1/len(samples_weight)]*len(samples_weight))\n",
    "    sampler = WeightedRandomSampler(samples_weight.type('torch.DoubleTensor'), 2*int(sum(negative)))#, replacement=False) #int(len(train_set)))#\n",
    "    # Will take len(samples_weight) number of samples, this can be changed\n",
    "\n",
    "    # Creating DataLoader\n",
    "    train_dataloader = DataLoader(train_set, batch_size=BATCH_SIZE, sampler=sampler)\n",
    "    \n",
    "    print(f\"Patches for training: {len(train_set)}\\n\")\n",
    "    \n",
    "    # Loading validation splits:\n",
    "    SPLIT_NAME = DATA_SET_NAME + f\"{SPLIT}\"\n",
    "\n",
    "    print(f\"Loading validation split: {SPLIT}\")\n",
    "\n",
    "    X_, y_, _ , patch_ids_ = data_reader.read_lmdb(f\"D:/data/WSI/patches/{SPLIT_NAME}\")\n",
    "\n",
    "    val_set.inputs.extend(X_)\n",
    "    val_set.labels.extend(y_)\n",
    "    val_set.case_ids.extend(patch_ids_)\n",
    "\n",
    "    val_dataloader = DataLoader(val_set, batch_size=BATCH_SIZE, shuffle=True)\n",
    "\n",
    "    print(f\"Patches for validation: {len(val_set)}\\n\")\n",
    "\n",
    "    init(fine_tuning=fine_tuning)\n",
    "\n",
    "    train()\n",
    "\n",
    "    del train_set, val_set, test_set\n"
   ]
  },
  {
   "cell_type": "code",
   "execution_count": 14,
   "metadata": {},
   "outputs": [],
   "source": [
    "torch.save(net, f\"C:\\\\Users\\\\Alejandro\\\\Desktop\\\\heterogeneous-data\\\\results\\\\WSI\\\\models\\\\{MODEL_NAME}.pth\")"
   ]
  },
  {
   "cell_type": "code",
   "execution_count": 9,
   "metadata": {},
   "outputs": [
    {
     "name": "stdout",
     "output_type": "stream",
     "text": [
      "tcia_25ep0\n"
     ]
    },
    {
     "name": "stderr",
     "output_type": "stream",
     "text": [
      "c:\\Users\\Alejandro\\Desktop\\heterogeneous-data\\src\\WSI\\plots.py:29: UserWarning: Matplotlib is currently using module://matplotlib_inline.backend_inline, which is a non-GUI backend, so cannot show the figure.\n",
      "  fig.show()\n"
     ]
    },
    {
     "data": {
      "image/png": "[encoded data removed]",
      "text/plain": [
       "<Figure size 504x432 with 2 Axes>"
      ]
     },
     "metadata": {
      "needs_background": "light"
     },
     "output_type": "display_data"
    },
    {
     "data": {
      "image/png": "[encoded data removed]",
      "text/plain": [
       "<Figure size 360x504 with 2 Axes>"
      ]
     },
     "metadata": {
      "needs_background": "light"
     },
     "output_type": "display_data"
    }
   ],
   "source": [
    "for SPLIT in range(1):\n",
    "    NAME = EXP_NAME + f\"{SPLIT}\"\n",
    "    print(NAME)\n",
    "    learning_curve_train(NAME)"
   ]
  },
  {
   "cell_type": "code",
   "execution_count": null,
   "metadata": {},
   "outputs": [],
   "source": []
  }
 ],
 "metadata": {
  "interpreter": {
   "hash": "de74446a7cd3a56c425ecbffb2a7ad915342ddab3c48353acb4566475bd7705f"
  },
  "kernelspec": {
   "display_name": "Python 3.9.12 ('openslide')",
   "language": "python",
   "name": "python3"
  },
  "language_info": {
   "codemirror_mode": {
    "name": "ipython",
    "version": 3
   },
   "file_extension": ".py",
   "mimetype": "text/x-python",
   "name": "python",
   "nbconvert_exporter": "python",
   "pygments_lexer": "ipython3",
   "version": "3.9.12"
  },
  "orig_nbformat": 4
 },
 "nbformat": 4,
 "nbformat_minor": 2
}
