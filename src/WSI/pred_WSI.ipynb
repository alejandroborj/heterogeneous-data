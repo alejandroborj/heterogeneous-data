{
 "cells": [
  {
   "cell_type": "code",
   "execution_count": 1,
   "metadata": {},
   "outputs": [],
   "source": [
    "from tqdm.notebook import tqdm\n",
    "import matplotlib.pyplot as plt\n",
    "\n",
    "import torch\n",
    "import torchvision.transforms as transforms\n",
    "import torch.nn as nn\n",
    "from torch.utils.data import DataLoader\n",
    "\n",
    "import numpy as np\n",
    "from sklearn.metrics import confusion_matrix\n",
    "\n",
    "import dataset\n",
    "import data_reader\n",
    "import plots"
   ]
  },
  {
   "cell_type": "code",
   "execution_count": 2,
   "metadata": {},
   "outputs": [
    {
     "name": "stdout",
     "output_type": "stream",
     "text": [
      "Using GPU : cuda:0\n"
     ]
    }
   ],
   "source": [
    "# Choosing device for tensor processing\n",
    "\n",
    "if torch.cuda.is_available():\n",
    "    device = torch.device(\"cuda:0\")\n",
    "    print(\"Using GPU :\", device)\n",
    "else:\n",
    "    device = torch.device(\"cpu\")\n",
    "    print(\"Using CPU \")"
   ]
  },
  {
   "cell_type": "code",
   "execution_count": 3,
   "metadata": {},
   "outputs": [],
   "source": [
    "EXP_NAME = \"ejemplo_2\"\n",
    "EXP_NAME = \"25ep_earlystp_ft\"\n",
    "\n",
    "DATA_SET_NAME = f\"data_set_x20_100%_split\""
   ]
  },
  {
   "cell_type": "code",
   "execution_count": 4,
   "metadata": {},
   "outputs": [],
   "source": [
    "def wsi_class(wsi_data_set):\n",
    "    global net\n",
    "    \"\"\"\n",
    "    Input: \n",
    "    - wsi_data_set, patches from a given WSI, dataset object\n",
    "    - y, patch labels\n",
    "    Outputs:\n",
    "    - output, Prediction\n",
    "    \"\"\"\n",
    "    wsi_dataloader = DataLoader(wsi_data_set, batch_size=64)\n",
    "    outputs = []\n",
    "    loss = 0\n",
    "\n",
    "    for batch_X, batch_y in iter(wsi_dataloader):\n",
    "        batch_X, batch_y = batch_X.type(torch.FloatTensor).to(device).permute(0, 3, 2, 1), batch_y.type(torch.FloatTensor).to(device) \n",
    "\n",
    "        mean = [0.485, 0.456, 0.406]\n",
    "        std = [0.229, 0.224, 0.225]\n",
    "        normalize = transforms.Normalize(mean=mean, std=std)\n",
    "\n",
    "        for i, x in enumerate(batch_X):\n",
    "            batch_X[i] = normalize(batch_X[i]/255) # Np array\n",
    "        \n",
    "        output = net(batch_X)\n",
    "        outputs.extend(output.cpu())\n",
    "        #print(batch_y.size(), output.size())\n",
    "        loss += nn.BCELoss()(output, batch_y).cpu()\n",
    "\n",
    "    y_pred = [torch.argmin(i) for i in outputs] # 1 means positive diagnosis: (1,0) => 1\n",
    "\n",
    "    output = sum(y_pred)/len(y_pred)\n",
    "    loss = loss/len(wsi_data_set)\n",
    "\n",
    "    return output, loss"
   ]
  },
  {
   "cell_type": "code",
   "execution_count": 5,
   "metadata": {},
   "outputs": [
    {
     "name": "stdout",
     "output_type": "stream",
     "text": [
      "Read lmdb\n"
     ]
    },
    {
     "data": {
      "application/vnd.jupyter.widget-view+json": {
       "model_id": "198e017e53f841ddbf125bf7bcb6fdac",
       "version_major": 2,
       "version_minor": 0
      },
      "text/plain": [
       "  0%|          | 0/25 [00:00<?, ?it/s]"
      ]
     },
     "metadata": {},
     "output_type": "display_data"
    },
    {
     "name": "stderr",
     "output_type": "stream",
     "text": [
      "c:\\Users\\Alejandro\\anaconda3\\envs\\openslide\\lib\\site-packages\\torch\\utils\\data\\_utils\\collate.py:146: UserWarning: The given NumPy array is not writable, and PyTorch does not support non-writable tensors. This means writing to this tensor will result in undefined behavior. You may want to copy the array to protect its data or make it writable before converting it to a tensor. This type of warning will be suppressed for the rest of this program. (Triggered internally at  C:\\cb\\pytorch_1000000000000\\work\\torch\\csrc\\utils\\tensor_numpy.cpp:178.)\n",
      "  return default_collate([torch.as_tensor(b) for b in batch])\n"
     ]
    },
    {
     "name": "stdout",
     "output_type": "stream",
     "text": [
      "Mean Loss:  0.0019754516\n",
      "Acc:  1.0\n",
      "PRC:  1.0\n",
      "REC:  1.0\n",
      "f1:  1.0\n",
      "CONF: \n",
      " [[ 4  0]\n",
      " [ 0 21]] \n",
      "\n"
     ]
    },
    {
     "data": {
      "image/png": "[encoded data removed]",
      "text/plain": [
       "<Figure size 432x288 with 2 Axes>"
      ]
     },
     "metadata": {
      "needs_background": "light"
     },
     "output_type": "display_data"
    }
   ],
   "source": [
    "SPLIT_NAME = DATA_SET_NAME + f\"{1}\"\n",
    "MODEL_NAME = EXP_NAME + f\"{0}\"\n",
    "\n",
    "net = torch.load(f\"C:\\\\Users\\\\Alejandro\\\\Desktop\\\\heterogeneous-data\\\\results\\\\WSI\\\\models\\\\{MODEL_NAME}.pth\") # Model loading\n",
    "\n",
    "X, y, _ , case_ids = data_reader.read_lmdb(f\"C:/Users/Alejandro/Desktop/heterogeneous-data/data/WSI/patches/{SPLIT_NAME}\")\n",
    "\n",
    "case_ids = [case_id[2:38] for case_id in case_ids] # Taking only the case_id, not patch id\n",
    "\n",
    "outputs, loss, labels = [], [], []\n",
    "unique_case_ids = np.unique(case_ids)\n",
    "case_ids = np.array(case_ids)\n",
    "\n",
    "for unique_case_id in tqdm(unique_case_ids):\n",
    "\n",
    "    net.eval()\n",
    "    with torch.no_grad():\n",
    "        ii = np.where(case_ids == unique_case_id)[0]\n",
    "\n",
    "        wsi_data_set = dataset.PatchDataset([], [], [])\n",
    "\n",
    "        wsi_data_set.inputs.extend(X[ii[0]:ii[-1]])# Taking the patches from a given wsi\n",
    "        wsi_data_set.labels.extend(y[ii[0]:ii[-1]])\n",
    "        wsi_data_set.case_ids.extend(case_ids)\n",
    "        \n",
    "        output = wsi_class(wsi_data_set)\n",
    "        outputs.append(output[0])\n",
    "        loss.append(output[1])\n",
    "        labels.append(y[ii[0]][0]) # OHE to binary\n",
    "\n",
    "        del wsi_data_set\n",
    "\n",
    "loss = np.mean(loss)\n",
    "\n",
    "out = [1 if output>0.5 else 0 for output in outputs]\n",
    "\n",
    "conf_m = confusion_matrix(labels, out, labels=[0, 1])\n",
    "\n",
    "acc = (conf_m[0][0]+conf_m[1][1])/(conf_m[1][0]+conf_m[0][1]+conf_m[1][1]+conf_m[0][0])\n",
    "prc = conf_m[1][1]/(conf_m[1][1]+conf_m[0][1])\n",
    "rec = conf_m[1][1]/(conf_m[1][1]+conf_m[1][0])\n",
    "f1 = 2*prc*rec/(prc+rec)\n",
    "\n",
    "print(\"Mean Loss: \", loss)\n",
    "print(\"Acc: \", acc)\n",
    "print(\"PRC: \", prc) # TP/TP+FP\n",
    "print(\"REC: \", rec) # TP/TP+FN\n",
    "print(\"f1: \", f1)\n",
    "print(\"CONF: \\n\", conf_m, \"\\n\")\n",
    "\n",
    "plots.plot_conf(SPLIT_NAME, conf_m)\n"
   ]
  },
  {
   "cell_type": "code",
   "execution_count": null,
   "metadata": {},
   "outputs": [],
   "source": [
    "print(unique_case_ids)\n",
    "print(labels)\n",
    "\n",
    "# fd232b29-8298-420c-bd99-c61fc27cc1ad does not meet protocol\n",
    "# 1be7d418-81ce-52c4-8feb-7fe23401bf24 does not meet protocol"
   ]
  },
  {
   "cell_type": "code",
   "execution_count": null,
   "metadata": {},
   "outputs": [],
   "source": [
    "roc = []\n",
    "\n",
    "# ROC\n",
    "for i in reversed(np.linspace(0,1,10000)):\n",
    "    out = [1 if output>i else 0 for output in outputs]\n",
    "    conf_m = confusion_matrix(labels, out, labels=[0, 1])\n",
    "    roc.append(conf_m[1][1]/(conf_m[1][0]+conf_m[1][1]))"
   ]
  },
  {
   "cell_type": "code",
   "execution_count": null,
   "metadata": {},
   "outputs": [],
   "source": [
    "plots.plot_roc(SPLIT_NAME, roc)"
   ]
  },
  {
   "cell_type": "code",
   "execution_count": null,
   "metadata": {},
   "outputs": [],
   "source": [
    "# Choosing only the images from the according splits (10CV)\n",
    "\n",
    "SPLITS = 1 # Number of iterations > n_splits\n",
    "\n",
    "for SPLIT in range(SPLITS):\n",
    "    MODEL_NAME = EXP_NAME + f\"{SPLIT}\"\n",
    "    SPLIT_NAME = DATA_SET_NAME + f\"{SPLIT}\"\n",
    "\n",
    "    test_set = dataset.PatchDataset([], [], [])\n",
    "\n",
    "    X_, y_, _ , case_ids_ = data_reader.read_lmdb(f\"C:/Users/Alejandro/Desktop/heterogeneous-data/data/WSI/patches/{SPLIT_NAME}\")\n",
    "\n",
    "    test_set.inputs.extend(X_)\n",
    "    test_set.labels.extend(y_)\n",
    "    test_set.case_ids.extend(case_ids_)\n",
    "\n",
    "    print(f\"Loading model {MODEL_NAME}\\n\")\n",
    "\n",
    "    net = torch.load(f\"C:\\\\Users\\\\Alejandro\\\\Desktop\\\\heterogeneous-data\\\\results\\\\WSI\\\\models\\\\{MODEL_NAME}.pth\") # Model loading\n",
    "\n",
    "    test_wsi()\n",
    "\n",
    "    del test_set\n"
   ]
  },
  {
   "cell_type": "code",
   "execution_count": null,
   "metadata": {},
   "outputs": [],
   "source": []
  }
 ],
 "metadata": {
  "interpreter": {
   "hash": "de74446a7cd3a56c425ecbffb2a7ad915342ddab3c48353acb4566475bd7705f"
  },
  "kernelspec": {
   "display_name": "Python 3.9.12 ('openslide')",
   "language": "python",
   "name": "python3"
  },
  "language_info": {
   "codemirror_mode": {
    "name": "ipython",
    "version": 3
   },
   "file_extension": ".py",
   "mimetype": "text/x-python",
   "name": "python",
   "nbconvert_exporter": "python",
   "pygments_lexer": "ipython3",
   "version": "3.9.12"
  },
  "orig_nbformat": 4
 },
 "nbformat": 4,
 "nbformat_minor": 2
}
