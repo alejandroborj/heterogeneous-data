{
 "cells": [
  {
   "cell_type": "code",
   "execution_count": 1,
   "metadata": {},
   "outputs": [],
   "source": [
    "from tqdm.notebook import tqdm\n",
    "import matplotlib.pyplot as plt\n",
    "\n",
    "import torch\n",
    "import torchvision.transforms as transforms\n",
    "import torch.nn as nn\n",
    "from torch.utils.data import DataLoader\n",
    "\n",
    "import numpy as np\n",
    "import sklearn.metrics\n",
    "import pandas as pd\n",
    "\n",
    "import dataset\n",
    "import data_reader\n",
    "import plots"
   ]
  },
  {
   "cell_type": "code",
   "execution_count": 2,
   "metadata": {},
   "outputs": [
    {
     "name": "stdout",
     "output_type": "stream",
     "text": [
      "Using GPU : cuda:0\n"
     ]
    }
   ],
   "source": [
    "# Choosing device for tensor processing\n",
    "\n",
    "if torch.cuda.is_available():\n",
    "    device = torch.device(\"cuda:0\")\n",
    "    print(\"Using GPU :\", device)\n",
    "else:\n",
    "    device = torch.device(\"cpu\")\n",
    "    print(\"Using CPU \")"
   ]
  },
  {
   "cell_type": "code",
   "execution_count": 3,
   "metadata": {},
   "outputs": [],
   "source": [
    "EXP_NAME = \"25ep0\"#\"tcia_25ep\"\n",
    "\n",
    "DATA_SET_NAME = f\"data_set_X20_100%_SPLIT\"#\"tcia_data_set_SPLIT\""
   ]
  },
  {
   "cell_type": "code",
   "execution_count": 4,
   "metadata": {},
   "outputs": [],
   "source": [
    "def wsi_class(wsi_data_set):\n",
    "    global net\n",
    "    \"\"\"\n",
    "    Input: \n",
    "    - wsi_data_set, patches from a given WSI, dataset object\n",
    "    - y, patch labels\n",
    "    Outputs:\n",
    "    - output, Prediction\n",
    "    \"\"\"\n",
    "    wsi_dataloader = DataLoader(wsi_data_set, batch_size=64)\n",
    "    outputs = []\n",
    "    loss = 0\n",
    "\n",
    "    for batch_X, batch_y in iter(wsi_dataloader):\n",
    "        batch_X, batch_y = batch_X.type(torch.FloatTensor).to(device).permute(0, 3, 2, 1), batch_y.type(torch.FloatTensor).to(device) \n",
    "\n",
    "        mean = [0.485, 0.456, 0.406]\n",
    "        std = [0.229, 0.224, 0.225]\n",
    "        normalize = transforms.Normalize(mean=mean, std=std)\n",
    "\n",
    "        for i, x in enumerate(batch_X):\n",
    "            batch_X[i] = normalize(batch_X[i]/255) # Np array\n",
    "    \n",
    "        output = net(batch_X)\n",
    "        outputs.extend(output.cpu())\n",
    "        \n",
    "        loss += nn.CrossEntropyLoss()(output, batch_y).cpu()\n",
    "\n",
    "    #print(outputs)\n",
    "\n",
    "    y_pred = [torch.argmax(i) for i in outputs] # 1 means positive diagnosis: (1,0) => 1\n",
    "    prob_neg = y_pred.count(0)/len(y_pred)\n",
    "    prob_pos = y_pred.count(1)/len(y_pred)\n",
    "\n",
    "    output = [prob_neg, prob_pos]\n",
    "    loss = loss/len(wsi_data_set)\n",
    "\n",
    "    return output, loss"
   ]
  },
  {
   "cell_type": "code",
   "execution_count": 5,
   "metadata": {},
   "outputs": [
    {
     "name": "stdout",
     "output_type": "stream",
     "text": [
      "data_set_X20_100%_SPLIT1\n",
      "Read lmdb\n",
      "8207\n"
     ]
    },
    {
     "data": {
      "application/vnd.jupyter.widget-view+json": {
       "model_id": "5b59d7afa0234f61866431e7cfdc76b1",
       "version_major": 2,
       "version_minor": 0
      },
      "text/plain": [
       "  0%|          | 0/52 [00:00<?, ?it/s]"
      ]
     },
     "metadata": {},
     "output_type": "display_data"
    },
    {
     "name": "stderr",
     "output_type": "stream",
     "text": [
      "c:\\Users\\Alejandro\\anaconda3\\envs\\openslide\\lib\\site-packages\\torch\\utils\\data\\_utils\\collate.py:146: UserWarning: The given NumPy array is not writable, and PyTorch does not support non-writable tensors. This means writing to this tensor will result in undefined behavior. You may want to copy the array to protect its data or make it writable before converting it to a tensor. This type of warning will be suppressed for the rest of this program. (Triggered internally at  C:\\cb\\pytorch_1000000000000\\work\\torch\\csrc\\utils\\tensor_numpy.cpp:178.)\n",
      "  return default_collate([torch.as_tensor(b) for b in batch])\n"
     ]
    },
    {
     "name": "stdout",
     "output_type": "stream",
     "text": [
      "Mean Loss:  0.009576947\n",
      "Acc:  0.9230769230769231\n",
      "f1:  0.9\n",
      "CONF: \n",
      " [[30  4]\n",
      " [ 0 18]] \n",
      "\n",
      "data_set_X20_100%_SPLIT2\n",
      "Read lmdb\n",
      "9777\n"
     ]
    },
    {
     "data": {
      "application/vnd.jupyter.widget-view+json": {
       "model_id": "7ae9f5d9a3af4c12974219aea75b877a",
       "version_major": 2,
       "version_minor": 0
      },
      "text/plain": [
       "  0%|          | 0/51 [00:00<?, ?it/s]"
      ]
     },
     "metadata": {},
     "output_type": "display_data"
    },
    {
     "name": "stdout",
     "output_type": "stream",
     "text": [
      "Mean Loss:  0.009312212\n",
      "Acc:  0.9019607843137255\n",
      "f1:  0.8648648648648649\n",
      "CONF: \n",
      " [[30  3]\n",
      " [ 2 16]] \n",
      "\n",
      "data_set_X20_100%_SPLIT3\n",
      "Read lmdb\n",
      "9243\n"
     ]
    },
    {
     "data": {
      "application/vnd.jupyter.widget-view+json": {
       "model_id": "49eb3b2beb414a4793765e28883a2442",
       "version_major": 2,
       "version_minor": 0
      },
      "text/plain": [
       "  0%|          | 0/52 [00:00<?, ?it/s]"
      ]
     },
     "metadata": {},
     "output_type": "display_data"
    },
    {
     "name": "stdout",
     "output_type": "stream",
     "text": [
      "Mean Loss:  0.010736378\n",
      "Acc:  0.75\n",
      "f1:  0.6486486486486486\n",
      "CONF: \n",
      " [[27  6]\n",
      " [ 7 12]] \n",
      "\n",
      "data_set_X20_100%_SPLIT4\n",
      "Read lmdb\n",
      "8730\n"
     ]
    },
    {
     "data": {
      "application/vnd.jupyter.widget-view+json": {
       "model_id": "fdc1d1a7d2d84169af4b5f49d44cd37b",
       "version_major": 2,
       "version_minor": 0
      },
      "text/plain": [
       "  0%|          | 0/52 [00:00<?, ?it/s]"
      ]
     },
     "metadata": {},
     "output_type": "display_data"
    },
    {
     "name": "stdout",
     "output_type": "stream",
     "text": [
      "Mean Loss:  0.009797827\n",
      "Acc:  0.9038461538461539\n",
      "f1:  0.8717948717948718\n",
      "CONF: \n",
      " [[30  3]\n",
      " [ 2 17]] \n",
      "\n",
      "data_set_X20_100%_SPLIT5\n",
      "Read lmdb\n",
      "8520\n"
     ]
    },
    {
     "data": {
      "application/vnd.jupyter.widget-view+json": {
       "model_id": "d44581058a2b47fe9b7093a010213023",
       "version_major": 2,
       "version_minor": 0
      },
      "text/plain": [
       "  0%|          | 0/53 [00:00<?, ?it/s]"
      ]
     },
     "metadata": {},
     "output_type": "display_data"
    },
    {
     "name": "stdout",
     "output_type": "stream",
     "text": [
      "Mean Loss:  0.010447297\n",
      "Acc:  0.8867924528301887\n",
      "f1:  0.8333333333333333\n",
      "CONF: \n",
      " [[32  2]\n",
      " [ 4 15]] \n",
      "\n",
      "data_set_X20_100%_SPLIT6\n",
      "Read lmdb\n",
      "8464\n"
     ]
    },
    {
     "data": {
      "application/vnd.jupyter.widget-view+json": {
       "model_id": "4b44005b84bf407b814c2c09bf69b3a2",
       "version_major": 2,
       "version_minor": 0
      },
      "text/plain": [
       "  0%|          | 0/51 [00:00<?, ?it/s]"
      ]
     },
     "metadata": {},
     "output_type": "display_data"
    },
    {
     "name": "stdout",
     "output_type": "stream",
     "text": [
      "Mean Loss:  0.008959981\n",
      "Acc:  0.9607843137254902\n",
      "f1:  0.9444444444444444\n",
      "CONF: \n",
      " [[32  1]\n",
      " [ 1 17]] \n",
      "\n",
      "data_set_X20_100%_SPLIT7\n",
      "Read lmdb\n",
      "8236\n"
     ]
    },
    {
     "data": {
      "application/vnd.jupyter.widget-view+json": {
       "model_id": "c5f3e751681e46ef8558f881dd9d0060",
       "version_major": 2,
       "version_minor": 0
      },
      "text/plain": [
       "  0%|          | 0/51 [00:00<?, ?it/s]"
      ]
     },
     "metadata": {},
     "output_type": "display_data"
    },
    {
     "name": "stdout",
     "output_type": "stream",
     "text": [
      "Mean Loss:  0.009398726\n",
      "Acc:  0.9019607843137255\n",
      "f1:  0.878048780487805\n",
      "CONF: \n",
      " [[28  5]\n",
      " [ 0 18]] \n",
      "\n",
      "data_set_X20_100%_SPLIT8\n",
      "Read lmdb\n",
      "7714\n"
     ]
    },
    {
     "data": {
      "application/vnd.jupyter.widget-view+json": {
       "model_id": "964bb040501d41ea8e23780e69d002bb",
       "version_major": 2,
       "version_minor": 0
      },
      "text/plain": [
       "  0%|          | 0/51 [00:00<?, ?it/s]"
      ]
     },
     "metadata": {},
     "output_type": "display_data"
    },
    {
     "name": "stdout",
     "output_type": "stream",
     "text": [
      "Mean Loss:  0.011939272\n",
      "Acc:  0.8823529411764706\n",
      "f1:  0.85\n",
      "CONF: \n",
      " [[28  5]\n",
      " [ 1 17]] \n",
      "\n",
      "data_set_X20_100%_SPLIT9\n",
      "Read lmdb\n",
      "9329\n"
     ]
    },
    {
     "data": {
      "application/vnd.jupyter.widget-view+json": {
       "model_id": "01b3732b571c4a04aa6fa30e0ec68ee2",
       "version_major": 2,
       "version_minor": 0
      },
      "text/plain": [
       "  0%|          | 0/51 [00:00<?, ?it/s]"
      ]
     },
     "metadata": {},
     "output_type": "display_data"
    },
    {
     "name": "stdout",
     "output_type": "stream",
     "text": [
      "Mean Loss:  0.008971892\n",
      "Acc:  0.8823529411764706\n",
      "f1:  0.823529411764706\n",
      "CONF: \n",
      " [[31  2]\n",
      " [ 4 14]] \n",
      "\n",
      "data_set_X20_100%_SPLIT0\n",
      "Read lmdb\n",
      "8209\n"
     ]
    },
    {
     "data": {
      "application/vnd.jupyter.widget-view+json": {
       "model_id": "a07da8a2226e4633b94082a834a3ac91",
       "version_major": 2,
       "version_minor": 0
      },
      "text/plain": [
       "  0%|          | 0/52 [00:00<?, ?it/s]"
      ]
     },
     "metadata": {},
     "output_type": "display_data"
    },
    {
     "name": "stdout",
     "output_type": "stream",
     "text": [
      "Mean Loss:  0.011014888\n",
      "Acc:  0.8461538461538461\n",
      "f1:  0.7999999999999999\n",
      "CONF: \n",
      " [[28  6]\n",
      " [ 2 16]] \n",
      "\n",
      "[[296.  37.]\n",
      " [ 23. 160.]]\n"
     ]
    },
    {
     "data": {
      "image/png": "[encoded data removed]",
      "text/plain": [
       "<Figure size 432x288 with 2 Axes>"
      ]
     },
     "metadata": {
      "needs_background": "light"
     },
     "output_type": "display_data"
    },
    {
     "data": {
      "image/png": "[encoded data removed]",
      "text/plain": [
       "<Figure size 432x288 with 2 Axes>"
      ]
     },
     "metadata": {
      "needs_background": "light"
     },
     "output_type": "display_data"
    },
    {
     "data": {
      "image/png": "[encoded data removed]",
      "text/plain": [
       "<Figure size 432x288 with 2 Axes>"
      ]
     },
     "metadata": {
      "needs_background": "light"
     },
     "output_type": "display_data"
    },
    {
     "data": {
      "image/png": "[encoded data removed]",
      "text/plain": [
       "<Figure size 432x288 with 2 Axes>"
      ]
     },
     "metadata": {
      "needs_background": "light"
     },
     "output_type": "display_data"
    },
    {
     "data": {
      "image/png": "[encoded data removed]",
      "text/plain": [
       "<Figure size 432x288 with 2 Axes>"
      ]
     },
     "metadata": {
      "needs_background": "light"
     },
     "output_type": "display_data"
    },
    {
     "data": {
      "image/png": "[encoded data removed]",
      "text/plain": [
       "<Figure size 432x288 with 2 Axes>"
      ]
     },
     "metadata": {
      "needs_background": "light"
     },
     "output_type": "display_data"
    },
    {
     "data": {
      "image/png": "[encoded data removed]",
      "text/plain": [
       "<Figure size 432x288 with 2 Axes>"
      ]
     },
     "metadata": {
      "needs_background": "light"
     },
     "output_type": "display_data"
    },
    {
     "data": {
      "image/png": "[encoded data removed]",
      "text/plain": [
       "<Figure size 432x288 with 2 Axes>"
      ]
     },
     "metadata": {
      "needs_background": "light"
     },
     "output_type": "display_data"
    },
    {
     "data": {
      "image/png": "[encoded data removed]",
      "text/plain": [
       "<Figure size 432x288 with 2 Axes>"
      ]
     },
     "metadata": {
      "needs_background": "light"
     },
     "output_type": "display_data"
    },
    {
     "data": {
      "image/png": "[encoded data removed]",
      "text/plain": [
       "<Figure size 432x288 with 2 Axes>"
      ]
     },
     "metadata": {
      "needs_background": "light"
     },
     "output_type": "display_data"
    }
   ],
   "source": [
    "n_splits = 10\n",
    "tot_conf = np.zeros((2,2))\n",
    "tot_out, tot_labels, accs, f1s, losses = [], [], [], [], []\n",
    "\n",
    "for SPLIT in range(n_splits):\n",
    "\n",
    "    test_out = pd.DataFrame(columns=[\"Sample ID\", \"Output\", \"Label\"])\n",
    "    \n",
    "    if SPLIT == n_splits-1: # For the final split for validation we take the firs one for test\n",
    "        SPLIT_NAME = DATA_SET_NAME + f\"{0}\" # Test set \n",
    "    else:\n",
    "        SPLIT_NAME = DATA_SET_NAME + f\"{SPLIT+1}\" # Test set\n",
    "    \n",
    "    MODEL_NAME = EXP_NAME + f\"{SPLIT}\"\n",
    "    MODEL_NAME = \"tcia_25ep2\"\n",
    "\n",
    "    print(SPLIT_NAME)\n",
    "\n",
    "    net = torch.load(f\"C:\\\\Users\\\\Alejandro\\\\Desktop\\\\heterogeneous-data\\\\results\\\\WSI\\\\models\\\\{MODEL_NAME}.pth\") # Model loading\n",
    "\n",
    "    X, y, _ , case_ids = data_reader.read_lmdb(f\"D:\\data\\WSI\\patches\\{SPLIT_NAME}\")\n",
    "\n",
    "    sample_ids = [case_id.split(\"_\")[1] for case_id in case_ids] # Taking only the sample_id, not patch id\n",
    "\n",
    "    outputs, loss, labels = [], [], []\n",
    "    unique_sample_ids = np.unique(sample_ids)\n",
    "    sample_ids = np.array(sample_ids)\n",
    "\n",
    "    for unique_sample_id in tqdm(unique_sample_ids):\n",
    "\n",
    "        net.eval()\n",
    "        with torch.no_grad():\n",
    "    \n",
    "            ii = np.where(sample_ids == unique_sample_id)[0]\n",
    "\n",
    "            wsi_data_set = dataset.PatchDataset([], [], [])\n",
    "\n",
    "            wsi_data_set.inputs.extend(X[ii[0]:ii[-1]])# Taking the patches from a given wsi\n",
    "            wsi_data_set.labels.extend(y[ii[0]:ii[-1]])\n",
    "            wsi_data_set.case_ids.extend(sample_ids)\n",
    "\n",
    "            if len(wsi_data_set) == 0:\n",
    "                print(\"No patches\")\n",
    "                outputs.append([np.nan,np.nan])\n",
    "                labels.append(np.argmax(y[ii[0]]))\n",
    "                pass\n",
    "            else:\n",
    "                output = wsi_class(wsi_data_set)\n",
    "                outputs.append(output[0])\n",
    "                loss.append(output[1])\n",
    "                labels.append(np.argmax(y[ii[0]])) # OHE to binary\n",
    "\n",
    "            del wsi_data_set\n",
    "\n",
    "    loss = np.mean(loss)\n",
    "\n",
    "    out = [np.argmax(output) for output in outputs]\n",
    "\n",
    "    conf_m = sklearn.metrics.confusion_matrix(labels, out, labels=[0, 1])\n",
    "    acc = sklearn.metrics.accuracy_score(labels, out)\n",
    "    f1 = sklearn.metrics.f1_score(labels, out)\n",
    "    auc = 0 #sklearn.metrics.roc_auc_score(y_true, y_pred, average= \"micro\", multi_class=\"ovr\") #!!!!\n",
    "\n",
    "    tot_out += out\n",
    "    tot_labels += labels\n",
    "\n",
    "    print(\"Mean Loss: \", loss)\n",
    "    print(\"Acc: \", acc)\n",
    "    print(\"f1: \", f1)\n",
    "    print(\"CONF: \\n\", conf_m, \"\\n\")\n",
    "\n",
    "    tot_conf += conf_m\n",
    "\n",
    "    plots.plot_conf(SPLIT_NAME, conf_m)\n",
    "    \n",
    "    test_out[\"Sample ID\"] = unique_sample_ids # The samples are ordered since the loop goes through unique_sample_ids\n",
    "    test_out[\"Output\"] = [output[0] for output in outputs]\n",
    "    test_out[\"Label\"] = labels\n",
    "\n",
    "    #test_out.to_csv(f\"D:\\data\\Outputs\\WSI\\PDAC_test_{SPLIT+1}.csv\")\n",
    "\n",
    "    accs.append(acc)\n",
    "    f1s.append(f1)\n",
    "    losses.append(loss)\n",
    "\n",
    "tot_acc = np.mean(accs)\n",
    "tot_f1 = np.mean(f1s)\n",
    "tot_loss = np.mean(losses)\n",
    "\n",
    "err_acc = np.std(accs)\n",
    "err_f1 = np.std(f1s)\n",
    "err_loss = np.std(losses)\n",
    "\n",
    "print(tot_conf)"
   ]
  },
  {
   "cell_type": "code",
   "execution_count": 9,
   "metadata": {},
   "outputs": [
    {
     "name": "stdout",
     "output_type": "stream",
     "text": [
      "0.8837209302325582\n",
      "0.8421052631578948\n"
     ]
    },
    {
     "data": {
      "image/png": "[encoded data removed]",
      "text/plain": [
       "<Figure size 432x288 with 2 Axes>"
      ]
     },
     "metadata": {
      "needs_background": "light"
     },
     "output_type": "display_data"
    }
   ],
   "source": [
    "print(tot_acc)\n",
    "print(tot_f1)\n",
    "\n",
    "plots.plot_conf(\"10CV\", tot_conf)\n"
   ]
  },
  {
   "cell_type": "code",
   "execution_count": 7,
   "metadata": {},
   "outputs": [
    {
     "ename": "ValueError",
     "evalue": "The truth value of an array with more than one element is ambiguous. Use a.any() or a.all()",
     "output_type": "error",
     "traceback": [
      "\u001b[1;31m---------------------------------------------------------------------------\u001b[0m",
      "\u001b[1;31mValueError\u001b[0m                                Traceback (most recent call last)",
      "\u001b[1;32mc:\\Users\\Alejandro\\Desktop\\heterogeneous-data\\src\\WSI\\pred_WSI.ipynb Celda 7\u001b[0m in \u001b[0;36m<cell line: 5>\u001b[1;34m()\u001b[0m\n\u001b[0;32m      <a href='vscode-notebook-cell:/c%3A/Users/Alejandro/Desktop/heterogeneous-data/src/WSI/pred_WSI.ipynb#W6sZmlsZQ%3D%3D?line=3'>4</a>\u001b[0m \u001b[39m# ROC\u001b[39;00m\n\u001b[0;32m      <a href='vscode-notebook-cell:/c%3A/Users/Alejandro/Desktop/heterogeneous-data/src/WSI/pred_WSI.ipynb#W6sZmlsZQ%3D%3D?line=4'>5</a>\u001b[0m \u001b[39mfor\u001b[39;00m i \u001b[39min\u001b[39;00m \u001b[39mreversed\u001b[39m(np\u001b[39m.\u001b[39mlinspace(\u001b[39m0\u001b[39m,\u001b[39m1\u001b[39m,\u001b[39m10000\u001b[39m)):\n\u001b[1;32m----> <a href='vscode-notebook-cell:/c%3A/Users/Alejandro/Desktop/heterogeneous-data/src/WSI/pred_WSI.ipynb#W6sZmlsZQ%3D%3D?line=5'>6</a>\u001b[0m     out \u001b[39m=\u001b[39m [\u001b[39m1\u001b[39m \u001b[39mif\u001b[39;00m output\u001b[39m>\u001b[39mi \u001b[39melse\u001b[39;00m \u001b[39m0\u001b[39m \u001b[39mfor\u001b[39;00m output \u001b[39min\u001b[39;00m outputs]\n\u001b[0;32m      <a href='vscode-notebook-cell:/c%3A/Users/Alejandro/Desktop/heterogeneous-data/src/WSI/pred_WSI.ipynb#W6sZmlsZQ%3D%3D?line=6'>7</a>\u001b[0m     conf_m \u001b[39m=\u001b[39m confusion_matrix(labels, out, labels\u001b[39m=\u001b[39m[\u001b[39m0\u001b[39m, \u001b[39m1\u001b[39m])\n\u001b[0;32m      <a href='vscode-notebook-cell:/c%3A/Users/Alejandro/Desktop/heterogeneous-data/src/WSI/pred_WSI.ipynb#W6sZmlsZQ%3D%3D?line=7'>8</a>\u001b[0m     roc\u001b[39m.\u001b[39mappend(conf_m[\u001b[39m1\u001b[39m][\u001b[39m1\u001b[39m]\u001b[39m/\u001b[39m(conf_m[\u001b[39m1\u001b[39m][\u001b[39m0\u001b[39m]\u001b[39m+\u001b[39mconf_m[\u001b[39m1\u001b[39m][\u001b[39m1\u001b[39m]))\n",
      "\u001b[1;32mc:\\Users\\Alejandro\\Desktop\\heterogeneous-data\\src\\WSI\\pred_WSI.ipynb Celda 7\u001b[0m in \u001b[0;36m<listcomp>\u001b[1;34m(.0)\u001b[0m\n\u001b[0;32m      <a href='vscode-notebook-cell:/c%3A/Users/Alejandro/Desktop/heterogeneous-data/src/WSI/pred_WSI.ipynb#W6sZmlsZQ%3D%3D?line=3'>4</a>\u001b[0m \u001b[39m# ROC\u001b[39;00m\n\u001b[0;32m      <a href='vscode-notebook-cell:/c%3A/Users/Alejandro/Desktop/heterogeneous-data/src/WSI/pred_WSI.ipynb#W6sZmlsZQ%3D%3D?line=4'>5</a>\u001b[0m \u001b[39mfor\u001b[39;00m i \u001b[39min\u001b[39;00m \u001b[39mreversed\u001b[39m(np\u001b[39m.\u001b[39mlinspace(\u001b[39m0\u001b[39m,\u001b[39m1\u001b[39m,\u001b[39m10000\u001b[39m)):\n\u001b[1;32m----> <a href='vscode-notebook-cell:/c%3A/Users/Alejandro/Desktop/heterogeneous-data/src/WSI/pred_WSI.ipynb#W6sZmlsZQ%3D%3D?line=5'>6</a>\u001b[0m     out \u001b[39m=\u001b[39m [\u001b[39m1\u001b[39m \u001b[39mif\u001b[39;00m output\u001b[39m>\u001b[39;49mi \u001b[39melse\u001b[39;00m \u001b[39m0\u001b[39m \u001b[39mfor\u001b[39;00m output \u001b[39min\u001b[39;00m outputs]\n\u001b[0;32m      <a href='vscode-notebook-cell:/c%3A/Users/Alejandro/Desktop/heterogeneous-data/src/WSI/pred_WSI.ipynb#W6sZmlsZQ%3D%3D?line=6'>7</a>\u001b[0m     conf_m \u001b[39m=\u001b[39m confusion_matrix(labels, out, labels\u001b[39m=\u001b[39m[\u001b[39m0\u001b[39m, \u001b[39m1\u001b[39m])\n\u001b[0;32m      <a href='vscode-notebook-cell:/c%3A/Users/Alejandro/Desktop/heterogeneous-data/src/WSI/pred_WSI.ipynb#W6sZmlsZQ%3D%3D?line=7'>8</a>\u001b[0m     roc\u001b[39m.\u001b[39mappend(conf_m[\u001b[39m1\u001b[39m][\u001b[39m1\u001b[39m]\u001b[39m/\u001b[39m(conf_m[\u001b[39m1\u001b[39m][\u001b[39m0\u001b[39m]\u001b[39m+\u001b[39mconf_m[\u001b[39m1\u001b[39m][\u001b[39m1\u001b[39m]))\n",
      "\u001b[1;31mValueError\u001b[0m: The truth value of an array with more than one element is ambiguous. Use a.any() or a.all()"
     ]
    }
   ],
   "source": [
    "roc = []\n",
    "\n",
    "\n",
    "# ROC\n",
    "for i in reversed(np.linspace(0,1,10000)):\n",
    "    out = [1 if output>i else 0 for output in outputs]\n",
    "    conf_m = confusion_matrix(labels, out, labels=[0, 1])\n",
    "    roc.append(conf_m[1][1]/(conf_m[1][0]+conf_m[1][1]))"
   ]
  },
  {
   "cell_type": "code",
   "execution_count": null,
   "metadata": {},
   "outputs": [],
   "source": [
    "plots.plot_roc(SPLIT_NAME, roc)"
   ]
  },
  {
   "cell_type": "code",
   "execution_count": 37,
   "metadata": {},
   "outputs": [
    {
     "name": "stdout",
     "output_type": "stream",
     "text": [
      "tcia_data_set_SPLIT1\n",
      "Read lmdb\n",
      "23065\n"
     ]
    },
    {
     "data": {
      "application/vnd.jupyter.widget-view+json": {
       "model_id": "cf307b2069e149c3835d21e3319ab417",
       "version_major": 2,
       "version_minor": 0
      },
      "text/plain": [
       "  0%|          | 0/62 [00:00<?, ?it/s]"
      ]
     },
     "metadata": {},
     "output_type": "display_data"
    },
    {
     "name": "stdout",
     "output_type": "stream",
     "text": [
      "No patches\n",
      "tcia_data_set_SPLIT2\n",
      "Read lmdb\n",
      "20366\n"
     ]
    },
    {
     "data": {
      "application/vnd.jupyter.widget-view+json": {
       "model_id": "a5c8f278a78e42569ab1489545652bdc",
       "version_major": 2,
       "version_minor": 0
      },
      "text/plain": [
       "  0%|          | 0/56 [00:00<?, ?it/s]"
      ]
     },
     "metadata": {},
     "output_type": "display_data"
    },
    {
     "name": "stdout",
     "output_type": "stream",
     "text": [
      "tcia_data_set_SPLIT3\n",
      "Read lmdb\n",
      "20818\n"
     ]
    },
    {
     "data": {
      "application/vnd.jupyter.widget-view+json": {
       "model_id": "50aa7ad131544f2aaf35d2bb4fd5a7c3",
       "version_major": 2,
       "version_minor": 0
      },
      "text/plain": [
       "  0%|          | 0/56 [00:00<?, ?it/s]"
      ]
     },
     "metadata": {},
     "output_type": "display_data"
    },
    {
     "name": "stdout",
     "output_type": "stream",
     "text": [
      "tcia_data_set_SPLIT4\n",
      "Read lmdb\n",
      "20947\n"
     ]
    },
    {
     "data": {
      "application/vnd.jupyter.widget-view+json": {
       "model_id": "a156c26ee5804cf3a5fd0e507a8b41f9",
       "version_major": 2,
       "version_minor": 0
      },
      "text/plain": [
       "  0%|          | 0/59 [00:00<?, ?it/s]"
      ]
     },
     "metadata": {},
     "output_type": "display_data"
    },
    {
     "name": "stdout",
     "output_type": "stream",
     "text": [
      "tcia_data_set_SPLIT5\n",
      "Read lmdb\n",
      "26374\n"
     ]
    },
    {
     "data": {
      "application/vnd.jupyter.widget-view+json": {
       "model_id": "f82978a1f3a8440aa3860dc31729703f",
       "version_major": 2,
       "version_minor": 0
      },
      "text/plain": [
       "  0%|          | 0/62 [00:00<?, ?it/s]"
      ]
     },
     "metadata": {},
     "output_type": "display_data"
    },
    {
     "name": "stdout",
     "output_type": "stream",
     "text": [
      "No patches\n",
      "tcia_data_set_SPLIT6\n",
      "Read lmdb\n",
      "14995\n"
     ]
    },
    {
     "data": {
      "application/vnd.jupyter.widget-view+json": {
       "model_id": "cf4f3068506d4b0b840580f669d4ef6b",
       "version_major": 2,
       "version_minor": 0
      },
      "text/plain": [
       "  0%|          | 0/56 [00:00<?, ?it/s]"
      ]
     },
     "metadata": {},
     "output_type": "display_data"
    },
    {
     "name": "stdout",
     "output_type": "stream",
     "text": [
      "tcia_data_set_SPLIT7\n",
      "Read lmdb\n",
      "10407\n"
     ]
    },
    {
     "data": {
      "application/vnd.jupyter.widget-view+json": {
       "model_id": "24d88c45e3cd474f923e262ec7508f3c",
       "version_major": 2,
       "version_minor": 0
      },
      "text/plain": [
       "  0%|          | 0/44 [00:00<?, ?it/s]"
      ]
     },
     "metadata": {},
     "output_type": "display_data"
    },
    {
     "name": "stdout",
     "output_type": "stream",
     "text": [
      "tcia_data_set_SPLIT8\n",
      "Read lmdb\n",
      "22786\n"
     ]
    },
    {
     "data": {
      "application/vnd.jupyter.widget-view+json": {
       "model_id": "189babcae3fd4a7faf996e14d91ae7bd",
       "version_major": 2,
       "version_minor": 0
      },
      "text/plain": [
       "  0%|          | 0/56 [00:00<?, ?it/s]"
      ]
     },
     "metadata": {},
     "output_type": "display_data"
    },
    {
     "name": "stdout",
     "output_type": "stream",
     "text": [
      "tcia_data_set_SPLIT9\n",
      "Read lmdb\n",
      "19800\n"
     ]
    },
    {
     "data": {
      "application/vnd.jupyter.widget-view+json": {
       "model_id": "ec2f19aa10384b90b0d17c1f4e869aa1",
       "version_major": 2,
       "version_minor": 0
      },
      "text/plain": [
       "  0%|          | 0/50 [00:00<?, ?it/s]"
      ]
     },
     "metadata": {},
     "output_type": "display_data"
    },
    {
     "name": "stdout",
     "output_type": "stream",
     "text": [
      "tcia_data_set_SPLIT0\n",
      "Read lmdb\n",
      "18709\n"
     ]
    },
    {
     "data": {
      "application/vnd.jupyter.widget-view+json": {
       "model_id": "7b6a5e47c5154f8a9534f341efe31435",
       "version_major": 2,
       "version_minor": 0
      },
      "text/plain": [
       "  0%|          | 0/55 [00:00<?, ?it/s]"
      ]
     },
     "metadata": {},
     "output_type": "display_data"
    },
    {
     "name": "stdout",
     "output_type": "stream",
     "text": [
      "tcia_data_set_SPLIT1\n",
      "Read lmdb\n",
      "23065\n"
     ]
    },
    {
     "data": {
      "application/vnd.jupyter.widget-view+json": {
       "model_id": "8e0f456cc4dc418cbff0e3db9cd46227",
       "version_major": 2,
       "version_minor": 0
      },
      "text/plain": [
       "  0%|          | 0/62 [00:00<?, ?it/s]"
      ]
     },
     "metadata": {},
     "output_type": "display_data"
    },
    {
     "name": "stdout",
     "output_type": "stream",
     "text": [
      "No patches\n",
      "tcia_data_set_SPLIT2\n",
      "Read lmdb\n",
      "20366\n"
     ]
    },
    {
     "data": {
      "application/vnd.jupyter.widget-view+json": {
       "model_id": "94625c30b3494fb2bdd89f0b3ca3dd08",
       "version_major": 2,
       "version_minor": 0
      },
      "text/plain": [
       "  0%|          | 0/56 [00:00<?, ?it/s]"
      ]
     },
     "metadata": {},
     "output_type": "display_data"
    },
    {
     "name": "stdout",
     "output_type": "stream",
     "text": [
      "tcia_data_set_SPLIT3\n",
      "Read lmdb\n",
      "20818\n"
     ]
    },
    {
     "data": {
      "application/vnd.jupyter.widget-view+json": {
       "model_id": "af4b84e796ef44e3ab3ae388ca2a71bf",
       "version_major": 2,
       "version_minor": 0
      },
      "text/plain": [
       "  0%|          | 0/56 [00:00<?, ?it/s]"
      ]
     },
     "metadata": {},
     "output_type": "display_data"
    },
    {
     "name": "stdout",
     "output_type": "stream",
     "text": [
      "tcia_data_set_SPLIT4\n",
      "Read lmdb\n",
      "20947\n"
     ]
    },
    {
     "data": {
      "application/vnd.jupyter.widget-view+json": {
       "model_id": "16cb8ddec2bf40f793d26fc0ac624c0d",
       "version_major": 2,
       "version_minor": 0
      },
      "text/plain": [
       "  0%|          | 0/59 [00:00<?, ?it/s]"
      ]
     },
     "metadata": {},
     "output_type": "display_data"
    },
    {
     "name": "stdout",
     "output_type": "stream",
     "text": [
      "tcia_data_set_SPLIT5\n",
      "Read lmdb\n",
      "26374\n"
     ]
    },
    {
     "data": {
      "application/vnd.jupyter.widget-view+json": {
       "model_id": "377ece436c344a6f9105c534d29b6e2d",
       "version_major": 2,
       "version_minor": 0
      },
      "text/plain": [
       "  0%|          | 0/62 [00:00<?, ?it/s]"
      ]
     },
     "metadata": {},
     "output_type": "display_data"
    },
    {
     "name": "stdout",
     "output_type": "stream",
     "text": [
      "No patches\n",
      "tcia_data_set_SPLIT6\n",
      "Read lmdb\n",
      "14995\n"
     ]
    },
    {
     "data": {
      "application/vnd.jupyter.widget-view+json": {
       "model_id": "57a08e18b87c4616aec1bfcc6c585bef",
       "version_major": 2,
       "version_minor": 0
      },
      "text/plain": [
       "  0%|          | 0/56 [00:00<?, ?it/s]"
      ]
     },
     "metadata": {},
     "output_type": "display_data"
    },
    {
     "name": "stdout",
     "output_type": "stream",
     "text": [
      "tcia_data_set_SPLIT7\n",
      "Read lmdb\n",
      "10407\n"
     ]
    },
    {
     "data": {
      "application/vnd.jupyter.widget-view+json": {
       "model_id": "af9652f3026f4328b27dfa5d8d501590",
       "version_major": 2,
       "version_minor": 0
      },
      "text/plain": [
       "  0%|          | 0/44 [00:00<?, ?it/s]"
      ]
     },
     "metadata": {},
     "output_type": "display_data"
    },
    {
     "name": "stdout",
     "output_type": "stream",
     "text": [
      "tcia_data_set_SPLIT8\n",
      "Read lmdb\n",
      "22786\n"
     ]
    },
    {
     "data": {
      "application/vnd.jupyter.widget-view+json": {
       "model_id": "9aa821d6578644c6bcad34217e0f51e9",
       "version_major": 2,
       "version_minor": 0
      },
      "text/plain": [
       "  0%|          | 0/56 [00:00<?, ?it/s]"
      ]
     },
     "metadata": {},
     "output_type": "display_data"
    },
    {
     "name": "stdout",
     "output_type": "stream",
     "text": [
      "tcia_data_set_SPLIT9\n",
      "Read lmdb\n",
      "19800\n"
     ]
    },
    {
     "data": {
      "application/vnd.jupyter.widget-view+json": {
       "model_id": "ea818eaafe294d96a5003b3b52efec86",
       "version_major": 2,
       "version_minor": 0
      },
      "text/plain": [
       "  0%|          | 0/50 [00:00<?, ?it/s]"
      ]
     },
     "metadata": {},
     "output_type": "display_data"
    },
    {
     "name": "stdout",
     "output_type": "stream",
     "text": [
      "tcia_data_set_SPLIT0\n",
      "Read lmdb\n",
      "18709\n"
     ]
    },
    {
     "data": {
      "application/vnd.jupyter.widget-view+json": {
       "model_id": "24bf0c6e467a49ab8aaad7c8efa7aa97",
       "version_major": 2,
       "version_minor": 0
      },
      "text/plain": [
       "  0%|          | 0/55 [00:00<?, ?it/s]"
      ]
     },
     "metadata": {},
     "output_type": "display_data"
    },
    {
     "name": "stdout",
     "output_type": "stream",
     "text": [
      "tcia_data_set_SPLIT1\n",
      "Read lmdb\n",
      "23065\n"
     ]
    },
    {
     "data": {
      "application/vnd.jupyter.widget-view+json": {
       "model_id": "c0e8c0eef1474877b8476fe4edf31a97",
       "version_major": 2,
       "version_minor": 0
      },
      "text/plain": [
       "  0%|          | 0/62 [00:00<?, ?it/s]"
      ]
     },
     "metadata": {},
     "output_type": "display_data"
    },
    {
     "name": "stdout",
     "output_type": "stream",
     "text": [
      "No patches\n",
      "tcia_data_set_SPLIT2\n",
      "Read lmdb\n",
      "20366\n"
     ]
    },
    {
     "data": {
      "application/vnd.jupyter.widget-view+json": {
       "model_id": "04e22873c29a4bbfb82a709dbd540293",
       "version_major": 2,
       "version_minor": 0
      },
      "text/plain": [
       "  0%|          | 0/56 [00:00<?, ?it/s]"
      ]
     },
     "metadata": {},
     "output_type": "display_data"
    },
    {
     "name": "stdout",
     "output_type": "stream",
     "text": [
      "tcia_data_set_SPLIT3\n",
      "Read lmdb\n",
      "20818\n"
     ]
    },
    {
     "data": {
      "application/vnd.jupyter.widget-view+json": {
       "model_id": "2c6b6203770544e0ae1576269f361815",
       "version_major": 2,
       "version_minor": 0
      },
      "text/plain": [
       "  0%|          | 0/56 [00:00<?, ?it/s]"
      ]
     },
     "metadata": {},
     "output_type": "display_data"
    },
    {
     "name": "stdout",
     "output_type": "stream",
     "text": [
      "tcia_data_set_SPLIT4\n",
      "Read lmdb\n",
      "20947\n"
     ]
    },
    {
     "data": {
      "application/vnd.jupyter.widget-view+json": {
       "model_id": "2a1b1319b7f6421cbfe34c3af3d9ea98",
       "version_major": 2,
       "version_minor": 0
      },
      "text/plain": [
       "  0%|          | 0/59 [00:00<?, ?it/s]"
      ]
     },
     "metadata": {},
     "output_type": "display_data"
    },
    {
     "name": "stdout",
     "output_type": "stream",
     "text": [
      "tcia_data_set_SPLIT5\n",
      "Read lmdb\n",
      "26374\n"
     ]
    },
    {
     "data": {
      "application/vnd.jupyter.widget-view+json": {
       "model_id": "2044b41b875d476cab61935920dc3d68",
       "version_major": 2,
       "version_minor": 0
      },
      "text/plain": [
       "  0%|          | 0/62 [00:00<?, ?it/s]"
      ]
     },
     "metadata": {},
     "output_type": "display_data"
    },
    {
     "name": "stdout",
     "output_type": "stream",
     "text": [
      "No patches\n",
      "tcia_data_set_SPLIT6\n",
      "Read lmdb\n",
      "14995\n"
     ]
    },
    {
     "data": {
      "application/vnd.jupyter.widget-view+json": {
       "model_id": "97bcfaf6d7194613b56198236fe8cd25",
       "version_major": 2,
       "version_minor": 0
      },
      "text/plain": [
       "  0%|          | 0/56 [00:00<?, ?it/s]"
      ]
     },
     "metadata": {},
     "output_type": "display_data"
    },
    {
     "name": "stdout",
     "output_type": "stream",
     "text": [
      "tcia_data_set_SPLIT7\n",
      "Read lmdb\n",
      "10407\n"
     ]
    },
    {
     "data": {
      "application/vnd.jupyter.widget-view+json": {
       "model_id": "9e38ab69fdb24da3ad6cd940407a3e5f",
       "version_major": 2,
       "version_minor": 0
      },
      "text/plain": [
       "  0%|          | 0/44 [00:00<?, ?it/s]"
      ]
     },
     "metadata": {},
     "output_type": "display_data"
    },
    {
     "name": "stdout",
     "output_type": "stream",
     "text": [
      "tcia_data_set_SPLIT8\n",
      "Read lmdb\n",
      "22786\n"
     ]
    },
    {
     "data": {
      "application/vnd.jupyter.widget-view+json": {
       "model_id": "8810d05ef01940a5870f38bb6930bcef",
       "version_major": 2,
       "version_minor": 0
      },
      "text/plain": [
       "  0%|          | 0/56 [00:00<?, ?it/s]"
      ]
     },
     "metadata": {},
     "output_type": "display_data"
    },
    {
     "name": "stdout",
     "output_type": "stream",
     "text": [
      "tcia_data_set_SPLIT9\n",
      "Read lmdb\n",
      "19800\n"
     ]
    },
    {
     "data": {
      "application/vnd.jupyter.widget-view+json": {
       "model_id": "5b105ef795184b70acd16ab0370ada61",
       "version_major": 2,
       "version_minor": 0
      },
      "text/plain": [
       "  0%|          | 0/50 [00:00<?, ?it/s]"
      ]
     },
     "metadata": {},
     "output_type": "display_data"
    },
    {
     "name": "stdout",
     "output_type": "stream",
     "text": [
      "tcia_data_set_SPLIT0\n",
      "Read lmdb\n",
      "18709\n"
     ]
    },
    {
     "data": {
      "application/vnd.jupyter.widget-view+json": {
       "model_id": "6cb395fefe0545f4b9e0be548bd51e9a",
       "version_major": 2,
       "version_minor": 0
      },
      "text/plain": [
       "  0%|          | 0/55 [00:00<?, ?it/s]"
      ]
     },
     "metadata": {},
     "output_type": "display_data"
    },
    {
     "name": "stdout",
     "output_type": "stream",
     "text": [
      "tcia_data_set_SPLIT1\n",
      "Read lmdb\n",
      "23065\n"
     ]
    },
    {
     "data": {
      "application/vnd.jupyter.widget-view+json": {
       "model_id": "32e6b2f937f5493bab9965731766aa4a",
       "version_major": 2,
       "version_minor": 0
      },
      "text/plain": [
       "  0%|          | 0/62 [00:00<?, ?it/s]"
      ]
     },
     "metadata": {},
     "output_type": "display_data"
    },
    {
     "name": "stdout",
     "output_type": "stream",
     "text": [
      "No patches\n",
      "tcia_data_set_SPLIT2\n",
      "Read lmdb\n",
      "20366\n"
     ]
    },
    {
     "data": {
      "application/vnd.jupyter.widget-view+json": {
       "model_id": "ba5a8c3b658d4dfb9955d6b85d82b22b",
       "version_major": 2,
       "version_minor": 0
      },
      "text/plain": [
       "  0%|          | 0/56 [00:00<?, ?it/s]"
      ]
     },
     "metadata": {},
     "output_type": "display_data"
    },
    {
     "name": "stdout",
     "output_type": "stream",
     "text": [
      "tcia_data_set_SPLIT3\n",
      "Read lmdb\n",
      "20818\n"
     ]
    },
    {
     "data": {
      "application/vnd.jupyter.widget-view+json": {
       "model_id": "15bc3c4d3840416d97133bdb8593a0a1",
       "version_major": 2,
       "version_minor": 0
      },
      "text/plain": [
       "  0%|          | 0/56 [00:00<?, ?it/s]"
      ]
     },
     "metadata": {},
     "output_type": "display_data"
    },
    {
     "name": "stdout",
     "output_type": "stream",
     "text": [
      "tcia_data_set_SPLIT4\n",
      "Read lmdb\n",
      "20947\n"
     ]
    },
    {
     "data": {
      "application/vnd.jupyter.widget-view+json": {
       "model_id": "b1f23ea50a904e6c87dfb19293363f7c",
       "version_major": 2,
       "version_minor": 0
      },
      "text/plain": [
       "  0%|          | 0/59 [00:00<?, ?it/s]"
      ]
     },
     "metadata": {},
     "output_type": "display_data"
    },
    {
     "name": "stdout",
     "output_type": "stream",
     "text": [
      "tcia_data_set_SPLIT5\n",
      "Read lmdb\n",
      "26374\n"
     ]
    },
    {
     "data": {
      "application/vnd.jupyter.widget-view+json": {
       "model_id": "da6b713cf7a641b7a10934d4c7dc0b77",
       "version_major": 2,
       "version_minor": 0
      },
      "text/plain": [
       "  0%|          | 0/62 [00:00<?, ?it/s]"
      ]
     },
     "metadata": {},
     "output_type": "display_data"
    },
    {
     "name": "stdout",
     "output_type": "stream",
     "text": [
      "No patches\n",
      "tcia_data_set_SPLIT6\n",
      "Read lmdb\n",
      "14995\n"
     ]
    },
    {
     "data": {
      "application/vnd.jupyter.widget-view+json": {
       "model_id": "225214b3080b459390e1c783897b40a1",
       "version_major": 2,
       "version_minor": 0
      },
      "text/plain": [
       "  0%|          | 0/56 [00:00<?, ?it/s]"
      ]
     },
     "metadata": {},
     "output_type": "display_data"
    },
    {
     "name": "stdout",
     "output_type": "stream",
     "text": [
      "tcia_data_set_SPLIT7\n",
      "Read lmdb\n",
      "10407\n"
     ]
    },
    {
     "data": {
      "application/vnd.jupyter.widget-view+json": {
       "model_id": "4ccf3545e43846ebaf9be883c342507b",
       "version_major": 2,
       "version_minor": 0
      },
      "text/plain": [
       "  0%|          | 0/44 [00:00<?, ?it/s]"
      ]
     },
     "metadata": {},
     "output_type": "display_data"
    },
    {
     "name": "stdout",
     "output_type": "stream",
     "text": [
      "tcia_data_set_SPLIT8\n",
      "Read lmdb\n",
      "22786\n"
     ]
    },
    {
     "data": {
      "application/vnd.jupyter.widget-view+json": {
       "model_id": "2e976906bb184bf2811d23de31ddc3b1",
       "version_major": 2,
       "version_minor": 0
      },
      "text/plain": [
       "  0%|          | 0/56 [00:00<?, ?it/s]"
      ]
     },
     "metadata": {},
     "output_type": "display_data"
    },
    {
     "name": "stdout",
     "output_type": "stream",
     "text": [
      "tcia_data_set_SPLIT9\n",
      "Read lmdb\n",
      "19800\n"
     ]
    },
    {
     "data": {
      "application/vnd.jupyter.widget-view+json": {
       "model_id": "65bef7b4d33e4c7b824cb6abd8c5c1e1",
       "version_major": 2,
       "version_minor": 0
      },
      "text/plain": [
       "  0%|          | 0/50 [00:00<?, ?it/s]"
      ]
     },
     "metadata": {},
     "output_type": "display_data"
    },
    {
     "name": "stdout",
     "output_type": "stream",
     "text": [
      "tcia_data_set_SPLIT0\n",
      "Read lmdb\n",
      "18709\n"
     ]
    },
    {
     "data": {
      "application/vnd.jupyter.widget-view+json": {
       "model_id": "8257cd9d815e4c70a714c8fc31fd1903",
       "version_major": 2,
       "version_minor": 0
      },
      "text/plain": [
       "  0%|          | 0/55 [00:00<?, ?it/s]"
      ]
     },
     "metadata": {},
     "output_type": "display_data"
    }
   ],
   "source": [
    "n_splits = 10\n",
    "tot_conf = np.zeros((2,2))\n",
    "tot_out, tot_labels = [], []\n",
    "\n",
    "#Generating the training outputs PDAC_TEST_(MODEL NUMBER)_(SPLIT OUTPUT)\n",
    "\n",
    "for TEST_SPLIT in [0,1,2,3]:#range(n_splits):\n",
    "\n",
    "    MODEL_NAME = EXP_NAME + f\"{TEST_SPLIT}\"\n",
    "    net = torch.load(f\"C:\\\\Users\\\\Alejandro\\\\Desktop\\\\heterogeneous-data\\\\results\\\\WSI\\\\models\\\\{MODEL_NAME}.pth\") # Model loading\n",
    "\n",
    "    for SPLIT in range(n_splits):\n",
    "        #This has already been executed\n",
    "        if SPLIT+1==TEST_SPLIT:\n",
    "            pass\n",
    "\n",
    "        test_out = pd.DataFrame(columns=[\"Sample ID\", \"Output\", \"Label\"])\n",
    "        \n",
    "        if SPLIT == n_splits-1: # For the final split for validation we take the first one for test\n",
    "            SPLIT_NAME = DATA_SET_NAME + f\"{0}\" # Test set \n",
    "        else:\n",
    "            SPLIT_NAME = DATA_SET_NAME + f\"{SPLIT+1}\" # Test set\n",
    "\n",
    "        print(SPLIT_NAME)\n",
    "\n",
    "        X, y, _ , case_ids = data_reader.read_lmdb(f\"D:\\data\\WSI\\patches\\{SPLIT_NAME}\")\n",
    "\n",
    "        sample_ids = [case_id.split(\"_\")[1] for case_id in case_ids] # Taking only the sample_id, not patch id\n",
    "\n",
    "        outputs, loss, labels = [], [], []\n",
    "        unique_sample_ids = np.unique(sample_ids)\n",
    "        sample_ids = np.array(sample_ids)\n",
    "\n",
    "        for unique_sample_id in tqdm(unique_sample_ids):\n",
    "\n",
    "            net.eval()\n",
    "            with torch.no_grad():\n",
    "        \n",
    "                ii = np.where(sample_ids == unique_sample_id)[0]\n",
    "\n",
    "                wsi_data_set = dataset.PatchDataset([], [], [])\n",
    "\n",
    "                wsi_data_set.inputs.extend(X[ii[0]:ii[-1]])# Taking the patches from a given wsi\n",
    "                wsi_data_set.labels.extend(y[ii[0]:ii[-1]])\n",
    "                wsi_data_set.case_ids.extend(sample_ids)\n",
    "\n",
    "                if len(wsi_data_set) == 0:\n",
    "                    print(\"No patches\")\n",
    "                    outputs.append([np.nan,np.nan])\n",
    "                    labels.append(np.argmax(y[ii[0]]))\n",
    "                    pass\n",
    "                else:\n",
    "                    output = wsi_class(wsi_data_set)\n",
    "                    outputs.append(output[0])\n",
    "                    loss.append(output[1])\n",
    "                    labels.append(np.argmax(y[ii[0]])) # OHE to binary\n",
    "\n",
    "                del wsi_data_set\n",
    "        \n",
    "        test_out[\"Sample ID\"] = unique_sample_ids # The samples are ordered since the loop goes through unique_sample_ids\n",
    "        test_out[\"Output\"] = [output[0] for output in outputs]\n",
    "        test_out[\"Label\"] = labels\n",
    "\n",
    "        test_out.to_csv(f\"D:\\data\\Outputs\\WSI\\PDAC_train_{TEST_SPLIT}_{SPLIT+1}.csv\")\n"
   ]
  },
  {
   "cell_type": "code",
   "execution_count": null,
   "metadata": {},
   "outputs": [],
   "source": []
  }
 ],
 "metadata": {
  "interpreter": {
   "hash": "de74446a7cd3a56c425ecbffb2a7ad915342ddab3c48353acb4566475bd7705f"
  },
  "kernelspec": {
   "display_name": "Python 3.9.12 ('openslide')",
   "language": "python",
   "name": "python3"
  },
  "language_info": {
   "codemirror_mode": {
    "name": "ipython",
    "version": 3
   },
   "file_extension": ".py",
   "mimetype": "text/x-python",
   "name": "python",
   "nbconvert_exporter": "python",
   "pygments_lexer": "ipython3",
   "version": "3.9.12"
  },
  "orig_nbformat": 4
 },
 "nbformat": 4,
 "nbformat_minor": 2
}
