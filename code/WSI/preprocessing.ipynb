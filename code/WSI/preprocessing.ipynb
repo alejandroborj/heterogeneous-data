{
 "cells": [
  {
   "cell_type": "markdown",
   "metadata": {},
   "source": [
    "# Image preprocessing"
   ]
  },
  {
   "cell_type": "code",
   "execution_count": 1,
   "metadata": {},
   "outputs": [],
   "source": [
    "import data_reader\n",
    "import dataset\n",
    "\n",
    "import matplotlib.pyplot as plt\n",
    "import numpy as np\n",
    "import pickle"
   ]
  },
  {
   "cell_type": "code",
   "execution_count": 2,
   "metadata": {},
   "outputs": [],
   "source": [
    "data_path = r\"C:\\Users\\Alejandro\\Desktop\\heterogeneous-data\\data\\gdc_download_20220427_144600.480657\"\n",
    "\n",
    "case_id = os.listdir(data_path)\n",
    "\n",
    "paths = [data_path + \"\\\\\" + case for case in case_id] # All case folders paths\n"
   ]
  },
  {
   "cell_type": "code",
   "execution_count": 3,
   "metadata": {},
   "outputs": [
    {
     "name": "stderr",
     "output_type": "stream",
     "text": [
      "  0%|          | 0/250 [00:00<?, ?it/s]"
     ]
    },
    {
     "name": "stdout",
     "output_type": "stream",
     "text": [
      "Size of data_reader object\n"
     ]
    },
    {
     "name": "stderr",
     "output_type": "stream",
     "text": [
      "  0%|          | 1/250 [00:18<1:15:17, 18.14s/it]"
     ]
    },
    {
     "name": "stdout",
     "output_type": "stream",
     "text": [
      "0.8057402893900871\n",
      "1 : 1.5089302062988281\n",
      "1 : 7.3\n",
      "Size of data_reader object\n"
     ]
    },
    {
     "name": "stderr",
     "output_type": "stream",
     "text": [
      "  1%|          | 2/250 [00:38<1:19:14, 19.17s/it]"
     ]
    },
    {
     "name": "stdout",
     "output_type": "stream",
     "text": [
      "1.0071754353120923\n",
      "1 : 1.9203529357910156\n",
      "1 : 7.6\n",
      "Size of data_reader object\n"
     ]
    },
    {
     "name": "stderr",
     "output_type": "stream",
     "text": [
      "  1%|          | 3/250 [01:02<1:28:17, 21.45s/it]"
     ]
    },
    {
     "name": "stdout",
     "output_type": "stream",
     "text": [
      "1.262326555326581\n",
      "1 : 2.3501968383789062\n",
      "1 : 8.0\n",
      "Size of data_reader object\n"
     ]
    },
    {
     "name": "stderr",
     "output_type": "stream",
     "text": [
      "  2%|▏         | 4/250 [01:33<1:43:11, 25.17s/it]"
     ]
    },
    {
     "name": "stdout",
     "output_type": "stream",
     "text": [
      "1.5577646112069488\n",
      "1 : 2.860393524169922\n",
      "1 : 8.3\n",
      "Size of data_reader object\n"
     ]
    },
    {
     "name": "stderr",
     "output_type": "stream",
     "text": [
      "  2%|▏         | 4/250 [02:06<2:09:36, 31.61s/it]\n"
     ]
    },
    {
     "ename": "KeyboardInterrupt",
     "evalue": "",
     "output_type": "error",
     "traceback": [
      "\u001b[1;31m---------------------------------------------------------------------------\u001b[0m",
      "\u001b[1;31mKeyboardInterrupt\u001b[0m                         Traceback (most recent call last)",
      "\u001b[1;32mc:\\Users\\Alejandro\\Desktop\\heterogeneous-data\\code\\WSI\\preprocessing.ipynb Cell 4'\u001b[0m in \u001b[0;36m<cell line: 7>\u001b[1;34m()\u001b[0m\n\u001b[0;32m      <a href='vscode-notebook-cell:/c%3A/Users/Alejandro/Desktop/heterogeneous-data/code/WSI/preprocessing.ipynb#ch0000003?line=0'>1</a>\u001b[0m \u001b[39m# np.warnings.filterwarnings('ignore', category=np.VisibleDeprecationWarning)\u001b[39;00m\n\u001b[0;32m      <a href='vscode-notebook-cell:/c%3A/Users/Alejandro/Desktop/heterogeneous-data/code/WSI/preprocessing.ipynb#ch0000003?line=2'>3</a>\u001b[0m data_r \u001b[39m=\u001b[39m data_reader\u001b[39m.\u001b[39mData_reader(\n\u001b[0;32m      <a href='vscode-notebook-cell:/c%3A/Users/Alejandro/Desktop/heterogeneous-data/code/WSI/preprocessing.ipynb#ch0000003?line=3'>4</a>\u001b[0m     folder_name\u001b[39m=\u001b[39m\u001b[39m\"\u001b[39m\u001b[39mgdc_download_20220427_144600.480657\u001b[39m\u001b[39m\"\u001b[39m,\n\u001b[0;32m      <a href='vscode-notebook-cell:/c%3A/Users/Alejandro/Desktop/heterogeneous-data/code/WSI/preprocessing.ipynb#ch0000003?line=4'>5</a>\u001b[0m     formats\u001b[39m=\u001b[39m[\u001b[39m\"\u001b[39m\u001b[39m.svs\u001b[39m\u001b[39m\"\u001b[39m])\n\u001b[1;32m----> <a href='vscode-notebook-cell:/c%3A/Users/Alejandro/Desktop/heterogeneous-data/code/WSI/preprocessing.ipynb#ch0000003?line=6'>7</a>\u001b[0m data_r\u001b[39m.\u001b[39;49mread_data(\n\u001b[0;32m      <a href='vscode-notebook-cell:/c%3A/Users/Alejandro/Desktop/heterogeneous-data/code/WSI/preprocessing.ipynb#ch0000003?line=7'>8</a>\u001b[0m     paths,\n\u001b[0;32m      <a href='vscode-notebook-cell:/c%3A/Users/Alejandro/Desktop/heterogeneous-data/code/WSI/preprocessing.ipynb#ch0000003?line=8'>9</a>\u001b[0m     patch_size\u001b[39m=\u001b[39;49m\u001b[39m300\u001b[39;49m,\n\u001b[0;32m     <a href='vscode-notebook-cell:/c%3A/Users/Alejandro/Desktop/heterogeneous-data/code/WSI/preprocessing.ipynb#ch0000003?line=9'>10</a>\u001b[0m     dataset\u001b[39m=\u001b[39;49m\u001b[39m'\u001b[39;49m\u001b[39mtrain\u001b[39;49m\u001b[39m'\u001b[39;49m)\n",
      "File \u001b[1;32mc:\\Users\\Alejandro\\Desktop\\heterogeneous-data\\code\\WSI\\data_reader.py:87\u001b[0m, in \u001b[0;36mData_reader.read_data\u001b[1;34m(self, paths, patch_size, dataset)\u001b[0m\n\u001b[0;32m     <a href='file:///c%3A/Users/Alejandro/Desktop/heterogeneous-data/code/WSI/data_reader.py?line=84'>85</a>\u001b[0m \u001b[39mself\u001b[39m\u001b[39m.\u001b[39mdata[dataset][case_id] \u001b[39m=\u001b[39m file_data \u001b[39m# Adding the file data to the dictionary with key => case_id\u001b[39;00m\n\u001b[0;32m     <a href='file:///c%3A/Users/Alejandro/Desktop/heterogeneous-data/code/WSI/data_reader.py?line=85'>86</a>\u001b[0m \u001b[39mprint\u001b[39m(\u001b[39m\"\u001b[39m\u001b[39mSize of data_reader object\u001b[39m\u001b[39m\"\u001b[39m)\n\u001b[1;32m---> <a href='file:///c%3A/Users/Alejandro/Desktop/heterogeneous-data/code/WSI/data_reader.py?line=86'>87</a>\u001b[0m mem_obj(\u001b[39mself\u001b[39;49m\u001b[39m.\u001b[39;49mdata)\n\u001b[0;32m     <a href='file:///c%3A/Users/Alejandro/Desktop/heterogeneous-data/code/WSI/data_reader.py?line=87'>88</a>\u001b[0m memory(\u001b[39m1\u001b[39m)\n",
      "File \u001b[1;32mc:\\Users\\Alejandro\\Desktop\\heterogeneous-data\\code\\WSI\\data_reader.py:53\u001b[0m, in \u001b[0;36mmem_obj\u001b[1;34m(obj)\u001b[0m\n\u001b[0;32m     <a href='file:///c%3A/Users/Alejandro/Desktop/heterogeneous-data/code/WSI/data_reader.py?line=50'>51</a>\u001b[0m \u001b[39mdef\u001b[39;00m \u001b[39mmem_obj\u001b[39m(obj):\n\u001b[0;32m     <a href='file:///c%3A/Users/Alejandro/Desktop/heterogeneous-data/code/WSI/data_reader.py?line=51'>52</a>\u001b[0m     \u001b[39mimport\u001b[39;00m \u001b[39msys\u001b[39;00m\n\u001b[1;32m---> <a href='file:///c%3A/Users/Alejandro/Desktop/heterogeneous-data/code/WSI/data_reader.py?line=52'>53</a>\u001b[0m     \u001b[39mprint\u001b[39m(\u001b[39mstr\u001b[39m(get_size(obj)\u001b[39m/\u001b[39m\u001b[39m1024\u001b[39m\u001b[39m/\u001b[39m\u001b[39m1024\u001b[39m\u001b[39m/\u001b[39m\u001b[39m1024\u001b[39m))\n",
      "File \u001b[1;32mc:\\Users\\Alejandro\\Desktop\\heterogeneous-data\\code\\WSI\\data_reader.py:42\u001b[0m, in \u001b[0;36mget_size\u001b[1;34m(obj, seen)\u001b[0m\n\u001b[0;32m     <a href='file:///c%3A/Users/Alejandro/Desktop/heterogeneous-data/code/WSI/data_reader.py?line=39'>40</a>\u001b[0m seen\u001b[39m.\u001b[39madd(obj_id)\n\u001b[0;32m     <a href='file:///c%3A/Users/Alejandro/Desktop/heterogeneous-data/code/WSI/data_reader.py?line=40'>41</a>\u001b[0m \u001b[39mif\u001b[39;00m \u001b[39misinstance\u001b[39m(obj, \u001b[39mdict\u001b[39m):\n\u001b[1;32m---> <a href='file:///c%3A/Users/Alejandro/Desktop/heterogeneous-data/code/WSI/data_reader.py?line=41'>42</a>\u001b[0m     size \u001b[39m+\u001b[39m\u001b[39m=\u001b[39m \u001b[39msum\u001b[39m([get_size(v, seen) \u001b[39mfor\u001b[39;00m v \u001b[39min\u001b[39;00m obj\u001b[39m.\u001b[39mvalues()])\n\u001b[0;32m     <a href='file:///c%3A/Users/Alejandro/Desktop/heterogeneous-data/code/WSI/data_reader.py?line=42'>43</a>\u001b[0m     size \u001b[39m+\u001b[39m\u001b[39m=\u001b[39m \u001b[39msum\u001b[39m([get_size(k, seen) \u001b[39mfor\u001b[39;00m k \u001b[39min\u001b[39;00m obj\u001b[39m.\u001b[39mkeys()])\n\u001b[0;32m     <a href='file:///c%3A/Users/Alejandro/Desktop/heterogeneous-data/code/WSI/data_reader.py?line=43'>44</a>\u001b[0m \u001b[39melif\u001b[39;00m \u001b[39mhasattr\u001b[39m(obj, \u001b[39m'\u001b[39m\u001b[39m__dict__\u001b[39m\u001b[39m'\u001b[39m):\n",
      "File \u001b[1;32mc:\\Users\\Alejandro\\Desktop\\heterogeneous-data\\code\\WSI\\data_reader.py:42\u001b[0m, in \u001b[0;36m<listcomp>\u001b[1;34m(.0)\u001b[0m\n\u001b[0;32m     <a href='file:///c%3A/Users/Alejandro/Desktop/heterogeneous-data/code/WSI/data_reader.py?line=39'>40</a>\u001b[0m seen\u001b[39m.\u001b[39madd(obj_id)\n\u001b[0;32m     <a href='file:///c%3A/Users/Alejandro/Desktop/heterogeneous-data/code/WSI/data_reader.py?line=40'>41</a>\u001b[0m \u001b[39mif\u001b[39;00m \u001b[39misinstance\u001b[39m(obj, \u001b[39mdict\u001b[39m):\n\u001b[1;32m---> <a href='file:///c%3A/Users/Alejandro/Desktop/heterogeneous-data/code/WSI/data_reader.py?line=41'>42</a>\u001b[0m     size \u001b[39m+\u001b[39m\u001b[39m=\u001b[39m \u001b[39msum\u001b[39m([get_size(v, seen) \u001b[39mfor\u001b[39;00m v \u001b[39min\u001b[39;00m obj\u001b[39m.\u001b[39mvalues()])\n\u001b[0;32m     <a href='file:///c%3A/Users/Alejandro/Desktop/heterogeneous-data/code/WSI/data_reader.py?line=42'>43</a>\u001b[0m     size \u001b[39m+\u001b[39m\u001b[39m=\u001b[39m \u001b[39msum\u001b[39m([get_size(k, seen) \u001b[39mfor\u001b[39;00m k \u001b[39min\u001b[39;00m obj\u001b[39m.\u001b[39mkeys()])\n\u001b[0;32m     <a href='file:///c%3A/Users/Alejandro/Desktop/heterogeneous-data/code/WSI/data_reader.py?line=43'>44</a>\u001b[0m \u001b[39melif\u001b[39;00m \u001b[39mhasattr\u001b[39m(obj, \u001b[39m'\u001b[39m\u001b[39m__dict__\u001b[39m\u001b[39m'\u001b[39m):\n",
      "File \u001b[1;32mc:\\Users\\Alejandro\\Desktop\\heterogeneous-data\\code\\WSI\\data_reader.py:42\u001b[0m, in \u001b[0;36mget_size\u001b[1;34m(obj, seen)\u001b[0m\n\u001b[0;32m     <a href='file:///c%3A/Users/Alejandro/Desktop/heterogeneous-data/code/WSI/data_reader.py?line=39'>40</a>\u001b[0m seen\u001b[39m.\u001b[39madd(obj_id)\n\u001b[0;32m     <a href='file:///c%3A/Users/Alejandro/Desktop/heterogeneous-data/code/WSI/data_reader.py?line=40'>41</a>\u001b[0m \u001b[39mif\u001b[39;00m \u001b[39misinstance\u001b[39m(obj, \u001b[39mdict\u001b[39m):\n\u001b[1;32m---> <a href='file:///c%3A/Users/Alejandro/Desktop/heterogeneous-data/code/WSI/data_reader.py?line=41'>42</a>\u001b[0m     size \u001b[39m+\u001b[39m\u001b[39m=\u001b[39m \u001b[39msum\u001b[39m([get_size(v, seen) \u001b[39mfor\u001b[39;00m v \u001b[39min\u001b[39;00m obj\u001b[39m.\u001b[39mvalues()])\n\u001b[0;32m     <a href='file:///c%3A/Users/Alejandro/Desktop/heterogeneous-data/code/WSI/data_reader.py?line=42'>43</a>\u001b[0m     size \u001b[39m+\u001b[39m\u001b[39m=\u001b[39m \u001b[39msum\u001b[39m([get_size(k, seen) \u001b[39mfor\u001b[39;00m k \u001b[39min\u001b[39;00m obj\u001b[39m.\u001b[39mkeys()])\n\u001b[0;32m     <a href='file:///c%3A/Users/Alejandro/Desktop/heterogeneous-data/code/WSI/data_reader.py?line=43'>44</a>\u001b[0m \u001b[39melif\u001b[39;00m \u001b[39mhasattr\u001b[39m(obj, \u001b[39m'\u001b[39m\u001b[39m__dict__\u001b[39m\u001b[39m'\u001b[39m):\n",
      "File \u001b[1;32mc:\\Users\\Alejandro\\Desktop\\heterogeneous-data\\code\\WSI\\data_reader.py:42\u001b[0m, in \u001b[0;36m<listcomp>\u001b[1;34m(.0)\u001b[0m\n\u001b[0;32m     <a href='file:///c%3A/Users/Alejandro/Desktop/heterogeneous-data/code/WSI/data_reader.py?line=39'>40</a>\u001b[0m seen\u001b[39m.\u001b[39madd(obj_id)\n\u001b[0;32m     <a href='file:///c%3A/Users/Alejandro/Desktop/heterogeneous-data/code/WSI/data_reader.py?line=40'>41</a>\u001b[0m \u001b[39mif\u001b[39;00m \u001b[39misinstance\u001b[39m(obj, \u001b[39mdict\u001b[39m):\n\u001b[1;32m---> <a href='file:///c%3A/Users/Alejandro/Desktop/heterogeneous-data/code/WSI/data_reader.py?line=41'>42</a>\u001b[0m     size \u001b[39m+\u001b[39m\u001b[39m=\u001b[39m \u001b[39msum\u001b[39m([get_size(v, seen) \u001b[39mfor\u001b[39;00m v \u001b[39min\u001b[39;00m obj\u001b[39m.\u001b[39mvalues()])\n\u001b[0;32m     <a href='file:///c%3A/Users/Alejandro/Desktop/heterogeneous-data/code/WSI/data_reader.py?line=42'>43</a>\u001b[0m     size \u001b[39m+\u001b[39m\u001b[39m=\u001b[39m \u001b[39msum\u001b[39m([get_size(k, seen) \u001b[39mfor\u001b[39;00m k \u001b[39min\u001b[39;00m obj\u001b[39m.\u001b[39mkeys()])\n\u001b[0;32m     <a href='file:///c%3A/Users/Alejandro/Desktop/heterogeneous-data/code/WSI/data_reader.py?line=43'>44</a>\u001b[0m \u001b[39melif\u001b[39;00m \u001b[39mhasattr\u001b[39m(obj, \u001b[39m'\u001b[39m\u001b[39m__dict__\u001b[39m\u001b[39m'\u001b[39m):\n",
      "File \u001b[1;32mc:\\Users\\Alejandro\\Desktop\\heterogeneous-data\\code\\WSI\\data_reader.py:47\u001b[0m, in \u001b[0;36mget_size\u001b[1;34m(obj, seen)\u001b[0m\n\u001b[0;32m     <a href='file:///c%3A/Users/Alejandro/Desktop/heterogeneous-data/code/WSI/data_reader.py?line=44'>45</a>\u001b[0m     size \u001b[39m+\u001b[39m\u001b[39m=\u001b[39m get_size(obj\u001b[39m.\u001b[39m\u001b[39m__dict__\u001b[39m, seen)\n\u001b[0;32m     <a href='file:///c%3A/Users/Alejandro/Desktop/heterogeneous-data/code/WSI/data_reader.py?line=45'>46</a>\u001b[0m \u001b[39melif\u001b[39;00m \u001b[39mhasattr\u001b[39m(obj, \u001b[39m'\u001b[39m\u001b[39m__iter__\u001b[39m\u001b[39m'\u001b[39m) \u001b[39mand\u001b[39;00m \u001b[39mnot\u001b[39;00m \u001b[39misinstance\u001b[39m(obj, (\u001b[39mstr\u001b[39m, \u001b[39mbytes\u001b[39m, \u001b[39mbytearray\u001b[39m)):\n\u001b[1;32m---> <a href='file:///c%3A/Users/Alejandro/Desktop/heterogeneous-data/code/WSI/data_reader.py?line=46'>47</a>\u001b[0m     size \u001b[39m+\u001b[39m\u001b[39m=\u001b[39m \u001b[39msum\u001b[39m([get_size(i, seen) \u001b[39mfor\u001b[39;00m i \u001b[39min\u001b[39;00m obj])\n\u001b[0;32m     <a href='file:///c%3A/Users/Alejandro/Desktop/heterogeneous-data/code/WSI/data_reader.py?line=47'>48</a>\u001b[0m \u001b[39mreturn\u001b[39;00m size\n",
      "File \u001b[1;32mc:\\Users\\Alejandro\\Desktop\\heterogeneous-data\\code\\WSI\\data_reader.py:47\u001b[0m, in \u001b[0;36m<listcomp>\u001b[1;34m(.0)\u001b[0m\n\u001b[0;32m     <a href='file:///c%3A/Users/Alejandro/Desktop/heterogeneous-data/code/WSI/data_reader.py?line=44'>45</a>\u001b[0m     size \u001b[39m+\u001b[39m\u001b[39m=\u001b[39m get_size(obj\u001b[39m.\u001b[39m\u001b[39m__dict__\u001b[39m, seen)\n\u001b[0;32m     <a href='file:///c%3A/Users/Alejandro/Desktop/heterogeneous-data/code/WSI/data_reader.py?line=45'>46</a>\u001b[0m \u001b[39melif\u001b[39;00m \u001b[39mhasattr\u001b[39m(obj, \u001b[39m'\u001b[39m\u001b[39m__iter__\u001b[39m\u001b[39m'\u001b[39m) \u001b[39mand\u001b[39;00m \u001b[39mnot\u001b[39;00m \u001b[39misinstance\u001b[39m(obj, (\u001b[39mstr\u001b[39m, \u001b[39mbytes\u001b[39m, \u001b[39mbytearray\u001b[39m)):\n\u001b[1;32m---> <a href='file:///c%3A/Users/Alejandro/Desktop/heterogeneous-data/code/WSI/data_reader.py?line=46'>47</a>\u001b[0m     size \u001b[39m+\u001b[39m\u001b[39m=\u001b[39m \u001b[39msum\u001b[39m([get_size(i, seen) \u001b[39mfor\u001b[39;00m i \u001b[39min\u001b[39;00m obj])\n\u001b[0;32m     <a href='file:///c%3A/Users/Alejandro/Desktop/heterogeneous-data/code/WSI/data_reader.py?line=47'>48</a>\u001b[0m \u001b[39mreturn\u001b[39;00m size\n",
      "File \u001b[1;32mc:\\Users\\Alejandro\\Desktop\\heterogeneous-data\\code\\WSI\\data_reader.py:47\u001b[0m, in \u001b[0;36mget_size\u001b[1;34m(obj, seen)\u001b[0m\n\u001b[0;32m     <a href='file:///c%3A/Users/Alejandro/Desktop/heterogeneous-data/code/WSI/data_reader.py?line=44'>45</a>\u001b[0m     size \u001b[39m+\u001b[39m\u001b[39m=\u001b[39m get_size(obj\u001b[39m.\u001b[39m\u001b[39m__dict__\u001b[39m, seen)\n\u001b[0;32m     <a href='file:///c%3A/Users/Alejandro/Desktop/heterogeneous-data/code/WSI/data_reader.py?line=45'>46</a>\u001b[0m \u001b[39melif\u001b[39;00m \u001b[39mhasattr\u001b[39m(obj, \u001b[39m'\u001b[39m\u001b[39m__iter__\u001b[39m\u001b[39m'\u001b[39m) \u001b[39mand\u001b[39;00m \u001b[39mnot\u001b[39;00m \u001b[39misinstance\u001b[39m(obj, (\u001b[39mstr\u001b[39m, \u001b[39mbytes\u001b[39m, \u001b[39mbytearray\u001b[39m)):\n\u001b[1;32m---> <a href='file:///c%3A/Users/Alejandro/Desktop/heterogeneous-data/code/WSI/data_reader.py?line=46'>47</a>\u001b[0m     size \u001b[39m+\u001b[39m\u001b[39m=\u001b[39m \u001b[39msum\u001b[39m([get_size(i, seen) \u001b[39mfor\u001b[39;00m i \u001b[39min\u001b[39;00m obj])\n\u001b[0;32m     <a href='file:///c%3A/Users/Alejandro/Desktop/heterogeneous-data/code/WSI/data_reader.py?line=47'>48</a>\u001b[0m \u001b[39mreturn\u001b[39;00m size\n",
      "File \u001b[1;32mc:\\Users\\Alejandro\\Desktop\\heterogeneous-data\\code\\WSI\\data_reader.py:47\u001b[0m, in \u001b[0;36m<listcomp>\u001b[1;34m(.0)\u001b[0m\n\u001b[0;32m     <a href='file:///c%3A/Users/Alejandro/Desktop/heterogeneous-data/code/WSI/data_reader.py?line=44'>45</a>\u001b[0m     size \u001b[39m+\u001b[39m\u001b[39m=\u001b[39m get_size(obj\u001b[39m.\u001b[39m\u001b[39m__dict__\u001b[39m, seen)\n\u001b[0;32m     <a href='file:///c%3A/Users/Alejandro/Desktop/heterogeneous-data/code/WSI/data_reader.py?line=45'>46</a>\u001b[0m \u001b[39melif\u001b[39;00m \u001b[39mhasattr\u001b[39m(obj, \u001b[39m'\u001b[39m\u001b[39m__iter__\u001b[39m\u001b[39m'\u001b[39m) \u001b[39mand\u001b[39;00m \u001b[39mnot\u001b[39;00m \u001b[39misinstance\u001b[39m(obj, (\u001b[39mstr\u001b[39m, \u001b[39mbytes\u001b[39m, \u001b[39mbytearray\u001b[39m)):\n\u001b[1;32m---> <a href='file:///c%3A/Users/Alejandro/Desktop/heterogeneous-data/code/WSI/data_reader.py?line=46'>47</a>\u001b[0m     size \u001b[39m+\u001b[39m\u001b[39m=\u001b[39m \u001b[39msum\u001b[39m([get_size(i, seen) \u001b[39mfor\u001b[39;00m i \u001b[39min\u001b[39;00m obj])\n\u001b[0;32m     <a href='file:///c%3A/Users/Alejandro/Desktop/heterogeneous-data/code/WSI/data_reader.py?line=47'>48</a>\u001b[0m \u001b[39mreturn\u001b[39;00m size\n",
      "    \u001b[1;31m[... skipping similar frames: <listcomp> at line 47 (3 times), get_size at line 47 (3 times)]\u001b[0m\n",
      "File \u001b[1;32mc:\\Users\\Alejandro\\Desktop\\heterogeneous-data\\code\\WSI\\data_reader.py:47\u001b[0m, in \u001b[0;36mget_size\u001b[1;34m(obj, seen)\u001b[0m\n\u001b[0;32m     <a href='file:///c%3A/Users/Alejandro/Desktop/heterogeneous-data/code/WSI/data_reader.py?line=44'>45</a>\u001b[0m     size \u001b[39m+\u001b[39m\u001b[39m=\u001b[39m get_size(obj\u001b[39m.\u001b[39m\u001b[39m__dict__\u001b[39m, seen)\n\u001b[0;32m     <a href='file:///c%3A/Users/Alejandro/Desktop/heterogeneous-data/code/WSI/data_reader.py?line=45'>46</a>\u001b[0m \u001b[39melif\u001b[39;00m \u001b[39mhasattr\u001b[39m(obj, \u001b[39m'\u001b[39m\u001b[39m__iter__\u001b[39m\u001b[39m'\u001b[39m) \u001b[39mand\u001b[39;00m \u001b[39mnot\u001b[39;00m \u001b[39misinstance\u001b[39m(obj, (\u001b[39mstr\u001b[39m, \u001b[39mbytes\u001b[39m, \u001b[39mbytearray\u001b[39m)):\n\u001b[1;32m---> <a href='file:///c%3A/Users/Alejandro/Desktop/heterogeneous-data/code/WSI/data_reader.py?line=46'>47</a>\u001b[0m     size \u001b[39m+\u001b[39m\u001b[39m=\u001b[39m \u001b[39msum\u001b[39m([get_size(i, seen) \u001b[39mfor\u001b[39;00m i \u001b[39min\u001b[39;00m obj])\n\u001b[0;32m     <a href='file:///c%3A/Users/Alejandro/Desktop/heterogeneous-data/code/WSI/data_reader.py?line=47'>48</a>\u001b[0m \u001b[39mreturn\u001b[39;00m size\n",
      "File \u001b[1;32mc:\\Users\\Alejandro\\Desktop\\heterogeneous-data\\code\\WSI\\data_reader.py:47\u001b[0m, in \u001b[0;36m<listcomp>\u001b[1;34m(.0)\u001b[0m\n\u001b[0;32m     <a href='file:///c%3A/Users/Alejandro/Desktop/heterogeneous-data/code/WSI/data_reader.py?line=44'>45</a>\u001b[0m     size \u001b[39m+\u001b[39m\u001b[39m=\u001b[39m get_size(obj\u001b[39m.\u001b[39m\u001b[39m__dict__\u001b[39m, seen)\n\u001b[0;32m     <a href='file:///c%3A/Users/Alejandro/Desktop/heterogeneous-data/code/WSI/data_reader.py?line=45'>46</a>\u001b[0m \u001b[39melif\u001b[39;00m \u001b[39mhasattr\u001b[39m(obj, \u001b[39m'\u001b[39m\u001b[39m__iter__\u001b[39m\u001b[39m'\u001b[39m) \u001b[39mand\u001b[39;00m \u001b[39mnot\u001b[39;00m \u001b[39misinstance\u001b[39m(obj, (\u001b[39mstr\u001b[39m, \u001b[39mbytes\u001b[39m, \u001b[39mbytearray\u001b[39m)):\n\u001b[1;32m---> <a href='file:///c%3A/Users/Alejandro/Desktop/heterogeneous-data/code/WSI/data_reader.py?line=46'>47</a>\u001b[0m     size \u001b[39m+\u001b[39m\u001b[39m=\u001b[39m \u001b[39msum\u001b[39m([get_size(i, seen) \u001b[39mfor\u001b[39;00m i \u001b[39min\u001b[39;00m obj])\n\u001b[0;32m     <a href='file:///c%3A/Users/Alejandro/Desktop/heterogeneous-data/code/WSI/data_reader.py?line=47'>48</a>\u001b[0m \u001b[39mreturn\u001b[39;00m size\n",
      "File \u001b[1;32mc:\\Users\\Alejandro\\Desktop\\heterogeneous-data\\code\\WSI\\data_reader.py:35\u001b[0m, in \u001b[0;36mget_size\u001b[1;34m(obj, seen)\u001b[0m\n\u001b[0;32m     <a href='file:///c%3A/Users/Alejandro/Desktop/heterogeneous-data/code/WSI/data_reader.py?line=32'>33</a>\u001b[0m \u001b[39mif\u001b[39;00m seen \u001b[39mis\u001b[39;00m \u001b[39mNone\u001b[39;00m:\n\u001b[0;32m     <a href='file:///c%3A/Users/Alejandro/Desktop/heterogeneous-data/code/WSI/data_reader.py?line=33'>34</a>\u001b[0m     seen \u001b[39m=\u001b[39m \u001b[39mset\u001b[39m()\n\u001b[1;32m---> <a href='file:///c%3A/Users/Alejandro/Desktop/heterogeneous-data/code/WSI/data_reader.py?line=34'>35</a>\u001b[0m obj_id \u001b[39m=\u001b[39m \u001b[39mid\u001b[39;49m(obj)\n\u001b[0;32m     <a href='file:///c%3A/Users/Alejandro/Desktop/heterogeneous-data/code/WSI/data_reader.py?line=35'>36</a>\u001b[0m \u001b[39mif\u001b[39;00m obj_id \u001b[39min\u001b[39;00m seen:\n\u001b[0;32m     <a href='file:///c%3A/Users/Alejandro/Desktop/heterogeneous-data/code/WSI/data_reader.py?line=36'>37</a>\u001b[0m     \u001b[39mreturn\u001b[39;00m \u001b[39m0\u001b[39m\n",
      "\u001b[1;31mKeyboardInterrupt\u001b[0m: "
     ]
    }
   ],
   "source": [
    "# np.warnings.filterwarnings('ignore', category=np.VisibleDeprecationWarning)\n",
    "\n",
    "data_r = data_reader.Data_reader(\n",
    "    folder_name=\"gdc_download_20220427_144600.480657\",\n",
    "    formats=[\".svs\"])\n",
    "\n",
    "data_r.read_data(\n",
    "    paths,\n",
    "    patch_size=300,\n",
    "    dataset='train')"
   ]
  },
  {
   "cell_type": "code",
   "execution_count": 4,
   "metadata": {},
   "outputs": [],
   "source": [
    "data_set = data_r.data_reader_to_dataset(case_id)"
   ]
  },
  {
   "cell_type": "code",
   "execution_count": 1,
   "metadata": {},
   "outputs": [
    {
     "ename": "NameError",
     "evalue": "name 'data_set' is not defined",
     "output_type": "error",
     "traceback": [
      "\u001b[1;31m---------------------------------------------------------------------------\u001b[0m",
      "\u001b[1;31mNameError\u001b[0m                                 Traceback (most recent call last)",
      "\u001b[1;32mc:\\Users\\Alejandro\\Desktop\\heterogeneous-data\\code\\WSI\\preprocessing.ipynb Cell 6'\u001b[0m in \u001b[0;36m<cell line: 1>\u001b[1;34m()\u001b[0m\n\u001b[1;32m----> <a href='vscode-notebook-cell:/c%3A/Users/Alejandro/Desktop/heterogeneous-data/code/WSI/preprocessing.ipynb#ch0000005?line=0'>1</a>\u001b[0m data_set\u001b[39m.\u001b[39mshow_patch(patch_num\u001b[39m=\u001b[39m\u001b[39m1000\u001b[39m)\n",
      "\u001b[1;31mNameError\u001b[0m: name 'data_set' is not defined"
     ]
    }
   ],
   "source": [
    "data_set.show_patch(patch_num=1000)"
   ]
  },
  {
   "cell_type": "code",
   "execution_count": null,
   "metadata": {},
   "outputs": [
    {
     "name": "stdout",
     "output_type": "stream",
     "text": [
      "Number of patches:  1465\n",
      "Percentage of positive patches:  0.8873720136518771\n"
     ]
    },
    {
     "data": {
      "image/png": "[encoded data removed]",
      "text/plain": [
       "<Figure size 432x288 with 1 Axes>"
      ]
     },
     "metadata": {
      "needs_background": "light"
     },
     "output_type": "display_data"
    }
   ],
   "source": [
    "positive = [(y[0]==1) for y in data_set.labels].count(True)\n",
    "plt.bar([\"Negative\", \"Positive\"], [data_set.__len__()-positive ,positive])\n",
    "\n",
    "print(\"Number of patches: \", data_set.__len__())\n",
    "print(\"Percentage of positive patches: \", positive/data_set.__len__())"
   ]
  },
  {
   "cell_type": "code",
   "execution_count": null,
   "metadata": {},
   "outputs": [],
   "source": [
    "name = \"data_set_x10_10%\"\n",
    "\n",
    "with open(f\"C:/Users/Alejandro/Desktop/heterogeneous-data/data/datasets/{name}.obj\", 'wb') as f:\n",
    "    object_pi2 = pickle.dump(data_set, f)"
   ]
  },
  {
   "cell_type": "code",
   "execution_count": null,
   "metadata": {},
   "outputs": [],
   "source": []
  }
 ],
 "metadata": {
  "interpreter": {
   "hash": "de74446a7cd3a56c425ecbffb2a7ad915342ddab3c48353acb4566475bd7705f"
  },
  "kernelspec": {
   "display_name": "Python 3.9.12 ('openslide')",
   "language": "python",
   "name": "python3"
  },
  "language_info": {
   "codemirror_mode": {
    "name": "ipython",
    "version": 3
   },
   "file_extension": ".py",
   "mimetype": "text/x-python",
   "name": "python",
   "nbconvert_exporter": "python",
   "pygments_lexer": "ipython3",
   "version": "3.9.12"
  },
  "orig_nbformat": 4
 },
 "nbformat": 4,
 "nbformat_minor": 2
}
