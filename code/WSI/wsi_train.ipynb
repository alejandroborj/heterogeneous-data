{
 "cells": [
  {
   "cell_type": "markdown",
   "metadata": {},
   "source": [
    "# Model training and selection"
   ]
  },
  {
   "cell_type": "code",
   "execution_count": 1,
   "metadata": {},
   "outputs": [],
   "source": [
    "import pickle\n",
    "from tqdm.notebook import tqdm\n",
    "import numpy as np\n",
    "import random\n",
    "import matplotlib.pyplot as plt\n",
    "import pandas as pd\n",
    "from sklearn.metrics import confusion_matrix\n",
    "\n",
    "import torch\n",
    "import torchvision.transforms as transforms\n",
    "import torchvision.models\n",
    "import torch.optim as optim\n",
    "import torch.nn as nn\n",
    "\n",
    "import time"
   ]
  },
  {
   "cell_type": "code",
   "execution_count": 2,
   "metadata": {},
   "outputs": [],
   "source": [
    "name = \"testing_data_set_x10\"\n",
    "\n",
    "with open(f\"C:/Users/Alejandro/Desktop/heterogeneous-data/data/datasets/{name}.obj\", 'rb') as f:\n",
    "    data_set = pickle.load(f)"
   ]
  },
  {
   "cell_type": "code",
   "execution_count": 3,
   "metadata": {},
   "outputs": [
    {
     "name": "stdout",
     "output_type": "stream",
     "text": [
      "Using GPU : cuda:0\n"
     ]
    }
   ],
   "source": [
    "# Choosing device for tensor processing\n",
    "\n",
    "if torch.cuda.is_available():\n",
    "    device = torch.device(\"cuda:0\")\n",
    "    print(\"Using GPU :\", device)\n",
    "else:\n",
    "    device = torch.device(\"cpu\")\n",
    "    print(\"Using CPU \")"
   ]
  },
  {
   "cell_type": "code",
   "execution_count": 4,
   "metadata": {},
   "outputs": [
    {
     "name": "stdout",
     "output_type": "stream",
     "text": [
      "Number of free parameters on fc layer:  65922\n"
     ]
    }
   ],
   "source": [
    "def init_weights(m): # XAVIER initialization for final layer weight initialization\n",
    "    if type(m) == nn.Linear:\n",
    "        torch.nn.init.xavier_uniform_(m.weight)\n",
    "        m.bias.data.fill_(0.01)\n",
    "\n",
    "def init():\n",
    "  global net, loss_function, scheduler, optimizer\n",
    "  \n",
    "  net = torchvision.models.resnet18(pretrained=True).to(device)\n",
    "\n",
    "  #net = torchvision.models.densenet121(pretrained=True).to(device)\n",
    "      \n",
    "  for param in net.parameters():\n",
    "      param.requires_grad = False # Freezing the convolutional layers\n",
    "      \n",
    "  net.fc = nn.Sequential(\n",
    "                nn.Linear(512, 128), #512\n",
    "                nn.ReLU(inplace=True),\n",
    "                nn.Linear(128, 2),\n",
    "                nn.Softmax(dim = -1)\n",
    "                ).to(device)\n",
    "\n",
    "  net.fc.apply(init_weights) # Xavier init\n",
    "\n",
    "  # resnet.fc = torch.load(\"\") # Model loading\n",
    "\n",
    "  print(\"Number of free parameters on fc layer: \", sum(p.numel() for p in net.fc.parameters()))\n",
    "\n",
    "  #Hyperparameters:\n",
    "  learning_rate = 0.001 # LR\n",
    "  loss_function = nn.BCELoss()\n",
    "  # Loss # [1,0] es positivo y [0,1] negativo # weight = torch.tensor([(495+201)/(2*495), (201+495)/(2*201)]).to(device)) # El negativo cuesta 2.5... mas\n",
    "  optimizer = optim.Adam(net.parameters(), lr=learning_rate)# Optimizer\n",
    "  lambda1 = lambda epoch: 0.8 ** epoch # Scheduler\n",
    "  scheduler = torch.optim.lr_scheduler.LambdaLR(optimizer, lr_lambda=lambda1)\n",
    "\n",
    "init()"
   ]
  },
  {
   "cell_type": "code",
   "execution_count": 5,
   "metadata": {},
   "outputs": [],
   "source": [
    "def fwd_pass(X, y, train=False):\n",
    "# IMPORTANTE, TRAIN = FALSE PARA QUE NO ENTRENE CON EL TEST DATA ESTO ES PARA PODER HACER TEST MIENTRAS ENTRENO Y VALIDO, \n",
    "# SE ESPERA QUE LA EXACTITUD EN EL TEST DE VALIDACIÓN SEA MENOR\n",
    "    if train: \n",
    "        net.zero_grad()\n",
    "\n",
    "    outputs = net(X)\n",
    "    matches = [torch.argmax(i) == torch.argmax(j) for i,j in zip(outputs, y)]\n",
    "    conf_m = confusion_matrix( [torch.argmax(i) for i in y.cpu()],[torch.argmax(i) for i in outputs.cpu()], labels=(0, 1))\n",
    "    f1 = conf_m[0][0]/(conf_m[0][0]+0.5*(conf_m[1][0]+conf_m[0][1]))\n",
    "    acc = matches.count(True)/len(matches)\n",
    "    loss = loss_function(outputs, y)\n",
    "\n",
    "    if train:\n",
    "        loss.backward()\n",
    "        optimizer.step()\n",
    "\n",
    "    del outputs\n",
    "\n",
    "    return acc, loss, f1"
   ]
  },
  {
   "cell_type": "code",
   "execution_count": 6,
   "metadata": {},
   "outputs": [],
   "source": [
    "def validate(val_X, val_y, size=32):\n",
    "# Hago un test con datos en una región aleatoria para que la distribución sea mejor\n",
    "  val_X, val_y = shuffle(val_X, val_y) \n",
    "  \n",
    "  if size > 0.7*len(val_y):\n",
    "    ramdom_start = 0\n",
    "  else:\n",
    "    ramdom_start = np.random.randint(len(val_X)-size)\n",
    "\n",
    "  X, y = val_X[ramdom_start:ramdom_start+size].to(device), val_y[ramdom_start:ramdom_start+size].to(device)\n",
    "  val_acc, val_loss, val_f1 = fwd_pass(X.view(-1, 3, SIZE_X, SIZE_Y), y, train=False)\n",
    "  del X, y\n",
    "\n",
    "  return val_acc, val_loss, val_f1 # accuracy y loss en validation set"
   ]
  },
  {
   "cell_type": "code",
   "execution_count": 7,
   "metadata": {},
   "outputs": [],
   "source": [
    "def test():\n",
    "# Hago un test con datos en una región aleatoria para que la distribución sea mejor\n",
    "  X, y = test_X.to(device), test_y.to(device)\n",
    "  test_acc, test_loss = fwd_pass(X.view(-1, 3, SIZE_X, SIZE_Y), y)\n",
    "  del X, y\n",
    "\n",
    "  return test_acc, test_loss # accuracy y loss en test set"
   ]
  },
  {
   "cell_type": "code",
   "execution_count": 8,
   "metadata": {},
   "outputs": [],
   "source": [
    "def shuffle(X, y): # Esta función debería hacer un shuffle del data set sin desordenar las etiquetas\n",
    "  c = list(zip(X, y))\n",
    "  random.shuffle(c)\n",
    "  X, y = zip(*c)\n",
    "  return torch.stack(X), torch.stack(y)"
   ]
  },
  {
   "cell_type": "code",
   "execution_count": 9,
   "metadata": {},
   "outputs": [
    {
     "name": "stdout",
     "output_type": "stream",
     "text": [
      "CPU times: total: 0 ns\n",
      "Wall time: 0 ns\n"
     ]
    }
   ],
   "source": [
    "%%time\n",
    "\n",
    "patch_size = 300\n",
    "\n",
    "SIZE_X = patch_size\n",
    "SIZE_Y = patch_size\n",
    "\n",
    "MODE = \"a\"\n",
    "MODEL_NAME = \"ejemplo\"\n",
    "\n",
    "def train():\n",
    "\n",
    "  global net, loss_function, scheduler, optimizer, train_X, train_y, MODEL_NAME\n",
    "\n",
    "  print(MODEL_NAME)\n",
    "  BATCH_SIZE = 16\n",
    "  EPOCHS = 35\n",
    "\n",
    "  N_BATCHES = len(range(0, len(train_X), BATCH_SIZE))\n",
    "  N_BATCHES_VAL = len(range(0, len(val_X), BATCH_SIZE))\n",
    "  \n",
    "  with open(\"C:\\\\Users\\\\Alejandro\\\\Desktop\\\\heterogeneous-data\\\\results\\\\WSI\\\\log\\\\model.log\", MODE) as f:\n",
    "    for epoch in range(EPOCHS):\n",
    "      acc, loss, f1 = 0, 0, 0\n",
    "      val_acc, val_loss, val_f1 = 0, 0, 0\n",
    "\n",
    "      train_X, train_y = shuffle(train_X, train_y)\n",
    "\n",
    "      print(\"\\nEPOCH: \", epoch+1)\n",
    "\n",
    "      for i in tqdm(range(0, len(train_X), BATCH_SIZE)):\n",
    "        batch_X = train_X[i:i+BATCH_SIZE].view(-1,3,SIZE_X,SIZE_Y).to(device)\n",
    "        batch_y = train_y[i:i+BATCH_SIZE].to(device)\n",
    "        \n",
    "        net.train() # Making sure that the model is in training mode\n",
    "        \n",
    "        acc_aux, loss_aux, f1_aux = fwd_pass(batch_X, batch_y, train=True)\n",
    "        \n",
    "        acc += acc_aux/N_BATCHES # Calculating the average loss and acc trough batches\n",
    "        loss += loss_aux/N_BATCHES\n",
    "        f1 += f1_aux/N_BATCHES\n",
    "\n",
    "        del batch_X, batch_y\n",
    "      '''\n",
    "      for i in tqdm(range(0, int(len(val_X)*0.2), BATCH_SIZE)):\n",
    "        net.eval() # Making sure that the model is not training and deactivate droptout\n",
    "        \n",
    "        val_acc_aux, val_loss_aux = validate(val_X, val_y, size=BATCH_SIZE)\n",
    "      \n",
    "        val_acc += val_acc_aux/N_BATCHES_VAL # Calculating the average loss and acc trough batches\n",
    "        val_loss += val_loss_aux/N_BATCHES_VAL\n",
    "      '''\n",
    "\n",
    "      val_acc, val_loss, val_f1 = validate(val_X, val_y, size=len(val_y))\n",
    "\n",
    "      print(\"Val loss: \", val_loss.item(),\" Train loss: \", loss.item(), \"\\n\")\n",
    "      print(\"Val acc: \", val_acc,\" Train acc: \", acc, \"\\n\")\n",
    "      print(\"Val f1: \", val_f1,\" Train f1: \", f1, \"\\n\")\n",
    "\n",
    "      f.write(f\"{MODEL_NAME},{round(time.time(),3)},{round(float(acc),3)},{round(float(loss),4)},{round(float(val_acc),3)},{round(float(val_loss),4)}\\n\")\n",
    "      f.write(\"\\n\\n\")\n",
    "\n",
    "      print(\"Learning Rate: \", optimizer.param_groups[0][\"lr\"])\n",
    "      scheduler.step() # Changing the learning rate\n",
    "\n",
    "    torch.save(net.fc, f\"C:\\\\Users\\\\Alejandro\\\\Desktop\\\\heterogeneous-data\\\\results\\\\WSI\\\\models\\\\{MODEL_NAME}.pth\")\n"
   ]
  },
  {
   "cell_type": "code",
   "execution_count": 10,
   "metadata": {},
   "outputs": [
    {
     "name": "stdout",
     "output_type": "stream",
     "text": [
      "ejemplo_0\n",
      "\n",
      "EPOCH:  1\n"
     ]
    },
    {
     "data": {
      "application/vnd.jupyter.widget-view+json": {
       "model_id": "f7584b250e754419968ffab95bc6379e",
       "version_major": 2,
       "version_minor": 0
      },
      "text/plain": [
       "  0%|          | 0/194 [00:00<?, ?it/s]"
      ]
     },
     "metadata": {},
     "output_type": "display_data"
    },
    {
     "name": "stdout",
     "output_type": "stream",
     "text": [
      "Val loss:  0.6642974615097046  Train loss:  0.28301531076431274 \n",
      "\n",
      "Val acc:  0.7015384615384616  Train acc:  0.8836984536082454 \n",
      "\n",
      "Val f1:  0.8245931283905967  Train f1:  0.906849142100899 \n",
      "\n",
      "Learning Rate:  0.001\n",
      "\n",
      "EPOCH:  2\n"
     ]
    },
    {
     "data": {
      "application/vnd.jupyter.widget-view+json": {
       "model_id": "d5a4e3667780494e8878ce5f6ee936b5",
       "version_major": 2,
       "version_minor": 0
      },
      "text/plain": [
       "  0%|          | 0/194 [00:00<?, ?it/s]"
      ]
     },
     "metadata": {},
     "output_type": "display_data"
    },
    {
     "name": "stdout",
     "output_type": "stream",
     "text": [
      "Val loss:  0.3550471365451813  Train loss:  0.14911825954914093 \n",
      "\n",
      "Val acc:  0.8615384615384616  Train acc:  0.9458762886597916 \n",
      "\n",
      "Val f1:  0.9256198347107438  Train f1:  0.9599942918865819 \n",
      "\n",
      "Learning Rate:  0.0008\n",
      "\n",
      "EPOCH:  3\n"
     ]
    },
    {
     "data": {
      "application/vnd.jupyter.widget-view+json": {
       "model_id": "e10b30bbd14a49bba748d0134909f19e",
       "version_major": 2,
       "version_minor": 0
      },
      "text/plain": [
       "  0%|          | 0/194 [00:00<?, ?it/s]"
      ]
     },
     "metadata": {},
     "output_type": "display_data"
    },
    {
     "name": "stdout",
     "output_type": "stream",
     "text": [
      "Val loss:  0.3583822250366211  Train loss:  0.1065594032406807 \n",
      "\n",
      "Val acc:  0.84  Train acc:  0.9613402061855647 \n",
      "\n",
      "Val f1:  0.9130434782608695  Train f1:  0.9704173063165634 \n",
      "\n",
      "Learning Rate:  0.0006400000000000002\n",
      "\n",
      "EPOCH:  4\n"
     ]
    },
    {
     "data": {
      "application/vnd.jupyter.widget-view+json": {
       "model_id": "b933c4309b6a41718c123ec4818589c1",
       "version_major": 2,
       "version_minor": 0
      },
      "text/plain": [
       "  0%|          | 0/194 [00:00<?, ?it/s]"
      ]
     },
     "metadata": {},
     "output_type": "display_data"
    },
    {
     "name": "stdout",
     "output_type": "stream",
     "text": [
      "Val loss:  0.42000338435173035  Train loss:  0.10140324383974075 \n",
      "\n",
      "Val acc:  0.8092307692307692  Train acc:  0.9629510309278327 \n",
      "\n",
      "Val f1:  0.8945578231292517  Train f1:  0.9707168102660219 \n",
      "\n",
      "Learning Rate:  0.0005120000000000001\n",
      "\n",
      "EPOCH:  5\n"
     ]
    },
    {
     "data": {
      "application/vnd.jupyter.widget-view+json": {
       "model_id": "d737de9f008d4e63b95faf81e25a1e5e",
       "version_major": 2,
       "version_minor": 0
      },
      "text/plain": [
       "  0%|          | 0/194 [00:00<?, ?it/s]"
      ]
     },
     "metadata": {},
     "output_type": "display_data"
    },
    {
     "name": "stdout",
     "output_type": "stream",
     "text": [
      "Val loss:  0.6155648231506348  Train loss:  0.08887180685997009 \n",
      "\n",
      "Val acc:  0.7230769230769231  Train acc:  0.9658505154639152 \n",
      "\n",
      "Val f1:  0.8392857142857143  Train f1:  0.9734614206617881 \n",
      "\n",
      "Learning Rate:  0.0004096000000000001\n",
      "\n",
      "EPOCH:  6\n"
     ]
    },
    {
     "data": {
      "application/vnd.jupyter.widget-view+json": {
       "model_id": "19d5102dd7e546268b459ee5ab38b5fc",
       "version_major": 2,
       "version_minor": 0
      },
      "text/plain": [
       "  0%|          | 0/194 [00:00<?, ?it/s]"
      ]
     },
     "metadata": {},
     "output_type": "display_data"
    },
    {
     "name": "stdout",
     "output_type": "stream",
     "text": [
      "Val loss:  0.3534905016422272  Train loss:  0.07253684103488922 \n",
      "\n",
      "Val acc:  0.8461538461538461  Train acc:  0.9722938144329873 \n",
      "\n",
      "Val f1:  0.9166666666666666  Train f1:  0.9784128418625238 \n",
      "\n",
      "Learning Rate:  0.0003276800000000001\n",
      "\n",
      "EPOCH:  7\n"
     ]
    },
    {
     "data": {
      "application/vnd.jupyter.widget-view+json": {
       "model_id": "8abe44d719494e7da291f28040effb02",
       "version_major": 2,
       "version_minor": 0
      },
      "text/plain": [
       "  0%|          | 0/194 [00:00<?, ?it/s]"
      ]
     },
     "metadata": {},
     "output_type": "display_data"
    },
    {
     "name": "stdout",
     "output_type": "stream",
     "text": [
      "Val loss:  0.16657651960849762  Train loss:  0.05959482863545418 \n",
      "\n",
      "Val acc:  0.9323076923076923  Train acc:  0.9835695876288636 \n",
      "\n",
      "Val f1:  0.964968152866242  Train f1:  0.987775199383239 \n",
      "\n",
      "Learning Rate:  0.0002621440000000001\n",
      "\n",
      "EPOCH:  8\n"
     ]
    },
    {
     "data": {
      "application/vnd.jupyter.widget-view+json": {
       "model_id": "bc511220d31d44b5811c723627d49761",
       "version_major": 2,
       "version_minor": 0
      },
      "text/plain": [
       "  0%|          | 0/194 [00:00<?, ?it/s]"
      ]
     },
     "metadata": {},
     "output_type": "display_data"
    },
    {
     "name": "stdout",
     "output_type": "stream",
     "text": [
      "Val loss:  0.6509854793548584  Train loss:  0.05031716451048851 \n",
      "\n",
      "Val acc:  0.7107692307692308  Train acc:  0.98324742268041 \n",
      "\n",
      "Val f1:  0.8309352517985612  Train f1:  0.9864184966265602 \n",
      "\n",
      "Learning Rate:  0.0002097152000000001\n",
      "\n",
      "EPOCH:  9\n"
     ]
    },
    {
     "data": {
      "application/vnd.jupyter.widget-view+json": {
       "model_id": "7dc53749bbc746d99ae2d2c5111d17c4",
       "version_major": 2,
       "version_minor": 0
      },
      "text/plain": [
       "  0%|          | 0/194 [00:00<?, ?it/s]"
      ]
     },
     "metadata": {},
     "output_type": "display_data"
    },
    {
     "name": "stdout",
     "output_type": "stream",
     "text": [
      "Val loss:  0.2518346309661865  Train loss:  0.04873877018690109 \n",
      "\n",
      "Val acc:  0.8892307692307693  Train acc:  0.9845360824742244 \n",
      "\n",
      "Val f1:  0.9413680781758957  Train f1:  0.9883791469654001 \n",
      "\n",
      "Learning Rate:  0.0001677721600000001\n",
      "\n",
      "EPOCH:  10\n"
     ]
    },
    {
     "data": {
      "application/vnd.jupyter.widget-view+json": {
       "model_id": "36ba23902a814e1790b2b374dfded8e3",
       "version_major": 2,
       "version_minor": 0
      },
      "text/plain": [
       "  0%|          | 0/194 [00:00<?, ?it/s]"
      ]
     },
     "metadata": {},
     "output_type": "display_data"
    },
    {
     "name": "stdout",
     "output_type": "stream",
     "text": [
      "Val loss:  0.3165152072906494  Train loss:  0.048189423978328705 \n",
      "\n",
      "Val acc:  0.8676923076923077  Train acc:  0.9845360824742244 \n",
      "\n",
      "Val f1:  0.929159802306425  Train f1:  0.9872951158646924 \n",
      "\n",
      "Learning Rate:  0.00013421772800000008\n",
      "\n",
      "EPOCH:  11\n"
     ]
    },
    {
     "data": {
      "application/vnd.jupyter.widget-view+json": {
       "model_id": "7b451589680043b1af333f133be65805",
       "version_major": 2,
       "version_minor": 0
      },
      "text/plain": [
       "  0%|          | 0/194 [00:00<?, ?it/s]"
      ]
     },
     "metadata": {},
     "output_type": "display_data"
    },
    {
     "name": "stdout",
     "output_type": "stream",
     "text": [
      "Val loss:  0.45474645495414734  Train loss:  0.04616985097527504 \n",
      "\n",
      "Val acc:  0.7907692307692308  Train acc:  0.9867912371133997 \n",
      "\n",
      "Val f1:  0.8831615120274914  Train f1:  0.9884956458469679 \n",
      "\n",
      "Learning Rate:  0.00010737418240000006\n",
      "\n",
      "EPOCH:  12\n"
     ]
    },
    {
     "data": {
      "application/vnd.jupyter.widget-view+json": {
       "model_id": "13b395914c164a5582e6093079ca783c",
       "version_major": 2,
       "version_minor": 0
      },
      "text/plain": [
       "  0%|          | 0/194 [00:00<?, ?it/s]"
      ]
     },
     "metadata": {},
     "output_type": "display_data"
    },
    {
     "name": "stdout",
     "output_type": "stream",
     "text": [
      "Val loss:  0.35644540190696716  Train loss:  0.04013403132557869 \n",
      "\n",
      "Val acc:  0.8369230769230769  Train acc:  0.9880798969072141 \n",
      "\n",
      "Val f1:  0.9112227805695142  Train f1:  0.9900575122430519 \n",
      "\n",
      "Learning Rate:  8.589934592000005e-05\n",
      "\n",
      "EPOCH:  13\n"
     ]
    },
    {
     "data": {
      "application/vnd.jupyter.widget-view+json": {
       "model_id": "10fe960a805c4bebb955a3ba051f7e85",
       "version_major": 2,
       "version_minor": 0
      },
      "text/plain": [
       "  0%|          | 0/194 [00:00<?, ?it/s]"
      ]
     },
     "metadata": {},
     "output_type": "display_data"
    },
    {
     "name": "stdout",
     "output_type": "stream",
     "text": [
      "Val loss:  0.22306373715400696  Train loss:  0.03974045813083649 \n",
      "\n",
      "Val acc:  0.9076923076923077  Train acc:  0.9884020618556677 \n",
      "\n",
      "Val f1:  0.9516129032258065  Train f1:  0.9906687314762564 \n",
      "\n",
      "Learning Rate:  6.871947673600005e-05\n",
      "\n",
      "EPOCH:  14\n"
     ]
    },
    {
     "data": {
      "application/vnd.jupyter.widget-view+json": {
       "model_id": "7994534899574d7a8e109137f5543116",
       "version_major": 2,
       "version_minor": 0
      },
      "text/plain": [
       "  0%|          | 0/194 [00:00<?, ?it/s]"
      ]
     },
     "metadata": {},
     "output_type": "display_data"
    },
    {
     "name": "stdout",
     "output_type": "stream",
     "text": [
      "Val loss:  0.30975037813186646  Train loss:  0.04065806418657303 \n",
      "\n",
      "Val acc:  0.8676923076923077  Train acc:  0.9871134020618533 \n",
      "\n",
      "Val f1:  0.929159802306425  Train f1:  0.9896518425271564 \n",
      "\n",
      "Learning Rate:  5.497558138880004e-05\n",
      "\n",
      "EPOCH:  15\n"
     ]
    },
    {
     "data": {
      "application/vnd.jupyter.widget-view+json": {
       "model_id": "b23ff4ee9e6f481a90b2a434dda6bd7c",
       "version_major": 2,
       "version_minor": 0
      },
      "text/plain": [
       "  0%|          | 0/194 [00:00<?, ?it/s]"
      ]
     },
     "metadata": {},
     "output_type": "display_data"
    },
    {
     "name": "stdout",
     "output_type": "stream",
     "text": [
      "Val loss:  0.29683998227119446  Train loss:  0.03612663596868515 \n",
      "\n",
      "Val acc:  0.88  Train acc:  0.9871134020618533 \n",
      "\n",
      "Val f1:  0.9361702127659575  Train f1:  0.9901611842965841 \n",
      "\n",
      "Learning Rate:  4.398046511104004e-05\n",
      "\n",
      "EPOCH:  16\n"
     ]
    },
    {
     "data": {
      "application/vnd.jupyter.widget-view+json": {
       "model_id": "eb3aae0b158c47dda5e48821f4701bc9",
       "version_major": 2,
       "version_minor": 0
      },
      "text/plain": [
       "  0%|          | 0/194 [00:00<?, ?it/s]"
      ]
     },
     "metadata": {},
     "output_type": "display_data"
    },
    {
     "name": "stdout",
     "output_type": "stream",
     "text": [
      "Val loss:  0.34452101588249207  Train loss:  0.03826473280787468 \n",
      "\n",
      "Val acc:  0.8523076923076923  Train acc:  0.9874355670103069 \n",
      "\n",
      "Val f1:  0.920265780730897  Train f1:  0.9889021887967622 \n",
      "\n",
      "Learning Rate:  3.518437208883203e-05\n",
      "\n",
      "EPOCH:  17\n"
     ]
    },
    {
     "data": {
      "application/vnd.jupyter.widget-view+json": {
       "model_id": "82e8cb44cfda487691ba627c64bc9ff6",
       "version_major": 2,
       "version_minor": 0
      },
      "text/plain": [
       "  0%|          | 0/194 [00:00<?, ?it/s]"
      ]
     },
     "metadata": {},
     "output_type": "display_data"
    },
    {
     "name": "stdout",
     "output_type": "stream",
     "text": [
      "Val loss:  0.48291894793510437  Train loss:  0.039883650839328766 \n",
      "\n",
      "Val acc:  0.7753846153846153  Train acc:  0.9880798969072141 \n",
      "\n",
      "Val f1:  0.8734835355285961  Train f1:  0.9905027841332075 \n",
      "\n",
      "Learning Rate:  2.8147497671065623e-05\n",
      "\n",
      "EPOCH:  18\n"
     ]
    },
    {
     "data": {
      "application/vnd.jupyter.widget-view+json": {
       "model_id": "c58cda9f53214012bcf5cdff0a52aea7",
       "version_major": 2,
       "version_minor": 0
      },
      "text/plain": [
       "  0%|          | 0/194 [00:00<?, ?it/s]"
      ]
     },
     "metadata": {},
     "output_type": "display_data"
    },
    {
     "name": "stdout",
     "output_type": "stream",
     "text": [
      "Val loss:  0.40954890847206116  Train loss:  0.04112967103719711 \n",
      "\n",
      "Val acc:  0.8123076923076923  Train acc:  0.9887242268041213 \n",
      "\n",
      "Val f1:  0.8964346349745331  Train f1:  0.9899487506790742 \n",
      "\n",
      "Learning Rate:  2.2517998136852502e-05\n",
      "\n",
      "EPOCH:  19\n"
     ]
    },
    {
     "data": {
      "application/vnd.jupyter.widget-view+json": {
       "model_id": "0b5b109e24f6483f9362a91846cfba46",
       "version_major": 2,
       "version_minor": 0
      },
      "text/plain": [
       "  0%|          | 0/194 [00:00<?, ?it/s]"
      ]
     },
     "metadata": {},
     "output_type": "display_data"
    },
    {
     "name": "stdout",
     "output_type": "stream",
     "text": [
      "Val loss:  0.3085867166519165  Train loss:  0.04333440586924553 \n",
      "\n",
      "Val acc:  0.8707692307692307  Train acc:  0.9858247422680388 \n",
      "\n",
      "Val f1:  0.930921052631579  Train f1:  0.9887771219539495 \n",
      "\n",
      "Learning Rate:  1.8014398509482003e-05\n",
      "\n",
      "EPOCH:  20\n"
     ]
    },
    {
     "data": {
      "application/vnd.jupyter.widget-view+json": {
       "model_id": "c1ae91fb77904ed89e000c375b496159",
       "version_major": 2,
       "version_minor": 0
      },
      "text/plain": [
       "  0%|          | 0/194 [00:00<?, ?it/s]"
      ]
     },
     "metadata": {},
     "output_type": "display_data"
    },
    {
     "name": "stdout",
     "output_type": "stream",
     "text": [
      "Val loss:  0.45038875937461853  Train loss:  0.035874027758836746 \n",
      "\n",
      "Val acc:  0.8  Train acc:  0.9880798969072141 \n",
      "\n",
      "Val f1:  0.8888888888888888  Train f1:  0.9900004131732925 \n",
      "\n",
      "Learning Rate:  1.4411518807585603e-05\n",
      "\n",
      "EPOCH:  21\n"
     ]
    },
    {
     "data": {
      "application/vnd.jupyter.widget-view+json": {
       "model_id": "8c6007c6d6f74631a11efd1fb65339f8",
       "version_major": 2,
       "version_minor": 0
      },
      "text/plain": [
       "  0%|          | 0/194 [00:00<?, ?it/s]"
      ]
     },
     "metadata": {},
     "output_type": "display_data"
    },
    {
     "name": "stdout",
     "output_type": "stream",
     "text": [
      "Val loss:  0.30681419372558594  Train loss:  0.03676317632198334 \n",
      "\n",
      "Val acc:  0.8738461538461538  Train acc:  0.9903350515463893 \n",
      "\n",
      "Val f1:  0.9326765188834154  Train f1:  0.992781837013331 \n",
      "\n",
      "Learning Rate:  1.1529215046068483e-05\n",
      "\n",
      "EPOCH:  22\n"
     ]
    },
    {
     "data": {
      "application/vnd.jupyter.widget-view+json": {
       "model_id": "676ae92abccc4202866fdafe5a41144c",
       "version_major": 2,
       "version_minor": 0
      },
      "text/plain": [
       "  0%|          | 0/194 [00:00<?, ?it/s]"
      ]
     },
     "metadata": {},
     "output_type": "display_data"
    },
    {
     "name": "stdout",
     "output_type": "stream",
     "text": [
      "Val loss:  0.3440797030925751  Train loss:  0.031023511663079262 \n",
      "\n",
      "Val acc:  0.8492307692307692  Train acc:  0.9916237113402038 \n",
      "\n",
      "Val f1:  0.9184692179700499  Train f1:  0.9930501919195655 \n",
      "\n",
      "Learning Rate:  9.223372036854787e-06\n",
      "\n",
      "EPOCH:  23\n"
     ]
    },
    {
     "data": {
      "application/vnd.jupyter.widget-view+json": {
       "model_id": "18d789956f074f51a3e3ca31c912020f",
       "version_major": 2,
       "version_minor": 0
      },
      "text/plain": [
       "  0%|          | 0/194 [00:00<?, ?it/s]"
      ]
     },
     "metadata": {},
     "output_type": "display_data"
    },
    {
     "name": "stdout",
     "output_type": "stream",
     "text": [
      "Val loss:  0.333608478307724  Train loss:  0.03584111109375954 \n",
      "\n",
      "Val acc:  0.8615384615384616  Train acc:  0.9877577319587605 \n",
      "\n",
      "Val f1:  0.9256198347107438  Train f1:  0.9898868243273496 \n",
      "\n",
      "Learning Rate:  7.37869762948383e-06\n",
      "\n",
      "EPOCH:  24\n"
     ]
    },
    {
     "data": {
      "application/vnd.jupyter.widget-view+json": {
       "model_id": "cf10f77f98244369aba246afc9782dbd",
       "version_major": 2,
       "version_minor": 0
      },
      "text/plain": [
       "  0%|          | 0/194 [00:00<?, ?it/s]"
      ]
     },
     "metadata": {},
     "output_type": "display_data"
    },
    {
     "name": "stdout",
     "output_type": "stream",
     "text": [
      "Val loss:  0.34680280089378357  Train loss:  0.03510237857699394 \n",
      "\n",
      "Val acc:  0.8492307692307692  Train acc:  0.990657216494843 \n",
      "\n",
      "Val f1:  0.9184692179700499  Train f1:  0.9921898826978259 \n",
      "\n",
      "Learning Rate:  5.902958103587064e-06\n",
      "\n",
      "EPOCH:  25\n"
     ]
    },
    {
     "data": {
      "application/vnd.jupyter.widget-view+json": {
       "model_id": "df9f3d7bcbfe432d95bb974ed7959be1",
       "version_major": 2,
       "version_minor": 0
      },
      "text/plain": [
       "  0%|          | 0/194 [00:00<?, ?it/s]"
      ]
     },
     "metadata": {},
     "output_type": "display_data"
    },
    {
     "name": "stdout",
     "output_type": "stream",
     "text": [
      "Val loss:  0.3396192491054535  Train loss:  0.0332195870578289 \n",
      "\n",
      "Val acc:  0.8584615384615385  Train acc:  0.9909793814432966 \n",
      "\n",
      "Val f1:  0.9238410596026491  Train f1:  0.9929501116625524 \n",
      "\n",
      "Learning Rate:  4.722366482869652e-06\n",
      "\n",
      "EPOCH:  26\n"
     ]
    },
    {
     "data": {
      "application/vnd.jupyter.widget-view+json": {
       "model_id": "e85d2b06e6fc4f62866cc98d1827a4d0",
       "version_major": 2,
       "version_minor": 0
      },
      "text/plain": [
       "  0%|          | 0/194 [00:00<?, ?it/s]"
      ]
     },
     "metadata": {},
     "output_type": "display_data"
    },
    {
     "name": "stdout",
     "output_type": "stream",
     "text": [
      "Val loss:  0.34724360704421997  Train loss:  0.03892712667584419 \n",
      "\n",
      "Val acc:  0.8492307692307692  Train acc:  0.9900128865979357 \n",
      "\n",
      "Val f1:  0.9184692179700499  Train f1:  0.9916423226776494 \n",
      "\n",
      "Learning Rate:  3.7778931862957216e-06\n",
      "\n",
      "EPOCH:  27\n"
     ]
    },
    {
     "data": {
      "application/vnd.jupyter.widget-view+json": {
       "model_id": "424ea91a03874a84937f47f66239abfe",
       "version_major": 2,
       "version_minor": 0
      },
      "text/plain": [
       "  0%|          | 0/194 [00:00<?, ?it/s]"
      ]
     },
     "metadata": {},
     "output_type": "display_data"
    },
    {
     "name": "stdout",
     "output_type": "stream",
     "text": [
      "Val loss:  0.3451686501502991  Train loss:  0.032813552767038345 \n",
      "\n",
      "Val acc:  0.8492307692307692  Train acc:  0.990657216494843 \n",
      "\n",
      "Val f1:  0.9184692179700499  Train f1:  0.9930004635618805 \n",
      "\n",
      "Learning Rate:  3.0223145490365774e-06\n",
      "\n",
      "EPOCH:  28\n"
     ]
    },
    {
     "data": {
      "application/vnd.jupyter.widget-view+json": {
       "model_id": "4c79ccb37bae4ac38ff33c694de3d695",
       "version_major": 2,
       "version_minor": 0
      },
      "text/plain": [
       "  0%|          | 0/194 [00:00<?, ?it/s]"
      ]
     },
     "metadata": {},
     "output_type": "display_data"
    },
    {
     "name": "stdout",
     "output_type": "stream",
     "text": [
      "Val loss:  0.32962363958358765  Train loss:  0.03636034205555916 \n",
      "\n",
      "Val acc:  0.8584615384615385  Train acc:  0.9877577319587605 \n",
      "\n",
      "Val f1:  0.9238410596026491  Train f1:  0.9902237553672621 \n",
      "\n",
      "Learning Rate:  2.417851639229262e-06\n",
      "\n",
      "EPOCH:  29\n"
     ]
    },
    {
     "data": {
      "application/vnd.jupyter.widget-view+json": {
       "model_id": "2859218b0f9c4f57a8513baf9445c372",
       "version_major": 2,
       "version_minor": 0
      },
      "text/plain": [
       "  0%|          | 0/194 [00:00<?, ?it/s]"
      ]
     },
     "metadata": {},
     "output_type": "display_data"
    },
    {
     "name": "stdout",
     "output_type": "stream",
     "text": [
      "Val loss:  0.316098153591156  Train loss:  0.03053879551589489 \n",
      "\n",
      "Val acc:  0.8707692307692307  Train acc:  0.9925902061855646 \n",
      "\n",
      "Val f1:  0.930921052631579  Train f1:  0.9942797614219284 \n",
      "\n",
      "Learning Rate:  1.93428131138341e-06\n",
      "\n",
      "EPOCH:  30\n"
     ]
    },
    {
     "data": {
      "application/vnd.jupyter.widget-view+json": {
       "model_id": "1b96d95c97424539b2b6cb50a0fad767",
       "version_major": 2,
       "version_minor": 0
      },
      "text/plain": [
       "  0%|          | 0/194 [00:00<?, ?it/s]"
      ]
     },
     "metadata": {},
     "output_type": "display_data"
    },
    {
     "name": "stdout",
     "output_type": "stream",
     "text": [
      "Val loss:  0.32987257838249207  Train loss:  0.0315614752471447 \n",
      "\n",
      "Val acc:  0.8584615384615385  Train acc:  0.9916237113402038 \n",
      "\n",
      "Val f1:  0.9238410596026491  Train f1:  0.9929889867537648 \n",
      "\n",
      "Learning Rate:  1.547425049106728e-06\n",
      "\n",
      "EPOCH:  31\n"
     ]
    },
    {
     "data": {
      "application/vnd.jupyter.widget-view+json": {
       "model_id": "f3bec8d891b04befac6f56cc1fd23cb3",
       "version_major": 2,
       "version_minor": 0
      },
      "text/plain": [
       "  0%|          | 0/194 [00:00<?, ?it/s]"
      ]
     },
     "metadata": {},
     "output_type": "display_data"
    },
    {
     "name": "stdout",
     "output_type": "stream",
     "text": [
      "Val loss:  0.3423908054828644  Train loss:  0.04041684791445732 \n",
      "\n",
      "Val acc:  0.8523076923076923  Train acc:  0.9867912371133997 \n",
      "\n",
      "Val f1:  0.920265780730897  Train f1:  0.9889354251838705 \n",
      "\n",
      "Learning Rate:  1.2379400392853823e-06\n",
      "\n",
      "EPOCH:  32\n"
     ]
    },
    {
     "data": {
      "application/vnd.jupyter.widget-view+json": {
       "model_id": "50e0f19a3e2a4dfeae41b5498c55f075",
       "version_major": 2,
       "version_minor": 0
      },
      "text/plain": [
       "  0%|          | 0/194 [00:00<?, ?it/s]"
      ]
     },
     "metadata": {},
     "output_type": "display_data"
    },
    {
     "name": "stdout",
     "output_type": "stream",
     "text": [
      "Val loss:  0.35335445404052734  Train loss:  0.037499770522117615 \n",
      "\n",
      "Val acc:  0.8492307692307692  Train acc:  0.9887242268041213 \n",
      "\n",
      "Val f1:  0.9184692179700499  Train f1:  0.9910117478507008 \n",
      "\n",
      "Learning Rate:  9.903520314283058e-07\n",
      "\n",
      "EPOCH:  33\n"
     ]
    },
    {
     "data": {
      "application/vnd.jupyter.widget-view+json": {
       "model_id": "7ec258b42aa248d2a5aef5bea66cc373",
       "version_major": 2,
       "version_minor": 0
      },
      "text/plain": [
       "  0%|          | 0/194 [00:00<?, ?it/s]"
      ]
     },
     "metadata": {},
     "output_type": "display_data"
    },
    {
     "name": "stdout",
     "output_type": "stream",
     "text": [
      "Val loss:  0.3491693139076233  Train loss:  0.03197460249066353 \n",
      "\n",
      "Val acc:  0.8492307692307692  Train acc:  0.9932345360824718 \n",
      "\n",
      "Val f1:  0.9184692179700499  Train f1:  0.9943190703280483 \n",
      "\n",
      "Learning Rate:  7.922816251426449e-07\n",
      "\n",
      "EPOCH:  34\n"
     ]
    },
    {
     "data": {
      "application/vnd.jupyter.widget-view+json": {
       "model_id": "8a69547f0cef44748101ebd4e6a91693",
       "version_major": 2,
       "version_minor": 0
      },
      "text/plain": [
       "  0%|          | 0/194 [00:00<?, ?it/s]"
      ]
     },
     "metadata": {},
     "output_type": "display_data"
    },
    {
     "name": "stdout",
     "output_type": "stream",
     "text": [
      "Val loss:  0.347162663936615  Train loss:  0.0415043979883194 \n",
      "\n",
      "Val acc:  0.8492307692307692  Train acc:  0.9867912371133997 \n",
      "\n",
      "Val f1:  0.9184692179700499  Train f1:  0.989528659068354 \n",
      "\n",
      "Learning Rate:  6.338253001141158e-07\n",
      "\n",
      "EPOCH:  35\n"
     ]
    },
    {
     "data": {
      "application/vnd.jupyter.widget-view+json": {
       "model_id": "ae578b6165ea42aabcc9379f758c8fdc",
       "version_major": 2,
       "version_minor": 0
      },
      "text/plain": [
       "  0%|          | 0/194 [00:00<?, ?it/s]"
      ]
     },
     "metadata": {},
     "output_type": "display_data"
    },
    {
     "name": "stdout",
     "output_type": "stream",
     "text": [
      "Val loss:  0.3452383279800415  Train loss:  0.03436000272631645 \n",
      "\n",
      "Val acc:  0.8492307692307692  Train acc:  0.9903350515463893 \n",
      "\n",
      "Val f1:  0.9184692179700499  Train f1:  0.9922324388847971 \n",
      "\n",
      "Learning Rate:  5.070602400912927e-07\n"
     ]
    }
   ],
   "source": [
    "# Choosing only the images from the according splits (10CV)\n",
    "\n",
    "for SPLIT in range(1):\n",
    "    MODEL_NAME = f\"ejemplo_{SPLIT}\"\n",
    "\n",
    "    train_idx = []\n",
    "    val_idx = []\n",
    "\n",
    "    TRAIN_SPLIT = open(f\"C:\\\\Users\\\\Alejandro\\\\Desktop\\\\heterogeneous-data\\\\splits\\\\trainsplit{SPLIT}.txt\", \"r\").read().split()\n",
    "    VAL_SPLIT = open(f\"C:\\\\Users\\\\Alejandro\\\\Desktop\\\\heterogeneous-data\\\\splits\\\\testsplit{SPLIT}.txt\", \"r\").read().split()\n",
    "\n",
    "    for i, case in enumerate(data_set.case_ids):\n",
    "        if case in TRAIN_SPLIT:\n",
    "            train_idx.append(i)\n",
    "        elif case in VAL_SPLIT:\n",
    "            val_idx.append(i)\n",
    "\n",
    "    X, y = data_set.inputs.float(), data_set.labels.float()\n",
    "\n",
    "    train_X, train_y = shuffle(torch.stack([X[i] for i in train_idx]), torch.stack([y[i] for i in train_idx]))\n",
    "\n",
    "    val_X, val_y = shuffle(torch.stack([X[i] for i in val_idx]), torch.stack([y[i] for i in val_idx]))\n",
    "\n",
    "    train()\n"
   ]
  },
  {
   "cell_type": "code",
   "execution_count": 11,
   "metadata": {},
   "outputs": [],
   "source": [
    "def learning_curve():\n",
    "  fig, axs = plt.subplots(2, figsize = (7,6))\n",
    "\n",
    "  acc_df = pd.read_csv(\"C:\\\\Users\\\\Alejandro\\\\Desktop\\\\heterogeneous-data\\\\results\\\\WSI\\\\log\\\\model.log\")\n",
    "  acc_df.columns = [\"MODEL_NAME\", \"TIME\", \"ACC\", \"LOSS\", \"VAL_ACC\", \"VAL_LOSS\"]\n",
    "\n",
    "  fig, axs = plt.subplots(2, figsize=(5,7))\n",
    "  #ax = plt.gca() # GET CURRENT AXIS\n",
    "\n",
    "  axs[0].legend(\"MODEL_NAME\", loc=2)\n",
    "\n",
    "  acc_df.plot(y=\"ACC\", ax=axs[0])\n",
    "  acc_df.plot(y=\"VAL_ACC\", ax=axs[0])\n",
    "\n",
    "  acc_df.plot(y=\"LOSS\", ax=axs[1])\n",
    "  acc_df.plot(y=\"VAL_LOSS\",ax=axs[1])\n",
    "\n",
    "  fig.show()\n",
    "  fig.savefig(f\"C:\\\\Users\\\\Alejandro\\\\Desktop\\\\heterogeneous-data\\\\results\\\\WSI\\\\lc\\\\l_curve_{MODEL_NAME}.pdf\")"
   ]
  },
  {
   "cell_type": "code",
   "execution_count": 12,
   "metadata": {},
   "outputs": [
    {
     "name": "stderr",
     "output_type": "stream",
     "text": [
      "C:\\Users\\Alejandro\\AppData\\Local\\Temp\\ipykernel_18312\\440877980.py:18: UserWarning: Matplotlib is currently using module://matplotlib_inline.backend_inline, which is a non-GUI backend, so cannot show the figure.\n",
      "  fig.show()\n"
     ]
    },
    {
     "data": {
      "image/png": "[encoded data removed]",
      "text/plain": [
       "<Figure size 504x432 with 2 Axes>"
      ]
     },
     "metadata": {
      "needs_background": "light"
     },
     "output_type": "display_data"
    },
    {
     "data": {
      "image/png": "[encoded data removed]",
      "text/plain": [
       "<Figure size 360x504 with 2 Axes>"
      ]
     },
     "metadata": {
      "needs_background": "light"
     },
     "output_type": "display_data"
    }
   ],
   "source": [
    "learning_curve()"
   ]
  },
  {
   "cell_type": "code",
   "execution_count": null,
   "metadata": {},
   "outputs": [],
   "source": []
  },
  {
   "cell_type": "code",
   "execution_count": null,
   "metadata": {},
   "outputs": [],
   "source": []
  }
 ],
 "metadata": {
  "interpreter": {
   "hash": "de74446a7cd3a56c425ecbffb2a7ad915342ddab3c48353acb4566475bd7705f"
  },
  "kernelspec": {
   "display_name": "Python 3.9.12 ('openslide')",
   "language": "python",
   "name": "python3"
  },
  "language_info": {
   "codemirror_mode": {
    "name": "ipython",
    "version": 3
   },
   "file_extension": ".py",
   "mimetype": "text/x-python",
   "name": "python",
   "nbconvert_exporter": "python",
   "pygments_lexer": "ipython3",
   "version": "3.9.12"
  },
  "orig_nbformat": 4
 },
 "nbformat": 4,
 "nbformat_minor": 2
}
