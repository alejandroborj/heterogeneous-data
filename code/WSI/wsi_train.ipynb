{
 "cells": [
  {
   "cell_type": "markdown",
   "metadata": {},
   "source": [
    "# Model training and selection"
   ]
  },
  {
   "cell_type": "code",
   "execution_count": 16,
   "metadata": {},
   "outputs": [],
   "source": [
    "import pickle\n",
    "from tqdm.notebook import tqdm\n",
    "import numpy as np\n",
    "import random\n",
    "import matplotlib.pyplot as plt\n",
    "import pandas as pd\n",
    "from sklearn.metrics import confusion_matrix\n",
    "\n",
    "import torch\n",
    "import torchvision.transforms as transforms\n",
    "import torchvision.models\n",
    "import torch.optim as optim\n",
    "import torch.nn as nn\n",
    "\n",
    "import time"
   ]
  },
  {
   "cell_type": "code",
   "execution_count": 17,
   "metadata": {},
   "outputs": [],
   "source": [
    "name = \"data_set_x10_5%\"\n",
    "\n",
    "with open(f\"C:/Users/Alejandro/Desktop/heterogeneous-data/data/datasets/{name}.obj\", 'rb') as f:\n",
    "    data_set = pickle.load(f)\n"
   ]
  },
  {
   "cell_type": "code",
   "execution_count": 18,
   "metadata": {},
   "outputs": [
    {
     "name": "stdout",
     "output_type": "stream",
     "text": [
      "Using GPU : cuda:0\n"
     ]
    }
   ],
   "source": [
    "# Choosing device for tensor processing\n",
    "\n",
    "if torch.cuda.is_available():\n",
    "    device = torch.device(\"cuda:0\")\n",
    "    print(\"Using GPU :\", device)\n",
    "else:\n",
    "    device = torch.device(\"cpu\")\n",
    "    print(\"Using CPU \")"
   ]
  },
  {
   "cell_type": "code",
   "execution_count": 19,
   "metadata": {},
   "outputs": [],
   "source": [
    "patch_size = 300\n",
    "\n",
    "SIZE_X = patch_size\n",
    "SIZE_Y = patch_size\n",
    "\n",
    "MODE = \"a\"\n",
    "MODEL_NAME = \"ejemplo\""
   ]
  },
  {
   "cell_type": "code",
   "execution_count": 20,
   "metadata": {},
   "outputs": [
    {
     "name": "stdout",
     "output_type": "stream",
     "text": [
      "loading ejemplo\n"
     ]
    },
    {
     "ename": "FileNotFoundError",
     "evalue": "[Errno 2] No such file or directory: 'C:\\\\Users\\\\Alejandro\\\\Desktop\\\\heterogeneous-data\\\\results\\\\WSI\\\\models\\\\ejemplo.pth'",
     "output_type": "error",
     "traceback": [
      "\u001b[1;31m---------------------------------------------------------------------------\u001b[0m",
      "\u001b[1;31mFileNotFoundError\u001b[0m                         Traceback (most recent call last)",
      "\u001b[1;32mc:\\Users\\Alejandro\\Desktop\\heterogeneous-data\\code\\WSI\\wsi_train.ipynb Cell 6'\u001b[0m in \u001b[0;36m<cell line: 37>\u001b[1;34m()\u001b[0m\n\u001b[0;32m     <a href='vscode-notebook-cell:/c%3A/Users/Alejandro/Desktop/heterogeneous-data/code/WSI/wsi_train.ipynb#ch0000004?line=33'>34</a>\u001b[0m   lambda1 \u001b[39m=\u001b[39m \u001b[39mlambda\u001b[39;00m epoch: \u001b[39m0.8\u001b[39m \u001b[39m*\u001b[39m\u001b[39m*\u001b[39m epoch \u001b[39m# Scheduler\u001b[39;00m\n\u001b[0;32m     <a href='vscode-notebook-cell:/c%3A/Users/Alejandro/Desktop/heterogeneous-data/code/WSI/wsi_train.ipynb#ch0000004?line=34'>35</a>\u001b[0m   scheduler \u001b[39m=\u001b[39m torch\u001b[39m.\u001b[39moptim\u001b[39m.\u001b[39mlr_scheduler\u001b[39m.\u001b[39mLambdaLR(optimizer, lr_lambda\u001b[39m=\u001b[39mlambda1)\n\u001b[1;32m---> <a href='vscode-notebook-cell:/c%3A/Users/Alejandro/Desktop/heterogeneous-data/code/WSI/wsi_train.ipynb#ch0000004?line=36'>37</a>\u001b[0m init()\n",
      "\u001b[1;32mc:\\Users\\Alejandro\\Desktop\\heterogeneous-data\\code\\WSI\\wsi_train.ipynb Cell 6'\u001b[0m in \u001b[0;36minit\u001b[1;34m()\u001b[0m\n\u001b[0;32m     <a href='vscode-notebook-cell:/c%3A/Users/Alejandro/Desktop/heterogeneous-data/code/WSI/wsi_train.ipynb#ch0000004?line=20'>21</a>\u001b[0m net\u001b[39m.\u001b[39mfc\u001b[39m.\u001b[39mapply(init_weights) \u001b[39m# Xavier init\u001b[39;00m\n\u001b[0;32m     <a href='vscode-notebook-cell:/c%3A/Users/Alejandro/Desktop/heterogeneous-data/code/WSI/wsi_train.ipynb#ch0000004?line=22'>23</a>\u001b[0m \u001b[39mprint\u001b[39m(\u001b[39mf\u001b[39m\u001b[39m\"\u001b[39m\u001b[39mloading \u001b[39m\u001b[39m{\u001b[39;00mMODEL_NAME\u001b[39m}\u001b[39;00m\u001b[39m\"\u001b[39m)\n\u001b[1;32m---> <a href='vscode-notebook-cell:/c%3A/Users/Alejandro/Desktop/heterogeneous-data/code/WSI/wsi_train.ipynb#ch0000004?line=24'>25</a>\u001b[0m net\u001b[39m.\u001b[39mfc \u001b[39m=\u001b[39m torch\u001b[39m.\u001b[39;49mload(\u001b[39mf\u001b[39;49m\u001b[39m\"\u001b[39;49m\u001b[39mC:\u001b[39;49m\u001b[39m\\\\\u001b[39;49;00m\u001b[39mUsers\u001b[39;49m\u001b[39m\\\\\u001b[39;49;00m\u001b[39mAlejandro\u001b[39;49m\u001b[39m\\\\\u001b[39;49;00m\u001b[39mDesktop\u001b[39;49m\u001b[39m\\\\\u001b[39;49;00m\u001b[39mheterogeneous-data\u001b[39;49m\u001b[39m\\\\\u001b[39;49;00m\u001b[39mresults\u001b[39;49m\u001b[39m\\\\\u001b[39;49;00m\u001b[39mWSI\u001b[39;49m\u001b[39m\\\\\u001b[39;49;00m\u001b[39mmodels\u001b[39;49m\u001b[39m\\\\\u001b[39;49;00m\u001b[39m{\u001b[39;49;00mMODEL_NAME\u001b[39m}\u001b[39;49;00m\u001b[39m.pth\u001b[39;49m\u001b[39m\"\u001b[39;49m) \u001b[39m# Model loading\u001b[39;00m\n\u001b[0;32m     <a href='vscode-notebook-cell:/c%3A/Users/Alejandro/Desktop/heterogeneous-data/code/WSI/wsi_train.ipynb#ch0000004?line=26'>27</a>\u001b[0m \u001b[39mprint\u001b[39m(\u001b[39m\"\u001b[39m\u001b[39mNumber of free parameters: \u001b[39m\u001b[39m\"\u001b[39m, \u001b[39msum\u001b[39m(p\u001b[39m.\u001b[39mnumel() \u001b[39mfor\u001b[39;00m p \u001b[39min\u001b[39;00m net\u001b[39m.\u001b[39mparameters()))\n\u001b[0;32m     <a href='vscode-notebook-cell:/c%3A/Users/Alejandro/Desktop/heterogeneous-data/code/WSI/wsi_train.ipynb#ch0000004?line=28'>29</a>\u001b[0m \u001b[39m#Hyperparameters:\u001b[39;00m\n",
      "File \u001b[1;32mc:\\Users\\Alejandro\\anaconda3\\envs\\openslide\\lib\\site-packages\\torch\\serialization.py:699\u001b[0m, in \u001b[0;36mload\u001b[1;34m(f, map_location, pickle_module, **pickle_load_args)\u001b[0m\n\u001b[0;32m    <a href='file:///c%3A/Users/Alejandro/anaconda3/envs/openslide/lib/site-packages/torch/serialization.py?line=695'>696</a>\u001b[0m \u001b[39mif\u001b[39;00m \u001b[39m'\u001b[39m\u001b[39mencoding\u001b[39m\u001b[39m'\u001b[39m \u001b[39mnot\u001b[39;00m \u001b[39min\u001b[39;00m pickle_load_args\u001b[39m.\u001b[39mkeys():\n\u001b[0;32m    <a href='file:///c%3A/Users/Alejandro/anaconda3/envs/openslide/lib/site-packages/torch/serialization.py?line=696'>697</a>\u001b[0m     pickle_load_args[\u001b[39m'\u001b[39m\u001b[39mencoding\u001b[39m\u001b[39m'\u001b[39m] \u001b[39m=\u001b[39m \u001b[39m'\u001b[39m\u001b[39mutf-8\u001b[39m\u001b[39m'\u001b[39m\n\u001b[1;32m--> <a href='file:///c%3A/Users/Alejandro/anaconda3/envs/openslide/lib/site-packages/torch/serialization.py?line=698'>699</a>\u001b[0m \u001b[39mwith\u001b[39;00m _open_file_like(f, \u001b[39m'\u001b[39;49m\u001b[39mrb\u001b[39;49m\u001b[39m'\u001b[39;49m) \u001b[39mas\u001b[39;00m opened_file:\n\u001b[0;32m    <a href='file:///c%3A/Users/Alejandro/anaconda3/envs/openslide/lib/site-packages/torch/serialization.py?line=699'>700</a>\u001b[0m     \u001b[39mif\u001b[39;00m _is_zipfile(opened_file):\n\u001b[0;32m    <a href='file:///c%3A/Users/Alejandro/anaconda3/envs/openslide/lib/site-packages/torch/serialization.py?line=700'>701</a>\u001b[0m         \u001b[39m# The zipfile reader is going to advance the current file position.\u001b[39;00m\n\u001b[0;32m    <a href='file:///c%3A/Users/Alejandro/anaconda3/envs/openslide/lib/site-packages/torch/serialization.py?line=701'>702</a>\u001b[0m         \u001b[39m# If we want to actually tail call to torch.jit.load, we need to\u001b[39;00m\n\u001b[0;32m    <a href='file:///c%3A/Users/Alejandro/anaconda3/envs/openslide/lib/site-packages/torch/serialization.py?line=702'>703</a>\u001b[0m         \u001b[39m# reset back to the original position.\u001b[39;00m\n\u001b[0;32m    <a href='file:///c%3A/Users/Alejandro/anaconda3/envs/openslide/lib/site-packages/torch/serialization.py?line=703'>704</a>\u001b[0m         orig_position \u001b[39m=\u001b[39m opened_file\u001b[39m.\u001b[39mtell()\n",
      "File \u001b[1;32mc:\\Users\\Alejandro\\anaconda3\\envs\\openslide\\lib\\site-packages\\torch\\serialization.py:231\u001b[0m, in \u001b[0;36m_open_file_like\u001b[1;34m(name_or_buffer, mode)\u001b[0m\n\u001b[0;32m    <a href='file:///c%3A/Users/Alejandro/anaconda3/envs/openslide/lib/site-packages/torch/serialization.py?line=228'>229</a>\u001b[0m \u001b[39mdef\u001b[39;00m \u001b[39m_open_file_like\u001b[39m(name_or_buffer, mode):\n\u001b[0;32m    <a href='file:///c%3A/Users/Alejandro/anaconda3/envs/openslide/lib/site-packages/torch/serialization.py?line=229'>230</a>\u001b[0m     \u001b[39mif\u001b[39;00m _is_path(name_or_buffer):\n\u001b[1;32m--> <a href='file:///c%3A/Users/Alejandro/anaconda3/envs/openslide/lib/site-packages/torch/serialization.py?line=230'>231</a>\u001b[0m         \u001b[39mreturn\u001b[39;00m _open_file(name_or_buffer, mode)\n\u001b[0;32m    <a href='file:///c%3A/Users/Alejandro/anaconda3/envs/openslide/lib/site-packages/torch/serialization.py?line=231'>232</a>\u001b[0m     \u001b[39melse\u001b[39;00m:\n\u001b[0;32m    <a href='file:///c%3A/Users/Alejandro/anaconda3/envs/openslide/lib/site-packages/torch/serialization.py?line=232'>233</a>\u001b[0m         \u001b[39mif\u001b[39;00m \u001b[39m'\u001b[39m\u001b[39mw\u001b[39m\u001b[39m'\u001b[39m \u001b[39min\u001b[39;00m mode:\n",
      "File \u001b[1;32mc:\\Users\\Alejandro\\anaconda3\\envs\\openslide\\lib\\site-packages\\torch\\serialization.py:212\u001b[0m, in \u001b[0;36m_open_file.__init__\u001b[1;34m(self, name, mode)\u001b[0m\n\u001b[0;32m    <a href='file:///c%3A/Users/Alejandro/anaconda3/envs/openslide/lib/site-packages/torch/serialization.py?line=210'>211</a>\u001b[0m \u001b[39mdef\u001b[39;00m \u001b[39m__init__\u001b[39m(\u001b[39mself\u001b[39m, name, mode):\n\u001b[1;32m--> <a href='file:///c%3A/Users/Alejandro/anaconda3/envs/openslide/lib/site-packages/torch/serialization.py?line=211'>212</a>\u001b[0m     \u001b[39msuper\u001b[39m(_open_file, \u001b[39mself\u001b[39m)\u001b[39m.\u001b[39m\u001b[39m__init__\u001b[39m(\u001b[39mopen\u001b[39;49m(name, mode))\n",
      "\u001b[1;31mFileNotFoundError\u001b[0m: [Errno 2] No such file or directory: 'C:\\\\Users\\\\Alejandro\\\\Desktop\\\\heterogeneous-data\\\\results\\\\WSI\\\\models\\\\ejemplo.pth'"
     ]
    }
   ],
   "source": [
    "def init_weights(m): # XAVIER initialization for final layer weight initialization\n",
    "    if type(m) == nn.Linear:\n",
    "        torch.nn.init.xavier_uniform_(m.weight)\n",
    "        m.bias.data.fill_(0.01)\n",
    "\n",
    "def init():\n",
    "  global net, loss_function, scheduler, optimizer, MODEL_NAME\n",
    "  \n",
    "  net = torchvision.models.resnet18(pretrained=True).to(device)\n",
    "      \n",
    "  for param in net.parameters():\n",
    "      param.requires_grad = False # Freezing the convolutional layers\n",
    "      \n",
    "  net.fc = nn.Sequential(\n",
    "                nn.Linear(512, 128), #512\n",
    "                nn.ReLU(inplace=True),\n",
    "                nn.Linear(128, 2),\n",
    "                nn.Softmax(dim = -1)\n",
    "                ).to(device)\n",
    "\n",
    "  net.fc.apply(init_weights) # Xavier init\n",
    "\n",
    "  print(f\"loading {MODEL_NAME}\")\n",
    "\n",
    "  net.fc = torch.load(f\"C:\\\\Users\\\\Alejandro\\\\Desktop\\\\heterogeneous-data\\\\results\\\\WSI\\\\models\\\\{MODEL_NAME}.pth\") # Model loading\n",
    "\n",
    "  print(\"Number of free parameters: \", sum(p.numel() for p in net.parameters()))\n",
    "\n",
    "  #Hyperparameters:\n",
    "  learning_rate = 0.00001 # LR\n",
    "  loss_function = nn.BCELoss()\n",
    "  # Loss # [1,0] es positivo y [0,1] negativo # weight = torch.tensor([(495+201)/(2*495), (201+495)/(2*201)]).to(device)) # El negativo cuesta 2.5... mas\n",
    "  optimizer = optim.Adam(net.parameters(), lr=learning_rate)# Optimizer\n",
    "  lambda1 = lambda epoch: 0.8 ** epoch # Scheduler\n",
    "  scheduler = torch.optim.lr_scheduler.LambdaLR(optimizer, lr_lambda=lambda1)\n",
    "\n",
    "init()"
   ]
  },
  {
   "cell_type": "code",
   "execution_count": null,
   "metadata": {},
   "outputs": [],
   "source": [
    "def fwd_pass(X, y, train=False):\n",
    "# IMPORTANTE, TRAIN = FALSE PARA QUE NO ENTRENE CON EL TEST DATA ESTO ES PARA PODER HACER TEST MIENTRAS ENTRENO Y VALIDO, \n",
    "# SE ESPERA QUE LA EXACTITUD EN EL TEST DE VALIDACIÓN SEA MENOR\n",
    "    if train: \n",
    "        net.zero_grad()\n",
    "\n",
    "    outputs = net(X)\n",
    "    matches = [torch.argmax(i) == torch.argmax(j) for i,j in zip(outputs, y)]\n",
    "    conf_m = confusion_matrix( [torch.argmax(i) for i in y.cpu()],[torch.argmax(i) for i in outputs.cpu()], labels=(0, 1))\n",
    "    f1 = conf_m[0][0]/(conf_m[0][0]+0.5*(conf_m[1][0]+conf_m[0][1]))\n",
    "    acc = matches.count(True)/len(matches)\n",
    "    loss = loss_function(outputs, y)\n",
    "\n",
    "    if train:\n",
    "        loss.backward()\n",
    "        optimizer.step()\n",
    "\n",
    "    del outputs\n",
    "\n",
    "    return acc, loss, f1"
   ]
  },
  {
   "cell_type": "code",
   "execution_count": null,
   "metadata": {},
   "outputs": [],
   "source": [
    "def validate(val_X, val_y, size=32):\n",
    "# Hago un test con datos en una región aleatoria para que la distribución sea mejor\n",
    "  val_X, val_y = shuffle(val_X, val_y) \n",
    "  \n",
    "  if size > 0.7*len(val_y):\n",
    "    ramdom_start = 0\n",
    "  else:\n",
    "    ramdom_start = np.random.randint(len(val_X)-size)\n",
    "\n",
    "  X, y = val_X[ramdom_start:ramdom_start+size].to(device), val_y[ramdom_start:ramdom_start+size].to(device)\n",
    "  val_acc, val_loss, val_f1 = fwd_pass(X.view(-1, 3, SIZE_X, SIZE_Y), y, train=False)\n",
    "  del X, y\n",
    "\n",
    "  return val_acc, val_loss, val_f1 # accuracy y loss en validation set"
   ]
  },
  {
   "cell_type": "code",
   "execution_count": null,
   "metadata": {},
   "outputs": [],
   "source": [
    "def test():\n",
    "  X, y = test_X.to(device), test_y.to(device)\n",
    "  test_acc, test_loss = fwd_pass(X.view(-1, 3, SIZE_X, SIZE_Y), y)\n",
    "  del X, y\n",
    "\n",
    "  return test_acc, test_loss"
   ]
  },
  {
   "cell_type": "code",
   "execution_count": null,
   "metadata": {},
   "outputs": [],
   "source": [
    "def shuffle(X, y): # Esta función debería hacer un shuffle del data set sin desordenar las etiquetas\n",
    "  c = list(zip(X, y))\n",
    "  random.shuffle(c)\n",
    "  X, y = zip(*c)\n",
    "  return torch.stack(X), torch.stack(y)"
   ]
  },
  {
   "cell_type": "code",
   "execution_count": null,
   "metadata": {},
   "outputs": [
    {
     "name": "stdout",
     "output_type": "stream",
     "text": [
      "CPU times: total: 0 ns\n",
      "Wall time: 0 ns\n"
     ]
    }
   ],
   "source": [
    "%%time\n",
    "\n",
    "def train():\n",
    "\n",
    "  global net, loss_function, scheduler, optimizer, train_X, train_y, MODEL_NAME\n",
    "\n",
    "  print(MODEL_NAME)\n",
    "  BATCH_SIZE = 16\n",
    "  EPOCHS = 10\n",
    "\n",
    "  N_BATCHES = len(range(0, len(train_X), BATCH_SIZE))\n",
    "  \n",
    "  with open(f\"C:\\\\Users\\\\Alejandro\\\\Desktop\\\\heterogeneous-data\\\\results\\\\WSI\\\\log\\\\model_{MODEL_NAME}.log\", MODE) as f:\n",
    "    for epoch in range(EPOCHS):\n",
    "      acc, loss, f1 = 0, 0, 0\n",
    "      val_acc, val_loss, val_f1 = 0, 0, 0\n",
    "\n",
    "      train_X, train_y = shuffle(train_X, train_y)\n",
    "\n",
    "      print(\"\\nEPOCH: \", epoch+1)\n",
    "\n",
    "      for i in tqdm(range(0, len(train_X), BATCH_SIZE)):\n",
    "        batch_X = train_X[i:i+BATCH_SIZE].view(-1,3,SIZE_X,SIZE_Y).to(device)\n",
    "        batch_y = train_y[i:i+BATCH_SIZE].to(device)\n",
    "        \n",
    "        net.train() # Making sure that the model is in training mode\n",
    "        \n",
    "        acc_aux, loss_aux, f1_aux = fwd_pass(batch_X, batch_y, train=True)\n",
    "        \n",
    "        acc += acc_aux/N_BATCHES # Calculating the average loss and acc trough batches\n",
    "        loss += loss_aux/N_BATCHES\n",
    "        f1 += f1_aux/N_BATCHES\n",
    "\n",
    "        del batch_X, batch_y\n",
    "      '''\n",
    "      for i in tqdm(range(0, int(len(val_X)*0.2), BATCH_SIZE)):\n",
    "        net.eval() # Making sure that the model is not training and deactivate droptout\n",
    "        \n",
    "        val_acc_aux, val_loss_aux = validate(val_X, val_y, size=BATCH_SIZE)\n",
    "      \n",
    "        val_acc += val_acc_aux/N_BATCHES_VAL # Calculating the average loss and acc trough batches\n",
    "        val_loss += val_loss_aux/N_BATCHES_VAL\n",
    "      '''\n",
    "\n",
    "      val_acc, val_loss, val_f1 = validate(val_X, val_y, size=len(val_y))\n",
    "\n",
    "      print(\"Val loss: \", val_loss.item(),\" Train loss: \", loss.item(), \"\\n\")\n",
    "      print(\"Val acc: \", val_acc,\" Train acc: \", acc, \"\\n\")\n",
    "      print(\"Val f1: \", val_f1,\" Train f1: \", f1, \"\\n\")\n",
    "\n",
    "      f.write(f\"{MODEL_NAME},{round(time.time(),3)},{round(float(acc),3)},{round(float(loss),4)},{round(float(val_acc),3)},{round(float(val_loss),4)}\\n\")\n",
    "      f.write(\"\\n\\n\")\n",
    "\n",
    "      print(\"Learning Rate: \", optimizer.param_groups[0][\"lr\"])\n",
    "      scheduler.step() # Changing the learning rate\n",
    "\n",
    "    torch.save(net, f\"C:\\\\Users\\\\Alejandro\\\\Desktop\\\\heterogeneous-data\\\\results\\\\WSI\\\\models\\\\{MODEL_NAME}.pth\")\n"
   ]
  },
  {
   "cell_type": "code",
   "execution_count": 21,
   "metadata": {},
   "outputs": [
    {
     "name": "stdout",
     "output_type": "stream",
     "text": [
      "loading ejemplo_0\n",
      "Number of free parameters:  11242434\n",
      "ejemplo_0\n",
      "\n",
      "EPOCH:  1\n"
     ]
    },
    {
     "data": {
      "application/vnd.jupyter.widget-view+json": {
       "model_id": "689f2c89bce7443e92a5165094cf176c",
       "version_major": 2,
       "version_minor": 0
      },
      "text/plain": [
       "  0%|          | 0/97 [00:00<?, ?it/s]"
      ]
     },
     "metadata": {},
     "output_type": "display_data"
    },
    {
     "name": "stdout",
     "output_type": "stream",
     "text": [
      "Val loss:  0.16485744714736938  Train loss:  0.16642795503139496 \n",
      "\n",
      "Val acc:  0.9402173913043478  Train acc:  0.9387886597938133 \n",
      "\n",
      "Val f1:  0.967930029154519  Train f1:  0.9634454474161321 \n",
      "\n",
      "Learning Rate:  1e-05\n",
      "\n",
      "EPOCH:  2\n"
     ]
    },
    {
     "data": {
      "application/vnd.jupyter.widget-view+json": {
       "model_id": "60878045faa74ebe89c0701bd0a0f363",
       "version_major": 2,
       "version_minor": 0
      },
      "text/plain": [
       "  0%|          | 0/97 [00:00<?, ?it/s]"
      ]
     },
     "metadata": {},
     "output_type": "display_data"
    },
    {
     "name": "stdout",
     "output_type": "stream",
     "text": [
      "Val loss:  0.17171359062194824  Train loss:  0.20025914907455444 \n",
      "\n",
      "Val acc:  0.9402173913043478  Train acc:  0.9278350515463907 \n",
      "\n",
      "Val f1:  0.967930029154519  Train f1:  0.9524715847734045 \n",
      "\n",
      "Learning Rate:  8.000000000000001e-06\n",
      "\n",
      "EPOCH:  3\n"
     ]
    },
    {
     "data": {
      "application/vnd.jupyter.widget-view+json": {
       "model_id": "78e1b7bbe2504e099a22237bcdb5ba86",
       "version_major": 2,
       "version_minor": 0
      },
      "text/plain": [
       "  0%|          | 0/97 [00:00<?, ?it/s]"
      ]
     },
     "metadata": {},
     "output_type": "display_data"
    },
    {
     "name": "stdout",
     "output_type": "stream",
     "text": [
      "Val loss:  0.17128099501132965  Train loss:  0.16427527368068695 \n",
      "\n",
      "Val acc:  0.9402173913043478  Train acc:  0.943943298969071 \n",
      "\n",
      "Val f1:  0.967930029154519  Train f1:  0.9660218879326065 \n",
      "\n",
      "Learning Rate:  6.400000000000001e-06\n",
      "\n",
      "EPOCH:  4\n"
     ]
    },
    {
     "data": {
      "application/vnd.jupyter.widget-view+json": {
       "model_id": "c093d0befb1a462b9a98ec82e38a8b6d",
       "version_major": 2,
       "version_minor": 0
      },
      "text/plain": [
       "  0%|          | 0/97 [00:00<?, ?it/s]"
      ]
     },
     "metadata": {},
     "output_type": "display_data"
    },
    {
     "name": "stdout",
     "output_type": "stream",
     "text": [
      "Val loss:  0.16558517515659332  Train loss:  0.19329962134361267 \n",
      "\n",
      "Val acc:  0.9402173913043478  Train acc:  0.931701030927834 \n",
      "\n",
      "Val f1:  0.967930029154519  Train f1:  0.9552249167824965 \n",
      "\n",
      "Learning Rate:  5.120000000000002e-06\n",
      "\n",
      "EPOCH:  5\n"
     ]
    },
    {
     "data": {
      "application/vnd.jupyter.widget-view+json": {
       "model_id": "40e2d3fecd734da5a53424475bd70716",
       "version_major": 2,
       "version_minor": 0
      },
      "text/plain": [
       "  0%|          | 0/97 [00:00<?, ?it/s]"
      ]
     },
     "metadata": {},
     "output_type": "display_data"
    },
    {
     "name": "stdout",
     "output_type": "stream",
     "text": [
      "Val loss:  0.16855120658874512  Train loss:  0.1647796928882599 \n",
      "\n",
      "Val acc:  0.9402173913043478  Train acc:  0.9458762886597927 \n",
      "\n",
      "Val f1:  0.967930029154519  Train f1:  0.9672588787015486 \n",
      "\n",
      "Learning Rate:  4.096000000000001e-06\n",
      "\n",
      "EPOCH:  6\n"
     ]
    },
    {
     "data": {
      "application/vnd.jupyter.widget-view+json": {
       "model_id": "6d8047bd3256440d92e53f5ec2f227fb",
       "version_major": 2,
       "version_minor": 0
      },
      "text/plain": [
       "  0%|          | 0/97 [00:00<?, ?it/s]"
      ]
     },
     "metadata": {},
     "output_type": "display_data"
    },
    {
     "name": "stdout",
     "output_type": "stream",
     "text": [
      "Val loss:  0.1666649878025055  Train loss:  0.16986092925071716 \n",
      "\n",
      "Val acc:  0.9402173913043478  Train acc:  0.9374999999999989 \n",
      "\n",
      "Val f1:  0.967930029154519  Train f1:  0.9612974558093561 \n",
      "\n",
      "Learning Rate:  3.276800000000001e-06\n",
      "\n",
      "EPOCH:  7\n"
     ]
    },
    {
     "data": {
      "application/vnd.jupyter.widget-view+json": {
       "model_id": "bef39962a4e9445fb20a77a7381cf461",
       "version_major": 2,
       "version_minor": 0
      },
      "text/plain": [
       "  0%|          | 0/97 [00:00<?, ?it/s]"
      ]
     },
     "metadata": {},
     "output_type": "display_data"
    },
    {
     "name": "stdout",
     "output_type": "stream",
     "text": [
      "Val loss:  0.16534456610679626  Train loss:  0.16188031435012817 \n",
      "\n",
      "Val acc:  0.9402173913043478  Train acc:  0.9452319587628853 \n",
      "\n",
      "Val f1:  0.967930029154519  Train f1:  0.9668149632377468 \n",
      "\n",
      "Learning Rate:  2.621440000000001e-06\n",
      "\n",
      "EPOCH:  8\n"
     ]
    },
    {
     "data": {
      "application/vnd.jupyter.widget-view+json": {
       "model_id": "34e1ed6a082940bda383eb20f99d6452",
       "version_major": 2,
       "version_minor": 0
      },
      "text/plain": [
       "  0%|          | 0/97 [00:00<?, ?it/s]"
      ]
     },
     "metadata": {},
     "output_type": "display_data"
    },
    {
     "name": "stdout",
     "output_type": "stream",
     "text": [
      "Val loss:  0.16527396440505981  Train loss:  0.15812204778194427 \n",
      "\n",
      "Val acc:  0.9402173913043478  Train acc:  0.943943298969071 \n",
      "\n",
      "Val f1:  0.967930029154519  Train f1:  0.9665880596755771 \n",
      "\n",
      "Learning Rate:  2.097152000000001e-06\n",
      "\n",
      "EPOCH:  9\n"
     ]
    },
    {
     "data": {
      "application/vnd.jupyter.widget-view+json": {
       "model_id": "61aaf29627ab4aa898d4a9c4b062bafb",
       "version_major": 2,
       "version_minor": 0
      },
      "text/plain": [
       "  0%|          | 0/97 [00:00<?, ?it/s]"
      ]
     },
     "metadata": {},
     "output_type": "display_data"
    },
    {
     "name": "stdout",
     "output_type": "stream",
     "text": [
      "Val loss:  0.16559043526649475  Train loss:  0.161939337849617 \n",
      "\n",
      "Val acc:  0.9402173913043478  Train acc:  0.9426546391752565 \n",
      "\n",
      "Val f1:  0.967930029154519  Train f1:  0.9651540351289256 \n",
      "\n",
      "Learning Rate:  1.6777216000000011e-06\n",
      "\n",
      "EPOCH:  10\n"
     ]
    },
    {
     "data": {
      "application/vnd.jupyter.widget-view+json": {
       "model_id": "0071959afcd74ebca09cb0d635bf8b38",
       "version_major": 2,
       "version_minor": 0
      },
      "text/plain": [
       "  0%|          | 0/97 [00:00<?, ?it/s]"
      ]
     },
     "metadata": {},
     "output_type": "display_data"
    },
    {
     "name": "stdout",
     "output_type": "stream",
     "text": [
      "Val loss:  0.16559790074825287  Train loss:  0.16843868792057037 \n",
      "\n",
      "Val acc:  0.9402173913043478  Train acc:  0.9387886597938133 \n",
      "\n",
      "Val f1:  0.967930029154519  Train f1:  0.9630465231608285 \n",
      "\n",
      "Learning Rate:  1.3421772800000008e-06\n",
      "loading ejemplo_1\n",
      "Number of free parameters:  11242434\n",
      "ejemplo_1\n",
      "\n",
      "EPOCH:  1\n"
     ]
    },
    {
     "data": {
      "application/vnd.jupyter.widget-view+json": {
       "model_id": "c49d51cbe20b4795889ea337b2ea13bb",
       "version_major": 2,
       "version_minor": 0
      },
      "text/plain": [
       "  0%|          | 0/97 [00:00<?, ?it/s]"
      ]
     },
     "metadata": {},
     "output_type": "display_data"
    },
    {
     "name": "stdout",
     "output_type": "stream",
     "text": [
      "Val loss:  0.29649001359939575  Train loss:  0.16722847521305084 \n",
      "\n",
      "Val acc:  0.8693181818181818  Train acc:  0.9415091638029771 \n",
      "\n",
      "Val f1:  0.9265175718849841  Train f1:  0.9649171527641296 \n",
      "\n",
      "Learning Rate:  1e-05\n",
      "\n",
      "EPOCH:  2\n"
     ]
    },
    {
     "data": {
      "application/vnd.jupyter.widget-view+json": {
       "model_id": "bd46eca4b9fe4541bf147b8e2f8f0587",
       "version_major": 2,
       "version_minor": 0
      },
      "text/plain": [
       "  0%|          | 0/97 [00:00<?, ?it/s]"
      ]
     },
     "metadata": {},
     "output_type": "display_data"
    },
    {
     "name": "stdout",
     "output_type": "stream",
     "text": [
      "Val loss:  0.2964939773082733  Train loss:  0.16997379064559937 \n",
      "\n",
      "Val acc:  0.8693181818181818  Train acc:  0.9387886597938133 \n",
      "\n",
      "Val f1:  0.9265175718849841  Train f1:  0.963372556595556 \n",
      "\n",
      "Learning Rate:  8.000000000000001e-06\n",
      "\n",
      "EPOCH:  3\n"
     ]
    },
    {
     "data": {
      "application/vnd.jupyter.widget-view+json": {
       "model_id": "c376ad9d8d184b1b8ae9168b5dfa16df",
       "version_major": 2,
       "version_minor": 0
      },
      "text/plain": [
       "  0%|          | 0/97 [00:00<?, ?it/s]"
      ]
     },
     "metadata": {},
     "output_type": "display_data"
    },
    {
     "name": "stdout",
     "output_type": "stream",
     "text": [
      "Val loss:  0.2959909439086914  Train loss:  0.15280772745609283 \n",
      "\n",
      "Val acc:  0.8693181818181818  Train acc:  0.9484536082474215 \n",
      "\n",
      "Val f1:  0.9265175718849841  Train f1:  0.9694677292403928 \n",
      "\n",
      "Learning Rate:  6.400000000000001e-06\n",
      "\n",
      "EPOCH:  4\n"
     ]
    },
    {
     "data": {
      "application/vnd.jupyter.widget-view+json": {
       "model_id": "825892a58e3447ed8b9fe4d2571580b8",
       "version_major": 2,
       "version_minor": 0
      },
      "text/plain": [
       "  0%|          | 0/97 [00:00<?, ?it/s]"
      ]
     },
     "metadata": {},
     "output_type": "display_data"
    },
    {
     "name": "stdout",
     "output_type": "stream",
     "text": [
      "Val loss:  0.2957506775856018  Train loss:  0.1628863364458084 \n",
      "\n",
      "Val acc:  0.8693181818181818  Train acc:  0.9458762886597927 \n",
      "\n",
      "Val f1:  0.9265175718849841  Train f1:  0.9678576337582978 \n",
      "\n",
      "Learning Rate:  5.120000000000002e-06\n",
      "\n",
      "EPOCH:  5\n"
     ]
    },
    {
     "data": {
      "application/vnd.jupyter.widget-view+json": {
       "model_id": "18d1ccf9764f44e098ab05be4b6d149f",
       "version_major": 2,
       "version_minor": 0
      },
      "text/plain": [
       "  0%|          | 0/97 [00:00<?, ?it/s]"
      ]
     },
     "metadata": {},
     "output_type": "display_data"
    },
    {
     "name": "stdout",
     "output_type": "stream",
     "text": [
      "Val loss:  0.2952273488044739  Train loss:  0.16710299253463745 \n",
      "\n",
      "Val acc:  0.8693181818181818  Train acc:  0.9344215349369978 \n",
      "\n",
      "Val f1:  0.9265175718849841  Train f1:  0.9613204403057549 \n",
      "\n",
      "Learning Rate:  4.096000000000001e-06\n",
      "\n",
      "EPOCH:  6\n"
     ]
    },
    {
     "data": {
      "application/vnd.jupyter.widget-view+json": {
       "model_id": "be1103824d914b5793247e9d99f02f70",
       "version_major": 2,
       "version_minor": 0
      },
      "text/plain": [
       "  0%|          | 0/97 [00:00<?, ?it/s]"
      ]
     },
     "metadata": {},
     "output_type": "display_data"
    },
    {
     "name": "stdout",
     "output_type": "stream",
     "text": [
      "Val loss:  0.2949969172477722  Train loss:  0.15439076721668243 \n",
      "\n",
      "Val acc:  0.8693181818181818  Train acc:  0.9426546391752566 \n",
      "\n",
      "Val f1:  0.9265175718849841  Train f1:  0.9655492046745284 \n",
      "\n",
      "Learning Rate:  3.276800000000001e-06\n",
      "\n",
      "EPOCH:  7\n"
     ]
    },
    {
     "data": {
      "application/vnd.jupyter.widget-view+json": {
       "model_id": "7cbe05b9d49c470d9762ab26a3bcaf60",
       "version_major": 2,
       "version_minor": 0
      },
      "text/plain": [
       "  0%|          | 0/97 [00:00<?, ?it/s]"
      ]
     },
     "metadata": {},
     "output_type": "display_data"
    },
    {
     "name": "stdout",
     "output_type": "stream",
     "text": [
      "Val loss:  0.2947656512260437  Train loss:  0.15960630774497986 \n",
      "\n",
      "Val acc:  0.8693181818181818  Train acc:  0.9432989690721638 \n",
      "\n",
      "Val f1:  0.9265175718849841  Train f1:  0.9661977435362024 \n",
      "\n",
      "Learning Rate:  2.621440000000001e-06\n",
      "\n",
      "EPOCH:  8\n"
     ]
    },
    {
     "data": {
      "application/vnd.jupyter.widget-view+json": {
       "model_id": "4ef3b6328a5141a7a4cdc66986d484d3",
       "version_major": 2,
       "version_minor": 0
      },
      "text/plain": [
       "  0%|          | 0/97 [00:00<?, ?it/s]"
      ]
     },
     "metadata": {},
     "output_type": "display_data"
    },
    {
     "name": "stdout",
     "output_type": "stream",
     "text": [
      "Val loss:  0.2945096790790558  Train loss:  0.16113437712192535 \n",
      "\n",
      "Val acc:  0.8693181818181818  Train acc:  0.9408648339060699 \n",
      "\n",
      "Val f1:  0.9265175718849841  Train f1:  0.9644169198012622 \n",
      "\n",
      "Learning Rate:  2.097152000000001e-06\n",
      "\n",
      "EPOCH:  9\n"
     ]
    },
    {
     "data": {
      "application/vnd.jupyter.widget-view+json": {
       "model_id": "9cf9043650044b8485e66dee8523b349",
       "version_major": 2,
       "version_minor": 0
      },
      "text/plain": [
       "  0%|          | 0/97 [00:00<?, ?it/s]"
      ]
     },
     "metadata": {},
     "output_type": "display_data"
    },
    {
     "name": "stdout",
     "output_type": "stream",
     "text": [
      "Val loss:  0.29460573196411133  Train loss:  0.1551789939403534 \n",
      "\n",
      "Val acc:  0.8693181818181818  Train acc:  0.9466638029782348 \n",
      "\n",
      "Val f1:  0.9265175718849841  Train f1:  0.9684028714749079 \n",
      "\n",
      "Learning Rate:  1.6777216000000011e-06\n",
      "\n",
      "EPOCH:  10\n"
     ]
    },
    {
     "data": {
      "application/vnd.jupyter.widget-view+json": {
       "model_id": "c17856e9f86f4ac889acaac5913a94d6",
       "version_major": 2,
       "version_minor": 0
      },
      "text/plain": [
       "  0%|          | 0/97 [00:00<?, ?it/s]"
      ]
     },
     "metadata": {},
     "output_type": "display_data"
    },
    {
     "name": "stdout",
     "output_type": "stream",
     "text": [
      "Val loss:  0.2944301664829254  Train loss:  0.15338405966758728 \n",
      "\n",
      "Val acc:  0.8693181818181818  Train acc:  0.9458762886597927 \n",
      "\n",
      "Val f1:  0.9265175718849841  Train f1:  0.9675055557669131 \n",
      "\n",
      "Learning Rate:  1.3421772800000008e-06\n",
      "loading ejemplo_2\n",
      "Number of free parameters:  11242434\n",
      "ejemplo_2\n",
      "\n",
      "EPOCH:  1\n"
     ]
    },
    {
     "data": {
      "application/vnd.jupyter.widget-view+json": {
       "model_id": "5faf78d9a458492eba2bfb1c2fa9ae04",
       "version_major": 2,
       "version_minor": 0
      },
      "text/plain": [
       "  0%|          | 0/96 [00:00<?, ?it/s]"
      ]
     },
     "metadata": {},
     "output_type": "display_data"
    },
    {
     "name": "stdout",
     "output_type": "stream",
     "text": [
      "Val loss:  0.21408142149448395  Train loss:  0.17213156819343567 \n",
      "\n",
      "Val acc:  0.9090909090909091  Train acc:  0.9325086805555552 \n",
      "\n",
      "Val f1:  0.9491525423728814  Train f1:  0.9580107094231183 \n",
      "\n",
      "Learning Rate:  1e-05\n",
      "\n",
      "EPOCH:  2\n"
     ]
    },
    {
     "data": {
      "application/vnd.jupyter.widget-view+json": {
       "model_id": "fb86c042e28b471aa9856d28abd34a35",
       "version_major": 2,
       "version_minor": 0
      },
      "text/plain": [
       "  0%|          | 0/96 [00:00<?, ?it/s]"
      ]
     },
     "metadata": {},
     "output_type": "display_data"
    },
    {
     "name": "stdout",
     "output_type": "stream",
     "text": [
      "Val loss:  0.2149447202682495  Train loss:  0.1635722666978836 \n",
      "\n",
      "Val acc:  0.9040404040404041  Train acc:  0.9379340277777777 \n",
      "\n",
      "Val f1:  0.9461756373937678  Train f1:  0.9631828849467662 \n",
      "\n",
      "Learning Rate:  8.000000000000001e-06\n",
      "\n",
      "EPOCH:  3\n"
     ]
    },
    {
     "data": {
      "application/vnd.jupyter.widget-view+json": {
       "model_id": "528ecbc1693a41dc944024a0757767cd",
       "version_major": 2,
       "version_minor": 0
      },
      "text/plain": [
       "  0%|          | 0/96 [00:00<?, ?it/s]"
      ]
     },
     "metadata": {},
     "output_type": "display_data"
    },
    {
     "name": "stdout",
     "output_type": "stream",
     "text": [
      "Val loss:  0.21581996977329254  Train loss:  0.15306273102760315 \n",
      "\n",
      "Val acc:  0.9090909090909091  Train acc:  0.945963541666666 \n",
      "\n",
      "Val f1:  0.9488636363636364  Train f1:  0.9679136611605603 \n",
      "\n",
      "Learning Rate:  6.400000000000001e-06\n",
      "\n",
      "EPOCH:  4\n"
     ]
    },
    {
     "data": {
      "application/vnd.jupyter.widget-view+json": {
       "model_id": "0b0de46bd0aa41a7a6435d6001d49914",
       "version_major": 2,
       "version_minor": 0
      },
      "text/plain": [
       "  0%|          | 0/96 [00:00<?, ?it/s]"
      ]
     },
     "metadata": {},
     "output_type": "display_data"
    },
    {
     "name": "stdout",
     "output_type": "stream",
     "text": [
      "Val loss:  0.21474507451057434  Train loss:  0.1506531834602356 \n",
      "\n",
      "Val acc:  0.9040404040404041  Train acc:  0.9498697916666664 \n",
      "\n",
      "Val f1:  0.9461756373937678  Train f1:  0.9697507085706378 \n",
      "\n",
      "Learning Rate:  5.120000000000002e-06\n",
      "\n",
      "EPOCH:  5\n"
     ]
    },
    {
     "data": {
      "application/vnd.jupyter.widget-view+json": {
       "model_id": "30455b3ea53d49848501d58fb74ff437",
       "version_major": 2,
       "version_minor": 0
      },
      "text/plain": [
       "  0%|          | 0/96 [00:00<?, ?it/s]"
      ]
     },
     "metadata": {},
     "output_type": "display_data"
    },
    {
     "name": "stdout",
     "output_type": "stream",
     "text": [
      "Val loss:  0.21481654047966003  Train loss:  0.16454564034938812 \n",
      "\n",
      "Val acc:  0.9090909090909091  Train acc:  0.9407552083333328 \n",
      "\n",
      "Val f1:  0.9488636363636364  Train f1:  0.9637293372509076 \n",
      "\n",
      "Learning Rate:  4.096000000000001e-06\n",
      "\n",
      "EPOCH:  6\n"
     ]
    },
    {
     "data": {
      "application/vnd.jupyter.widget-view+json": {
       "model_id": "cf7f8692db4f47c196dd4044b4bb1775",
       "version_major": 2,
       "version_minor": 0
      },
      "text/plain": [
       "  0%|          | 0/96 [00:00<?, ?it/s]"
      ]
     },
     "metadata": {},
     "output_type": "display_data"
    },
    {
     "name": "stdout",
     "output_type": "stream",
     "text": [
      "Val loss:  0.21452192962169647  Train loss:  0.15763883292675018 \n",
      "\n",
      "Val acc:  0.9090909090909091  Train acc:  0.9427083333333328 \n",
      "\n",
      "Val f1:  0.9488636363636364  Train f1:  0.9652215877066455 \n",
      "\n",
      "Learning Rate:  3.276800000000001e-06\n",
      "\n",
      "EPOCH:  7\n"
     ]
    },
    {
     "data": {
      "application/vnd.jupyter.widget-view+json": {
       "model_id": "618f0ceadaf749b59bcef31d420b069a",
       "version_major": 2,
       "version_minor": 0
      },
      "text/plain": [
       "  0%|          | 0/96 [00:00<?, ?it/s]"
      ]
     },
     "metadata": {},
     "output_type": "display_data"
    },
    {
     "name": "stdout",
     "output_type": "stream",
     "text": [
      "Val loss:  0.2149576097726822  Train loss:  0.1636701226234436 \n",
      "\n",
      "Val acc:  0.9090909090909091  Train acc:  0.9348958333333329 \n",
      "\n",
      "Val f1:  0.9488636363636364  Train f1:  0.9607204611107748 \n",
      "\n",
      "Learning Rate:  2.621440000000001e-06\n",
      "\n",
      "EPOCH:  8\n"
     ]
    },
    {
     "data": {
      "application/vnd.jupyter.widget-view+json": {
       "model_id": "4f27d7438424414188aec440677065a2",
       "version_major": 2,
       "version_minor": 0
      },
      "text/plain": [
       "  0%|          | 0/96 [00:00<?, ?it/s]"
      ]
     },
     "metadata": {},
     "output_type": "display_data"
    },
    {
     "name": "stdout",
     "output_type": "stream",
     "text": [
      "Val loss:  0.21358278393745422  Train loss:  0.1577252298593521 \n",
      "\n",
      "Val acc:  0.9040404040404041  Train acc:  0.9453124999999997 \n",
      "\n",
      "Val f1:  0.9461756373937678  Train f1:  0.9668323975210095 \n",
      "\n",
      "Learning Rate:  2.097152000000001e-06\n",
      "\n",
      "EPOCH:  9\n"
     ]
    },
    {
     "data": {
      "application/vnd.jupyter.widget-view+json": {
       "model_id": "be587f080473461fb851fa1a3f03565e",
       "version_major": 2,
       "version_minor": 0
      },
      "text/plain": [
       "  0%|          | 0/96 [00:00<?, ?it/s]"
      ]
     },
     "metadata": {},
     "output_type": "display_data"
    },
    {
     "name": "stdout",
     "output_type": "stream",
     "text": [
      "Val loss:  0.21376600861549377  Train loss:  0.1539265513420105 \n",
      "\n",
      "Val acc:  0.9090909090909091  Train acc:  0.9427083333333328 \n",
      "\n",
      "Val f1:  0.9488636363636364  Train f1:  0.9656836631344938 \n",
      "\n",
      "Learning Rate:  1.6777216000000011e-06\n",
      "\n",
      "EPOCH:  10\n"
     ]
    },
    {
     "data": {
      "application/vnd.jupyter.widget-view+json": {
       "model_id": "3f0a18ca8c374fd1bdd6f202f33e219f",
       "version_major": 2,
       "version_minor": 0
      },
      "text/plain": [
       "  0%|          | 0/96 [00:00<?, ?it/s]"
      ]
     },
     "metadata": {},
     "output_type": "display_data"
    },
    {
     "name": "stdout",
     "output_type": "stream",
     "text": [
      "Val loss:  0.21347685158252716  Train loss:  0.14741431176662445 \n",
      "\n",
      "Val acc:  0.9090909090909091  Train acc:  0.9518229166666659 \n",
      "\n",
      "Val f1:  0.9488636363636364  Train f1:  0.9710089468803499 \n",
      "\n",
      "Learning Rate:  1.3421772800000008e-06\n",
      "loading ejemplo_3\n",
      "Number of free parameters:  11242434\n",
      "ejemplo_3\n",
      "\n",
      "EPOCH:  1\n"
     ]
    },
    {
     "data": {
      "application/vnd.jupyter.widget-view+json": {
       "model_id": "1604eb72f0df4922a40a00b801988252",
       "version_major": 2,
       "version_minor": 0
      },
      "text/plain": [
       "  0%|          | 0/96 [00:00<?, ?it/s]"
      ]
     },
     "metadata": {},
     "output_type": "display_data"
    },
    {
     "name": "stdout",
     "output_type": "stream",
     "text": [
      "Val loss:  0.4137367904186249  Train loss:  0.15469525754451752 \n",
      "\n",
      "Val acc:  0.8148148148148148  Train acc:  0.9394531249999997 \n",
      "\n",
      "Val f1:  0.890282131661442  Train f1:  0.964431707343054 \n",
      "\n",
      "Learning Rate:  1e-05\n",
      "\n",
      "EPOCH:  2\n"
     ]
    },
    {
     "data": {
      "application/vnd.jupyter.widget-view+json": {
       "model_id": "842d9880570a40d98423bb7fef593cbb",
       "version_major": 2,
       "version_minor": 0
      },
      "text/plain": [
       "  0%|          | 0/96 [00:00<?, ?it/s]"
      ]
     },
     "metadata": {},
     "output_type": "display_data"
    },
    {
     "name": "stdout",
     "output_type": "stream",
     "text": [
      "Val loss:  0.41924479603767395  Train loss:  0.15097053349018097 \n",
      "\n",
      "Val acc:  0.8148148148148148  Train acc:  0.9479166666666664 \n",
      "\n",
      "Val f1:  0.890282131661442  Train f1:  0.9690096575670267 \n",
      "\n",
      "Learning Rate:  8.000000000000001e-06\n",
      "\n",
      "EPOCH:  3\n"
     ]
    },
    {
     "data": {
      "application/vnd.jupyter.widget-view+json": {
       "model_id": "4a8f1348c4cd410da28c25907e179018",
       "version_major": 2,
       "version_minor": 0
      },
      "text/plain": [
       "  0%|          | 0/96 [00:00<?, ?it/s]"
      ]
     },
     "metadata": {},
     "output_type": "display_data"
    },
    {
     "name": "stdout",
     "output_type": "stream",
     "text": [
      "Val loss:  0.4355456233024597  Train loss:  0.1581396907567978 \n",
      "\n",
      "Val acc:  0.8148148148148148  Train acc:  0.9385850694444444 \n",
      "\n",
      "Val f1:  0.890282131661442  Train f1:  0.9637906203318606 \n",
      "\n",
      "Learning Rate:  6.400000000000001e-06\n",
      "\n",
      "EPOCH:  4\n"
     ]
    },
    {
     "data": {
      "application/vnd.jupyter.widget-view+json": {
       "model_id": "0e247422100a41229af7995b66462831",
       "version_major": 2,
       "version_minor": 0
      },
      "text/plain": [
       "  0%|          | 0/96 [00:00<?, ?it/s]"
      ]
     },
     "metadata": {},
     "output_type": "display_data"
    },
    {
     "name": "stdout",
     "output_type": "stream",
     "text": [
      "Val loss:  0.4489937424659729  Train loss:  0.1454884558916092 \n",
      "\n",
      "Val acc:  0.8042328042328042  Train acc:  0.9450954861111109 \n",
      "\n",
      "Val f1:  0.8847352024922118  Train f1:  0.9681283721934208 \n",
      "\n",
      "Learning Rate:  5.120000000000002e-06\n",
      "\n",
      "EPOCH:  5\n"
     ]
    },
    {
     "data": {
      "application/vnd.jupyter.widget-view+json": {
       "model_id": "1e8451a8a743444f91041e2d4f0f565a",
       "version_major": 2,
       "version_minor": 0
      },
      "text/plain": [
       "  0%|          | 0/96 [00:00<?, ?it/s]"
      ]
     },
     "metadata": {},
     "output_type": "display_data"
    },
    {
     "name": "stdout",
     "output_type": "stream",
     "text": [
      "Val loss:  0.4483678638935089  Train loss:  0.14764326810836792 \n",
      "\n",
      "Val acc:  0.8042328042328042  Train acc:  0.9463975694444442 \n",
      "\n",
      "Val f1:  0.8847352024922118  Train f1:  0.9684209048823352 \n",
      "\n",
      "Learning Rate:  4.096000000000001e-06\n",
      "\n",
      "EPOCH:  6\n"
     ]
    },
    {
     "data": {
      "application/vnd.jupyter.widget-view+json": {
       "model_id": "66b15fbce8fc453ea2166784290bcfc7",
       "version_major": 2,
       "version_minor": 0
      },
      "text/plain": [
       "  0%|          | 0/96 [00:00<?, ?it/s]"
      ]
     },
     "metadata": {},
     "output_type": "display_data"
    },
    {
     "name": "stdout",
     "output_type": "stream",
     "text": [
      "Val loss:  0.4395569860935211  Train loss:  0.14283403754234314 \n",
      "\n",
      "Val acc:  0.8148148148148148  Train acc:  0.9483506944444439 \n",
      "\n",
      "Val f1:  0.890282131661442  Train f1:  0.9697993740842875 \n",
      "\n",
      "Learning Rate:  3.276800000000001e-06\n",
      "\n",
      "EPOCH:  7\n"
     ]
    },
    {
     "data": {
      "application/vnd.jupyter.widget-view+json": {
       "model_id": "e2f21b6cf5554fb7a4cfc0431ad9a118",
       "version_major": 2,
       "version_minor": 0
      },
      "text/plain": [
       "  0%|          | 0/96 [00:00<?, ?it/s]"
      ]
     },
     "metadata": {},
     "output_type": "display_data"
    },
    {
     "name": "stdout",
     "output_type": "stream",
     "text": [
      "Val loss:  0.43803292512893677  Train loss:  0.15343879163265228 \n",
      "\n",
      "Val acc:  0.8148148148148148  Train acc:  0.9411892361111105 \n",
      "\n",
      "Val f1:  0.890282131661442  Train f1:  0.9650897308125442 \n",
      "\n",
      "Learning Rate:  2.621440000000001e-06\n",
      "\n",
      "EPOCH:  8\n"
     ]
    },
    {
     "data": {
      "application/vnd.jupyter.widget-view+json": {
       "model_id": "9ea03f34377f4d63958b6b3cf68ae0fa",
       "version_major": 2,
       "version_minor": 0
      },
      "text/plain": [
       "  0%|          | 0/96 [00:00<?, ?it/s]"
      ]
     },
     "metadata": {},
     "output_type": "display_data"
    },
    {
     "name": "stdout",
     "output_type": "stream",
     "text": [
      "Val loss:  0.4396681785583496  Train loss:  0.14249904453754425 \n",
      "\n",
      "Val acc:  0.8148148148148148  Train acc:  0.9463975694444439 \n",
      "\n",
      "Val f1:  0.890282131661442  Train f1:  0.9682093322125309 \n",
      "\n",
      "Learning Rate:  2.097152000000001e-06\n",
      "\n",
      "EPOCH:  9\n"
     ]
    },
    {
     "data": {
      "application/vnd.jupyter.widget-view+json": {
       "model_id": "92a831b24aac435182c916503938f5ca",
       "version_major": 2,
       "version_minor": 0
      },
      "text/plain": [
       "  0%|          | 0/96 [00:00<?, ?it/s]"
      ]
     },
     "metadata": {},
     "output_type": "display_data"
    },
    {
     "name": "stdout",
     "output_type": "stream",
     "text": [
      "Val loss:  0.43848785758018494  Train loss:  0.1539294570684433 \n",
      "\n",
      "Val acc:  0.8148148148148148  Train acc:  0.9444444444444436 \n",
      "\n",
      "Val f1:  0.890282131661442  Train f1:  0.9672031552488447 \n",
      "\n",
      "Learning Rate:  1.6777216000000011e-06\n",
      "\n",
      "EPOCH:  10\n"
     ]
    },
    {
     "data": {
      "application/vnd.jupyter.widget-view+json": {
       "model_id": "b43e97990f5f4ef8bad5f235b915c129",
       "version_major": 2,
       "version_minor": 0
      },
      "text/plain": [
       "  0%|          | 0/96 [00:00<?, ?it/s]"
      ]
     },
     "metadata": {},
     "output_type": "display_data"
    },
    {
     "name": "stdout",
     "output_type": "stream",
     "text": [
      "Val loss:  0.4429382383823395  Train loss:  0.14903952181339264 \n",
      "\n",
      "Val acc:  0.8095238095238095  Train acc:  0.9450954861111106 \n",
      "\n",
      "Val f1:  0.8875  Train f1:  0.9678428223191161 \n",
      "\n",
      "Learning Rate:  1.3421772800000008e-06\n",
      "loading ejemplo_4\n",
      "Number of free parameters:  11242434\n",
      "ejemplo_4\n",
      "\n",
      "EPOCH:  1\n"
     ]
    },
    {
     "data": {
      "application/vnd.jupyter.widget-view+json": {
       "model_id": "c7e82162e8a445bebde863450c907ba4",
       "version_major": 2,
       "version_minor": 0
      },
      "text/plain": [
       "  0%|          | 0/99 [00:00<?, ?it/s]"
      ]
     },
     "metadata": {},
     "output_type": "display_data"
    },
    {
     "name": "stdout",
     "output_type": "stream",
     "text": [
      "Val loss:  0.4428021311759949  Train loss:  0.20260971784591675 \n",
      "\n",
      "Val acc:  0.7894736842105263  Train acc:  0.9261363636363642 \n",
      "\n",
      "Val f1:  0.8666666666666667  Train f1:  0.9519511492678662 \n",
      "\n",
      "Learning Rate:  1e-05\n",
      "\n",
      "EPOCH:  2\n"
     ]
    },
    {
     "data": {
      "application/vnd.jupyter.widget-view+json": {
       "model_id": "6f215bf87c0a4cc3a23caa92aaf4df98",
       "version_major": 2,
       "version_minor": 0
      },
      "text/plain": [
       "  0%|          | 0/99 [00:00<?, ?it/s]"
      ]
     },
     "metadata": {},
     "output_type": "display_data"
    },
    {
     "name": "stdout",
     "output_type": "stream",
     "text": [
      "Val loss:  0.4238542318344116  Train loss:  0.19298534095287323 \n",
      "\n",
      "Val acc:  0.7960526315789473  Train acc:  0.9343434343434343 \n",
      "\n",
      "Val f1:  0.8702928870292888  Train f1:  0.9575133670251155 \n",
      "\n",
      "Learning Rate:  8.000000000000001e-06\n",
      "\n",
      "EPOCH:  3\n"
     ]
    },
    {
     "data": {
      "application/vnd.jupyter.widget-view+json": {
       "model_id": "f9e4d713bf1747c09dee039e0e0d68ed",
       "version_major": 2,
       "version_minor": 0
      },
      "text/plain": [
       "  0%|          | 0/99 [00:00<?, ?it/s]"
      ]
     },
     "metadata": {},
     "output_type": "display_data"
    },
    {
     "name": "stdout",
     "output_type": "stream",
     "text": [
      "Val loss:  0.42008811235427856  Train loss:  0.156619593501091 \n",
      "\n",
      "Val acc:  0.8026315789473685  Train acc:  0.9482323232323233 \n",
      "\n",
      "Val f1:  0.8739495798319328  Train f1:  0.9697110464284591 \n",
      "\n",
      "Learning Rate:  6.400000000000001e-06\n",
      "\n",
      "EPOCH:  4\n"
     ]
    },
    {
     "data": {
      "application/vnd.jupyter.widget-view+json": {
       "model_id": "7bbb55df5c714d8b9c86ff7df0179c5e",
       "version_major": 2,
       "version_minor": 0
      },
      "text/plain": [
       "  0%|          | 0/99 [00:00<?, ?it/s]"
      ]
     },
     "metadata": {},
     "output_type": "display_data"
    },
    {
     "name": "stdout",
     "output_type": "stream",
     "text": [
      "Val loss:  0.4229254424571991  Train loss:  0.1666896492242813 \n",
      "\n",
      "Val acc:  0.7960526315789473  Train acc:  0.9412878787878786 \n",
      "\n",
      "Val f1:  0.8702928870292888  Train f1:  0.9653880416493186 \n",
      "\n",
      "Learning Rate:  5.120000000000002e-06\n",
      "\n",
      "EPOCH:  5\n"
     ]
    },
    {
     "data": {
      "application/vnd.jupyter.widget-view+json": {
       "model_id": "cdf17d056ec74418a9e9bfb83207810f",
       "version_major": 2,
       "version_minor": 0
      },
      "text/plain": [
       "  0%|          | 0/99 [00:00<?, ?it/s]"
      ]
     },
     "metadata": {},
     "output_type": "display_data"
    },
    {
     "name": "stdout",
     "output_type": "stream",
     "text": [
      "Val loss:  0.4217647910118103  Train loss:  0.16440072655677795 \n",
      "\n",
      "Val acc:  0.8026315789473685  Train acc:  0.9419191919191919 \n",
      "\n",
      "Val f1:  0.8739495798319328  Train f1:  0.9657918068370898 \n",
      "\n",
      "Learning Rate:  4.096000000000001e-06\n",
      "\n",
      "EPOCH:  6\n"
     ]
    },
    {
     "data": {
      "application/vnd.jupyter.widget-view+json": {
       "model_id": "17178d984b4746e1a5e1fde345e734c4",
       "version_major": 2,
       "version_minor": 0
      },
      "text/plain": [
       "  0%|          | 0/99 [00:00<?, ?it/s]"
      ]
     },
     "metadata": {},
     "output_type": "display_data"
    },
    {
     "name": "stdout",
     "output_type": "stream",
     "text": [
      "Val loss:  0.42195555567741394  Train loss:  0.15581485629081726 \n",
      "\n",
      "Val acc:  0.8026315789473685  Train acc:  0.9431818181818186 \n",
      "\n",
      "Val f1:  0.8739495798319328  Train f1:  0.9671146247564478 \n",
      "\n",
      "Learning Rate:  3.276800000000001e-06\n",
      "\n",
      "EPOCH:  7\n"
     ]
    },
    {
     "data": {
      "application/vnd.jupyter.widget-view+json": {
       "model_id": "af9a1ad9498f4766934dadd599bdcc93",
       "version_major": 2,
       "version_minor": 0
      },
      "text/plain": [
       "  0%|          | 0/99 [00:00<?, ?it/s]"
      ]
     },
     "metadata": {},
     "output_type": "display_data"
    },
    {
     "name": "stdout",
     "output_type": "stream",
     "text": [
      "Val loss:  0.4233225882053375  Train loss:  0.16565488278865814 \n",
      "\n",
      "Val acc:  0.8026315789473685  Train acc:  0.9438131313131314 \n",
      "\n",
      "Val f1:  0.8739495798319328  Train f1:  0.967071837330148 \n",
      "\n",
      "Learning Rate:  2.621440000000001e-06\n",
      "\n",
      "EPOCH:  8\n"
     ]
    },
    {
     "data": {
      "application/vnd.jupyter.widget-view+json": {
       "model_id": "a3ee8cc8ae8d41c4a8d50895549f778e",
       "version_major": 2,
       "version_minor": 0
      },
      "text/plain": [
       "  0%|          | 0/99 [00:00<?, ?it/s]"
      ]
     },
     "metadata": {},
     "output_type": "display_data"
    },
    {
     "name": "stdout",
     "output_type": "stream",
     "text": [
      "Val loss:  0.42730167508125305  Train loss:  0.1633080244064331 \n",
      "\n",
      "Val acc:  0.7960526315789473  Train acc:  0.9356060606060609 \n",
      "\n",
      "Val f1:  0.8702928870292888  Train f1:  0.9623033559770218 \n",
      "\n",
      "Learning Rate:  2.097152000000001e-06\n",
      "\n",
      "EPOCH:  9\n"
     ]
    },
    {
     "data": {
      "application/vnd.jupyter.widget-view+json": {
       "model_id": "bb0b16ee380d4f798553435967f58449",
       "version_major": 2,
       "version_minor": 0
      },
      "text/plain": [
       "  0%|          | 0/99 [00:00<?, ?it/s]"
      ]
     },
     "metadata": {},
     "output_type": "display_data"
    },
    {
     "name": "stdout",
     "output_type": "stream",
     "text": [
      "Val loss:  0.42623957991600037  Train loss:  0.1639058142900467 \n",
      "\n",
      "Val acc:  0.7960526315789473  Train acc:  0.9412878787878788 \n",
      "\n",
      "Val f1:  0.8702928870292888  Train f1:  0.9655968686011719 \n",
      "\n",
      "Learning Rate:  1.6777216000000011e-06\n",
      "\n",
      "EPOCH:  10\n"
     ]
    },
    {
     "data": {
      "application/vnd.jupyter.widget-view+json": {
       "model_id": "3e4adde9bdec4a249ab436cff9c1daa2",
       "version_major": 2,
       "version_minor": 0
      },
      "text/plain": [
       "  0%|          | 0/99 [00:00<?, ?it/s]"
      ]
     },
     "metadata": {},
     "output_type": "display_data"
    },
    {
     "name": "stdout",
     "output_type": "stream",
     "text": [
      "Val loss:  0.4256264567375183  Train loss:  0.16329222917556763 \n",
      "\n",
      "Val acc:  0.7960526315789473  Train acc:  0.9406565656565652 \n",
      "\n",
      "Val f1:  0.8702928870292888  Train f1:  0.9653264412292951 \n",
      "\n",
      "Learning Rate:  1.3421772800000008e-06\n",
      "loading ejemplo_5\n",
      "Number of free parameters:  11242434\n",
      "ejemplo_5\n",
      "\n",
      "EPOCH:  1\n"
     ]
    },
    {
     "data": {
      "application/vnd.jupyter.widget-view+json": {
       "model_id": "159f8e6f0ec7445296148f5d9bd6329a",
       "version_major": 2,
       "version_minor": 0
      },
      "text/plain": [
       "  0%|          | 0/101 [00:00<?, ?it/s]"
      ]
     },
     "metadata": {},
     "output_type": "display_data"
    },
    {
     "name": "stdout",
     "output_type": "stream",
     "text": [
      "Val loss:  0.1831413209438324  Train loss:  0.17220255732536316 \n",
      "\n",
      "Val acc:  0.907563025210084  Train acc:  0.9306930693069301 \n",
      "\n",
      "Val f1:  0.9435897435897436  Train f1:  0.9594964676763034 \n",
      "\n",
      "Learning Rate:  1e-05\n",
      "\n",
      "EPOCH:  2\n"
     ]
    },
    {
     "data": {
      "application/vnd.jupyter.widget-view+json": {
       "model_id": "c15be7ac127348b29f98c43ce1095548",
       "version_major": 2,
       "version_minor": 0
      },
      "text/plain": [
       "  0%|          | 0/101 [00:00<?, ?it/s]"
      ]
     },
     "metadata": {},
     "output_type": "display_data"
    },
    {
     "name": "stdout",
     "output_type": "stream",
     "text": [
      "Val loss:  0.17829684913158417  Train loss:  0.18214672803878784 \n",
      "\n",
      "Val acc:  0.9243697478991597  Train acc:  0.9220297029702967 \n",
      "\n",
      "Val f1:  0.9533678756476683  Train f1:  0.953306444722492 \n",
      "\n",
      "Learning Rate:  8.000000000000001e-06\n",
      "\n",
      "EPOCH:  3\n"
     ]
    },
    {
     "data": {
      "application/vnd.jupyter.widget-view+json": {
       "model_id": "4a0c97fba5c84b7382de7b6f5e775643",
       "version_major": 2,
       "version_minor": 0
      },
      "text/plain": [
       "  0%|          | 0/101 [00:00<?, ?it/s]"
      ]
     },
     "metadata": {},
     "output_type": "display_data"
    },
    {
     "name": "stdout",
     "output_type": "stream",
     "text": [
      "Val loss:  0.18460112810134888  Train loss:  0.16470198333263397 \n",
      "\n",
      "Val acc:  0.907563025210084  Train acc:  0.9399752475247519 \n",
      "\n",
      "Val f1:  0.9435897435897436  Train f1:  0.9649854988049816 \n",
      "\n",
      "Learning Rate:  6.400000000000001e-06\n",
      "\n",
      "EPOCH:  4\n"
     ]
    },
    {
     "data": {
      "application/vnd.jupyter.widget-view+json": {
       "model_id": "ba6f0cb9ce8b4419aad7699ec56fc85a",
       "version_major": 2,
       "version_minor": 0
      },
      "text/plain": [
       "  0%|          | 0/101 [00:00<?, ?it/s]"
      ]
     },
     "metadata": {},
     "output_type": "display_data"
    },
    {
     "name": "stdout",
     "output_type": "stream",
     "text": [
      "Val loss:  0.17883439362049103  Train loss:  0.16261346638202667 \n",
      "\n",
      "Val acc:  0.9243697478991597  Train acc:  0.9399752475247521 \n",
      "\n",
      "Val f1:  0.9533678756476683  Train f1:  0.9648339454341724 \n",
      "\n",
      "Learning Rate:  5.120000000000002e-06\n",
      "\n",
      "EPOCH:  5\n"
     ]
    },
    {
     "data": {
      "application/vnd.jupyter.widget-view+json": {
       "model_id": "b9034f27c3344e7bb1ced13d6fcc7914",
       "version_major": 2,
       "version_minor": 0
      },
      "text/plain": [
       "  0%|          | 0/101 [00:00<?, ?it/s]"
      ]
     },
     "metadata": {},
     "output_type": "display_data"
    },
    {
     "name": "stdout",
     "output_type": "stream",
     "text": [
      "Val loss:  0.1791493445634842  Train loss:  0.17072677612304688 \n",
      "\n",
      "Val acc:  0.907563025210084  Train acc:  0.9275990099009896 \n",
      "\n",
      "Val f1:  0.9435897435897436  Train f1:  0.9569623294576309 \n",
      "\n",
      "Learning Rate:  4.096000000000001e-06\n",
      "\n",
      "EPOCH:  6\n"
     ]
    },
    {
     "data": {
      "application/vnd.jupyter.widget-view+json": {
       "model_id": "19144e88c4ea4d9eaff17076ffbb95cf",
       "version_major": 2,
       "version_minor": 0
      },
      "text/plain": [
       "  0%|          | 0/101 [00:00<?, ?it/s]"
      ]
     },
     "metadata": {},
     "output_type": "display_data"
    },
    {
     "name": "stdout",
     "output_type": "stream",
     "text": [
      "Val loss:  0.17810335755348206  Train loss:  0.1740192472934723 \n",
      "\n",
      "Val acc:  0.9243697478991597  Train acc:  0.9368811881188113 \n",
      "\n",
      "Val f1:  0.9533678756476683  Train f1:  0.9626384863988324 \n",
      "\n",
      "Learning Rate:  3.276800000000001e-06\n",
      "\n",
      "EPOCH:  7\n"
     ]
    },
    {
     "data": {
      "application/vnd.jupyter.widget-view+json": {
       "model_id": "42cc0cc3daae470b8c4edffa1c70ea28",
       "version_major": 2,
       "version_minor": 0
      },
      "text/plain": [
       "  0%|          | 0/101 [00:00<?, ?it/s]"
      ]
     },
     "metadata": {},
     "output_type": "display_data"
    },
    {
     "name": "stdout",
     "output_type": "stream",
     "text": [
      "Val loss:  0.17878548800945282  Train loss:  0.16258792579174042 \n",
      "\n",
      "Val acc:  0.9159663865546218  Train acc:  0.9325495049504944 \n",
      "\n",
      "Val f1:  0.9484536082474226  Train f1:  0.960426755534473 \n",
      "\n",
      "Learning Rate:  2.621440000000001e-06\n",
      "\n",
      "EPOCH:  8\n"
     ]
    },
    {
     "data": {
      "application/vnd.jupyter.widget-view+json": {
       "model_id": "fc6d113a1a1d4254b132af635b3f8709",
       "version_major": 2,
       "version_minor": 0
      },
      "text/plain": [
       "  0%|          | 0/101 [00:00<?, ?it/s]"
      ]
     },
     "metadata": {},
     "output_type": "display_data"
    },
    {
     "name": "stdout",
     "output_type": "stream",
     "text": [
      "Val loss:  0.17691035568714142  Train loss:  0.17736557126045227 \n",
      "\n",
      "Val acc:  0.9243697478991597  Train acc:  0.9306930693069303 \n",
      "\n",
      "Val f1:  0.9533678756476683  Train f1:  0.9582290633267115 \n",
      "\n",
      "Learning Rate:  2.097152000000001e-06\n",
      "\n",
      "EPOCH:  9\n"
     ]
    },
    {
     "data": {
      "application/vnd.jupyter.widget-view+json": {
       "model_id": "60c81a3ffd524061827bfd65d0edafda",
       "version_major": 2,
       "version_minor": 0
      },
      "text/plain": [
       "  0%|          | 0/101 [00:00<?, ?it/s]"
      ]
     },
     "metadata": {},
     "output_type": "display_data"
    },
    {
     "name": "stdout",
     "output_type": "stream",
     "text": [
      "Val loss:  0.17619191110134125  Train loss:  0.16531646251678467 \n",
      "\n",
      "Val acc:  0.9243697478991597  Train acc:  0.934405940594059 \n",
      "\n",
      "Val f1:  0.9533678756476683  Train f1:  0.9612103276132715 \n",
      "\n",
      "Learning Rate:  1.6777216000000011e-06\n",
      "\n",
      "EPOCH:  10\n"
     ]
    },
    {
     "data": {
      "application/vnd.jupyter.widget-view+json": {
       "model_id": "7d0089bdbb764cd0bf70bd3e1d82bb79",
       "version_major": 2,
       "version_minor": 0
      },
      "text/plain": [
       "  0%|          | 0/101 [00:00<?, ?it/s]"
      ]
     },
     "metadata": {},
     "output_type": "display_data"
    },
    {
     "name": "stdout",
     "output_type": "stream",
     "text": [
      "Val loss:  0.176129549741745  Train loss:  0.16808956861495972 \n",
      "\n",
      "Val acc:  0.9243697478991597  Train acc:  0.9374999999999997 \n",
      "\n",
      "Val f1:  0.9533678756476683  Train f1:  0.96323520669181 \n",
      "\n",
      "Learning Rate:  1.3421772800000008e-06\n",
      "loading ejemplo_6\n",
      "Number of free parameters:  11242434\n",
      "ejemplo_6\n",
      "\n",
      "EPOCH:  1\n"
     ]
    },
    {
     "data": {
      "application/vnd.jupyter.widget-view+json": {
       "model_id": "c2d94811b6374470860db69ab725de74",
       "version_major": 2,
       "version_minor": 0
      },
      "text/plain": [
       "  0%|          | 0/97 [00:00<?, ?it/s]"
      ]
     },
     "metadata": {},
     "output_type": "display_data"
    },
    {
     "name": "stdout",
     "output_type": "stream",
     "text": [
      "Val loss:  0.14130520820617676  Train loss:  0.16678257286548615 \n",
      "\n",
      "Val acc:  0.9777777777777777  Train acc:  0.9412371134020607 \n",
      "\n",
      "Val f1:  0.9876543209876543  Train f1:  0.9648367740142798 \n",
      "\n",
      "Learning Rate:  1e-05\n",
      "\n",
      "EPOCH:  2\n"
     ]
    },
    {
     "data": {
      "application/vnd.jupyter.widget-view+json": {
       "model_id": "71a2edc1e5ac4cf19dd5028e793e177c",
       "version_major": 2,
       "version_minor": 0
      },
      "text/plain": [
       "  0%|          | 0/97 [00:00<?, ?it/s]"
      ]
     },
     "metadata": {},
     "output_type": "display_data"
    },
    {
     "name": "stdout",
     "output_type": "stream",
     "text": [
      "Val loss:  0.13358987867832184  Train loss:  0.16275674104690552 \n",
      "\n",
      "Val acc:  0.9777777777777777  Train acc:  0.9354381443298958 \n",
      "\n",
      "Val f1:  0.9877300613496932  Train f1:  0.9617048063892928 \n",
      "\n",
      "Learning Rate:  8.000000000000001e-06\n",
      "\n",
      "EPOCH:  3\n"
     ]
    },
    {
     "data": {
      "application/vnd.jupyter.widget-view+json": {
       "model_id": "e0fbaeba4fe04d1a97ea663a0849118d",
       "version_major": 2,
       "version_minor": 0
      },
      "text/plain": [
       "  0%|          | 0/97 [00:00<?, ?it/s]"
      ]
     },
     "metadata": {},
     "output_type": "display_data"
    },
    {
     "name": "stdout",
     "output_type": "stream",
     "text": [
      "Val loss:  0.13252918422222137  Train loss:  0.17407041788101196 \n",
      "\n",
      "Val acc:  0.9777777777777777  Train acc:  0.9345360824742257 \n",
      "\n",
      "Val f1:  0.9877300613496932  Train f1:  0.959404786412707 \n",
      "\n",
      "Learning Rate:  6.400000000000001e-06\n",
      "\n",
      "EPOCH:  4\n"
     ]
    },
    {
     "data": {
      "application/vnd.jupyter.widget-view+json": {
       "model_id": "aaf25343802c40c2b86b1ef5cce0655a",
       "version_major": 2,
       "version_minor": 0
      },
      "text/plain": [
       "  0%|          | 0/97 [00:00<?, ?it/s]"
      ]
     },
     "metadata": {},
     "output_type": "display_data"
    },
    {
     "name": "stdout",
     "output_type": "stream",
     "text": [
      "Val loss:  0.1339409202337265  Train loss:  0.15872962772846222 \n",
      "\n",
      "Val acc:  0.9777777777777777  Train acc:  0.9490979381443287 \n",
      "\n",
      "Val f1:  0.9877300613496932  Train f1:  0.9693737428896811 \n",
      "\n",
      "Learning Rate:  5.120000000000002e-06\n",
      "\n",
      "EPOCH:  5\n"
     ]
    },
    {
     "data": {
      "application/vnd.jupyter.widget-view+json": {
       "model_id": "592df3527b104493b8e858a9d653fcd2",
       "version_major": 2,
       "version_minor": 0
      },
      "text/plain": [
       "  0%|          | 0/97 [00:00<?, ?it/s]"
      ]
     },
     "metadata": {},
     "output_type": "display_data"
    },
    {
     "name": "stdout",
     "output_type": "stream",
     "text": [
      "Val loss:  0.13261458277702332  Train loss:  0.15839649736881256 \n",
      "\n",
      "Val acc:  0.9777777777777777  Train acc:  0.943943298969071 \n",
      "\n",
      "Val f1:  0.9877300613496932  Train f1:  0.9662570826064147 \n",
      "\n",
      "Learning Rate:  4.096000000000001e-06\n",
      "\n",
      "EPOCH:  6\n"
     ]
    },
    {
     "data": {
      "application/vnd.jupyter.widget-view+json": {
       "model_id": "ae6297dce55047f19f5660d539b6a4ff",
       "version_major": 2,
       "version_minor": 0
      },
      "text/plain": [
       "  0%|          | 0/97 [00:00<?, ?it/s]"
      ]
     },
     "metadata": {},
     "output_type": "display_data"
    },
    {
     "name": "stdout",
     "output_type": "stream",
     "text": [
      "Val loss:  0.1337723284959793  Train loss:  0.15996047854423523 \n",
      "\n",
      "Val acc:  0.9777777777777777  Train acc:  0.9426546391752565 \n",
      "\n",
      "Val f1:  0.9877300613496932  Train f1:  0.965331737552138 \n",
      "\n",
      "Learning Rate:  3.276800000000001e-06\n",
      "\n",
      "EPOCH:  7\n"
     ]
    },
    {
     "data": {
      "application/vnd.jupyter.widget-view+json": {
       "model_id": "02adbfa158214f868d60cb59f375a236",
       "version_major": 2,
       "version_minor": 0
      },
      "text/plain": [
       "  0%|          | 0/97 [00:00<?, ?it/s]"
      ]
     },
     "metadata": {},
     "output_type": "display_data"
    },
    {
     "name": "stdout",
     "output_type": "stream",
     "text": [
      "Val loss:  0.13392403721809387  Train loss:  0.15887929499149323 \n",
      "\n",
      "Val acc:  0.9777777777777777  Train acc:  0.9432989690721638 \n",
      "\n",
      "Val f1:  0.9877300613496932  Train f1:  0.9654234628625513 \n",
      "\n",
      "Learning Rate:  2.621440000000001e-06\n",
      "\n",
      "EPOCH:  8\n"
     ]
    },
    {
     "data": {
      "application/vnd.jupyter.widget-view+json": {
       "model_id": "f5b7022beeff47bbb9cf351ac17c88b5",
       "version_major": 2,
       "version_minor": 0
      },
      "text/plain": [
       "  0%|          | 0/97 [00:00<?, ?it/s]"
      ]
     },
     "metadata": {},
     "output_type": "display_data"
    },
    {
     "name": "stdout",
     "output_type": "stream",
     "text": [
      "Val loss:  0.1335664838552475  Train loss:  0.16032244265079498 \n",
      "\n",
      "Val acc:  0.9777777777777777  Train acc:  0.9400773195876276 \n",
      "\n",
      "Val f1:  0.9877300613496932  Train f1:  0.9636635813478995 \n",
      "\n",
      "Learning Rate:  2.097152000000001e-06\n",
      "\n",
      "EPOCH:  9\n"
     ]
    },
    {
     "data": {
      "application/vnd.jupyter.widget-view+json": {
       "model_id": "b623718e617546dcb25574a341940fab",
       "version_major": 2,
       "version_minor": 0
      },
      "text/plain": [
       "  0%|          | 0/97 [00:00<?, ?it/s]"
      ]
     },
     "metadata": {},
     "output_type": "display_data"
    },
    {
     "name": "stdout",
     "output_type": "stream",
     "text": [
      "Val loss:  0.13334035873413086  Train loss:  0.16145829856395721 \n",
      "\n",
      "Val acc:  0.9777777777777777  Train acc:  0.9387886597938133 \n",
      "\n",
      "Val f1:  0.9877300613496932  Train f1:  0.9631526440627636 \n",
      "\n",
      "Learning Rate:  1.6777216000000011e-06\n",
      "\n",
      "EPOCH:  10\n"
     ]
    },
    {
     "data": {
      "application/vnd.jupyter.widget-view+json": {
       "model_id": "99faaf8f2121491bb46539bc049704f1",
       "version_major": 2,
       "version_minor": 0
      },
      "text/plain": [
       "  0%|          | 0/97 [00:00<?, ?it/s]"
      ]
     },
     "metadata": {},
     "output_type": "display_data"
    },
    {
     "name": "stdout",
     "output_type": "stream",
     "text": [
      "Val loss:  0.13297833502292633  Train loss:  0.16247253119945526 \n",
      "\n",
      "Val acc:  0.9777777777777777  Train acc:  0.9400773195876277 \n",
      "\n",
      "Val f1:  0.9877300613496932  Train f1:  0.9639958110917968 \n",
      "\n",
      "Learning Rate:  1.3421772800000008e-06\n",
      "loading ejemplo_7\n",
      "Number of free parameters:  11242434\n",
      "ejemplo_7\n",
      "\n",
      "EPOCH:  1\n"
     ]
    },
    {
     "data": {
      "application/vnd.jupyter.widget-view+json": {
       "model_id": "4b2d9c028c794961876ef97bc992d940",
       "version_major": 2,
       "version_minor": 0
      },
      "text/plain": [
       "  0%|          | 0/97 [00:00<?, ?it/s]"
      ]
     },
     "metadata": {},
     "output_type": "display_data"
    },
    {
     "name": "stdout",
     "output_type": "stream",
     "text": [
      "Val loss:  0.21612431108951569  Train loss:  0.163809671998024 \n",
      "\n",
      "Val acc:  0.9213483146067416  Train acc:  0.9387886597938134 \n",
      "\n",
      "Val f1:  0.9578313253012049  Train f1:  0.9627409613009323 \n",
      "\n",
      "Learning Rate:  1e-05\n",
      "\n",
      "EPOCH:  2\n"
     ]
    },
    {
     "data": {
      "application/vnd.jupyter.widget-view+json": {
       "model_id": "808c558deff64ec48da0967a434ae9ea",
       "version_major": 2,
       "version_minor": 0
      },
      "text/plain": [
       "  0%|          | 0/97 [00:00<?, ?it/s]"
      ]
     },
     "metadata": {},
     "output_type": "display_data"
    },
    {
     "name": "stdout",
     "output_type": "stream",
     "text": [
      "Val loss:  0.198398157954216  Train loss:  0.15374049544334412 \n",
      "\n",
      "Val acc:  0.9382022471910112  Train acc:  0.9476251840942551 \n",
      "\n",
      "Val f1:  0.9673590504451038  Train f1:  0.9674960291845222 \n",
      "\n",
      "Learning Rate:  8.000000000000001e-06\n",
      "\n",
      "EPOCH:  3\n"
     ]
    },
    {
     "data": {
      "application/vnd.jupyter.widget-view+json": {
       "model_id": "d8d34684eb2c44b19e337c3998c6dbcd",
       "version_major": 2,
       "version_minor": 0
      },
      "text/plain": [
       "  0%|          | 0/97 [00:00<?, ?it/s]"
      ]
     },
     "metadata": {},
     "output_type": "display_data"
    },
    {
     "name": "stdout",
     "output_type": "stream",
     "text": [
      "Val loss:  0.2115846872329712  Train loss:  0.15915611386299133 \n",
      "\n",
      "Val acc:  0.9213483146067416  Train acc:  0.9387886597938133 \n",
      "\n",
      "Val f1:  0.9578313253012049  Train f1:  0.9631230178242911 \n",
      "\n",
      "Learning Rate:  6.400000000000001e-06\n",
      "\n",
      "EPOCH:  4\n"
     ]
    },
    {
     "data": {
      "application/vnd.jupyter.widget-view+json": {
       "model_id": "7d45e481ab5a407b92db273870d46a9a",
       "version_major": 2,
       "version_minor": 0
      },
      "text/plain": [
       "  0%|          | 0/97 [00:00<?, ?it/s]"
      ]
     },
     "metadata": {},
     "output_type": "display_data"
    },
    {
     "name": "stdout",
     "output_type": "stream",
     "text": [
      "Val loss:  0.21438971161842346  Train loss:  0.15640202164649963 \n",
      "\n",
      "Val acc:  0.9213483146067416  Train acc:  0.9471649484536071 \n",
      "\n",
      "Val f1:  0.9578313253012049  Train f1:  0.9680707787605527 \n",
      "\n",
      "Learning Rate:  5.120000000000002e-06\n",
      "\n",
      "EPOCH:  5\n"
     ]
    },
    {
     "data": {
      "application/vnd.jupyter.widget-view+json": {
       "model_id": "388fe2f9e830467cb807db7bc979965d",
       "version_major": 2,
       "version_minor": 0
      },
      "text/plain": [
       "  0%|          | 0/97 [00:00<?, ?it/s]"
      ]
     },
     "metadata": {},
     "output_type": "display_data"
    },
    {
     "name": "stdout",
     "output_type": "stream",
     "text": [
      "Val loss:  0.22042709589004517  Train loss:  0.16153451800346375 \n",
      "\n",
      "Val acc:  0.9157303370786517  Train acc:  0.9368556701030917 \n",
      "\n",
      "Val f1:  0.9546827794561934  Train f1:  0.9611308737085618 \n",
      "\n",
      "Learning Rate:  4.096000000000001e-06\n",
      "\n",
      "EPOCH:  6\n"
     ]
    },
    {
     "data": {
      "application/vnd.jupyter.widget-view+json": {
       "model_id": "6a10a61bd3ff4de0bd97b5800f065f7f",
       "version_major": 2,
       "version_minor": 0
      },
      "text/plain": [
       "  0%|          | 0/97 [00:00<?, ?it/s]"
      ]
     },
     "metadata": {},
     "output_type": "display_data"
    },
    {
     "name": "stdout",
     "output_type": "stream",
     "text": [
      "Val loss:  0.21242396533489227  Train loss:  0.16250577569007874 \n",
      "\n",
      "Val acc:  0.9213483146067416  Train acc:  0.9334499263622964 \n",
      "\n",
      "Val f1:  0.9578313253012049  Train f1:  0.9589995630986284 \n",
      "\n",
      "Learning Rate:  3.276800000000001e-06\n",
      "\n",
      "EPOCH:  7\n"
     ]
    },
    {
     "data": {
      "application/vnd.jupyter.widget-view+json": {
       "model_id": "23d3e82764144adf836d36234153f059",
       "version_major": 2,
       "version_minor": 0
      },
      "text/plain": [
       "  0%|          | 0/97 [00:00<?, ?it/s]"
      ]
     },
     "metadata": {},
     "output_type": "display_data"
    },
    {
     "name": "stdout",
     "output_type": "stream",
     "text": [
      "Val loss:  0.21463774144649506  Train loss:  0.1611970067024231 \n",
      "\n",
      "Val acc:  0.9213483146067416  Train acc:  0.9386045655375541 \n",
      "\n",
      "Val f1:  0.9578313253012049  Train f1:  0.9629340703559676 \n",
      "\n",
      "Learning Rate:  2.621440000000001e-06\n",
      "\n",
      "EPOCH:  8\n"
     ]
    },
    {
     "data": {
      "application/vnd.jupyter.widget-view+json": {
       "model_id": "061093c39d6d49a3aa5cd6a80d64be20",
       "version_major": 2,
       "version_minor": 0
      },
      "text/plain": [
       "  0%|          | 0/97 [00:00<?, ?it/s]"
      ]
     },
     "metadata": {},
     "output_type": "display_data"
    },
    {
     "name": "stdout",
     "output_type": "stream",
     "text": [
      "Val loss:  0.21396568417549133  Train loss:  0.15440793335437775 \n",
      "\n",
      "Val acc:  0.9213483146067416  Train acc:  0.9405375552282758 \n",
      "\n",
      "Val f1:  0.9578313253012049  Train f1:  0.964429149062939 \n",
      "\n",
      "Learning Rate:  2.097152000000001e-06\n",
      "\n",
      "EPOCH:  9\n"
     ]
    },
    {
     "data": {
      "application/vnd.jupyter.widget-view+json": {
       "model_id": "535fd2d2d4734c75be5aeae77ed5250a",
       "version_major": 2,
       "version_minor": 0
      },
      "text/plain": [
       "  0%|          | 0/97 [00:00<?, ?it/s]"
      ]
     },
     "metadata": {},
     "output_type": "display_data"
    },
    {
     "name": "stdout",
     "output_type": "stream",
     "text": [
      "Val loss:  0.21282489597797394  Train loss:  0.16161684691905975 \n",
      "\n",
      "Val acc:  0.9213483146067416  Train acc:  0.9413659793814422 \n",
      "\n",
      "Val f1:  0.9578313253012049  Train f1:  0.9642500994808921 \n",
      "\n",
      "Learning Rate:  1.6777216000000011e-06\n",
      "\n",
      "EPOCH:  10\n"
     ]
    },
    {
     "data": {
      "application/vnd.jupyter.widget-view+json": {
       "model_id": "4fa8372e7b104ffa9a90040114771116",
       "version_major": 2,
       "version_minor": 0
      },
      "text/plain": [
       "  0%|          | 0/97 [00:00<?, ?it/s]"
      ]
     },
     "metadata": {},
     "output_type": "display_data"
    },
    {
     "name": "stdout",
     "output_type": "stream",
     "text": [
      "Val loss:  0.21189220249652863  Train loss:  0.16013607382774353 \n",
      "\n",
      "Val acc:  0.9213483146067416  Train acc:  0.9465206185566999 \n",
      "\n",
      "Val f1:  0.9578313253012049  Train f1:  0.9674517562246786 \n",
      "\n",
      "Learning Rate:  1.3421772800000008e-06\n",
      "loading ejemplo_8\n",
      "Number of free parameters:  11242434\n",
      "ejemplo_8\n",
      "\n",
      "EPOCH:  1\n"
     ]
    },
    {
     "data": {
      "application/vnd.jupyter.widget-view+json": {
       "model_id": "49bc21876e9c41df94a768bef45e815a",
       "version_major": 2,
       "version_minor": 0
      },
      "text/plain": [
       "  0%|          | 0/98 [00:00<?, ?it/s]"
      ]
     },
     "metadata": {},
     "output_type": "display_data"
    },
    {
     "name": "stdout",
     "output_type": "stream",
     "text": [
      "Val loss:  0.24581743776798248  Train loss:  0.16415587067604065 \n",
      "\n",
      "Val acc:  0.8987341772151899  Train acc:  0.9387755102040823 \n",
      "\n",
      "Val f1:  0.9452054794520548  Train f1:  0.9635268229862001 \n",
      "\n",
      "Learning Rate:  1e-05\n",
      "\n",
      "EPOCH:  2\n"
     ]
    },
    {
     "data": {
      "application/vnd.jupyter.widget-view+json": {
       "model_id": "5aa807d3ea204e388cc7c2d5110f3a0a",
       "version_major": 2,
       "version_minor": 0
      },
      "text/plain": [
       "  0%|          | 0/98 [00:00<?, ?it/s]"
      ]
     },
     "metadata": {},
     "output_type": "display_data"
    },
    {
     "name": "stdout",
     "output_type": "stream",
     "text": [
      "Val loss:  0.23605337738990784  Train loss:  0.17437513172626495 \n",
      "\n",
      "Val acc:  0.8987341772151899  Train acc:  0.9330357142857153 \n",
      "\n",
      "Val f1:  0.9452054794520548  Train f1:  0.9593780541185379 \n",
      "\n",
      "Learning Rate:  8.000000000000001e-06\n",
      "\n",
      "EPOCH:  3\n"
     ]
    },
    {
     "data": {
      "application/vnd.jupyter.widget-view+json": {
       "model_id": "7c1708ade51040e081cf7d19523321b9",
       "version_major": 2,
       "version_minor": 0
      },
      "text/plain": [
       "  0%|          | 0/98 [00:00<?, ?it/s]"
      ]
     },
     "metadata": {},
     "output_type": "display_data"
    },
    {
     "name": "stdout",
     "output_type": "stream",
     "text": [
      "Val loss:  0.23895905911922455  Train loss:  0.1504993438720703 \n",
      "\n",
      "Val acc:  0.8987341772151899  Train acc:  0.9413265306122454 \n",
      "\n",
      "Val f1:  0.9452054794520548  Train f1:  0.9650962980168951 \n",
      "\n",
      "Learning Rate:  6.400000000000001e-06\n",
      "\n",
      "EPOCH:  4\n"
     ]
    },
    {
     "data": {
      "application/vnd.jupyter.widget-view+json": {
       "model_id": "28cbb4176c4a4afe9d597c1106a58426",
       "version_major": 2,
       "version_minor": 0
      },
      "text/plain": [
       "  0%|          | 0/98 [00:00<?, ?it/s]"
      ]
     },
     "metadata": {},
     "output_type": "display_data"
    },
    {
     "name": "stdout",
     "output_type": "stream",
     "text": [
      "Val loss:  0.235471710562706  Train loss:  0.16384238004684448 \n",
      "\n",
      "Val acc:  0.8987341772151899  Train acc:  0.9410366419294999 \n",
      "\n",
      "Val f1:  0.9452054794520548  Train f1:  0.9639361120527609 \n",
      "\n",
      "Learning Rate:  5.120000000000002e-06\n",
      "\n",
      "EPOCH:  5\n"
     ]
    },
    {
     "data": {
      "application/vnd.jupyter.widget-view+json": {
       "model_id": "ab443f754cd44ff3b9fe6ee7fdcdfc9f",
       "version_major": 2,
       "version_minor": 0
      },
      "text/plain": [
       "  0%|          | 0/98 [00:00<?, ?it/s]"
      ]
     },
     "metadata": {},
     "output_type": "display_data"
    },
    {
     "name": "stdout",
     "output_type": "stream",
     "text": [
      "Val loss:  0.23527845740318298  Train loss:  0.15692807734012604 \n",
      "\n",
      "Val acc:  0.8987341772151899  Train acc:  0.9394132653061235 \n",
      "\n",
      "Val f1:  0.9452054794520548  Train f1:  0.9634920596561108 \n",
      "\n",
      "Learning Rate:  4.096000000000001e-06\n",
      "\n",
      "EPOCH:  6\n"
     ]
    },
    {
     "data": {
      "application/vnd.jupyter.widget-view+json": {
       "model_id": "08e0fd1903514fbfbb3a890281da8d10",
       "version_major": 2,
       "version_minor": 0
      },
      "text/plain": [
       "  0%|          | 0/98 [00:00<?, ?it/s]"
      ]
     },
     "metadata": {},
     "output_type": "display_data"
    },
    {
     "name": "stdout",
     "output_type": "stream",
     "text": [
      "Val loss:  0.23548124730587006  Train loss:  0.15553271770477295 \n",
      "\n",
      "Val acc:  0.8987341772151899  Train acc:  0.9451530612244908 \n",
      "\n",
      "Val f1:  0.9452054794520548  Train f1:  0.9666748981659716 \n",
      "\n",
      "Learning Rate:  3.276800000000001e-06\n",
      "\n",
      "EPOCH:  7\n"
     ]
    },
    {
     "data": {
      "application/vnd.jupyter.widget-view+json": {
       "model_id": "6a638f1a5ffc4a9f944f4c79c638c7c6",
       "version_major": 2,
       "version_minor": 0
      },
      "text/plain": [
       "  0%|          | 0/98 [00:00<?, ?it/s]"
      ]
     },
     "metadata": {},
     "output_type": "display_data"
    },
    {
     "name": "stdout",
     "output_type": "stream",
     "text": [
      "Val loss:  0.23566003143787384  Train loss:  0.15440396964550018 \n",
      "\n",
      "Val acc:  0.8987341772151899  Train acc:  0.9429499072356226 \n",
      "\n",
      "Val f1:  0.9452054794520548  Train f1:  0.9659638768538371 \n",
      "\n",
      "Learning Rate:  2.621440000000001e-06\n",
      "\n",
      "EPOCH:  8\n"
     ]
    },
    {
     "data": {
      "application/vnd.jupyter.widget-view+json": {
       "model_id": "0aea97c982c142bcbe86d709480ef90a",
       "version_major": 2,
       "version_minor": 0
      },
      "text/plain": [
       "  0%|          | 0/98 [00:00<?, ?it/s]"
      ]
     },
     "metadata": {},
     "output_type": "display_data"
    },
    {
     "name": "stdout",
     "output_type": "stream",
     "text": [
      "Val loss:  0.23637810349464417  Train loss:  0.16335542500019073 \n",
      "\n",
      "Val acc:  0.8987341772151899  Train acc:  0.9423121521335815 \n",
      "\n",
      "Val f1:  0.9452054794520548  Train f1:  0.964608092410209 \n",
      "\n",
      "Learning Rate:  2.097152000000001e-06\n",
      "\n",
      "EPOCH:  9\n"
     ]
    },
    {
     "data": {
      "application/vnd.jupyter.widget-view+json": {
       "model_id": "d20d3c63746c4bd7bf70b6c8180ff7c0",
       "version_major": 2,
       "version_minor": 0
      },
      "text/plain": [
       "  0%|          | 0/98 [00:00<?, ?it/s]"
      ]
     },
     "metadata": {},
     "output_type": "display_data"
    },
    {
     "name": "stdout",
     "output_type": "stream",
     "text": [
      "Val loss:  0.23625999689102173  Train loss:  0.1635848581790924 \n",
      "\n",
      "Val acc:  0.8987341772151899  Train acc:  0.9477040816326541 \n",
      "\n",
      "Val f1:  0.9452054794520548  Train f1:  0.9688977232364545 \n",
      "\n",
      "Learning Rate:  1.6777216000000011e-06\n",
      "\n",
      "EPOCH:  10\n"
     ]
    },
    {
     "data": {
      "application/vnd.jupyter.widget-view+json": {
       "model_id": "db2a2bac08e94083931a85ce0cf2f3e5",
       "version_major": 2,
       "version_minor": 0
      },
      "text/plain": [
       "  0%|          | 0/98 [00:00<?, ?it/s]"
      ]
     },
     "metadata": {},
     "output_type": "display_data"
    },
    {
     "name": "stdout",
     "output_type": "stream",
     "text": [
      "Val loss:  0.23546257615089417  Train loss:  0.16041968762874603 \n",
      "\n",
      "Val acc:  0.8987341772151899  Train acc:  0.940688775510205 \n",
      "\n",
      "Val f1:  0.9452054794520548  Train f1:  0.9647491811631157 \n",
      "\n",
      "Learning Rate:  1.3421772800000008e-06\n",
      "loading ejemplo_9\n",
      "Number of free parameters:  11242434\n",
      "ejemplo_9\n",
      "\n",
      "EPOCH:  1\n"
     ]
    },
    {
     "data": {
      "application/vnd.jupyter.widget-view+json": {
       "model_id": "4eb9f243aaf44e1e817cea740c8df694",
       "version_major": 2,
       "version_minor": 0
      },
      "text/plain": [
       "  0%|          | 0/96 [00:00<?, ?it/s]"
      ]
     },
     "metadata": {},
     "output_type": "display_data"
    },
    {
     "name": "stdout",
     "output_type": "stream",
     "text": [
      "Val loss:  0.3807617425918579  Train loss:  0.1504390388727188 \n",
      "\n",
      "Val acc:  0.8609625668449198  Train acc:  0.9517299107142856 \n",
      "\n",
      "Val f1:  0.9197530864197531  Train f1:  0.971216693468274 \n",
      "\n",
      "Learning Rate:  1e-05\n",
      "\n",
      "EPOCH:  2\n"
     ]
    },
    {
     "data": {
      "application/vnd.jupyter.widget-view+json": {
       "model_id": "52629da23583401087b9eb1df0ae5a14",
       "version_major": 2,
       "version_minor": 0
      },
      "text/plain": [
       "  0%|          | 0/96 [00:00<?, ?it/s]"
      ]
     },
     "metadata": {},
     "output_type": "display_data"
    },
    {
     "name": "stdout",
     "output_type": "stream",
     "text": [
      "Val loss:  0.38237613439559937  Train loss:  0.1527324765920639 \n",
      "\n",
      "Val acc:  0.8609625668449198  Train acc:  0.9491257440476184 \n",
      "\n",
      "Val f1:  0.9197530864197531  Train f1:  0.9695658184873802 \n",
      "\n",
      "Learning Rate:  8.000000000000001e-06\n",
      "\n",
      "EPOCH:  3\n"
     ]
    },
    {
     "data": {
      "application/vnd.jupyter.widget-view+json": {
       "model_id": "e57c35734ad0469dbcc1d2dbb0cc8ef1",
       "version_major": 2,
       "version_minor": 0
      },
      "text/plain": [
       "  0%|          | 0/96 [00:00<?, ?it/s]"
      ]
     },
     "metadata": {},
     "output_type": "display_data"
    },
    {
     "name": "stdout",
     "output_type": "stream",
     "text": [
      "Val loss:  0.38231492042541504  Train loss:  0.15368537604808807 \n",
      "\n",
      "Val acc:  0.8609625668449198  Train acc:  0.9491257440476182 \n",
      "\n",
      "Val f1:  0.9197530864197531  Train f1:  0.9694917213429723 \n",
      "\n",
      "Learning Rate:  6.400000000000001e-06\n",
      "\n",
      "EPOCH:  4\n"
     ]
    },
    {
     "data": {
      "application/vnd.jupyter.widget-view+json": {
       "model_id": "7c777c9e96ec4b0ba9127c16bc96422b",
       "version_major": 2,
       "version_minor": 0
      },
      "text/plain": [
       "  0%|          | 0/96 [00:00<?, ?it/s]"
      ]
     },
     "metadata": {},
     "output_type": "display_data"
    },
    {
     "name": "stdout",
     "output_type": "stream",
     "text": [
      "Val loss:  0.38196587562561035  Train loss:  0.1466480791568756 \n",
      "\n",
      "Val acc:  0.8609625668449198  Train acc:  0.9583333333333331 \n",
      "\n",
      "Val f1:  0.9197530864197531  Train f1:  0.9749684775316912 \n",
      "\n",
      "Learning Rate:  5.120000000000002e-06\n",
      "\n",
      "EPOCH:  5\n"
     ]
    },
    {
     "data": {
      "application/vnd.jupyter.widget-view+json": {
       "model_id": "116718aa66f14bcc90654d3b84ab01ec",
       "version_major": 2,
       "version_minor": 0
      },
      "text/plain": [
       "  0%|          | 0/96 [00:00<?, ?it/s]"
      ]
     },
     "metadata": {},
     "output_type": "display_data"
    },
    {
     "name": "stdout",
     "output_type": "stream",
     "text": [
      "Val loss:  0.3821577727794647  Train loss:  0.1438024640083313 \n",
      "\n",
      "Val acc:  0.8609625668449198  Train acc:  0.951078869047619 \n",
      "\n",
      "Val f1:  0.9197530864197531  Train f1:  0.970523065193134 \n",
      "\n",
      "Learning Rate:  4.096000000000001e-06\n",
      "\n",
      "EPOCH:  6\n"
     ]
    },
    {
     "data": {
      "application/vnd.jupyter.widget-view+json": {
       "model_id": "45d34a0b4e724c369151170e72457dd1",
       "version_major": 2,
       "version_minor": 0
      },
      "text/plain": [
       "  0%|          | 0/96 [00:00<?, ?it/s]"
      ]
     },
     "metadata": {},
     "output_type": "display_data"
    },
    {
     "name": "stdout",
     "output_type": "stream",
     "text": [
      "Val loss:  0.38291221857070923  Train loss:  0.13921429216861725 \n",
      "\n",
      "Val acc:  0.8609625668449198  Train acc:  0.9523809523809522 \n",
      "\n",
      "Val f1:  0.9197530864197531  Train f1:  0.971935014465573 \n",
      "\n",
      "Learning Rate:  3.276800000000001e-06\n",
      "\n",
      "EPOCH:  7\n"
     ]
    },
    {
     "data": {
      "application/vnd.jupyter.widget-view+json": {
       "model_id": "a5fca5302d2741ca92dd22c4ec3c7dc2",
       "version_major": 2,
       "version_minor": 0
      },
      "text/plain": [
       "  0%|          | 0/96 [00:00<?, ?it/s]"
      ]
     },
     "metadata": {},
     "output_type": "display_data"
    },
    {
     "name": "stdout",
     "output_type": "stream",
     "text": [
      "Val loss:  0.3822941184043884  Train loss:  0.14507760107517242 \n",
      "\n",
      "Val acc:  0.8556149732620321  Train acc:  0.9575892857142853 \n",
      "\n",
      "Val f1:  0.9164086687306502  Train f1:  0.9745656482682571 \n",
      "\n",
      "Learning Rate:  2.621440000000001e-06\n",
      "\n",
      "EPOCH:  8\n"
     ]
    },
    {
     "data": {
      "application/vnd.jupyter.widget-view+json": {
       "model_id": "afe64019ac0b4a32b883d833a60e4e8d",
       "version_major": 2,
       "version_minor": 0
      },
      "text/plain": [
       "  0%|          | 0/96 [00:00<?, ?it/s]"
      ]
     },
     "metadata": {},
     "output_type": "display_data"
    },
    {
     "name": "stdout",
     "output_type": "stream",
     "text": [
      "Val loss:  0.3846341669559479  Train loss:  0.14356189966201782 \n",
      "\n",
      "Val acc:  0.8609625668449198  Train acc:  0.9524739583333331 \n",
      "\n",
      "Val f1:  0.9197530864197531  Train f1:  0.9718901935114997 \n",
      "\n",
      "Learning Rate:  2.097152000000001e-06\n",
      "\n",
      "EPOCH:  9\n"
     ]
    },
    {
     "data": {
      "application/vnd.jupyter.widget-view+json": {
       "model_id": "d9300d9875044479a8ac8594428b47d8",
       "version_major": 2,
       "version_minor": 0
      },
      "text/plain": [
       "  0%|          | 0/96 [00:00<?, ?it/s]"
      ]
     },
     "metadata": {},
     "output_type": "display_data"
    },
    {
     "name": "stdout",
     "output_type": "stream",
     "text": [
      "Val loss:  0.385063499212265  Train loss:  0.14708323776721954 \n",
      "\n",
      "Val acc:  0.8609625668449198  Train acc:  0.9524739583333327 \n",
      "\n",
      "Val f1:  0.9197530864197531  Train f1:  0.9714749568287714 \n",
      "\n",
      "Learning Rate:  1.6777216000000011e-06\n",
      "\n",
      "EPOCH:  10\n"
     ]
    },
    {
     "data": {
      "application/vnd.jupyter.widget-view+json": {
       "model_id": "10fe0d5f356845d6ba42aaff07a21b6d",
       "version_major": 2,
       "version_minor": 0
      },
      "text/plain": [
       "  0%|          | 0/96 [00:00<?, ?it/s]"
      ]
     },
     "metadata": {},
     "output_type": "display_data"
    },
    {
     "name": "stdout",
     "output_type": "stream",
     "text": [
      "Val loss:  0.38564345240592957  Train loss:  0.13263334333896637 \n",
      "\n",
      "Val acc:  0.8609625668449198  Train acc:  0.9556361607142853 \n",
      "\n",
      "Val f1:  0.9197530864197531  Train f1:  0.973730939110124 \n",
      "\n",
      "Learning Rate:  1.3421772800000008e-06\n"
     ]
    }
   ],
   "source": [
    "# Choosing only the images from the according splits (10CV)\n",
    "\n",
    "X, y = data_set.inputs.float(), data_set.labels.float()\n",
    "\n",
    "for SPLIT in range(10):\n",
    "    MODEL_NAME = f\"ejemplo_{SPLIT}\"\n",
    "\n",
    "    train_idx = []\n",
    "    val_idx = []\n",
    "\n",
    "    TRAIN_SPLIT = open(f\"C:\\\\Users\\\\Alejandro\\\\Desktop\\\\heterogeneous-data\\\\splits\\\\trainsplit{SPLIT}.txt\", \"r\").read().split()\n",
    "    VAL_SPLIT = open(f\"C:\\\\Users\\\\Alejandro\\\\Desktop\\\\heterogeneous-data\\\\splits\\\\testsplit{SPLIT}.txt\", \"r\").read().split()\n",
    "\n",
    "    for i, case in enumerate(data_set.case_ids):\n",
    "        if case in TRAIN_SPLIT:\n",
    "            train_idx.append(i)\n",
    "        elif case in VAL_SPLIT:\n",
    "            val_idx.append(i)\n",
    "\n",
    "    train_X, train_y = shuffle(torch.stack([X[i] for i in train_idx]), torch.stack([y[i] for i in train_idx]))\n",
    "\n",
    "    val_X, val_y = shuffle(torch.stack([X[i] for i in val_idx]), torch.stack([y[i] for i in val_idx]))\n",
    "\n",
    "    init()\n",
    "\n",
    "    train()\n"
   ]
  },
  {
   "cell_type": "code",
   "execution_count": 22,
   "metadata": {},
   "outputs": [],
   "source": [
    "def learning_curve():\n",
    "  fig, axs = plt.subplots(2, figsize = (7,6))\n",
    "\n",
    "  acc_df = pd.read_csv(f\"C:\\\\Users\\\\Alejandro\\\\Desktop\\\\heterogeneous-data\\\\results\\\\WSI\\\\log\\\\model_{MODEL_NAME}.log\")\n",
    "  acc_df.columns = [\"MODEL_NAME\", \"TIME\", \"ACC\", \"LOSS\", \"VAL_ACC\", \"VAL_LOSS\"]\n",
    "\n",
    "  fig, axs = plt.subplots(2, figsize=(5,7))\n",
    "  #ax = plt.gca() # GET CURRENT AXIS\n",
    "\n",
    "  axs[0].legend(\"MODEL_NAME\", loc=2)\n",
    "\n",
    "  acc_df.plot(y=\"ACC\", ax=axs[0])\n",
    "  acc_df.plot(y=\"VAL_ACC\", ax=axs[0])\n",
    "\n",
    "  acc_df.plot(y=\"LOSS\", ax=axs[1])\n",
    "  acc_df.plot(y=\"VAL_LOSS\",ax=axs[1])\n",
    "\n",
    "  fig.show()\n",
    "  fig.savefig(f\"C:\\\\Users\\\\Alejandro\\\\Desktop\\\\heterogeneous-data\\\\results\\\\WSI\\\\lc\\\\l_curve_{MODEL_NAME}.pdf\")"
   ]
  },
  {
   "cell_type": "code",
   "execution_count": 23,
   "metadata": {},
   "outputs": [
    {
     "name": "stderr",
     "output_type": "stream",
     "text": [
      "C:\\Users\\Alejandro\\AppData\\Local\\Temp\\ipykernel_18776\\440877980.py:18: UserWarning: Matplotlib is currently using module://matplotlib_inline.backend_inline, which is a non-GUI backend, so cannot show the figure.\n",
      "  fig.show()\n"
     ]
    },
    {
     "data": {
      "image/png": "[encoded data removed]",
      "text/plain": [
       "<Figure size 504x432 with 2 Axes>"
      ]
     },
     "metadata": {
      "needs_background": "light"
     },
     "output_type": "display_data"
    },
    {
     "data": {
      "image/png": "[encoded data removed]",
      "text/plain": [
       "<Figure size 360x504 with 2 Axes>"
      ]
     },
     "metadata": {
      "needs_background": "light"
     },
     "output_type": "display_data"
    }
   ],
   "source": [
    "learning_curve()"
   ]
  },
  {
   "cell_type": "code",
   "execution_count": null,
   "metadata": {},
   "outputs": [],
   "source": []
  },
  {
   "cell_type": "code",
   "execution_count": null,
   "metadata": {},
   "outputs": [],
   "source": []
  }
 ],
 "metadata": {
  "interpreter": {
   "hash": "de74446a7cd3a56c425ecbffb2a7ad915342ddab3c48353acb4566475bd7705f"
  },
  "kernelspec": {
   "display_name": "Python 3.9.12 ('openslide')",
   "language": "python",
   "name": "python3"
  },
  "language_info": {
   "codemirror_mode": {
    "name": "ipython",
    "version": 3
   },
   "file_extension": ".py",
   "mimetype": "text/x-python",
   "name": "python",
   "nbconvert_exporter": "python",
   "pygments_lexer": "ipython3",
   "version": "3.9.12"
  },
  "orig_nbformat": 4
 },
 "nbformat": 4,
 "nbformat_minor": 2
}
