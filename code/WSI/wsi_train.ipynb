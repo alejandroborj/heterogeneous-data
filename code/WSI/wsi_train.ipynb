{
 "cells": [
  {
   "cell_type": "markdown",
   "metadata": {},
   "source": [
    "# Model training"
   ]
  },
  {
   "cell_type": "code",
   "execution_count": 1,
   "metadata": {},
   "outputs": [],
   "source": [
    "from tqdm.notebook import tqdm\n",
    "import numpy as np\n",
    "import matplotlib.pyplot as plt\n",
    "import pandas as pd\n",
    "from sklearn.metrics import confusion_matrix\n",
    "\n",
    "import torch\n",
    "import torchvision.transforms as transforms\n",
    "import torchvision.models\n",
    "import torch.optim as optim\n",
    "import torch.nn as nn\n",
    "from torch.utils.data import DataLoader\n",
    "from torch.utils.data import WeightedRandomSampler\n",
    "\n",
    "import time\n",
    "\n",
    "import data_reader\n",
    "import dataset"
   ]
  },
  {
   "cell_type": "code",
   "execution_count": 2,
   "metadata": {},
   "outputs": [
    {
     "name": "stdout",
     "output_type": "stream",
     "text": [
      "Using GPU : cuda:0\n"
     ]
    }
   ],
   "source": [
    "# Choosing device for tensor processing\n",
    "\n",
    "if torch.cuda.is_available():\n",
    "    device = torch.device(\"cuda:0\")\n",
    "    print(\"Using GPU :\", device)\n",
    "else:\n",
    "    device = torch.device(\"cpu\")\n",
    "    print(\"Using CPU \")"
   ]
  },
  {
   "cell_type": "code",
   "execution_count": 3,
   "metadata": {},
   "outputs": [],
   "source": [
    "# Training and data variables\n",
    "\n",
    "MODE = \"w\"\n",
    "EXP_NAME = \"25ep_earlystp_ft\"\n",
    "\n",
    "DATA_SET_NAME = f\"data_set_x20_100%_split\"\n",
    "PATCH_SIZE = 512\n",
    "\n",
    "BATCH_SIZE = 16\n",
    "EPOCHS = 25\n",
    "\n",
    "SIZE_X = PATCH_SIZE\n",
    "SIZE_Y = PATCH_SIZE\n",
    "\n",
    "threshold = 0.05 # Loss difference for early stopping"
   ]
  },
  {
   "cell_type": "code",
   "execution_count": 4,
   "metadata": {},
   "outputs": [],
   "source": [
    "def init_weights(m): # XAVIER initialization for final layer weight initialization\n",
    "    if type(m) == nn.Linear:\n",
    "        torch.nn.init.xavier_uniform_(m.weight)\n",
    "        m.bias.data.fill_(0.01)\n",
    "\n",
    "def init():\n",
    "    global net, loss_function, scheduler, optimizer, MODEL_NAME\n",
    "\n",
    "    net = torchvision.models.resnet18(pretrained=True).to(device)\n",
    "    \n",
    "    for param in net.parameters():\n",
    "        param.requires_grad = False # Freezing the convolutional layers\n",
    "\n",
    "    for param in net.layer4[1].parameters():\n",
    "        param.requires_grad = True # Unfreezing the last residual block\n",
    "    \n",
    "    \n",
    "    net.fc = nn.Sequential(\n",
    "                nn.Linear(512, 2),\n",
    "                #nn.ReLU(inplace=True),\n",
    "                #nn.Linear(128, 2),\n",
    "                nn.Softmax(dim = -1)\n",
    "                ).to(device)\n",
    "\n",
    "    net.fc.apply(init_weights) # Xavier init\n",
    "\n",
    "    #print(f\"Loading {MODEL_NAME}\")\n",
    "    net = torch.load(f\"C:\\\\Users\\\\Alejandro\\\\Desktop\\\\heterogeneous-data\\\\results\\\\WSI\\\\models\\\\{MODEL_NAME}.pth\") # Model loading\n",
    "\n",
    "    n_params = sum(p.numel() for p in net.fc.parameters())# + sum(p.numel() for p in net.layer4[1].parameters())\n",
    "    print(\"Number of free parameters: \", n_params)\n",
    "\n",
    "    #Hyperparameters:\n",
    "    learning_rate = 1E-5 # LR\n",
    "    loss_function = nn.BCELoss()  # Loss # [1,0] es positivo y [0,1] negativo\n",
    "    optimizer = optim.Adam(net.parameters(), lr=learning_rate, betas=(0.9, 0.999), eps=1e-08)# Optimizer\n",
    "    lambda1 = lambda epoch: 1 ** epoch # Scheduler\n",
    "    scheduler = torch.optim.lr_scheduler.LambdaLR(optimizer, lr_lambda=lambda1)\n"
   ]
  },
  {
   "cell_type": "code",
   "execution_count": 5,
   "metadata": {},
   "outputs": [],
   "source": [
    "def fwd_pass(X, y, train=False):\n",
    "# IMPORTANTE, TRAIN = FALSE PARA QUE NO ENTRENE CON EL TEST DATA ESTO ES PARA PODER HACER TEST MIENTRAS ENTRENO Y VALIDO, \n",
    "# SE ESPERA QUE LA EXACTITUD EN EL TEST DE VALIDACIÓN SEA MENOR\n",
    "    if train: \n",
    "        net.zero_grad()\n",
    "        \n",
    "    # NORMALIZATION\n",
    "    mean = [0.485, 0.456, 0.406]\n",
    "    std = [0.229, 0.224, 0.225]\n",
    "    normalize = torchvision.transforms.Normalize(mean=mean, std=std)\n",
    "\n",
    "    for i, x in enumerate(X):\n",
    "        X[i] = normalize(X[i]/255) # Np array\n",
    "\n",
    "    outputs = net(X)\n",
    "    matches = [torch.argmax(i) == torch.argmax(j) for i,j in zip(outputs, y)]\n",
    "    y_pred = [torch.argmin(i) for i in outputs.cpu()] # 1 means positive diagnosis: (1,0) => 1\n",
    "    y_true = [torch.argmin(i) for i in y.cpu()]\n",
    "\n",
    "    acc = matches.count(True)/len(matches)\n",
    "    loss = loss_function(outputs, y)\n",
    "    conf_m = confusion_matrix(y_true, y_pred, labels=[0, 1])\n",
    "    \n",
    "    if train:\n",
    "        loss.backward() # Calculate gradients using backprop\n",
    "        optimizer.step() # Updates W and b using previously calculated gradients\n",
    "\n",
    "    return acc, loss, conf_m"
   ]
  },
  {
   "cell_type": "code",
   "execution_count": 6,
   "metadata": {},
   "outputs": [],
   "source": [
    "def train():\n",
    "  global net, loss_function, scheduler, threshold, optimizer, train_set, val_set, MODEL_NAME, EPOCHS\n",
    "  \n",
    "  print(MODEL_NAME)\n",
    "  patience = 0\n",
    "\n",
    "  with open(f\"C:\\\\Users\\\\Alejandro\\\\Desktop\\\\heterogeneous-data\\\\results\\\\WSI\\\\log\\\\model_{MODEL_NAME}.log\", MODE) as f:\n",
    "    for epoch in range(EPOCHS):\n",
    "      acc, loss = 0, 0,\n",
    "      val_acc, val_loss = 0, 0,\n",
    "      conf_m, val_conf_m = np.array([[0,0],[0,0]]), np.array([[0,0],[0,0]])\n",
    "\n",
    "      print(\"\\nEPOCH: \", epoch+1)\n",
    "\n",
    "      for batch_X, batch_y in tqdm(iter(train_dataloader)):\n",
    "\n",
    "        batch_X, batch_y = batch_X.type(torch.FloatTensor).to(device).permute(0, 3, 2, 1), batch_y.type(torch.FloatTensor).to(device) \n",
    "        \n",
    "        net.train() # Making sure that the model is in training mode\n",
    "        \n",
    "        acc_aux, loss_aux, conf_m_aux = fwd_pass(batch_X, batch_y, train=True)\n",
    "        \n",
    "        acc += acc_aux*(len(batch_X)/len(train_set)) # Calculating the average loss and acc through batches sum ACCi*Wi/N (Wi = weight of the batch)\n",
    "        loss += loss_aux*(len(batch_X)/len(train_set))\n",
    "        conf_m += conf_m_aux\n",
    "\n",
    "        \"\"\"\n",
    "        i += 1\n",
    "    \n",
    "        if i%100 == 0:\n",
    "          print(\"Memory allocated in GPU: \", torch.cuda.memory_allocated(\"cuda:0\")/1024/1024/1024)\n",
    "        \"\"\"\n",
    "        \n",
    "      for batch_X, batch_y in tqdm(iter(val_dataloader)):\n",
    "\n",
    "        batch_X, batch_y = batch_X.type(torch.FloatTensor).to(device).permute(0, 3, 2, 1), batch_y.type(torch.FloatTensor).to(device)\n",
    "\n",
    "        net.eval() # Making sure that the model is not training and deactivate droptout\n",
    "        \n",
    "        with torch.no_grad(): # Disable all computations, works together with net.eval()\n",
    "          acc_aux, loss_aux, conf_m_aux = fwd_pass(batch_X, batch_y, train=False)\n",
    "\n",
    "        val_acc += acc_aux*(len(batch_X)/len(val_set)) # Calculating the average loss and acc trough batches\n",
    "        val_loss += loss_aux*(len(batch_X)/len(val_set))\n",
    "        val_conf_m += conf_m_aux\n",
    "\n",
    "\n",
    "      acc = (conf_m[0][0]+conf_m[1][1])/(conf_m[1][0]+conf_m[0][1]+conf_m[1][1]+conf_m[0][0]) # Better way to obtain acc tan using per batch acc\n",
    "      val_acc = (val_conf_m[0][0]+val_conf_m[1][1])/(val_conf_m[1][0]+val_conf_m[0][1]+val_conf_m[1][1]+val_conf_m[0][0])\n",
    "\n",
    "      prc = conf_m[1][1]/(conf_m[1][1]+conf_m[0][1])\n",
    "      val_prc = val_conf_m[1][1]/(val_conf_m[1][1]+val_conf_m[0][1])\n",
    "      rec = conf_m[1][1]/(conf_m[1][1]+conf_m[1][0])\n",
    "      val_rec = val_conf_m[1][1]/(val_conf_m[1][1]+val_conf_m[1][0])\n",
    "      f1 = 2*prc*rec/(prc+rec)\n",
    "      val_f1 = 2*val_prc*val_rec/(val_prc+val_rec)\n",
    "      \n",
    "      print(\"Val loss: \", val_loss.item(),\" Train loss: \", loss.item(), \"\\n\")\n",
    "      print(\"Val acc: \", val_acc,\" Train acc: \", acc, \"\\n\")\n",
    "      print(\"Val PRC:\", val_prc, \"Train PRC: \", prc) # TP/TP+FP\n",
    "      print(\"Val REC: \", val_rec,\"Train REC: \", rec) # TP/TP+FN\n",
    "      print(\"Val f1: \", val_f1,\" Train f1: \", f1, \"\\n\")\n",
    "      print(\"Val CONF: \\n\", val_conf_m,\"\\nTrain CONF: \\n\", conf_m, \"\\n\")\n",
    "\n",
    "      conf_m = f\"{conf_m[0][0]}+{conf_m[0][1]}+{conf_m[1][0]}+{conf_m[1][1]}\"\n",
    "      val_conf_m = f\"{val_conf_m[0][0]}+{val_conf_m[0][1]}+{val_conf_m[1][0]}+{val_conf_m[1][1]}\"\n",
    "    \n",
    "      f.write(f\"{MODEL_NAME},{round(time.time(),3)},{round(float(acc),3)},{round(float(loss),4)},{conf_m},{round(float(prc),4)},{round(float(rec),4)},\")\n",
    "      f.write(f\"{round(float(val_acc),3)},{round(float(val_loss),4)},{val_conf_m}, {round(float(val_prc),4)}, {round(float(val_rec),4)}\\n\")\n",
    "      f.write(\"\\n\\n\")\n",
    "\n",
    "      # Early stopping, if the difference between loss and validation loss \n",
    "      # is bigger than the threshold for 3 epochs in a row training is stopped\n",
    "      if loss.item()-val_loss.item()> threshold:\n",
    "        patience +=1\n",
    "      else:\n",
    "        patience = 0\n",
    "\n",
    "      print(\"Learning Rate: \", optimizer.param_groups[0][\"lr\"])\n",
    "      scheduler.step() # Changing the learning rate\n",
    "\n",
    "      if patience >= 4:\n",
    "        print(\"Stopping early: \")\n",
    "        break\n",
    "\n",
    "    torch.save(net, f\"C:\\\\Users\\\\Alejandro\\\\Desktop\\\\heterogeneous-data\\\\results\\\\WSI\\\\models\\\\{MODEL_NAME}.pth\")"
   ]
  },
  {
   "cell_type": "markdown",
   "metadata": {},
   "source": [
    "def test():\n",
    "  global test_set, test_dataloader, MODEL_NAME, MODE\n",
    "\n",
    "  with open(r\"C:\\Users\\Alejandro\\Desktop\\heterogeneous-data\\results\\WSI\\test.csv\", MODE) as f:\n",
    "    acc, loss = 0, 0\n",
    "    conf_m = np.array([[0,0],[0,0]])\n",
    "    for batch_X, batch_y in tqdm(iter(test_dataloader)):\n",
    "      batch_X, batch_y = batch_X.type(torch.FloatTensor).to(device).permute(0, 3, 2, 1), batch_y.type(torch.FloatTensor).to(device)\n",
    "\n",
    "      net.eval() # Making sure that the model is not training and deactivate droptout\n",
    "\n",
    "      with torch.no_grad(): # Disable all computations, works together with net.eval()\n",
    "          acc_aux, loss_aux, conf_m_aux = fwd_pass(batch_X, batch_y, train=False)\n",
    "\n",
    "      acc += acc_aux*(len(batch_X)/len(test_set)) # Calculating the average loss and acc trough batches\n",
    "      loss += loss_aux*(len(batch_X)/len(test_set))\n",
    "      conf_m += conf_m_aux\n",
    "\n",
    "    prc = conf_m[0][0]/(conf_m[0][0]+conf_m[0][1])\n",
    "    rec = conf_m[0][0]/(conf_m[0][0]+conf_m[0][1])\n",
    "    f1 = 2*prc*rec/(prc+rec)\n",
    "\n",
    "    print(\"Test loss: \", loss.item(), \"\\n\")\n",
    "    print(\"Test acc: \", acc, \"\\n\")\n",
    "    print(\"Test PRC: \", prc, \"\\n\") # TP/TP+FP\n",
    "    print(\"Test REC: \", rec, \"\\n\") # TP/TP+FN\n",
    "    print(\"f1: \", f1, \"\\n\")\n",
    "    print(\"\\nCONF: \\n\", conf_m, \"\\n\")"
   ]
  },
  {
   "cell_type": "code",
   "execution_count": 7,
   "metadata": {},
   "outputs": [
    {
     "name": "stdout",
     "output_type": "stream",
     "text": [
      "Loading training split: 2\n",
      "Read lmdb\n",
      "Loading training split: 3\n",
      "Read lmdb\n",
      "Loading training split: 4\n",
      "Read lmdb\n",
      "Loading training split: 5\n",
      "Read lmdb\n",
      "Loading training split: 6\n",
      "Read lmdb\n",
      "Loading training split: 7\n",
      "Read lmdb\n",
      "Loading training split: 8\n",
      "Read lmdb\n",
      "Loading training split: 9\n",
      "Read lmdb\n",
      "Patches for training: 118075\n",
      "\n",
      "Loading validation split: 0\n",
      "Read lmdb\n",
      "Patches for validation: 16928\n",
      "\n",
      "Loading test split: 1\n",
      "Read lmdb\n",
      "Patches for test: 13812\n",
      "\n",
      "Number of free parameters:  1026\n",
      "25ep_earlystp_ft0\n",
      "\n",
      "EPOCH:  1\n"
     ]
    },
    {
     "data": {
      "application/vnd.jupyter.widget-view+json": {
       "model_id": "4854a6154e7f4f938c63f55b933eb561",
       "version_major": 2,
       "version_minor": 0
      },
      "text/plain": [
       "  0%|          | 0/7380 [00:00<?, ?it/s]"
      ]
     },
     "metadata": {},
     "output_type": "display_data"
    },
    {
     "name": "stderr",
     "output_type": "stream",
     "text": [
      "c:\\Users\\Alejandro\\anaconda3\\envs\\openslide\\lib\\site-packages\\torch\\utils\\data\\_utils\\collate.py:146: UserWarning: The given NumPy array is not writable, and PyTorch does not support non-writable tensors. This means writing to this tensor will result in undefined behavior. You may want to copy the array to protect its data or make it writable before converting it to a tensor. This type of warning will be suppressed for the rest of this program. (Triggered internally at  C:\\cb\\pytorch_1000000000000\\work\\torch\\csrc\\utils\\tensor_numpy.cpp:178.)\n",
      "  return default_collate([torch.as_tensor(b) for b in batch])\n"
     ]
    }
   ],
   "source": [
    "# Choosing only the images from the according splits (10CV)\n",
    "\n",
    "SPLITS = 1 # Number of iterations > n_splits\n",
    "n_splits = 10 # Number of splits to use\n",
    "\n",
    "for SPLIT in range(SPLITS):\n",
    "    MODEL_NAME = EXP_NAME + f\"{SPLIT}\"\n",
    "\n",
    "    TRAIN_SPLITS = list(range(n_splits))\n",
    "    # We take out the SPLIT and SPLIT+1 sets for val and testing\n",
    "    if SPLIT == n_splits: # For the final split for validation we take the firs one for test\n",
    "        TRAIN_SPLITS.remove(0) \n",
    "    else:\n",
    "        TRAIN_SPLITS.remove(SPLIT+1)\n",
    "    TRAIN_SPLITS.remove(SPLIT)\n",
    "\n",
    "    train_set = dataset.PatchDataset([], [], [])\n",
    "    val_set = dataset.PatchDataset([], [], [])\n",
    "    test_set = dataset.PatchDataset([], [], [])\n",
    "\n",
    "    # Loading training splits:\n",
    "    for i in TRAIN_SPLITS:\n",
    "        print(f\"Loading training split: {i}\")\n",
    "        SPLIT_NAME = DATA_SET_NAME + f\"{i}\"\n",
    "        \n",
    "        X_, y_, _ , _ = data_reader.read_lmdb(f\"C:/Users/Alejandro/Desktop/heterogeneous-data/data/WSI/patches/{SPLIT_NAME}\")\n",
    "\n",
    "        train_set.inputs.extend(X_)\n",
    "        train_set.labels.extend(y_)\n",
    "\n",
    "    # Random oversampler\n",
    "\n",
    "    y =  [i[0] for i in train_set.labels]\n",
    "    positive = sum(y)\n",
    "    class_sample_count = np.array([len(y)-positive ,positive])\n",
    "    weight = 1. / class_sample_count\n",
    "    samples_weight = np.array([weight[t] for t in y])\n",
    "    samples_weight = torch.from_numpy(samples_weight) # Probability for a sample to be sampled\n",
    "    #samples_weight = torch.tensor([1/len(samples_weight)]*len(samples_weight))\n",
    "    sampler = WeightedRandomSampler(samples_weight.type('torch.DoubleTensor'), len(samples_weight))#, replacement=False)\n",
    "    # Will take len(samples_weight) number of samples, this can be changed\n",
    "    \n",
    "    # Creating DataLoader\n",
    "    train_dataloader = DataLoader(train_set, batch_size=BATCH_SIZE, sampler=sampler)\n",
    "    \n",
    "    print(f\"Patches for training: {len(train_set)}\\n\")\n",
    "    \n",
    "    # Loading validation splits:\n",
    "    SPLIT_NAME = DATA_SET_NAME + f\"{SPLIT}\"\n",
    "\n",
    "    print(f\"Loading validation split: {SPLIT}\")\n",
    "\n",
    "    X_, y_, _ , _ = data_reader.read_lmdb(f\"C:/Users/Alejandro/Desktop/heterogeneous-data/data/WSI/patches/{SPLIT_NAME}\")\n",
    "\n",
    "    val_set.inputs.extend(X_)\n",
    "    val_set.labels.extend(y_)\n",
    "\n",
    "    val_dataloader = DataLoader(val_set, batch_size=BATCH_SIZE, shuffle=True)\n",
    "\n",
    "    print(f\"Patches for validation: {len(val_set)}\\n\")\n",
    "\n",
    "    # Loading validation splits:\n",
    "    if SPLIT == n_splits:\n",
    "        SPLIT_NAME = DATA_SET_NAME + f\"{0}\"\n",
    "        print(f\"Loading test split: {0}\")\n",
    "    else:\n",
    "        SPLIT_NAME = DATA_SET_NAME + f\"{SPLIT+1}\"\n",
    "        print(f\"Loading test split: {SPLIT+1}\")\n",
    "\n",
    "    X_, y_, _ , _ = data_reader.read_lmdb(f\"C:/Users/Alejandro/Desktop/heterogeneous-data/data/patches/{SPLIT_NAME}\")\n",
    "\n",
    "    test_set.inputs.extend(X_)\n",
    "    test_set.labels.extend(y_)\n",
    "\n",
    "    test_dataloader = DataLoader(test_set, batch_size=BATCH_SIZE, shuffle=True)\n",
    "\n",
    "    print(f\"Patches for test: {len(test_set)}\\n\")\n",
    "\n",
    "    init()\n",
    "\n",
    "    train()\n",
    "\n",
    "    del train_set, val_set, test_set\n"
   ]
  },
  {
   "cell_type": "code",
   "execution_count": null,
   "metadata": {},
   "outputs": [],
   "source": [
    "def learning_curve(NAME):\n",
    "  fig, axs = plt.subplots(2, figsize = (7,6))\n",
    "\n",
    "  acc_df = pd.read_csv(f\"C:\\\\Users\\\\Alejandro\\\\Desktop\\\\heterogeneous-data\\\\results\\\\WSI\\\\log\\\\model_{NAME}.log\")\n",
    "  acc_df.columns = [\"MODEL_NAME\", \"TIME\", \"ACC\", \"LOSS\", \"CONF_M\", \"PRC\", \"REC\",\n",
    "                     \"VAL_ACC\", \"VAL_LOSS\", \"VAL_CONF_M\", \"VAL_PRC\", \"VAL_REC\"]\n",
    "\n",
    "  fig, axs = plt.subplots(2, figsize=(5,7))\n",
    "\n",
    "  axs[0].legend(\"MODEL_NAME\", loc=2)\n",
    "\n",
    "  acc_df.plot(y=\"ACC\", ax=axs[0])\n",
    "  acc_df.plot(y=\"VAL_ACC\", ax=axs[0])\n",
    "\n",
    "  acc_df.plot(y=\"LOSS\", ax=axs[1])\n",
    "  acc_df.plot(y=\"VAL_LOSS\",ax=axs[1])\n",
    "\n",
    "  fig.show()\n",
    "  fig.savefig(f\"C:\\\\Users\\\\Alejandro\\\\Desktop\\\\heterogeneous-data\\\\results\\\\WSI\\\\lc\\\\l_curve_{NAME}.pdf\")"
   ]
  },
  {
   "cell_type": "code",
   "execution_count": null,
   "metadata": {},
   "outputs": [
    {
     "name": "stdout",
     "output_type": "stream",
     "text": [
      "25ep_earlystp_ft0\n"
     ]
    },
    {
     "name": "stderr",
     "output_type": "stream",
     "text": [
      "C:\\Users\\Alejandro\\AppData\\Local\\Temp\\ipykernel_22768\\3090359943.py:18: UserWarning: Matplotlib is currently using module://matplotlib_inline.backend_inline, which is a non-GUI backend, so cannot show the figure.\n",
      "  fig.show()\n"
     ]
    },
    {
     "data": {
      "image/png": "[encoded data removed]",
      "text/plain": [
       "<Figure size 504x432 with 2 Axes>"
      ]
     },
     "metadata": {
      "needs_background": "light"
     },
     "output_type": "display_data"
    },
    {
     "data": {
      "image/png": "[encoded data removed]",
      "text/plain": [
       "<Figure size 360x504 with 2 Axes>"
      ]
     },
     "metadata": {
      "needs_background": "light"
     },
     "output_type": "display_data"
    }
   ],
   "source": [
    "for SPLIT in range(1):\n",
    "    NAME = EXP_NAME + f\"{SPLIT}\"\n",
    "    print(NAME)\n",
    "    learning_curve(NAME)"
   ]
  },
  {
   "cell_type": "code",
   "execution_count": null,
   "metadata": {},
   "outputs": [],
   "source": []
  },
  {
   "cell_type": "code",
   "execution_count": null,
   "metadata": {},
   "outputs": [],
   "source": []
  }
 ],
 "metadata": {
  "interpreter": {
   "hash": "de74446a7cd3a56c425ecbffb2a7ad915342ddab3c48353acb4566475bd7705f"
  },
  "kernelspec": {
   "display_name": "Python 3.9.12 ('openslide')",
   "language": "python",
   "name": "python3"
  },
  "language_info": {
   "codemirror_mode": {
    "name": "ipython",
    "version": 3
   },
   "file_extension": ".py",
   "mimetype": "text/x-python",
   "name": "python",
   "nbconvert_exporter": "python",
   "pygments_lexer": "ipython3",
   "version": "3.9.12"
  },
  "orig_nbformat": 4
 },
 "nbformat": 4,
 "nbformat_minor": 2
}
