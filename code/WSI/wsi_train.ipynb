{
 "cells": [
  {
   "cell_type": "markdown",
   "metadata": {},
   "source": [
    "# Model training and selection"
   ]
  },
  {
   "cell_type": "code",
   "execution_count": 1,
   "metadata": {},
   "outputs": [],
   "source": [
    "import pickle\n",
    "from tqdm.notebook import tqdm\n",
    "import numpy as np\n",
    "import random\n",
    "\n",
    "import torch\n",
    "import torchvision.transforms as transforms\n",
    "import torchvision.models\n",
    "import torch.optim as optim\n",
    "import torch.nn as nn\n",
    "\n",
    "import time"
   ]
  },
  {
   "cell_type": "code",
   "execution_count": 2,
   "metadata": {},
   "outputs": [],
   "source": [
    "name = \"testing_set\"\n",
    "\n",
    "with open(f\"C:/Users/Alejandro/Desktop/heterogeneous-data/data/datasets/{name}.obj\", 'rb') as f:\n",
    "    data_set = pickle.load(f)"
   ]
  },
  {
   "cell_type": "code",
   "execution_count": 3,
   "metadata": {},
   "outputs": [
    {
     "name": "stdout",
     "output_type": "stream",
     "text": [
      "Using GPU : cuda:0\n"
     ]
    }
   ],
   "source": [
    "# Choosing device for tensor processing\n",
    "\n",
    "if torch.cuda.is_available():\n",
    "    device = torch.device(\"cuda:0\")\n",
    "    print(\"Using GPU :\", device)\n",
    "else:\n",
    "    device = torch.device(\"cpu\")\n",
    "    print(\"Using CPU \")"
   ]
  },
  {
   "cell_type": "code",
   "execution_count": 4,
   "metadata": {},
   "outputs": [
    {
     "name": "stdout",
     "output_type": "stream",
     "text": [
      "Number of free parameters on fc layer:  65922\n"
     ]
    }
   ],
   "source": [
    "def init_weights(m): # XAVIER initialization for final layer weight initialization\n",
    "    if type(m) == nn.Linear:\n",
    "        torch.nn.init.xavier_uniform_(m.weight)\n",
    "        m.bias.data.fill_(0.01)\n",
    "\n",
    "def init():\n",
    "  global net, loss_function, scheduler, optimizer\n",
    "  \n",
    "  net = torchvision.models.resnet18(pretrained=True).to(device)\n",
    "\n",
    "  #net = torchvision.models.densenet121(pretrained=True).to(device)\n",
    "      \n",
    "  for param in net.parameters():\n",
    "      param.requires_grad = False   # Freezing the convolutional layers\n",
    "      \n",
    "  net.fc = nn.Sequential(\n",
    "                nn.Linear(512, 128), #512\n",
    "                nn.ReLU(inplace=True),\n",
    "                nn.Linear(128, 2),\n",
    "                nn.Softmax(dim = -1)\n",
    "                ).to(device)\n",
    "\n",
    "  net.fc.apply(init_weights) # Xavier init\n",
    "\n",
    "  # resnet.fc = torch.load(\"\") # Model loading\n",
    "\n",
    "  print(\"Number of free parameters on fc layer: \", sum(p.numel() for p in net.fc.parameters()))\n",
    "\n",
    "  #Hyperparameters:\n",
    "  learning_rate = 0.001 # LR\n",
    "  loss_function = nn.BCELoss()\n",
    "  # Loss # [1,0] es positivo y [0,1] negativo # weight = torch.tensor([(495+201)/(2*495), (201+495)/(2*201)]).to(device)) # El negativo cuesta 2.5... mas\n",
    "  optimizer = optim.Adam(net.parameters(), lr=learning_rate)# Optimizer\n",
    "  lambda1 = lambda epoch: 0.8 ** epoch # Scheduler\n",
    "  scheduler = torch.optim.lr_scheduler.LambdaLR(optimizer, lr_lambda=lambda1)\n",
    "\n",
    "init()"
   ]
  },
  {
   "cell_type": "code",
   "execution_count": 5,
   "metadata": {},
   "outputs": [],
   "source": [
    "def fwd_pass(X, y, train=False):\n",
    "# IMPORTANTE, TRAIN = FALSE PARA QUE NO ENTRENE CON EL TEST DATA ESTO ES PARA PODER HACER TEST MIENTRAS ENTRENO Y VALIDO, \n",
    "# SE ESPERA QUE LA EXACTITUD EN EL TEST DE VALIDACIÓN SEA MENOR\n",
    "    if train: \n",
    "        net.zero_grad()\n",
    "\n",
    "    outputs = net(X)\n",
    "    matches = [torch.argmax(i) == torch.argmax(j) for i,j in zip(outputs, y)]\n",
    "    acc = matches.count(True)/len(matches)\n",
    "    loss = loss_function(outputs, y)\n",
    "\n",
    "    if train:\n",
    "        loss.backward()\n",
    "        optimizer.step()\n",
    "\n",
    "    del outputs\n",
    "\n",
    "    return acc, loss\n"
   ]
  },
  {
   "cell_type": "code",
   "execution_count": 6,
   "metadata": {},
   "outputs": [],
   "source": [
    "def validate(val_X, val_y, size=32):\n",
    "# Hago un test con datos en una región aleatoria para que la distribución sea mejor\n",
    "  val_X, val_y = shuffle(val_X, val_y) \n",
    "  \n",
    "  if size > 0.7*len(val_y):\n",
    "    ramdom_start = 0\n",
    "  else:\n",
    "    ramdom_start = np.random.randint(len(val_X)-size)\n",
    "\n",
    "  X, y = val_X[ramdom_start:ramdom_start+size].to(device), val_y[ramdom_start:ramdom_start+size].to(device)\n",
    "  val_acc, val_loss = fwd_pass(X.view(-1, 3, SIZE_X, SIZE_Y), y, train=False)\n",
    "  del X, y\n",
    "\n",
    "  return val_acc, val_loss # accuracy y loss en validation set"
   ]
  },
  {
   "cell_type": "code",
   "execution_count": 7,
   "metadata": {},
   "outputs": [],
   "source": [
    "def test():\n",
    "# Hago un test con datos en una región aleatoria para que la distribución sea mejor\n",
    "  X, y = test_X.to(device), test_y.to(device)\n",
    "  test_acc, test_loss = fwd_pass(X.view(-1, 3, SIZE_X, SIZE_Y), y)\n",
    "  del X, y\n",
    "\n",
    "  return test_acc, test_loss # accuracy y loss en test set"
   ]
  },
  {
   "cell_type": "code",
   "execution_count": 8,
   "metadata": {},
   "outputs": [],
   "source": [
    "def shuffle(X, y): # Esta función debería hacer un shuffle del data set sin desordenar las etiquetas\n",
    "  c = list(zip(X, y))\n",
    "  random.shuffle(c)\n",
    "  X, y = zip(*c)\n",
    "  return torch.stack(X), torch.stack(y)"
   ]
  },
  {
   "cell_type": "code",
   "execution_count": 9,
   "metadata": {},
   "outputs": [
    {
     "name": "stdout",
     "output_type": "stream",
     "text": [
      "CPU times: total: 0 ns\n",
      "Wall time: 0 ns\n"
     ]
    }
   ],
   "source": [
    "%%time\n",
    "\n",
    "patch_size = 300\n",
    "\n",
    "SIZE_X = patch_size\n",
    "SIZE_Y = patch_size\n",
    "\n",
    "MODE = \"a\"\n",
    "MODEL_NAME = \"ejemplo\"\n",
    "\n",
    "def train():\n",
    "\n",
    "  global net, loss_function, scheduler, optimizer, train_X, train_y\n",
    "\n",
    "  print(MODEL_NAME)\n",
    "  BATCH_SIZE = 16\n",
    "  EPOCHS = 35\n",
    "\n",
    "  N_BATCHES = len(range(0, len(train_X), BATCH_SIZE))\n",
    "  N_BATCHES_VAL = len(range(0, len(val_X), BATCH_SIZE))\n",
    "  \n",
    "  with open(\"C:\\\\Users\\\\Alejandro\\\\Desktop\\\\heterogeneous-data\\\\results\\\\WSI\\\\log\\\\model.log\", MODE) as f:\n",
    "    for epoch in range(EPOCHS):\n",
    "      acc, loss = 0, 0\n",
    "      val_acc, val_loss = 0, 0\n",
    "\n",
    "      train_X, train_y = shuffle(train_X, train_y)\n",
    "\n",
    "      print(\"\\nEPOCH: \", epoch+1)\n",
    "\n",
    "      for i in tqdm(range(0, len(train_X), BATCH_SIZE)):\n",
    "        batch_X = train_X[i:i+BATCH_SIZE].view(-1,3,SIZE_X,SIZE_Y).to(device)\n",
    "        batch_y = train_y[i:i+BATCH_SIZE].to(device)\n",
    "        \n",
    "        net.train() # Making sure that the model is in training mode\n",
    "        \n",
    "        acc_aux, loss_aux = fwd_pass(batch_X, batch_y, train=True)\n",
    "        \n",
    "        acc += acc_aux/N_BATCHES # Calculating the average loss and acc trough batches\n",
    "        loss += loss_aux/N_BATCHES\n",
    "        \n",
    "        del batch_X, batch_y\n",
    "\n",
    "      for i in tqdm(range(0, int(len(val_X)*0.2), BATCH_SIZE)):\n",
    "        net.eval() # Making sure that the model is not training and deactivate droptout\n",
    "        \n",
    "        val_acc_aux, val_loss_aux = validate(val_X, val_y, size=BATCH_SIZE)\n",
    "      \n",
    "        val_acc += val_acc_aux/N_BATCHES_VAL # Calculating the average loss and acc trough batches\n",
    "        val_loss += val_loss_aux/N_BATCHES_VAL\n",
    "\n",
    "      print(\"Val loss: \", val_loss.item(),\" Train loss: \", loss.item(), \"\\n\")\n",
    "      print(\"Val acc: \", val_acc,\" Train acc: \", acc, \"\\n\")\n",
    "\n",
    "      f.write(f\"{MODEL_NAME},{round(time.time(),3)},{round(float(acc),3)},{round(float(loss),4)},{round(float(val_acc),3)},{round(float(val_loss),4)}\\n\")\n",
    "      f.write(\"\\n\\n\")\n",
    "\n",
    "      print(\"Learning Rate: \", optimizer.param_groups[0][\"lr\"])\n",
    "      scheduler.step() # Changing the learning rate\n",
    "\n",
    "    torch.save(net.fc, f\"C:\\\\Users\\\\Alejandro\\\\Desktop\\\\heterogeneous-data\\\\results\\\\WSI\\\\models\\\\{MODEL_NAME}.pth\")\n"
   ]
  },
  {
   "cell_type": "code",
   "execution_count": 10,
   "metadata": {},
   "outputs": [
    {
     "name": "stdout",
     "output_type": "stream",
     "text": [
      "ejemplo\n",
      "\n",
      "EPOCH:  1\n"
     ]
    },
    {
     "data": {
      "application/vnd.jupyter.widget-view+json": {
       "model_id": "a3e33cc94cfe465795097438388dde40",
       "version_major": 2,
       "version_minor": 0
      },
      "text/plain": [
       "  0%|          | 0/381 [00:00<?, ?it/s]"
      ]
     },
     "metadata": {},
     "output_type": "display_data"
    },
    {
     "data": {
      "application/vnd.jupyter.widget-view+json": {
       "model_id": "943f263cb3964b3aa277dff0956ccaa3",
       "version_major": 2,
       "version_minor": 0
      },
      "text/plain": [
       "  0%|          | 0/95 [00:00<?, ?it/s]"
      ]
     },
     "metadata": {},
     "output_type": "display_data"
    },
    {
     "name": "stdout",
     "output_type": "stream",
     "text": [
      "Val loss:  0.1578691005706787  Train loss:  0.16842524707317352 \n",
      "\n",
      "Val acc:  0.9407894736842097  Train acc:  0.9414370078740125 \n",
      "\n",
      "Learning Rate:  0.001\n",
      "\n",
      "EPOCH:  2\n"
     ]
    },
    {
     "data": {
      "application/vnd.jupyter.widget-view+json": {
       "model_id": "c4e106a7072749e7837a494fc3d02cb6",
       "version_major": 2,
       "version_minor": 0
      },
      "text/plain": [
       "  0%|          | 0/381 [00:00<?, ?it/s]"
      ]
     },
     "metadata": {},
     "output_type": "display_data"
    },
    {
     "data": {
      "application/vnd.jupyter.widget-view+json": {
       "model_id": "df12a1cb60204628b5d432111ce95408",
       "version_major": 2,
       "version_minor": 0
      },
      "text/plain": [
       "  0%|          | 0/95 [00:00<?, ?it/s]"
      ]
     },
     "metadata": {},
     "output_type": "display_data"
    },
    {
     "name": "stdout",
     "output_type": "stream",
     "text": [
      "Val loss:  0.09161033481359482  Train loss:  0.09915363043546677 \n",
      "\n",
      "Val acc:  0.964473684210526  Train acc:  0.9645669291338543 \n",
      "\n",
      "Learning Rate:  0.0008\n",
      "\n",
      "EPOCH:  3\n"
     ]
    },
    {
     "data": {
      "application/vnd.jupyter.widget-view+json": {
       "model_id": "e9403a79f7cd4c28a1e206831537fff7",
       "version_major": 2,
       "version_minor": 0
      },
      "text/plain": [
       "  0%|          | 0/381 [00:00<?, ?it/s]"
      ]
     },
     "metadata": {},
     "output_type": "display_data"
    },
    {
     "data": {
      "application/vnd.jupyter.widget-view+json": {
       "model_id": "230b63bf8eef4fd3b3f74b97e742c9f8",
       "version_major": 2,
       "version_minor": 0
      },
      "text/plain": [
       "  0%|          | 0/95 [00:00<?, ?it/s]"
      ]
     },
     "metadata": {},
     "output_type": "display_data"
    },
    {
     "name": "stdout",
     "output_type": "stream",
     "text": [
      "Val loss:  0.07041428238153458  Train loss:  0.09802714735269547 \n",
      "\n",
      "Val acc:  0.978947368421053  Train acc:  0.9630905511810979 \n",
      "\n",
      "Learning Rate:  0.0006400000000000002\n",
      "\n",
      "EPOCH:  4\n"
     ]
    },
    {
     "data": {
      "application/vnd.jupyter.widget-view+json": {
       "model_id": "7f96f0b304dd448c92437b0db5956bd0",
       "version_major": 2,
       "version_minor": 0
      },
      "text/plain": [
       "  0%|          | 0/381 [00:00<?, ?it/s]"
      ]
     },
     "metadata": {},
     "output_type": "display_data"
    },
    {
     "data": {
      "application/vnd.jupyter.widget-view+json": {
       "model_id": "fed12030f73c4d7cb9c9baf317191f13",
       "version_major": 2,
       "version_minor": 0
      },
      "text/plain": [
       "  0%|          | 0/95 [00:00<?, ?it/s]"
      ]
     },
     "metadata": {},
     "output_type": "display_data"
    },
    {
     "name": "stdout",
     "output_type": "stream",
     "text": [
      "Val loss:  0.0669717788696289  Train loss:  0.07974271476268768 \n",
      "\n",
      "Val acc:  0.974342105263158  Train acc:  0.9711286089238811 \n",
      "\n",
      "Learning Rate:  0.0005120000000000001\n",
      "\n",
      "EPOCH:  5\n"
     ]
    },
    {
     "data": {
      "application/vnd.jupyter.widget-view+json": {
       "model_id": "b78a2dc3955448a0b1fc7aa611f3972a",
       "version_major": 2,
       "version_minor": 0
      },
      "text/plain": [
       "  0%|          | 0/381 [00:00<?, ?it/s]"
      ]
     },
     "metadata": {},
     "output_type": "display_data"
    },
    {
     "data": {
      "application/vnd.jupyter.widget-view+json": {
       "model_id": "edcd2bec31214049854dca0233081d64",
       "version_major": 2,
       "version_minor": 0
      },
      "text/plain": [
       "  0%|          | 0/95 [00:00<?, ?it/s]"
      ]
     },
     "metadata": {},
     "output_type": "display_data"
    },
    {
     "name": "stdout",
     "output_type": "stream",
     "text": [
      "Val loss:  0.0856744647026062  Train loss:  0.08902439475059509 \n",
      "\n",
      "Val acc:  0.9690789473684206  Train acc:  0.9693241469816233 \n",
      "\n",
      "Learning Rate:  0.0004096000000000001\n",
      "\n",
      "EPOCH:  6\n"
     ]
    },
    {
     "data": {
      "application/vnd.jupyter.widget-view+json": {
       "model_id": "3686abfc2b294c3d9c46b8d87700db08",
       "version_major": 2,
       "version_minor": 0
      },
      "text/plain": [
       "  0%|          | 0/381 [00:00<?, ?it/s]"
      ]
     },
     "metadata": {},
     "output_type": "display_data"
    },
    {
     "data": {
      "application/vnd.jupyter.widget-view+json": {
       "model_id": "c009a35a7ca54fd9ba3d89c015848994",
       "version_major": 2,
       "version_minor": 0
      },
      "text/plain": [
       "  0%|          | 0/95 [00:00<?, ?it/s]"
      ]
     },
     "metadata": {},
     "output_type": "display_data"
    },
    {
     "name": "stdout",
     "output_type": "stream",
     "text": [
      "Val loss:  0.06483880430459976  Train loss:  0.07858539372682571 \n",
      "\n",
      "Val acc:  0.9749999999999996  Train acc:  0.9701443569553765 \n",
      "\n",
      "Learning Rate:  0.0003276800000000001\n",
      "\n",
      "EPOCH:  7\n"
     ]
    },
    {
     "data": {
      "application/vnd.jupyter.widget-view+json": {
       "model_id": "dcde9e89e353448b838bfe839c661b6d",
       "version_major": 2,
       "version_minor": 0
      },
      "text/plain": [
       "  0%|          | 0/381 [00:00<?, ?it/s]"
      ]
     },
     "metadata": {},
     "output_type": "display_data"
    },
    {
     "data": {
      "application/vnd.jupyter.widget-view+json": {
       "model_id": "b28d5ef4b9be4fec97fbfbd9b4e3e2f7",
       "version_major": 2,
       "version_minor": 0
      },
      "text/plain": [
       "  0%|          | 0/95 [00:00<?, ?it/s]"
      ]
     },
     "metadata": {},
     "output_type": "display_data"
    },
    {
     "name": "stdout",
     "output_type": "stream",
     "text": [
      "Val loss:  0.0782945305109024  Train loss:  0.06877914816141129 \n",
      "\n",
      "Val acc:  0.9756578947368421  Train acc:  0.9757217847768984 \n",
      "\n",
      "Learning Rate:  0.0002621440000000001\n",
      "\n",
      "EPOCH:  8\n"
     ]
    },
    {
     "data": {
      "application/vnd.jupyter.widget-view+json": {
       "model_id": "36405ede0b6949549687c1f0a2abf5c9",
       "version_major": 2,
       "version_minor": 0
      },
      "text/plain": [
       "  0%|          | 0/381 [00:00<?, ?it/s]"
      ]
     },
     "metadata": {},
     "output_type": "display_data"
    },
    {
     "data": {
      "application/vnd.jupyter.widget-view+json": {
       "model_id": "cb348d1520c94d68a51660468b936f07",
       "version_major": 2,
       "version_minor": 0
      },
      "text/plain": [
       "  0%|          | 0/95 [00:00<?, ?it/s]"
      ]
     },
     "metadata": {},
     "output_type": "display_data"
    },
    {
     "name": "stdout",
     "output_type": "stream",
     "text": [
      "Val loss:  0.08649200946092606  Train loss:  0.0633341521024704 \n",
      "\n",
      "Val acc:  0.9703947368421054  Train acc:  0.9790026246719119 \n",
      "\n",
      "Learning Rate:  0.0002097152000000001\n",
      "\n",
      "EPOCH:  9\n"
     ]
    },
    {
     "data": {
      "application/vnd.jupyter.widget-view+json": {
       "model_id": "a073b9f5d4af4085b3b17ec6026fd7de",
       "version_major": 2,
       "version_minor": 0
      },
      "text/plain": [
       "  0%|          | 0/381 [00:00<?, ?it/s]"
      ]
     },
     "metadata": {},
     "output_type": "display_data"
    },
    {
     "data": {
      "application/vnd.jupyter.widget-view+json": {
       "model_id": "1b215c1ef3724ee8b919e6344adf2ee1",
       "version_major": 2,
       "version_minor": 0
      },
      "text/plain": [
       "  0%|          | 0/95 [00:00<?, ?it/s]"
      ]
     },
     "metadata": {},
     "output_type": "display_data"
    },
    {
     "name": "stdout",
     "output_type": "stream",
     "text": [
      "Val loss:  0.07527042925357819  Train loss:  0.06252022087574005 \n",
      "\n",
      "Val acc:  0.9743421052631576  Train acc:  0.9785104986876596 \n",
      "\n",
      "Learning Rate:  0.0001677721600000001\n",
      "\n",
      "EPOCH:  10\n"
     ]
    },
    {
     "data": {
      "application/vnd.jupyter.widget-view+json": {
       "model_id": "a84253fac3444accbefb61abf07bc0f6",
       "version_major": 2,
       "version_minor": 0
      },
      "text/plain": [
       "  0%|          | 0/381 [00:00<?, ?it/s]"
      ]
     },
     "metadata": {},
     "output_type": "display_data"
    },
    {
     "data": {
      "application/vnd.jupyter.widget-view+json": {
       "model_id": "70a4f84fe2914096a267bea57e9c324b",
       "version_major": 2,
       "version_minor": 0
      },
      "text/plain": [
       "  0%|          | 0/95 [00:00<?, ?it/s]"
      ]
     },
     "metadata": {},
     "output_type": "display_data"
    },
    {
     "name": "stdout",
     "output_type": "stream",
     "text": [
      "Val loss:  0.07373607903718948  Train loss:  0.06071171537041664 \n",
      "\n",
      "Val acc:  0.9657894736842106  Train acc:  0.9770341207349041 \n",
      "\n",
      "Learning Rate:  0.00013421772800000008\n",
      "\n",
      "EPOCH:  11\n"
     ]
    },
    {
     "data": {
      "application/vnd.jupyter.widget-view+json": {
       "model_id": "7398f17118a74fe0808c4e49ad8ed1fb",
       "version_major": 2,
       "version_minor": 0
      },
      "text/plain": [
       "  0%|          | 0/381 [00:00<?, ?it/s]"
      ]
     },
     "metadata": {},
     "output_type": "display_data"
    },
    {
     "data": {
      "application/vnd.jupyter.widget-view+json": {
       "model_id": "44ba71f4041e49c08141664ea6ca21bb",
       "version_major": 2,
       "version_minor": 0
      },
      "text/plain": [
       "  0%|          | 0/95 [00:00<?, ?it/s]"
      ]
     },
     "metadata": {},
     "output_type": "display_data"
    },
    {
     "name": "stdout",
     "output_type": "stream",
     "text": [
      "Val loss:  0.0811421275138855  Train loss:  0.05225608870387077 \n",
      "\n",
      "Val acc:  0.9763157894736844  Train acc:  0.9780183727034079 \n",
      "\n",
      "Learning Rate:  0.00010737418240000006\n",
      "\n",
      "EPOCH:  12\n"
     ]
    },
    {
     "data": {
      "application/vnd.jupyter.widget-view+json": {
       "model_id": "303a3216efc142c2ac26562417dae728",
       "version_major": 2,
       "version_minor": 0
      },
      "text/plain": [
       "  0%|          | 0/381 [00:00<?, ?it/s]"
      ]
     },
     "metadata": {},
     "output_type": "display_data"
    },
    {
     "data": {
      "application/vnd.jupyter.widget-view+json": {
       "model_id": "89760d31a9814168a6f5f72f2a8dc969",
       "version_major": 2,
       "version_minor": 0
      },
      "text/plain": [
       "  0%|          | 0/95 [00:00<?, ?it/s]"
      ]
     },
     "metadata": {},
     "output_type": "display_data"
    },
    {
     "name": "stdout",
     "output_type": "stream",
     "text": [
      "Val loss:  0.077543705701828  Train loss:  0.054468076676130295 \n",
      "\n",
      "Val acc:  0.9743421052631577  Train acc:  0.9804790026246675 \n",
      "\n",
      "Learning Rate:  8.589934592000005e-05\n",
      "\n",
      "EPOCH:  13\n"
     ]
    },
    {
     "data": {
      "application/vnd.jupyter.widget-view+json": {
       "model_id": "e8f1c44628ec4ee3a5643a86dc344fcc",
       "version_major": 2,
       "version_minor": 0
      },
      "text/plain": [
       "  0%|          | 0/381 [00:00<?, ?it/s]"
      ]
     },
     "metadata": {},
     "output_type": "display_data"
    },
    {
     "data": {
      "application/vnd.jupyter.widget-view+json": {
       "model_id": "0665ac1bdb8748c29df42e27daa6be38",
       "version_major": 2,
       "version_minor": 0
      },
      "text/plain": [
       "  0%|          | 0/95 [00:00<?, ?it/s]"
      ]
     },
     "metadata": {},
     "output_type": "display_data"
    },
    {
     "name": "stdout",
     "output_type": "stream",
     "text": [
      "Val loss:  0.08255679905414581  Train loss:  0.05480021983385086 \n",
      "\n",
      "Val acc:  0.9690789473684209  Train acc:  0.9811351706036698 \n",
      "\n",
      "Learning Rate:  6.871947673600005e-05\n",
      "\n",
      "EPOCH:  14\n"
     ]
    },
    {
     "data": {
      "application/vnd.jupyter.widget-view+json": {
       "model_id": "391d14510c7f4c91897459e18f986101",
       "version_major": 2,
       "version_minor": 0
      },
      "text/plain": [
       "  0%|          | 0/381 [00:00<?, ?it/s]"
      ]
     },
     "metadata": {},
     "output_type": "display_data"
    },
    {
     "data": {
      "application/vnd.jupyter.widget-view+json": {
       "model_id": "224f7d7623df40798c6fc49254e35854",
       "version_major": 2,
       "version_minor": 0
      },
      "text/plain": [
       "  0%|          | 0/95 [00:00<?, ?it/s]"
      ]
     },
     "metadata": {},
     "output_type": "display_data"
    },
    {
     "name": "stdout",
     "output_type": "stream",
     "text": [
      "Val loss:  0.08448676019906998  Train loss:  0.07328007370233536 \n",
      "\n",
      "Val acc:  0.9717105263157894  Train acc:  0.9753937007873971 \n",
      "\n",
      "Learning Rate:  5.497558138880004e-05\n",
      "\n",
      "EPOCH:  15\n"
     ]
    },
    {
     "data": {
      "application/vnd.jupyter.widget-view+json": {
       "model_id": "d203911704424c54a5a46aa52fdc837a",
       "version_major": 2,
       "version_minor": 0
      },
      "text/plain": [
       "  0%|          | 0/381 [00:00<?, ?it/s]"
      ]
     },
     "metadata": {},
     "output_type": "display_data"
    },
    {
     "data": {
      "application/vnd.jupyter.widget-view+json": {
       "model_id": "82c92c0ad9b74d0aa65c6bce13d9a5f4",
       "version_major": 2,
       "version_minor": 0
      },
      "text/plain": [
       "  0%|          | 0/95 [00:00<?, ?it/s]"
      ]
     },
     "metadata": {},
     "output_type": "display_data"
    },
    {
     "name": "stdout",
     "output_type": "stream",
     "text": [
      "Val loss:  0.07675354927778244  Train loss:  0.05141597241163254 \n",
      "\n",
      "Val acc:  0.9730263157894736  Train acc:  0.9816272965879222 \n",
      "\n",
      "Learning Rate:  4.398046511104004e-05\n",
      "\n",
      "EPOCH:  16\n"
     ]
    },
    {
     "data": {
      "application/vnd.jupyter.widget-view+json": {
       "model_id": "6b950fa152274e359095603505c56a9e",
       "version_major": 2,
       "version_minor": 0
      },
      "text/plain": [
       "  0%|          | 0/381 [00:00<?, ?it/s]"
      ]
     },
     "metadata": {},
     "output_type": "display_data"
    },
    {
     "data": {
      "application/vnd.jupyter.widget-view+json": {
       "model_id": "5a8d4618b09b49e7bd8116aca77e29e5",
       "version_major": 2,
       "version_minor": 0
      },
      "text/plain": [
       "  0%|          | 0/95 [00:00<?, ?it/s]"
      ]
     },
     "metadata": {},
     "output_type": "display_data"
    },
    {
     "name": "stdout",
     "output_type": "stream",
     "text": [
      "Val loss:  0.04775453358888626  Train loss:  0.05557244271039963 \n",
      "\n",
      "Val acc:  0.9848684210526318  Train acc:  0.9801509186351661 \n",
      "\n",
      "Learning Rate:  3.518437208883203e-05\n",
      "\n",
      "EPOCH:  17\n"
     ]
    },
    {
     "data": {
      "application/vnd.jupyter.widget-view+json": {
       "model_id": "4a4b50c32e9948449bac8961dfae3e43",
       "version_major": 2,
       "version_minor": 0
      },
      "text/plain": [
       "  0%|          | 0/381 [00:00<?, ?it/s]"
      ]
     },
     "metadata": {},
     "output_type": "display_data"
    },
    {
     "data": {
      "application/vnd.jupyter.widget-view+json": {
       "model_id": "8a28ca75b6db435a866588f20b38f85d",
       "version_major": 2,
       "version_minor": 0
      },
      "text/plain": [
       "  0%|          | 0/95 [00:00<?, ?it/s]"
      ]
     },
     "metadata": {},
     "output_type": "display_data"
    },
    {
     "name": "stdout",
     "output_type": "stream",
     "text": [
      "Val loss:  0.07451549172401428  Train loss:  0.05212770402431488 \n",
      "\n",
      "Val acc:  0.9723684210526313  Train acc:  0.9814632545931713 \n",
      "\n",
      "Learning Rate:  2.8147497671065623e-05\n",
      "\n",
      "EPOCH:  18\n"
     ]
    },
    {
     "data": {
      "application/vnd.jupyter.widget-view+json": {
       "model_id": "6cc12d0e8f5040b9b700b0d99e01b219",
       "version_major": 2,
       "version_minor": 0
      },
      "text/plain": [
       "  0%|          | 0/381 [00:00<?, ?it/s]"
      ]
     },
     "metadata": {},
     "output_type": "display_data"
    },
    {
     "data": {
      "application/vnd.jupyter.widget-view+json": {
       "model_id": "77fa705ebbdb41b2b398fcb0e9ec31d0",
       "version_major": 2,
       "version_minor": 0
      },
      "text/plain": [
       "  0%|          | 0/95 [00:00<?, ?it/s]"
      ]
     },
     "metadata": {},
     "output_type": "display_data"
    },
    {
     "name": "stdout",
     "output_type": "stream",
     "text": [
      "Val loss:  0.06972746551036835  Train loss:  0.045688875019550323 \n",
      "\n",
      "Val acc:  0.9802631578947371  Train acc:  0.9839238845144311 \n",
      "\n",
      "Learning Rate:  2.2517998136852502e-05\n",
      "\n",
      "EPOCH:  19\n"
     ]
    },
    {
     "data": {
      "application/vnd.jupyter.widget-view+json": {
       "model_id": "e3613c9f8eff4aef8af5d5468d0ae150",
       "version_major": 2,
       "version_minor": 0
      },
      "text/plain": [
       "  0%|          | 0/381 [00:00<?, ?it/s]"
      ]
     },
     "metadata": {},
     "output_type": "display_data"
    },
    {
     "data": {
      "application/vnd.jupyter.widget-view+json": {
       "model_id": "506dc034861d4564b444e9b08bbe9cc2",
       "version_major": 2,
       "version_minor": 0
      },
      "text/plain": [
       "  0%|          | 0/95 [00:00<?, ?it/s]"
      ]
     },
     "metadata": {},
     "output_type": "display_data"
    },
    {
     "name": "stdout",
     "output_type": "stream",
     "text": [
      "Val loss:  0.06899280101060867  Train loss:  0.04582453891634941 \n",
      "\n",
      "Val acc:  0.9749999999999998  Train acc:  0.9819553805774234 \n",
      "\n",
      "Learning Rate:  1.8014398509482003e-05\n",
      "\n",
      "EPOCH:  20\n"
     ]
    },
    {
     "data": {
      "application/vnd.jupyter.widget-view+json": {
       "model_id": "a459ece369c44d5985bb3aa39b334a4f",
       "version_major": 2,
       "version_minor": 0
      },
      "text/plain": [
       "  0%|          | 0/381 [00:00<?, ?it/s]"
      ]
     },
     "metadata": {},
     "output_type": "display_data"
    },
    {
     "data": {
      "application/vnd.jupyter.widget-view+json": {
       "model_id": "6078e5c65c204fb589f26ac736b52cf0",
       "version_major": 2,
       "version_minor": 0
      },
      "text/plain": [
       "  0%|          | 0/95 [00:00<?, ?it/s]"
      ]
     },
     "metadata": {},
     "output_type": "display_data"
    },
    {
     "name": "stdout",
     "output_type": "stream",
     "text": [
      "Val loss:  0.057333000004291534  Train loss:  0.06193853169679642 \n",
      "\n",
      "Val acc:  0.9796052631578953  Train acc:  0.9812992125984202 \n",
      "\n",
      "Learning Rate:  1.4411518807585603e-05\n",
      "\n",
      "EPOCH:  21\n"
     ]
    },
    {
     "data": {
      "application/vnd.jupyter.widget-view+json": {
       "model_id": "e59e797d15ce4957a02b9bfcefe38133",
       "version_major": 2,
       "version_minor": 0
      },
      "text/plain": [
       "  0%|          | 0/381 [00:00<?, ?it/s]"
      ]
     },
     "metadata": {},
     "output_type": "display_data"
    },
    {
     "data": {
      "application/vnd.jupyter.widget-view+json": {
       "model_id": "97b793acb4564cc5b609bcd0c40320c1",
       "version_major": 2,
       "version_minor": 0
      },
      "text/plain": [
       "  0%|          | 0/95 [00:00<?, ?it/s]"
      ]
     },
     "metadata": {},
     "output_type": "display_data"
    },
    {
     "name": "stdout",
     "output_type": "stream",
     "text": [
      "Val loss:  0.06379739940166473  Train loss:  0.04825754836201668 \n",
      "\n",
      "Val acc:  0.9802631578947373  Train acc:  0.9845800524934334 \n",
      "\n",
      "Learning Rate:  1.1529215046068483e-05\n",
      "\n",
      "EPOCH:  22\n"
     ]
    },
    {
     "data": {
      "application/vnd.jupyter.widget-view+json": {
       "model_id": "c9ed59c785c34ebab369fbc6c883a4b8",
       "version_major": 2,
       "version_minor": 0
      },
      "text/plain": [
       "  0%|          | 0/381 [00:00<?, ?it/s]"
      ]
     },
     "metadata": {},
     "output_type": "display_data"
    },
    {
     "data": {
      "application/vnd.jupyter.widget-view+json": {
       "model_id": "64f1e5ac6998423a9f665cc27d1b9b39",
       "version_major": 2,
       "version_minor": 0
      },
      "text/plain": [
       "  0%|          | 0/95 [00:00<?, ?it/s]"
      ]
     },
     "metadata": {},
     "output_type": "display_data"
    },
    {
     "name": "stdout",
     "output_type": "stream",
     "text": [
      "Val loss:  0.061200883239507675  Train loss:  0.06522289663553238 \n",
      "\n",
      "Val acc:  0.9782894736842103  Train acc:  0.9794947506561634 \n",
      "\n",
      "Learning Rate:  9.223372036854787e-06\n",
      "\n",
      "EPOCH:  23\n"
     ]
    },
    {
     "data": {
      "application/vnd.jupyter.widget-view+json": {
       "model_id": "bb0f9afaa3974aaf83643da8b890d5fd",
       "version_major": 2,
       "version_minor": 0
      },
      "text/plain": [
       "  0%|          | 0/381 [00:00<?, ?it/s]"
      ]
     },
     "metadata": {},
     "output_type": "display_data"
    },
    {
     "data": {
      "application/vnd.jupyter.widget-view+json": {
       "model_id": "4be661a4cde04ec997fa726915cfb882",
       "version_major": 2,
       "version_minor": 0
      },
      "text/plain": [
       "  0%|          | 0/95 [00:00<?, ?it/s]"
      ]
     },
     "metadata": {},
     "output_type": "display_data"
    },
    {
     "name": "stdout",
     "output_type": "stream",
     "text": [
      "Val loss:  0.06676815450191498  Train loss:  0.04683670401573181 \n",
      "\n",
      "Val acc:  0.9723684210526314  Train acc:  0.9839238845144312 \n",
      "\n",
      "Learning Rate:  7.37869762948383e-06\n",
      "\n",
      "EPOCH:  24\n"
     ]
    },
    {
     "data": {
      "application/vnd.jupyter.widget-view+json": {
       "model_id": "b7b9d8c7811d46079bc2d208cf0ae3f0",
       "version_major": 2,
       "version_minor": 0
      },
      "text/plain": [
       "  0%|          | 0/381 [00:00<?, ?it/s]"
      ]
     },
     "metadata": {},
     "output_type": "display_data"
    },
    {
     "data": {
      "application/vnd.jupyter.widget-view+json": {
       "model_id": "9e12081da34e48929b01d76a4ea7a227",
       "version_major": 2,
       "version_minor": 0
      },
      "text/plain": [
       "  0%|          | 0/95 [00:00<?, ?it/s]"
      ]
     },
     "metadata": {},
     "output_type": "display_data"
    },
    {
     "name": "stdout",
     "output_type": "stream",
     "text": [
      "Val loss:  0.04779176414012909  Train loss:  0.049511753022670746 \n",
      "\n",
      "Val acc:  0.9848684210526317  Train acc:  0.9824475065616753 \n",
      "\n",
      "Learning Rate:  5.902958103587064e-06\n",
      "\n",
      "EPOCH:  25\n"
     ]
    },
    {
     "data": {
      "application/vnd.jupyter.widget-view+json": {
       "model_id": "31c8990de3cf4ba6b50a9e102512164e",
       "version_major": 2,
       "version_minor": 0
      },
      "text/plain": [
       "  0%|          | 0/381 [00:00<?, ?it/s]"
      ]
     },
     "metadata": {},
     "output_type": "display_data"
    },
    {
     "data": {
      "application/vnd.jupyter.widget-view+json": {
       "model_id": "03be11f490b643908c05187ed3325b4b",
       "version_major": 2,
       "version_minor": 0
      },
      "text/plain": [
       "  0%|          | 0/95 [00:00<?, ?it/s]"
      ]
     },
     "metadata": {},
     "output_type": "display_data"
    },
    {
     "name": "stdout",
     "output_type": "stream",
     "text": [
      "Val loss:  0.06760656088590622  Train loss:  0.04884065315127373 \n",
      "\n",
      "Val acc:  0.9763157894736844  Train acc:  0.9822834645669245 \n",
      "\n",
      "Learning Rate:  4.722366482869652e-06\n",
      "\n",
      "EPOCH:  26\n"
     ]
    },
    {
     "data": {
      "application/vnd.jupyter.widget-view+json": {
       "model_id": "be2a6e8e9dde4a518b060f26ce0627bc",
       "version_major": 2,
       "version_minor": 0
      },
      "text/plain": [
       "  0%|          | 0/381 [00:00<?, ?it/s]"
      ]
     },
     "metadata": {},
     "output_type": "display_data"
    },
    {
     "data": {
      "application/vnd.jupyter.widget-view+json": {
       "model_id": "2b8874000c6b4bd6acc76726335a6e66",
       "version_major": 2,
       "version_minor": 0
      },
      "text/plain": [
       "  0%|          | 0/95 [00:00<?, ?it/s]"
      ]
     },
     "metadata": {},
     "output_type": "display_data"
    },
    {
     "name": "stdout",
     "output_type": "stream",
     "text": [
      "Val loss:  0.07730134576559067  Train loss:  0.0514582134783268 \n",
      "\n",
      "Val acc:  0.9736842105263162  Train acc:  0.9814632545931714 \n",
      "\n",
      "Learning Rate:  3.7778931862957216e-06\n",
      "\n",
      "EPOCH:  27\n"
     ]
    },
    {
     "data": {
      "application/vnd.jupyter.widget-view+json": {
       "model_id": "273897d7ed81470d99589dffd9796070",
       "version_major": 2,
       "version_minor": 0
      },
      "text/plain": [
       "  0%|          | 0/381 [00:00<?, ?it/s]"
      ]
     },
     "metadata": {},
     "output_type": "display_data"
    },
    {
     "data": {
      "application/vnd.jupyter.widget-view+json": {
       "model_id": "2b352ada675041ed8b20a11d3ef12e72",
       "version_major": 2,
       "version_minor": 0
      },
      "text/plain": [
       "  0%|          | 0/95 [00:00<?, ?it/s]"
      ]
     },
     "metadata": {},
     "output_type": "display_data"
    },
    {
     "name": "stdout",
     "output_type": "stream",
     "text": [
      "Val loss:  0.052726227790117264  Train loss:  0.049368586391210556 \n",
      "\n",
      "Val acc:  0.9835526315789476  Train acc:  0.9824475065616751 \n",
      "\n",
      "Learning Rate:  3.0223145490365774e-06\n",
      "\n",
      "EPOCH:  28\n"
     ]
    },
    {
     "data": {
      "application/vnd.jupyter.widget-view+json": {
       "model_id": "b8e24363f40c45dbb984f7b315cbcd96",
       "version_major": 2,
       "version_minor": 0
      },
      "text/plain": [
       "  0%|          | 0/381 [00:00<?, ?it/s]"
      ]
     },
     "metadata": {},
     "output_type": "display_data"
    },
    {
     "data": {
      "application/vnd.jupyter.widget-view+json": {
       "model_id": "8e8e7a4e386f4e42abe6d6e746cea604",
       "version_major": 2,
       "version_minor": 0
      },
      "text/plain": [
       "  0%|          | 0/95 [00:00<?, ?it/s]"
      ]
     },
     "metadata": {},
     "output_type": "display_data"
    },
    {
     "name": "stdout",
     "output_type": "stream",
     "text": [
      "Val loss:  0.0666743814945221  Train loss:  0.04847974330186844 \n",
      "\n",
      "Val acc:  0.975657894736842  Train acc:  0.9831036745406772 \n",
      "\n",
      "Learning Rate:  2.417851639229262e-06\n",
      "\n",
      "EPOCH:  29\n"
     ]
    },
    {
     "data": {
      "application/vnd.jupyter.widget-view+json": {
       "model_id": "6a579c8a25374183bbadcfdbe47d0095",
       "version_major": 2,
       "version_minor": 0
      },
      "text/plain": [
       "  0%|          | 0/381 [00:00<?, ?it/s]"
      ]
     },
     "metadata": {},
     "output_type": "display_data"
    },
    {
     "data": {
      "application/vnd.jupyter.widget-view+json": {
       "model_id": "cf211770cffc41cca43e9441179a0e71",
       "version_major": 2,
       "version_minor": 0
      },
      "text/plain": [
       "  0%|          | 0/95 [00:00<?, ?it/s]"
      ]
     },
     "metadata": {},
     "output_type": "display_data"
    },
    {
     "name": "stdout",
     "output_type": "stream",
     "text": [
      "Val loss:  0.06653952598571777  Train loss:  0.04628095030784607 \n",
      "\n",
      "Val acc:  0.9769736842105262  Train acc:  0.9829396325459272 \n",
      "\n",
      "Learning Rate:  1.93428131138341e-06\n",
      "\n",
      "EPOCH:  30\n"
     ]
    },
    {
     "data": {
      "application/vnd.jupyter.widget-view+json": {
       "model_id": "de761cf1165b45dda74e7f093203dcdb",
       "version_major": 2,
       "version_minor": 0
      },
      "text/plain": [
       "  0%|          | 0/381 [00:00<?, ?it/s]"
      ]
     },
     "metadata": {},
     "output_type": "display_data"
    },
    {
     "data": {
      "application/vnd.jupyter.widget-view+json": {
       "model_id": "754d36626d1c4dab916e20e8aebee176",
       "version_major": 2,
       "version_minor": 0
      },
      "text/plain": [
       "  0%|          | 0/95 [00:00<?, ?it/s]"
      ]
     },
     "metadata": {},
     "output_type": "display_data"
    },
    {
     "name": "stdout",
     "output_type": "stream",
     "text": [
      "Val loss:  0.06211774796247482  Train loss:  0.050958678126335144 \n",
      "\n",
      "Val acc:  0.9782894736842106  Train acc:  0.9811351706036703 \n",
      "\n",
      "Learning Rate:  1.547425049106728e-06\n",
      "\n",
      "EPOCH:  31\n"
     ]
    },
    {
     "data": {
      "application/vnd.jupyter.widget-view+json": {
       "model_id": "99c0ab6b325f4ecc8ce5acf2f8feeb47",
       "version_major": 2,
       "version_minor": 0
      },
      "text/plain": [
       "  0%|          | 0/381 [00:00<?, ?it/s]"
      ]
     },
     "metadata": {},
     "output_type": "display_data"
    },
    {
     "data": {
      "application/vnd.jupyter.widget-view+json": {
       "model_id": "a88a3c696f1642639069590a84da278a",
       "version_major": 2,
       "version_minor": 0
      },
      "text/plain": [
       "  0%|          | 0/95 [00:00<?, ?it/s]"
      ]
     },
     "metadata": {},
     "output_type": "display_data"
    },
    {
     "name": "stdout",
     "output_type": "stream",
     "text": [
      "Val loss:  0.06436581909656525  Train loss:  0.04849790409207344 \n",
      "\n",
      "Val acc:  0.9756578947368422  Train acc:  0.9821194225721739 \n",
      "\n",
      "Learning Rate:  1.2379400392853823e-06\n",
      "\n",
      "EPOCH:  32\n"
     ]
    },
    {
     "data": {
      "application/vnd.jupyter.widget-view+json": {
       "model_id": "26f65040b8394064a93507af8ae7f28e",
       "version_major": 2,
       "version_minor": 0
      },
      "text/plain": [
       "  0%|          | 0/381 [00:00<?, ?it/s]"
      ]
     },
     "metadata": {},
     "output_type": "display_data"
    },
    {
     "data": {
      "application/vnd.jupyter.widget-view+json": {
       "model_id": "775d6ab3e93f487183f824c7c3edd3f4",
       "version_major": 2,
       "version_minor": 0
      },
      "text/plain": [
       "  0%|          | 0/95 [00:00<?, ?it/s]"
      ]
     },
     "metadata": {},
     "output_type": "display_data"
    },
    {
     "name": "stdout",
     "output_type": "stream",
     "text": [
      "Val loss:  0.0690905973315239  Train loss:  0.04820462688803673 \n",
      "\n",
      "Val acc:  0.9743421052631578  Train acc:  0.9842519685039323 \n",
      "\n",
      "Learning Rate:  9.903520314283058e-07\n",
      "\n",
      "EPOCH:  33\n"
     ]
    },
    {
     "data": {
      "application/vnd.jupyter.widget-view+json": {
       "model_id": "a33a9d1465174f04be2c3e49a2768065",
       "version_major": 2,
       "version_minor": 0
      },
      "text/plain": [
       "  0%|          | 0/381 [00:00<?, ?it/s]"
      ]
     },
     "metadata": {},
     "output_type": "display_data"
    },
    {
     "data": {
      "application/vnd.jupyter.widget-view+json": {
       "model_id": "a21ef761fa214559a931ebbd27184f0e",
       "version_major": 2,
       "version_minor": 0
      },
      "text/plain": [
       "  0%|          | 0/95 [00:00<?, ?it/s]"
      ]
     },
     "metadata": {},
     "output_type": "display_data"
    },
    {
     "name": "stdout",
     "output_type": "stream",
     "text": [
      "Val loss:  0.057462405413389206  Train loss:  0.048607390373945236 \n",
      "\n",
      "Val acc:  0.974342105263158  Train acc:  0.982283464566924 \n",
      "\n",
      "Learning Rate:  7.922816251426449e-07\n",
      "\n",
      "EPOCH:  34\n"
     ]
    },
    {
     "data": {
      "application/vnd.jupyter.widget-view+json": {
       "model_id": "306a1af6279e43b7a9fad5f68b2b4417",
       "version_major": 2,
       "version_minor": 0
      },
      "text/plain": [
       "  0%|          | 0/381 [00:00<?, ?it/s]"
      ]
     },
     "metadata": {},
     "output_type": "display_data"
    },
    {
     "data": {
      "application/vnd.jupyter.widget-view+json": {
       "model_id": "874301d3f58d4daf8d8e6c3f951e9997",
       "version_major": 2,
       "version_minor": 0
      },
      "text/plain": [
       "  0%|          | 0/95 [00:00<?, ?it/s]"
      ]
     },
     "metadata": {},
     "output_type": "display_data"
    },
    {
     "name": "stdout",
     "output_type": "stream",
     "text": [
      "Val loss:  0.07440144568681717  Train loss:  0.049571678042411804 \n",
      "\n",
      "Val acc:  0.9763157894736844  Train acc:  0.981627296587922 \n",
      "\n",
      "Learning Rate:  6.338253001141158e-07\n",
      "\n",
      "EPOCH:  35\n"
     ]
    },
    {
     "data": {
      "application/vnd.jupyter.widget-view+json": {
       "model_id": "755df96612b247128fcf7c49a247cf45",
       "version_major": 2,
       "version_minor": 0
      },
      "text/plain": [
       "  0%|          | 0/381 [00:00<?, ?it/s]"
      ]
     },
     "metadata": {},
     "output_type": "display_data"
    },
    {
     "data": {
      "application/vnd.jupyter.widget-view+json": {
       "model_id": "c8201b06539b43ffa7b91a9393d0e22d",
       "version_major": 2,
       "version_minor": 0
      },
      "text/plain": [
       "  0%|          | 0/95 [00:00<?, ?it/s]"
      ]
     },
     "metadata": {},
     "output_type": "display_data"
    },
    {
     "name": "stdout",
     "output_type": "stream",
     "text": [
      "Val loss:  0.05093497782945633  Train loss:  0.046587955206632614 \n",
      "\n",
      "Val acc:  0.9848684210526317  Train acc:  0.9844160104986829 \n",
      "\n",
      "Learning Rate:  5.070602400912927e-07\n"
     ]
    }
   ],
   "source": [
    "X, y = shuffle(data_set.inputs.float(), data_set.labels.float())\n",
    "\n",
    "frac = int(0.2*len(y))\n",
    "\n",
    "train_X, train_y = X[frac:], y[frac:]\n",
    "\n",
    "val_X, val_y = X[:frac], y[:frac]\n",
    "\n",
    "train()"
   ]
  },
  {
   "cell_type": "code",
   "execution_count": 20,
   "metadata": {},
   "outputs": [],
   "source": [
    "def learning_curve():\n",
    "  fig, axs = plt.subplots(2, figsize = (7,6))\n",
    "\n",
    "  acc_df = pd.read_csv(\"C:\\\\Users\\\\Alejandro\\\\Desktop\\\\heterogeneous-data\\\\results\\\\WSI\\\\log\\\\model.log\")\n",
    "  acc_df.columns = [\"MODEL_NAME\", \"TIME\", \"ACC\", \"LOSS\", \"VAL_ACC\", \"VAL_LOSS\"]\n",
    "\n",
    "  fig, axs = plt.subplots(2, figsize=(5,7))\n",
    "  #ax = plt.gca() # GET CURRENT AXIS\n",
    "\n",
    "  axs[0].legend(\"MODEL_NAME\", loc=2)\n",
    "\n",
    "  acc_df.plot(y=\"ACC\", ax=axs[0])\n",
    "  acc_df.plot(y=\"VAL_ACC\", ax=axs[0])\n",
    "\n",
    "  acc_df.plot(y=\"LOSS\", ax=axs[1])\n",
    "  acc_df.plot(y=\"VAL_LOSS\",ax=axs[1])\n",
    "\n",
    "  fig.show()\n",
    "  fig.savefig(f\"C:\\\\Users\\\\Alejandro\\\\Desktop\\\\heterogeneous-data\\\\results\\\\WSI\\\\lc\\\\l_curve_{MODEL_NAME}.pdf\")"
   ]
  },
  {
   "cell_type": "code",
   "execution_count": 21,
   "metadata": {},
   "outputs": [
    {
     "name": "stderr",
     "output_type": "stream",
     "text": [
      "C:\\Users\\Alejandro\\AppData\\Local\\Temp\\ipykernel_10156\\440877980.py:18: UserWarning: Matplotlib is currently using module://matplotlib_inline.backend_inline, which is a non-GUI backend, so cannot show the figure.\n",
      "  fig.show()\n"
     ]
    },
    {
     "data": {
      "image/png": "[encoded data removed]",
      "text/plain": [
       "<Figure size 504x432 with 2 Axes>"
      ]
     },
     "metadata": {
      "needs_background": "light"
     },
     "output_type": "display_data"
    },
    {
     "data": {
      "image/png": "[encoded data removed]",
      "text/plain": [
       "<Figure size 360x504 with 2 Axes>"
      ]
     },
     "metadata": {
      "needs_background": "light"
     },
     "output_type": "display_data"
    }
   ],
   "source": [
    "import matplotlib.pyplot as plt\n",
    "import pandas as pd\n",
    "\n",
    "learning_curve()"
   ]
  },
  {
   "cell_type": "code",
   "execution_count": null,
   "metadata": {},
   "outputs": [],
   "source": []
  },
  {
   "cell_type": "code",
   "execution_count": null,
   "metadata": {},
   "outputs": [],
   "source": []
  }
 ],
 "metadata": {
  "interpreter": {
   "hash": "de74446a7cd3a56c425ecbffb2a7ad915342ddab3c48353acb4566475bd7705f"
  },
  "kernelspec": {
   "display_name": "Python 3.9.12 ('openslide')",
   "language": "python",
   "name": "python3"
  },
  "language_info": {
   "codemirror_mode": {
    "name": "ipython",
    "version": 3
   },
   "file_extension": ".py",
   "mimetype": "text/x-python",
   "name": "python",
   "nbconvert_exporter": "python",
   "pygments_lexer": "ipython3",
   "version": "3.9.12"
  },
  "orig_nbformat": 4
 },
 "nbformat": 4,
 "nbformat_minor": 2
}
