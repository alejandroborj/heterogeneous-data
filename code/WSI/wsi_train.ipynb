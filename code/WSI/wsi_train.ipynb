{
 "cells": [
  {
   "cell_type": "markdown",
   "metadata": {},
   "source": [
    "# Model training and selection"
   ]
  },
  {
   "cell_type": "code",
   "execution_count": 1,
   "metadata": {},
   "outputs": [],
   "source": [
    "import pickle\n",
    "from tqdm.notebook import tqdm\n",
    "import numpy as np\n",
    "import random\n",
    "import matplotlib.pyplot as plt\n",
    "import pandas as pd\n",
    "from sklearn.metrics import confusion_matrix\n",
    "\n",
    "import torch\n",
    "import torchvision.transforms as transforms\n",
    "import torchvision.models\n",
    "import torch.optim as optim\n",
    "import torch.nn as nn\n",
    "\n",
    "import time"
   ]
  },
  {
   "cell_type": "code",
   "execution_count": 2,
   "metadata": {},
   "outputs": [
    {
     "name": "stdout",
     "output_type": "stream",
     "text": [
      "Using GPU : cuda:0\n"
     ]
    }
   ],
   "source": [
    "# Choosing device for tensor processing\n",
    "\n",
    "if torch.cuda.is_available():\n",
    "    device = torch.device(\"cuda:0\")\n",
    "    print(\"Using GPU :\", device)\n",
    "else:\n",
    "    device = torch.device(\"cpu\")\n",
    "    print(\"Using CPU \")"
   ]
  },
  {
   "cell_type": "code",
   "execution_count": 3,
   "metadata": {},
   "outputs": [],
   "source": [
    "MODE = \"w\"\n",
    "EXP_NAME = \"ejemplo\"\n",
    "\n",
    "data_set_name = \"data_set_x20_100%_split\"\n",
    "patch_size = 512\n",
    "\n",
    "SIZE_X = patch_size\n",
    "SIZE_Y = patch_size"
   ]
  },
  {
   "cell_type": "code",
   "execution_count": 4,
   "metadata": {},
   "outputs": [],
   "source": [
    "def init_weights(m): # XAVIER initialization for final layer weight initialization\n",
    "    if type(m) == nn.Linear:\n",
    "        torch.nn.init.xavier_uniform_(m.weight)\n",
    "        m.bias.data.fill_(0.01)\n",
    "\n",
    "def init():\n",
    "  global net, loss_function, scheduler, optimizer, MODEL_NAME\n",
    "  \n",
    "  net = torchvision.models.resnet18(pretrained=True).to(device)\n",
    "      \n",
    "  for param in net.parameters():\n",
    "      param.requires_grad = False # Freezing the convolutional layers !!!!!!!!!!!\n",
    "      \n",
    "  net.fc = nn.Sequential(\n",
    "                nn.Linear(512, 128), #512\n",
    "                nn.ReLU(inplace=True),\n",
    "                nn.Linear(128, 2),\n",
    "                nn.Softmax(dim = -1)\n",
    "                ).to(device)\n",
    "\n",
    "  net.fc.apply(init_weights) # Xavier init\n",
    "\n",
    "  print(f\"Loading {MODEL_NAME}\")\n",
    "\n",
    "  # net.fc = torch.load(f\"C:\\\\Users\\\\Alejandro\\\\Desktop\\\\heterogeneous-data\\\\results\\\\WSI\\\\models\\\\{MODEL_NAME}.pth\") # Model loading\n",
    "\n",
    "  print(\"Number of free parameters: \", sum(p.numel() for p in net.fc.parameters()))\n",
    "\n",
    "  #Hyperparameters:\n",
    "  learning_rate = 0.0001 # LR\n",
    "  loss_function = nn.BCELoss()\n",
    "  # Loss # [1,0] es positivo y [0,1] negativo # weight = torch.tensor([(495+201)/(2*495), (201+495)/(2*201)]).to(device)) # El negativo cuesta 2.5... mas\n",
    "  optimizer = optim.Adam(net.fc.parameters(), lr=learning_rate)# Optimizer\n",
    "  lambda1 = lambda epoch: 0.8 ** epoch # Scheduler\n",
    "  scheduler = torch.optim.lr_scheduler.LambdaLR(optimizer, lr_lambda=lambda1)"
   ]
  },
  {
   "cell_type": "code",
   "execution_count": 5,
   "metadata": {},
   "outputs": [],
   "source": [
    "def fwd_pass(X, y, train=False):\n",
    "# IMPORTANTE, TRAIN = FALSE PARA QUE NO ENTRENE CON EL TEST DATA ESTO ES PARA PODER HACER TEST MIENTRAS ENTRENO Y VALIDO, \n",
    "# SE ESPERA QUE LA EXACTITUD EN EL TEST DE VALIDACIÓN SEA MENOR\n",
    "    if train: \n",
    "        net.zero_grad()\n",
    "\n",
    "    outputs = net(X)\n",
    "    matches = [torch.argmax(i) == torch.argmax(j) for i,j in zip(outputs, y)]\n",
    "    conf_m = confusion_matrix( [torch.argmax(i) for i in y.cpu()],[torch.argmax(i) for i in outputs.cpu()], labels=(0, 1))\n",
    "    f1 = conf_m[0][0]/(conf_m[0][0]+0.5*(conf_m[1][0]+conf_m[0][1]))\n",
    "    acc = matches.count(True)/len(matches)\n",
    "    loss = loss_function(outputs, y)\n",
    "\n",
    "    if train:\n",
    "        loss.backward()\n",
    "        optimizer.step()\n",
    "\n",
    "    del outputs\n",
    "\n",
    "    return acc, loss, f1"
   ]
  },
  {
   "cell_type": "code",
   "execution_count": 6,
   "metadata": {},
   "outputs": [],
   "source": [
    "def validate(val_X, val_y, size=32):\n",
    "# Hago un test con datos en una región aleatoria para que la distribución sea mejor\n",
    "  val_X, val_y = shuffle(val_X, val_y) \n",
    "  \n",
    "  if size > 0.7*len(val_y):\n",
    "    ramdom_start = 0\n",
    "  else:\n",
    "    ramdom_start = np.random.randint(len(val_X)-size)\n",
    "\n",
    "  X, y = val_X[ramdom_start:ramdom_start+size].to(device), val_y[ramdom_start:ramdom_start+size].to(device)\n",
    "  val_acc, val_loss, val_f1 = fwd_pass(X.view(-1, 3, SIZE_X, SIZE_Y), y, train=False)\n",
    "  \n",
    "  del X, y\n",
    "\n",
    "  return val_acc, val_loss, val_f1 # accuracy y loss en validation set"
   ]
  },
  {
   "cell_type": "code",
   "execution_count": 7,
   "metadata": {},
   "outputs": [],
   "source": [
    "def test():\n",
    "  X, y = test_X.to(device), test_y.to(device)\n",
    "  test_acc, test_loss = fwd_pass(X.view(-1, 3, SIZE_X, SIZE_Y), y)\n",
    "  del X, y\n",
    "\n",
    "  return test_acc, test_loss"
   ]
  },
  {
   "cell_type": "code",
   "execution_count": 8,
   "metadata": {},
   "outputs": [],
   "source": [
    "def shuffle(X, y): # Esta función debería hacer un shuffle del data set sin desordenar las etiquetas\n",
    "  c = list(zip(X, y))\n",
    "  random.shuffle(c)\n",
    "  X, y = zip(*c)\n",
    "  return torch.stack(X), torch.stack(y)"
   ]
  },
  {
   "cell_type": "code",
   "execution_count": 9,
   "metadata": {},
   "outputs": [
    {
     "name": "stdout",
     "output_type": "stream",
     "text": [
      "CPU times: total: 0 ns\n",
      "Wall time: 0 ns\n"
     ]
    }
   ],
   "source": [
    "%%time\n",
    "\n",
    "'''\n",
    "mean = [0.485, 0.456, 0.406]\n",
    "std = [0.229, 0.224, 0.225]\n",
    "\n",
    "normalize = torchvision.transforms.Normalize(mean=mean, std=std)\n",
    "np.asarray(normalize(torch.tensor(patch/255).permute(2, 1, 0)), dtype=np.float32)\n",
    "\n",
    "'''\n",
    "\n",
    "def train():\n",
    "\n",
    "  global net, loss_function, scheduler, optimizer, train_X, train_y, MODEL_NAME\n",
    "\n",
    "  print(MODEL_NAME)\n",
    "  BATCH_SIZE = 16\n",
    "  EPOCHS = 5\n",
    "\n",
    "  N_BATCHES = len(range(0, len(train_X), BATCH_SIZE))\n",
    "  \n",
    "  with open(f\"C:\\\\Users\\\\Alejandro\\\\Desktop\\\\heterogeneous-data\\\\results\\\\WSI\\\\log\\\\model_{MODEL_NAME}.log\", MODE) as f:\n",
    "    for epoch in range(EPOCHS):\n",
    "      acc, loss, f1 = 0, 0, 0\n",
    "      val_acc, val_loss, val_f1 = 0, 0, 0\n",
    "\n",
    "      train_X, train_y = shuffle(train_X, train_y)\n",
    "\n",
    "      print(\"\\nEPOCH: \", epoch+1)\n",
    "\n",
    "      for i in tqdm(range(0, len(train_X), BATCH_SIZE)):\n",
    "        batch_X = train_X[i:i+BATCH_SIZE].view(-1,3,SIZE_X,SIZE_Y).to(device)\n",
    "        batch_y = train_y[i:i+BATCH_SIZE].to(device)\n",
    "        \n",
    "        net.train() # Making sure that the model is in training mode\n",
    "        \n",
    "        acc_aux, loss_aux, f1_aux = fwd_pass(batch_X, batch_y, train=True)\n",
    "        \n",
    "        acc += acc_aux*(len(batch_X)/len(train_X))#/N_BATCHES # Calculating the average loss and acc through batches sum ACCi*Wi/N (Wi = weight of the batch)\n",
    "        loss += loss_aux*(len(batch_X)/len(train_X))#/N_BATCHES\n",
    "        f1 += f1_aux*(len(batch_X)/len(train_X))#/N_BATCHES\n",
    "\n",
    "        del batch_X, batch_y\n",
    "\n",
    "      for i in tqdm(range(0, int(len(val_X)), BATCH_SIZE)):\n",
    "        batch_X = val_X[i:i+BATCH_SIZE].view(-1,3,SIZE_X,SIZE_Y).to(device)\n",
    "        batch_y = val_y[i:i+BATCH_SIZE].to(device)\n",
    "\n",
    "        net.eval() # Making sure that the model is not training and deactivate droptout\n",
    "        \n",
    "        acc_aux, loss_aux, f1_aux = validate(batch_X, batch_y, size=BATCH_SIZE)\n",
    "      \n",
    "        val_acc += acc_aux*(len(batch_X)/len(val_X))#/N_BATCHES_VAL # Calculating the average loss and acc trough batches\n",
    "        val_loss += loss_aux*(len(batch_X)/len(val_X))#/N_BATCHES_VAL\n",
    "        val_f1 += f1_aux*(len(batch_X)/len(val_X))#/N_BATCHES_VAL\n",
    "\n",
    "      #val_acc, val_loss, val_f1 = validate(val_X, val_y, size=200)\n",
    "\n",
    "      print(\"Val loss: \", val_loss.item(),\" Train loss: \", loss.item(), \"\\n\")\n",
    "      print(\"Val acc: \", val_acc,\" Train acc: \", acc, \"\\n\")\n",
    "      print(\"Val f1: \", val_f1,\" Train f1: \", f1, \"\\n\")\n",
    "\n",
    "      f.write(f\"{MODEL_NAME},{round(time.time(),3)},{round(float(acc),3)},{round(float(loss),4)},{round(float(val_acc),3)},{round(float(val_loss),4)}\\n\")\n",
    "      f.write(\"\\n\\n\")\n",
    "\n",
    "      print(\"Learning Rate: \", optimizer.param_groups[0][\"lr\"])\n",
    "      scheduler.step() # Changing the learning rate\n",
    "\n",
    "    torch.save(net, f\"C:\\\\Users\\\\Alejandro\\\\Desktop\\\\heterogeneous-data\\\\results\\\\WSI\\\\models\\\\{MODEL_NAME}.pth\")\n"
   ]
  },
  {
   "cell_type": "code",
   "execution_count": 10,
   "metadata": {},
   "outputs": [
    {
     "name": "stdout",
     "output_type": "stream",
     "text": [
      "Loading training split: 1\n",
      "Loading training split: 2\n",
      "Loading training split: 3\n",
      "Loading training split: 4\n",
      "Loading training split: 5\n",
      "Loading training split: 6\n",
      "Loading training split: 7\n",
      "Loading training split: 8\n",
      "Loading training split: 9\n",
      "Patches para entrenamiento: 17189\n",
      "\n",
      "Loading validation split: 0\n",
      "\n",
      "Loading ejemplo0\n",
      "Number of free parameters:  65922\n",
      "ejemplo0\n",
      "\n",
      "EPOCH:  1\n"
     ]
    },
    {
     "data": {
      "application/vnd.jupyter.widget-view+json": {
       "model_id": "d34736aba9304a19ad4b67a666db4351",
       "version_major": 2,
       "version_minor": 0
      },
      "text/plain": [
       "  0%|          | 0/1075 [00:00<?, ?it/s]"
      ]
     },
     "metadata": {},
     "output_type": "display_data"
    },
    {
     "data": {
      "application/vnd.jupyter.widget-view+json": {
       "model_id": "9023fbe56acd4775a08f646e1548b210",
       "version_major": 2,
       "version_minor": 0
      },
      "text/plain": [
       "  0%|          | 0/138 [00:00<?, ?it/s]"
      ]
     },
     "metadata": {},
     "output_type": "display_data"
    },
    {
     "name": "stdout",
     "output_type": "stream",
     "text": [
      "Val loss:  0.184072807431221  Train loss:  0.19322246313095093 \n",
      "\n",
      "Val acc:  0.919890760127447  Train acc:  0.9261737157484463 \n",
      "\n",
      "Val f1:  0.9504490535677085  Train f1:  0.9563799271169671 \n",
      "\n",
      "Learning Rate:  0.0001\n",
      "\n",
      "EPOCH:  2\n"
     ]
    },
    {
     "data": {
      "application/vnd.jupyter.widget-view+json": {
       "model_id": "6a1e3e1ceb0340f2b16118aa4b4bcd73",
       "version_major": 2,
       "version_minor": 0
      },
      "text/plain": [
       "  0%|          | 0/1075 [00:00<?, ?it/s]"
      ]
     },
     "metadata": {},
     "output_type": "display_data"
    },
    {
     "data": {
      "application/vnd.jupyter.widget-view+json": {
       "model_id": "072bb86a29f54f53b98412130ef790c7",
       "version_major": 2,
       "version_minor": 0
      },
      "text/plain": [
       "  0%|          | 0/138 [00:00<?, ?it/s]"
      ]
     },
     "metadata": {},
     "output_type": "display_data"
    },
    {
     "name": "stdout",
     "output_type": "stream",
     "text": [
      "Val loss:  0.18295727670192719  Train loss:  0.12643210589885712 \n",
      "\n",
      "Val acc:  0.9194355939918076  Train acc:  0.9536331374716386 \n",
      "\n",
      "Val f1:  0.949784963829679  Train f1:  0.9730597200882362 \n",
      "\n",
      "Learning Rate:  8e-05\n",
      "\n",
      "EPOCH:  3\n"
     ]
    },
    {
     "data": {
      "application/vnd.jupyter.widget-view+json": {
       "model_id": "8bf816cf34104ef28d9e3aeeea29c441",
       "version_major": 2,
       "version_minor": 0
      },
      "text/plain": [
       "  0%|          | 0/1075 [00:00<?, ?it/s]"
      ]
     },
     "metadata": {},
     "output_type": "display_data"
    },
    {
     "data": {
      "application/vnd.jupyter.widget-view+json": {
       "model_id": "13366379877d468f98e70a926db309c9",
       "version_major": 2,
       "version_minor": 0
      },
      "text/plain": [
       "  0%|          | 0/138 [00:00<?, ?it/s]"
      ]
     },
     "metadata": {},
     "output_type": "display_data"
    },
    {
     "name": "stdout",
     "output_type": "stream",
     "text": [
      "Val loss:  0.14502596855163574  Train loss:  0.1121702641248703 \n",
      "\n",
      "Val acc:  0.9403732362312254  Train acc:  0.9588108674152048 \n",
      "\n",
      "Val f1:  0.963462118879573  Train f1:  0.9758603361259518 \n",
      "\n",
      "Learning Rate:  6.400000000000001e-05\n",
      "\n",
      "EPOCH:  4\n"
     ]
    },
    {
     "data": {
      "application/vnd.jupyter.widget-view+json": {
       "model_id": "239d1160c0a145518ad989bb7204ccff",
       "version_major": 2,
       "version_minor": 0
      },
      "text/plain": [
       "  0%|          | 0/1075 [00:00<?, ?it/s]"
      ]
     },
     "metadata": {},
     "output_type": "display_data"
    },
    {
     "data": {
      "application/vnd.jupyter.widget-view+json": {
       "model_id": "a4fd976650fc4ee2ab7eee2ac8de554e",
       "version_major": 2,
       "version_minor": 0
      },
      "text/plain": [
       "  0%|          | 0/138 [00:00<?, ?it/s]"
      ]
     },
     "metadata": {},
     "output_type": "display_data"
    },
    {
     "name": "stdout",
     "output_type": "stream",
     "text": [
      "Val loss:  0.1685417741537094  Train loss:  0.10308119654655457 \n",
      "\n",
      "Val acc:  0.9258079198907606  Train acc:  0.9628832392809334 \n",
      "\n",
      "Val f1:  0.9536772398881639  Train f1:  0.9782050149819725 \n",
      "\n",
      "Learning Rate:  5.120000000000001e-05\n",
      "\n",
      "EPOCH:  5\n"
     ]
    },
    {
     "data": {
      "application/vnd.jupyter.widget-view+json": {
       "model_id": "88d2861b497c48899887de7a1cf36c6f",
       "version_major": 2,
       "version_minor": 0
      },
      "text/plain": [
       "  0%|          | 0/1075 [00:00<?, ?it/s]"
      ]
     },
     "metadata": {},
     "output_type": "display_data"
    },
    {
     "data": {
      "application/vnd.jupyter.widget-view+json": {
       "model_id": "c715a4eaff7142e5b965b7d67141cb9f",
       "version_major": 2,
       "version_minor": 0
      },
      "text/plain": [
       "  0%|          | 0/138 [00:00<?, ?it/s]"
      ]
     },
     "metadata": {},
     "output_type": "display_data"
    },
    {
     "name": "stdout",
     "output_type": "stream",
     "text": [
      "Val loss:  0.12514884769916534  Train loss:  0.09707090258598328 \n",
      "\n",
      "Val acc:  0.9476558944014571  Train acc:  0.9653848391413083 \n",
      "\n",
      "Val f1:  0.9679482637786746  Train f1:  0.9796535352266204 \n",
      "\n",
      "Learning Rate:  4.096000000000001e-05\n",
      "Loading training split: 0\n",
      "Loading training split: 2\n",
      "Loading training split: 3\n",
      "Loading training split: 4\n",
      "Loading training split: 5\n",
      "Loading training split: 6\n",
      "Loading training split: 7\n",
      "Loading training split: 8\n"
     ]
    }
   ],
   "source": [
    "# Choosing only the images from the according splits (10CV)\n",
    "\n",
    "for SPLIT in range(2):\n",
    "    MODEL_NAME = EXP_NAME + f\"{SPLIT}\"\n",
    "\n",
    "    X, y = torch.tensor([]), torch.tensor([])\n",
    "\n",
    "    TRAIN_SPLITS =list(range(10))\n",
    "    TRAIN_SPLITS.remove(SPLIT)\n",
    "\n",
    "    for i in TRAIN_SPLITS:\n",
    "        print(f\"Loading training split: {i}\")\n",
    "        split_name = data_set_name + f\"{i}\"\n",
    "\n",
    "        with open(f\"C:/Users/Alejandro/Desktop/heterogeneous-data/data/datasets/{split_name}.obj\", 'rb') as f:\n",
    "            data_set = pickle.load(f)\n",
    "      \n",
    "        X = torch.cat((X, data_set.inputs.float()))\n",
    "        y = torch.cat((y, data_set.labels.float()))\n",
    "\n",
    "    train_X, train_y = shuffle(list(X), list(y))\n",
    "\n",
    "    del X, y\n",
    "\n",
    "    print(f\"Patches para entrenamiento: {len(train_y)}\\n\")\n",
    "\n",
    "    split_name = data_set_name + f\"{SPLIT}\"\n",
    "\n",
    "    with open(f\"C:/Users/Alejandro/Desktop/heterogeneous-data/data/datasets/{split_name}.obj\", 'rb') as f:\n",
    "        data_set = pickle.load(f)\n",
    "\n",
    "    print(f\"Loading validation split: {SPLIT}\\n\")\n",
    "    val_X, val_y = shuffle(data_set.inputs.float(), data_set.labels.float())\n",
    "\n",
    "    init()\n",
    "\n",
    "    train()\n",
    "\n",
    "    del train_X, train_y, val_X, val_y"
   ]
  },
  {
   "cell_type": "code",
   "execution_count": null,
   "metadata": {},
   "outputs": [],
   "source": [
    "def learning_curve(NAME):\n",
    "  fig, axs = plt.subplots(2, figsize = (7,6))\n",
    "\n",
    "  acc_df = pd.read_csv(f\"C:\\\\Users\\\\Alejandro\\\\Desktop\\\\heterogeneous-data\\\\results\\\\WSI\\\\log\\\\model_{NAME}.log\")\n",
    "  acc_df.columns = [\"MODEL_NAME\", \"TIME\", \"ACC\", \"LOSS\", \"VAL_ACC\", \"VAL_LOSS\"]\n",
    "\n",
    "  fig, axs = plt.subplots(2, figsize=(5,7))\n",
    "  #ax = plt.gca() # GET CURRENT AXIS\n",
    "\n",
    "  axs[0].legend(\"MODEL_NAME\", loc=2)\n",
    "\n",
    "  acc_df.plot(y=\"ACC\", ax=axs[0])\n",
    "  acc_df.plot(y=\"VAL_ACC\", ax=axs[0])\n",
    "\n",
    "  acc_df.plot(y=\"LOSS\", ax=axs[1])\n",
    "  acc_df.plot(y=\"VAL_LOSS\",ax=axs[1])\n",
    "\n",
    "  fig.show()\n",
    "  fig.savefig(f\"C:\\\\Users\\\\Alejandro\\\\Desktop\\\\heterogeneous-data\\\\results\\\\WSI\\\\lc\\\\l_curve_{NAME}.pdf\")"
   ]
  },
  {
   "cell_type": "code",
   "execution_count": 13,
   "metadata": {},
   "outputs": [
    {
     "name": "stderr",
     "output_type": "stream",
     "text": [
      "C:\\Users\\Alejandro\\AppData\\Local\\Temp\\ipykernel_10360\\1170274862.py:18: UserWarning: Matplotlib is currently using module://matplotlib_inline.backend_inline, which is a non-GUI backend, so cannot show the figure.\n",
      "  fig.show()\n"
     ]
    },
    {
     "data": {
      "image/png": "[encoded data removed]",
      "text/plain": [
       "<Figure size 504x432 with 2 Axes>"
      ]
     },
     "metadata": {
      "needs_background": "light"
     },
     "output_type": "display_data"
    },
    {
     "data": {
      "image/png": "[encoded data removed]",
      "text/plain": [
       "<Figure size 360x504 with 2 Axes>"
      ]
     },
     "metadata": {
      "needs_background": "light"
     },
     "output_type": "display_data"
    }
   ],
   "source": [
    "for SPLIT in range(2):\n",
    "    NAME = MODEL_NAME[:-1]+f\"{SPLIT}\"\n",
    "    learning_curve(NAME)"
   ]
  },
  {
   "cell_type": "code",
   "execution_count": null,
   "metadata": {},
   "outputs": [],
   "source": []
  },
  {
   "cell_type": "code",
   "execution_count": null,
   "metadata": {},
   "outputs": [],
   "source": []
  }
 ],
 "metadata": {
  "interpreter": {
   "hash": "de74446a7cd3a56c425ecbffb2a7ad915342ddab3c48353acb4566475bd7705f"
  },
  "kernelspec": {
   "display_name": "Python 3.9.12 ('openslide')",
   "language": "python",
   "name": "python3"
  },
  "language_info": {
   "codemirror_mode": {
    "name": "ipython",
    "version": 3
   },
   "file_extension": ".py",
   "mimetype": "text/x-python",
   "name": "python",
   "nbconvert_exporter": "python",
   "pygments_lexer": "ipython3",
   "version": "3.9.12"
  },
  "orig_nbformat": 4
 },
 "nbformat": 4,
 "nbformat_minor": 2
}
