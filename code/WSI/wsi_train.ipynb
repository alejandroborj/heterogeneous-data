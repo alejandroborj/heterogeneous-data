{
 "cells": [
  {
   "cell_type": "markdown",
   "metadata": {},
   "source": [
    "# Model training"
   ]
  },
  {
   "cell_type": "code",
   "execution_count": 11,
   "metadata": {},
   "outputs": [],
   "source": [
    "from tqdm.notebook import tqdm\n",
    "import numpy as np\n",
    "import matplotlib.pyplot as plt\n",
    "import pandas as pdS\n",
    "from sklearn.metrics import confusion_matrix\n",
    "\n",
    "import torch\n",
    "import torchvision.transforms as transforms\n",
    "import torchvision.models\n",
    "import torch.optim as optim\n",
    "import torch.nn as nn\n",
    "from torch.utils.data import DataLoader\n",
    "from torch.utils.data import WeightedRandomSampler\n",
    "\n",
    "import time\n",
    "\n",
    "import data_reader\n",
    "import dataset\n",
    "\n",
    "from train_util import fwd_pass, train, test"
   ]
  },
  {
   "cell_type": "code",
   "execution_count": 12,
   "metadata": {},
   "outputs": [
    {
     "name": "stdout",
     "output_type": "stream",
     "text": [
      "Using GPU : cuda:0\n"
     ]
    }
   ],
   "source": [
    "# Choosing device for tensor processing\n",
    "\n",
    "if torch.cuda.is_available():\n",
    "    device = torch.device(\"cuda:0\")\n",
    "    print(\"Using GPU :\", device)\n",
    "else:\n",
    "    device = torch.device(\"cpu\")\n",
    "    print(\"Using CPU \")"
   ]
  },
  {
   "cell_type": "code",
   "execution_count": 13,
   "metadata": {},
   "outputs": [],
   "source": [
    "# Training and data variables\n",
    "\n",
    "MODE = \"w\"\n",
    "EXP_NAME = \"ejemplo_1\"\n",
    "\n",
    "DATA_SET_NAME = f\"data_set_x20_100%_split\"\n",
    "PATCH_SIZE = 512\n",
    "\n",
    "BATCH_SIZE = 8\n",
    "EPOCHS = 10\n",
    "\n",
    "SIZE_X = PATCH_SIZE\n",
    "SIZE_Y = PATCH_SIZE"
   ]
  },
  {
   "cell_type": "code",
   "execution_count": 14,
   "metadata": {},
   "outputs": [],
   "source": [
    "def init_weights(m): # XAVIER initialization for final layer weight initialization\n",
    "    if type(m) == nn.Linear:\n",
    "        torch.nn.init.xavier_uniform_(m.weight)\n",
    "        m.bias.data.fill_(0.01)\n",
    "\n",
    "def init():\n",
    "    global net, loss_function, scheduler, optimizer, MODEL_NAME\n",
    "\n",
    "    net = torchvision.models.resnet18(pretrained=True).to(device)\n",
    "    \n",
    "    for param in net.parameters():\n",
    "        param.requires_grad = False # Freezing the convolutional layers\n",
    "    \n",
    "    for param in net.layer4[1].parameters():\n",
    "        param.requires_grad = True # Unfreezing the last residual block\n",
    "\n",
    "    \n",
    "    net.fc = nn.Sequential(\n",
    "                nn.Linear(512, 2),\n",
    "                #nn.ReLU(inplace=True),\n",
    "                #nn.Linear(128, 2),\n",
    "                nn.Softmax(dim = -1)\n",
    "                ).to(device)\n",
    "\n",
    "    net.fc.apply(init_weights) # Xavier init\n",
    "\n",
    "    #print(f\"Loading {MODEL_NAME}\")\n",
    "    # net.fc = torch.load(f\"C:\\\\Users\\\\Alejandro\\\\Desktop\\\\heterogeneous-data\\\\results\\\\WSI\\\\models\\\\{MODEL_NAME}.pth\") # Model loading\n",
    "\n",
    "    n_params = sum(p.numel() for p in net.fc.parameters())# + sum(p.numel() for p in net.layer4[1].parameters())\n",
    "    print(\"Number of free parameters: \", n_params)\n",
    "\n",
    "    #Hyperparameters:\n",
    "    learning_rate = 1E-4 # LR\n",
    "    loss_function = nn.BCELoss()  # Loss # [1,0] es positivo y [0,1] negativo\n",
    "    optimizer = optim.Adam(net.parameters(), lr=learning_rate, betas=(0.9, 0.999), eps=1e-08)# Optimizer\n",
    "    lambda1 = lambda epoch: 1 ** epoch # Scheduler\n",
    "    scheduler = torch.optim.lr_scheduler.LambdaLR(optimizer, lr_lambda=lambda1)\n"
   ]
  },
  {
   "cell_type": "code",
   "execution_count": 5,
   "metadata": {},
   "outputs": [],
   "source": [
    "def fwd_pass(X, y, train=False):\n",
    "# IMPORTANTE, TRAIN = FALSE PARA QUE NO ENTRENE CON EL TEST DATA ESTO ES PARA PODER HACER TEST MIENTRAS ENTRENO Y VALIDO, \n",
    "# SE ESPERA QUE LA EXACTITUD EN EL TEST DE VALIDACIÓN SEA MENOR\n",
    "    if train: \n",
    "        net.zero_grad()\n",
    "        \n",
    "    # NORMALIZATION\n",
    "    mean = [0.485, 0.456, 0.406]\n",
    "    std = [0.229, 0.224, 0.225]\n",
    "    normalize = torchvision.transforms.Normalize(mean=mean, std=std)\n",
    "\n",
    "    for i, x in enumerate(X):\n",
    "        X[i] = normalize(X[i]/255) # Np array\n",
    "\n",
    "    outputs = net(X)\n",
    "    matches = [torch.argmax(i) == torch.argmax(j) for i,j in zip(outputs, y)]\n",
    "    y_pred = [torch.argmin(i) for i in outputs.cpu()] # 1 means positive diagnosis: (1,0) => 1\n",
    "    y_true = [torch.argmin(i) for i in y.cpu()]\n",
    "    conf_m = confusion_matrix(y_true, y_pred, labels=[0, 1])\n",
    "    acc = matches.count(True)/len(matches)\n",
    "    loss = loss_function(outputs, y)\n",
    "\n",
    "\n",
    "    \"\"\"\n",
    "    for i, x in enumerate(X):\n",
    "        plt.xlabel(f\"Label: {y_true[i]} Predicted: {y_pred[i]} Output: {outputs[i].cpu().detach().numpy()}\")\n",
    "        plt.imshow(X[i].permute(2, 1, 0).cpu())\n",
    "        plt.show()\n",
    "    print(conf_m)\n",
    "    \"\"\"\n",
    "    \n",
    "    if train:\n",
    "        loss.backward() # Calculate gradients using backprop\n",
    "        optimizer.step() # Updates W and b using previously calculated gradients\n",
    "\n",
    "    return acc, loss, conf_m"
   ]
  },
  {
   "cell_type": "code",
   "execution_count": 7,
   "metadata": {},
   "outputs": [
    {
     "name": "stdout",
     "output_type": "stream",
     "text": [
      "CPU times: total: 0 ns\n",
      "Wall time: 0 ns\n"
     ]
    }
   ],
   "source": [
    "def train():\n",
    "  global net, loss_function, scheduler, optimizer, train_set, val_set, MODEL_NAME, EPOCHS\n",
    "  \n",
    "  print(MODEL_NAME)\n",
    "\n",
    "  with open(f\"C:\\\\Users\\\\Alejandro\\\\Desktop\\\\heterogeneous-data\\\\results\\\\WSI\\\\log\\\\model_{MODEL_NAME}.log\", MODE) as f:\n",
    "    for epoch in range(EPOCHS):\n",
    "      acc, loss = 0, 0,\n",
    "      val_acc, val_loss = 0, 0,\n",
    "      conf_m, val_conf_m = np.array([[0,0],[0,0]]), np.array([[0,0],[0,0]])\n",
    "\n",
    "      print(\"\\nEPOCH: \", epoch+1)\n",
    "\n",
    "      for batch_X, batch_y in tqdm(iter(train_dataloader)):\n",
    "\n",
    "        batch_X, batch_y = batch_X.type(torch.FloatTensor).to(device).permute(0, 3, 2, 1), batch_y.type(torch.FloatTensor).to(device) \n",
    "        \n",
    "        net.train() # Making sure that the model is in training mode\n",
    "        \n",
    "        acc_aux, loss_aux, conf_m_aux = fwd_pass(batch_X, batch_y, train=True)\n",
    "        \n",
    "        acc += acc_aux*(len(batch_X)/len(train_set)) # Calculating the average loss and acc through batches sum ACCi*Wi/N (Wi = weight of the batch)\n",
    "        loss += loss_aux*(len(batch_X)/len(train_set))\n",
    "        conf_m += conf_m_aux\n",
    "\n",
    "        \"\"\"\n",
    "        i += 1\n",
    "    \n",
    "        if i%100 == 0:\n",
    "          print(\"Memory allocated in GPU: \", torch.cuda.memory_allocated(\"cuda:0\")/1024/1024/1024)\n",
    "        \"\"\"\n",
    "        \n",
    "      for batch_X, batch_y in tqdm(iter(val_dataloader)):\n",
    "\n",
    "        batch_X, batch_y = batch_X.type(torch.FloatTensor).to(device).permute(0, 3, 2, 1), batch_y.type(torch.FloatTensor).to(device)\n",
    "\n",
    "        net.eval() # Making sure that the model is not training and deactivate droptout\n",
    "        \n",
    "        with torch.no_grad(): # Disable all computations, works together with net.eval()\n",
    "          acc_aux, loss_aux, conf_m_aux = fwd_pass(batch_X, batch_y, train=False)\n",
    "\n",
    "        val_acc += acc_aux*(len(batch_X)/len(val_set)) # Calculating the average loss and acc trough batches\n",
    "        val_loss += loss_aux*(len(batch_X)/len(val_set))\n",
    "        val_conf_m += conf_m_aux\n",
    "\n",
    "      acc = (conf_m[0][0]+conf_m[1][1])/(conf_m[1][0]+conf_m[0][1]+conf_m[1][1]+conf_m[0][0]) # Better way to obtain acc tan using per batch acc\n",
    "      val_acc = (val_conf_m[0][0]+val_conf_m[1][1])/(val_conf_m[1][0]+val_conf_m[0][1]+val_conf_m[1][1]+val_conf_m[0][0])\n",
    "\n",
    "      prc = conf_m[1][1]/(conf_m[1][1]+conf_m[0][1])\n",
    "      val_prc = val_conf_m[1][1]/(val_conf_m[1][1]+val_conf_m[0][1])\n",
    "      rec = conf_m[1][1]/(conf_m[1][1]+conf_m[1][0])\n",
    "      val_rec = val_conf_m[1][1]/(val_conf_m[1][1]+val_conf_m[1][0])\n",
    "      f1 = 2*prc*rec/(prc+rec)\n",
    "      val_f1 = 2*val_prc*val_rec/(val_prc+val_rec)\n",
    "      \n",
    "      print(\"Val loss: \", val_loss.item(),\" Train loss: \", loss.item(), \"\\n\")\n",
    "      print(\"Val acc: \", val_acc,\" Train acc: \", acc, \"\\n\")\n",
    "      print(\"Val PRC:\", val_prc, \"Train PRC: \", prc) # TP/TP+FP\n",
    "      print(\"Val REC: \", val_rec,\"Train REC: \", rec) # TP/TP+FN\n",
    "      print(\"Val f1: \", val_f1,\" Train f1: \", f1, \"\\n\")\n",
    "      print(\"Val CONF: \\n\", val_conf_m,\"\\nTrain CONF: \\n\", conf_m, \"\\n\")\n",
    "\n",
    "      conf_m = f\"{conf_m[0][0]}+{conf_m[0][1]}+{conf_m[1][0]}+{conf_m[1][1]}\"\n",
    "      val_conf_m = f\"{val_conf_m[0][0]}+{val_conf_m[0][1]}+{val_conf_m[1][0]}+{val_conf_m[1][1]}\"\n",
    "    \n",
    "      f.write(f\"{MODEL_NAME},{round(time.time(),3)},{round(float(acc),3)},{round(float(loss),4)},{conf_m},{round(float(prc),4)},{round(float(rec),4)},\")\n",
    "      f.write(f\"{round(float(val_acc),3)},{round(float(val_loss),4)},{val_conf_m}, {round(float(val_prc),4)}, {round(float(val_rec),4)}\\n\")\n",
    "      f.write(\"\\n\\n\")\n",
    "\n",
    "      print(\"Learning Rate: \", optimizer.param_groups[0][\"lr\"])\n",
    "      scheduler.step() # Changing the learning rate\n",
    "\n",
    "    torch.save(net, f\"C:\\\\Users\\\\Alejandro\\\\Desktop\\\\heterogeneous-data\\\\results\\\\WSI\\\\models\\\\{MODEL_NAME}.pth\")\n",
    "\n"
   ]
  },
  {
   "cell_type": "code",
   "execution_count": null,
   "metadata": {},
   "outputs": [],
   "source": [
    "def test():\n",
    "  global test_set, test_dataloader, MODEL_NAME, MODE\n",
    "\n",
    "  with open(r\"C:\\Users\\Alejandro\\Desktop\\heterogeneous-data\\results\\WSI\\test.csv\", MODE) as f:\n",
    "    acc, loss = 0, 0\n",
    "    conf_m = np.array([[0,0],[0,0]])\n",
    "    for batch_X, batch_y in tqdm(iter(test_dataloader)):\n",
    "      batch_X, batch_y = batch_X.type(torch.FloatTensor).to(device).permute(0, 3, 2, 1), batch_y.type(torch.FloatTensor).to(device)\n",
    "\n",
    "      net.eval() # Making sure that the model is not training and deactivate droptout\n",
    "\n",
    "      with torch.no_grad(): # Disable all computations, works together with net.eval()\n",
    "          acc_aux, loss_aux, conf_m_aux = fwd_pass(batch_X, batch_y, train=False)\n",
    "\n",
    "      acc += acc_aux*(len(batch_X)/len(test_set)) # Calculating the average loss and acc trough batches\n",
    "      loss += loss_aux*(len(batch_X)/len(test_set))\n",
    "      conf_m += conf_m_aux\n",
    "\n",
    "    prc = conf_m[0][0]/(conf_m[0][0]+conf_m[0][1])\n",
    "    rec = conf_m[0][0]/(conf_m[0][0]+conf_m[0][1])\n",
    "    f1 = 2*prc*rec/(prc+rec)\n",
    "\n",
    "    print(\"Test loss: \", loss.item(), \"\\n\")\n",
    "    print(\"Test acc: \", acc, \"\\n\")\n",
    "    print(\"Test PRC: \", prc, \"\\n\") # TP/TP+FP\n",
    "    print(\"Test REC: \", rec, \"\\n\") # TP/TP+FN\n",
    "    print(\"f1: \", f1, \"\\n\")\n",
    "    print(\"\\nCONF: \\n\", conf_m, \"\\n\")"
   ]
  },
  {
   "cell_type": "code",
   "execution_count": 8,
   "metadata": {},
   "outputs": [
    {
     "name": "stdout",
     "output_type": "stream",
     "text": [
      "Loading training split: 2\n",
      "Read lmdb\n",
      "Loading training split: 3\n",
      "Read lmdb\n",
      "Loading training split: 4\n",
      "Read lmdb\n",
      "Loading training split: 5\n",
      "Read lmdb\n",
      "Loading training split: 6\n",
      "Read lmdb\n",
      "Loading training split: 7\n",
      "Read lmdb\n",
      "Loading training split: 8\n",
      "Read lmdb\n",
      "Loading training split: 9\n",
      "Read lmdb\n",
      "Patches for training: 118075\n",
      "\n",
      "Loading validation split: 0\n",
      "Read lmdb\n",
      "Patches for validation: 16928\n",
      "\n",
      "Loading test split: 1\n",
      "Read lmdb\n",
      "Patches for test: 13812\n",
      "\n",
      "Number of free parameters:  1026\n",
      "ejemplo_2_0\n",
      "\n",
      "EPOCH:  1\n"
     ]
    },
    {
     "data": {
      "application/vnd.jupyter.widget-view+json": {
       "model_id": "27c1f436543845d29f79e65d123fdf2d",
       "version_major": 2,
       "version_minor": 0
      },
      "text/plain": [
       "  0%|          | 0/14760 [00:00<?, ?it/s]"
      ]
     },
     "metadata": {},
     "output_type": "display_data"
    },
    {
     "name": "stderr",
     "output_type": "stream",
     "text": [
      "c:\\Users\\Alejandro\\anaconda3\\envs\\openslide\\lib\\site-packages\\torch\\utils\\data\\_utils\\collate.py:146: UserWarning: The given NumPy array is not writable, and PyTorch does not support non-writable tensors. This means writing to this tensor will result in undefined behavior. You may want to copy the array to protect its data or make it writable before converting it to a tensor. This type of warning will be suppressed for the rest of this program. (Triggered internally at  C:\\cb\\pytorch_1000000000000\\work\\torch\\csrc\\utils\\tensor_numpy.cpp:178.)\n",
      "  return default_collate([torch.as_tensor(b) for b in batch])\n"
     ]
    },
    {
     "data": {
      "application/vnd.jupyter.widget-view+json": {
       "model_id": "8461279f479444bba6262428153eb579",
       "version_major": 2,
       "version_minor": 0
      },
      "text/plain": [
       "  0%|          | 0/2116 [00:00<?, ?it/s]"
      ]
     },
     "metadata": {},
     "output_type": "display_data"
    },
    {
     "name": "stdout",
     "output_type": "stream",
     "text": [
      "0.9926748582230623\n",
      "0.9737624391276731\n",
      "Val loss:  0.023938510566949844  Train loss:  0.0765271857380867 \n",
      "\n",
      "Val acc:  0.992674858223018  Train acc:  0.9737624391277412 \n",
      "\n",
      "Val PRC: 0.9543021819678881 Train PRC:  0.9732656400222646\n",
      "Val REC:  0.9944229944229944 Train REC:  0.9744490416279659\n",
      "Val f1:  0.9739495798319329  Train f1:  0.973856981316771 \n",
      "\n",
      "Val CONF: \n",
      " [[14486   111]\n",
      " [   13  2318]] \n",
      "Train CONF: \n",
      " [[57275  1585]\n",
      " [ 1513 57702]] \n",
      "\n",
      "Learning Rate:  0.0001\n",
      "\n",
      "EPOCH:  2\n"
     ]
    },
    {
     "data": {
      "application/vnd.jupyter.widget-view+json": {
       "model_id": "e3c8309b677a47faa7bc5f2278c1c24c",
       "version_major": 2,
       "version_minor": 0
      },
      "text/plain": [
       "  0%|          | 0/14760 [00:00<?, ?it/s]"
      ]
     },
     "metadata": {},
     "output_type": "display_data"
    },
    {
     "data": {
      "application/vnd.jupyter.widget-view+json": {
       "model_id": "8b301c4a65ac47ac836d4749e494eaa1",
       "version_major": 2,
       "version_minor": 0
      },
      "text/plain": [
       "  0%|          | 0/2116 [00:00<?, ?it/s]"
      ]
     },
     "metadata": {},
     "output_type": "display_data"
    },
    {
     "name": "stdout",
     "output_type": "stream",
     "text": [
      "0.9965146502835539\n",
      "0.9884564895193733\n",
      "Val loss:  0.01064819935709238  Train loss:  0.03605412319302559 \n",
      "\n",
      "Val acc:  0.9965146502835064  Train acc:  0.9884564895194378 \n",
      "\n",
      "Val PRC: 0.9883920894239037 Train PRC:  0.9885039956657186\n",
      "Val REC:  0.9862719862719863 Train REC:  0.9884203219963094\n",
      "Val f1:  0.9873308997208504  Train f1:  0.9884621570602626 \n",
      "\n",
      "Val CONF: \n",
      " [[14570    27]\n",
      " [   32  2299]] \n",
      "Train CONF: \n",
      " [[58327   679]\n",
      " [  684 58385]] \n",
      "\n",
      "Learning Rate:  0.0001\n",
      "\n",
      "EPOCH:  3\n"
     ]
    },
    {
     "data": {
      "application/vnd.jupyter.widget-view+json": {
       "model_id": "a984d3f1959a44b69b16534087f4a8b2",
       "version_major": 2,
       "version_minor": 0
      },
      "text/plain": [
       "  0%|          | 0/14760 [00:00<?, ?it/s]"
      ]
     },
     "metadata": {},
     "output_type": "display_data"
    },
    {
     "data": {
      "application/vnd.jupyter.widget-view+json": {
       "model_id": "50610737463342699bbcd7f90713ece3",
       "version_major": 2,
       "version_minor": 0
      },
      "text/plain": [
       "  0%|          | 0/2116 [00:00<?, ?it/s]"
      ]
     },
     "metadata": {},
     "output_type": "display_data"
    },
    {
     "name": "stdout",
     "output_type": "stream",
     "text": [
      "0.9910207939508506\n",
      "0.9931230150328181\n",
      "Val loss:  0.027970707044005394  Train loss:  0.021828286349773407 \n",
      "\n",
      "Val acc:  0.9910207939508071  Train acc:  0.9931230150328814 \n",
      "\n",
      "Val PRC: 0.9500206526228832 Train PRC:  0.9926333930321359\n",
      "Val REC:  0.9867009867009867 Train REC:  0.9936406995230525\n",
      "Val f1:  0.9680134680134681  Train f1:  0.9931367908580702 \n",
      "\n",
      "Val CONF: \n",
      " [[14476   121]\n",
      " [   31  2300]] \n",
      "Train CONF: \n",
      " [[58513   436]\n",
      " [  376 58750]] \n",
      "\n",
      "Learning Rate:  0.0001\n",
      "\n",
      "EPOCH:  4\n"
     ]
    },
    {
     "data": {
      "application/vnd.jupyter.widget-view+json": {
       "model_id": "aa0eed7a08fc4edd9693007da00cc702",
       "version_major": 2,
       "version_minor": 0
      },
      "text/plain": [
       "  0%|          | 0/14760 [00:00<?, ?it/s]"
      ]
     },
     "metadata": {},
     "output_type": "display_data"
    },
    {
     "data": {
      "application/vnd.jupyter.widget-view+json": {
       "model_id": "b7bc6ab616d042cb8695c78e0e41d853",
       "version_major": 2,
       "version_minor": 0
      },
      "text/plain": [
       "  0%|          | 0/2116 [00:00<?, ?it/s]"
      ]
     },
     "metadata": {},
     "output_type": "display_data"
    },
    {
     "name": "stdout",
     "output_type": "stream",
     "text": [
      "0.9909617202268431\n",
      "0.9943679864492907\n",
      "Val loss:  0.030567621812224388  Train loss:  0.017599260434508324 \n",
      "\n",
      "Val acc:  0.9909617202268005  Train acc:  0.9943679864493531 \n",
      "\n",
      "Val PRC: 0.9587194608256108 Train PRC:  0.9943316814880184\n",
      "Val REC:  0.9764049764049764 Train REC:  0.994382308514791\n",
      "Val f1:  0.967481402763018  Train f1:  0.9943569943569943 \n",
      "\n",
      "Val CONF: \n",
      " [[14499    98]\n",
      " [   55  2276]] \n",
      "Train CONF: \n",
      " [[58820   334]\n",
      " [  331 58590]] \n",
      "\n",
      "Learning Rate:  0.0001\n",
      "\n",
      "EPOCH:  5\n"
     ]
    },
    {
     "data": {
      "application/vnd.jupyter.widget-view+json": {
       "model_id": "90c33d300a374e3e976164056679ec34",
       "version_major": 2,
       "version_minor": 0
      },
      "text/plain": [
       "  0%|          | 0/14760 [00:00<?, ?it/s]"
      ]
     },
     "metadata": {},
     "output_type": "display_data"
    },
    {
     "data": {
      "application/vnd.jupyter.widget-view+json": {
       "model_id": "cf620f1b161741d9bc4e4f5870b7954c",
       "version_major": 2,
       "version_minor": 0
      },
      "text/plain": [
       "  0%|          | 0/2116 [00:00<?, ?it/s]"
      ]
     },
     "metadata": {},
     "output_type": "display_data"
    },
    {
     "name": "stdout",
     "output_type": "stream",
     "text": [
      "0.994210775047259\n",
      "0.9961465170442515\n",
      "Val loss:  0.021493416279554367  Train loss:  0.012130554765462875 \n",
      "\n",
      "Val acc:  0.9942107750472131  Train acc:  0.9961465170443122 \n",
      "\n",
      "Val PRC: 0.9749042960442365 Train PRC:  0.9959481910961924\n",
      "Val REC:  0.9832689832689833 Train REC:  0.9963366857181623\n",
      "Val f1:  0.9790687740281931  Train f1:  0.9961424005290422 \n",
      "\n",
      "Val CONF: \n",
      " [[14538    59]\n",
      " [   39  2292]] \n",
      "Train CONF: \n",
      " [[58873   239]\n",
      " [  216 58747]] \n",
      "\n",
      "Learning Rate:  0.0001\n",
      "\n",
      "EPOCH:  6\n"
     ]
    },
    {
     "data": {
      "application/vnd.jupyter.widget-view+json": {
       "model_id": "83bc683eac904d2ea39422fb2ce5f8e2",
       "version_major": 2,
       "version_minor": 0
      },
      "text/plain": [
       "  0%|          | 0/14760 [00:00<?, ?it/s]"
      ]
     },
     "metadata": {},
     "output_type": "display_data"
    },
    {
     "data": {
      "application/vnd.jupyter.widget-view+json": {
       "model_id": "631d88d59acc4bc996d9473660df134e",
       "version_major": 2,
       "version_minor": 0
      },
      "text/plain": [
       "  0%|          | 0/2116 [00:00<?, ?it/s]"
      ]
     },
     "metadata": {},
     "output_type": "display_data"
    },
    {
     "name": "stdout",
     "output_type": "stream",
     "text": [
      "0.9937381852551985\n",
      "0.9967054838026678\n",
      "Val loss:  0.01719295047223568  Train loss:  0.009510921314358711 \n",
      "\n",
      "Val acc:  0.9937381852551536  Train acc:  0.9967054838027286 \n",
      "\n",
      "Val PRC: 0.9595208591491119 Train PRC:  0.9966810431969809\n",
      "Val REC:  0.9965679965679966 Train REC:  0.9967650081717242\n",
      "Val f1:  0.9776936026936026  Train f1:  0.9967230239160285 \n",
      "\n",
      "Val CONF: \n",
      " [[14499    98]\n",
      " [    8  2323]] \n",
      "Train CONF: \n",
      " [[58527   197]\n",
      " [  192 59159]] \n",
      "\n",
      "Learning Rate:  0.0001\n",
      "\n",
      "EPOCH:  7\n"
     ]
    },
    {
     "data": {
      "application/vnd.jupyter.widget-view+json": {
       "model_id": "5bcc96823a924396845e130664e7bd08",
       "version_major": 2,
       "version_minor": 0
      },
      "text/plain": [
       "  0%|          | 0/14760 [00:00<?, ?it/s]"
      ]
     },
     "metadata": {},
     "output_type": "display_data"
    },
    {
     "data": {
      "application/vnd.jupyter.widget-view+json": {
       "model_id": "dca079ce2ee64ab2ba230702e550b711",
       "version_major": 2,
       "version_minor": 0
      },
      "text/plain": [
       "  0%|          | 0/2116 [00:00<?, ?it/s]"
      ]
     },
     "metadata": {},
     "output_type": "display_data"
    },
    {
     "name": "stdout",
     "output_type": "stream",
     "text": [
      "0.9945061436672968\n",
      "0.9973999576540334\n",
      "Val loss:  0.017307402566075325  Train loss:  0.007887317799031734 \n",
      "\n",
      "Val acc:  0.9945061436672514  Train acc:  0.9973999576540932 \n",
      "\n",
      "Val PRC: 0.967809364548495 Train PRC:  0.9973665107956176\n",
      "Val REC:  0.9931359931359931 Train REC:  0.9974507023230686\n",
      "Val f1:  0.9803091255557909  Train f1:  0.9974086047826858 \n",
      "\n",
      "Val CONF: \n",
      " [[14520    77]\n",
      " [   16  2315]] \n",
      "Train CONF: \n",
      " [[58687   156]\n",
      " [  151 59081]] \n",
      "\n",
      "Learning Rate:  0.0001\n",
      "\n",
      "EPOCH:  8\n"
     ]
    },
    {
     "data": {
      "application/vnd.jupyter.widget-view+json": {
       "model_id": "f3925ace8079483ca9dd1ba3fcd37261",
       "version_major": 2,
       "version_minor": 0
      },
      "text/plain": [
       "  0%|          | 0/14760 [00:00<?, ?it/s]"
      ]
     },
     "metadata": {},
     "output_type": "display_data"
    },
    {
     "data": {
      "application/vnd.jupyter.widget-view+json": {
       "model_id": "7736cc6459fc4444b43fa2c96d444534",
       "version_major": 2,
       "version_minor": 0
      },
      "text/plain": [
       "  0%|          | 0/2116 [00:00<?, ?it/s]"
      ]
     },
     "metadata": {},
     "output_type": "display_data"
    },
    {
     "name": "stdout",
     "output_type": "stream",
     "text": [
      "0.9969872400756143\n",
      "0.9976116874867669\n",
      "Val loss:  0.010818341746926308  Train loss:  0.007476171012967825 \n",
      "\n",
      "Val acc:  0.9969872400755673  Train acc:  0.9976116874868266 \n",
      "\n",
      "Val PRC: 0.9935064935064936 Train PRC:  0.997552536078994\n",
      "Val REC:  0.9845559845559846 Train REC:  0.9976872562756386\n",
      "Val f1:  0.9890109890109892  Train f1:  0.9976198916291082 \n",
      "\n",
      "Val CONF: \n",
      " [[14582    15]\n",
      " [   36  2295]] \n",
      "Train CONF: \n",
      " [[58693   145]\n",
      " [  137 59100]] \n",
      "\n",
      "Learning Rate:  0.0001\n",
      "\n",
      "EPOCH:  9\n"
     ]
    },
    {
     "data": {
      "application/vnd.jupyter.widget-view+json": {
       "model_id": "693704283ea541408743783d200a63a5",
       "version_major": 2,
       "version_minor": 0
      },
      "text/plain": [
       "  0%|          | 0/14760 [00:00<?, ?it/s]"
      ]
     },
     "metadata": {},
     "output_type": "display_data"
    },
    {
     "data": {
      "application/vnd.jupyter.widget-view+json": {
       "model_id": "f235eadb514448cbbd21fe6879b7c3b1",
       "version_major": 2,
       "version_minor": 0
      },
      "text/plain": [
       "  0%|          | 0/2116 [00:00<?, ?it/s]"
      ]
     },
     "metadata": {},
     "output_type": "display_data"
    },
    {
     "name": "stdout",
     "output_type": "stream",
     "text": [
      "0.9950968809073724\n",
      "0.9981875926318018\n",
      "Val loss:  0.01901698112487793  Train loss:  0.005709636025130749 \n",
      "\n",
      "Val acc:  0.9950968809073261  Train acc:  0.9981875926318614 \n",
      "\n",
      "Val PRC: 0.9824034334763948 Train PRC:  0.9981401640037196\n",
      "Val REC:  0.9819819819819819 Train REC:  0.9982414312044505\n",
      "Val f1:  0.9821926625187728  Train f1:  0.9981907950356768 \n",
      "\n",
      "Val CONF: \n",
      " [[14556    41]\n",
      " [   42  2289]] \n",
      "Train CONF: \n",
      " [[58826   110]\n",
      " [  104 59035]] \n",
      "\n",
      "Learning Rate:  0.0001\n",
      "\n",
      "EPOCH:  10\n"
     ]
    },
    {
     "data": {
      "application/vnd.jupyter.widget-view+json": {
       "model_id": "0333b858994a4e968d5bf93103d0fafe",
       "version_major": 2,
       "version_minor": 0
      },
      "text/plain": [
       "  0%|          | 0/14760 [00:00<?, ?it/s]"
      ]
     },
     "metadata": {},
     "output_type": "display_data"
    },
    {
     "data": {
      "application/vnd.jupyter.widget-view+json": {
       "model_id": "cc8baeabc3274bffa7d8cd37086508bc",
       "version_major": 2,
       "version_minor": 0
      },
      "text/plain": [
       "  0%|          | 0/2116 [00:00<?, ?it/s]"
      ]
     },
     "metadata": {},
     "output_type": "display_data"
    },
    {
     "name": "stdout",
     "output_type": "stream",
     "text": [
      "0.9959239130434783\n",
      "0.9982553461782765\n",
      "Val loss:  0.015226030722260475  Train loss:  0.005627742037177086 \n",
      "\n",
      "Val acc:  0.9959239130434313  Train acc:  0.998255346178336 \n",
      "\n",
      "Val PRC: 0.9808673469387755 Train PRC:  0.9982653651236353\n",
      "Val REC:  0.9897039897039897 Train REC:  0.9982314128290593\n",
      "Val f1:  0.9852658552210122  Train f1:  0.9982483886876521 \n",
      "\n",
      "Val CONF: \n",
      " [[14552    45]\n",
      " [   24  2307]] \n",
      "Train CONF: \n",
      " [[59169   102]\n",
      " [  104 58700]] \n",
      "\n",
      "Learning Rate:  0.0001\n"
     ]
    }
   ],
   "source": [
    "# Choosing only the images from the according splits (10CV)\n",
    "\n",
    "SPLITS = 1 # Number of iterations > n_splits\n",
    "n_splits = 10 # Number of splits to use\n",
    "\n",
    "for SPLIT in range(SPLITS):\n",
    "    MODEL_NAME = EXP_NAME + f\"{SPLIT}\"\n",
    "\n",
    "    TRAIN_SPLITS = list(range(n_splits))\n",
    "    # We take out the SPLIT and SPLIT+1 sets for val and testing\n",
    "    if SPLIT == n_splits: # For the final split for validation we take the firs one for test\n",
    "        TRAIN_SPLITS.remove(0) \n",
    "    else:\n",
    "        TRAIN_SPLITS.remove(SPLIT+1)\n",
    "    TRAIN_SPLITS.remove(SPLIT)\n",
    "\n",
    "    train_set = dataset.PatchDataset([], [], [])\n",
    "    val_set = dataset.PatchDataset([], [], [])\n",
    "    test_set = dataset.PatchDataset([], [], [])\n",
    "\n",
    "    # Loading training splits:\n",
    "    for i in TRAIN_SPLITS:\n",
    "        print(f\"Loading training split: {i}\")\n",
    "        SPLIT_NAME = DATA_SET_NAME + f\"{i}\"\n",
    "        \n",
    "        X_, y_, _ , _ = data_reader.read_lmdb(f\"C:/Users/Alejandro/Desktop/heterogeneous-data/data/patches/{SPLIT_NAME}\")\n",
    "\n",
    "        train_set.inputs.extend(X_)\n",
    "        train_set.labels.extend(y_)\n",
    "\n",
    "    # Random oversampler\n",
    "\n",
    "    y =  [i[0] for i in train_set.labels]\n",
    "    positive = sum(y)\n",
    "    class_sample_count = np.array([len(y)-positive ,positive])\n",
    "    weight = 1. / class_sample_count\n",
    "    samples_weight = np.array([weight[t] for t in y])\n",
    "    samples_weight = torch.from_numpy(samples_weight) # Probability for a sample to be sampled\n",
    "    #samples_weight = torch.tensor([1/len(samples_weight)]*len(samples_weight))\n",
    "    sampler = WeightedRandomSampler(samples_weight.type('torch.DoubleTensor'), len(samples_weight))#, replacement=False)\n",
    "    # Will take len(samples_weight) number of samples, this can be changed\n",
    "    \n",
    "    # Creating DataLoader\n",
    "    train_dataloader = DataLoader(train_set, batch_size=BATCH_SIZE, sampler=sampler)\n",
    "    \n",
    "    print(f\"Patches for training: {len(train_set)}\\n\")\n",
    "    \n",
    "    # Loading validation splits:\n",
    "    SPLIT_NAME = DATA_SET_NAME + f\"{SPLIT}\"\n",
    "\n",
    "    print(f\"Loading validation split: {SPLIT}\")\n",
    "\n",
    "    X_, y_, _ , _ = data_reader.read_lmdb(f\"C:/Users/Alejandro/Desktop/heterogeneous-data/data/patches/{SPLIT_NAME}\")\n",
    "\n",
    "    val_set.inputs.extend(X_)\n",
    "    val_set.labels.extend(y_)\n",
    "\n",
    "    val_dataloader = DataLoader(val_set, batch_size=BATCH_SIZE, shuffle=True)\n",
    "\n",
    "    print(f\"Patches for validation: {len(val_set)}\\n\")\n",
    "\n",
    "    # Loading validation splits:\n",
    "    if SPLIT == n_splits:\n",
    "        SPLIT_NAME = DATA_SET_NAME + f\"{0}\"\n",
    "        print(f\"Loading test split: {0}\")\n",
    "    else:\n",
    "        SPLIT_NAME = DATA_SET_NAME + f\"{SPLIT+1}\"\n",
    "        print(f\"Loading test split: {SPLIT+1}\")\n",
    "\n",
    "    X_, y_, _ , _ = data_reader.read_lmdb(f\"C:/Users/Alejandro/Desktop/heterogeneous-data/data/patches/{SPLIT_NAME}\")\n",
    "\n",
    "    test_set.inputs.extend(X_)\n",
    "    test_set.labels.extend(y_)\n",
    "\n",
    "    test_dataloader = DataLoader(test_set, batch_size=BATCH_SIZE, shuffle=True)\n",
    "\n",
    "    print(f\"Patches for test: {len(test_set)}\\n\")\n",
    "\n",
    "    init()\n",
    "\n",
    "    train()\n",
    "\n",
    "    del train_set, val_set, test_set\n"
   ]
  },
  {
   "cell_type": "code",
   "execution_count": null,
   "metadata": {},
   "outputs": [],
   "source": [
    "conf = [[ 1504, 3835],[ 1504, 14597]]\n",
    "\n",
    "print((conf[0][0]+conf[1][1])/(conf[1][0]+conf[0][1]+conf[1][1]+conf[0][0]))"
   ]
  },
  {
   "cell_type": "code",
   "execution_count": 9,
   "metadata": {},
   "outputs": [],
   "source": [
    "def learning_curve(NAME):\n",
    "  fig, axs = plt.subplots(2, figsize = (7,6))\n",
    "\n",
    "  acc_df = pd.read_csv(f\"C:\\\\Users\\\\Alejandro\\\\Desktop\\\\heterogeneous-data\\\\results\\\\WSI\\\\log\\\\model_{NAME}.log\")\n",
    "  acc_df.columns = [\"MODEL_NAME\", \"TIME\", \"ACC\", \"LOSS\", \"CONF_M\", \"PRC\", \"REC\",\n",
    "                     \"VAL_ACC\", \"VAL_LOSS\", \"VAL_CONF_M\", \"VAL_PRC\", \"VAL_REC\"]\n",
    "\n",
    "  fig, axs = plt.subplots(2, figsize=(5,7))\n",
    "\n",
    "  axs[0].legend(\"MODEL_NAME\", loc=2)\n",
    "\n",
    "  acc_df.plot(y=\"ACC\", ax=axs[0])\n",
    "  acc_df.plot(y=\"VAL_ACC\", ax=axs[0])\n",
    "\n",
    "  acc_df.plot(y=\"LOSS\", ax=axs[1])\n",
    "  acc_df.plot(y=\"VAL_LOSS\",ax=axs[1])\n",
    "\n",
    "  fig.show()\n",
    "  fig.savefig(f\"C:\\\\Users\\\\Alejandro\\\\Desktop\\\\heterogeneous-data\\\\results\\\\WSI\\\\lc\\\\l_curve_{NAME}.pdf\")"
   ]
  },
  {
   "cell_type": "code",
   "execution_count": 10,
   "metadata": {},
   "outputs": [
    {
     "name": "stdout",
     "output_type": "stream",
     "text": [
      "ejemplo_2_0\n"
     ]
    },
    {
     "name": "stderr",
     "output_type": "stream",
     "text": [
      "C:\\Users\\Alejandro\\AppData\\Local\\Temp\\ipykernel_10080\\3090359943.py:18: UserWarning: Matplotlib is currently using module://matplotlib_inline.backend_inline, which is a non-GUI backend, so cannot show the figure.\n",
      "  fig.show()\n"
     ]
    },
    {
     "data": {
      "image/png": "[encoded data removed]",
      "text/plain": [
       "<Figure size 504x432 with 2 Axes>"
      ]
     },
     "metadata": {
      "needs_background": "light"
     },
     "output_type": "display_data"
    },
    {
     "data": {
      "image/png": "[encoded data removed]",
      "text/plain": [
       "<Figure size 360x504 with 2 Axes>"
      ]
     },
     "metadata": {
      "needs_background": "light"
     },
     "output_type": "display_data"
    }
   ],
   "source": [
    "for SPLIT in range(1):\n",
    "    NAME = EXP_NAME + f\"{SPLIT}\"\n",
    "    print(NAME)\n",
    "    learning_curve(NAME)"
   ]
  },
  {
   "cell_type": "code",
   "execution_count": null,
   "metadata": {},
   "outputs": [],
   "source": []
  },
  {
   "cell_type": "code",
   "execution_count": null,
   "metadata": {},
   "outputs": [],
   "source": []
  }
 ],
 "metadata": {
  "interpreter": {
   "hash": "de74446a7cd3a56c425ecbffb2a7ad915342ddab3c48353acb4566475bd7705f"
  },
  "kernelspec": {
   "display_name": "Python 3.9.12 ('openslide')",
   "language": "python",
   "name": "python3"
  },
  "language_info": {
   "codemirror_mode": {
    "name": "ipython",
    "version": 3
   },
   "file_extension": ".py",
   "mimetype": "text/x-python",
   "name": "python",
   "nbconvert_exporter": "python",
   "pygments_lexer": "ipython3",
   "version": "3.9.12"
  },
  "orig_nbformat": 4
 },
 "nbformat": 4,
 "nbformat_minor": 2
}
