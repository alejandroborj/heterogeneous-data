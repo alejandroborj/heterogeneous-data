{
 "cells": [
  {
   "cell_type": "code",
   "execution_count": 1,
   "metadata": {},
   "outputs": [],
   "source": [
    "import numpy as np\n",
    "import glob\n",
    "import os\n",
    "import random\n",
    "from tqdm import tqdm\n",
    "import gc\n",
    "\n",
    "\n",
    "def memory(n):\n",
    "    import psutil\n",
    "    import os\n",
    "    process = psutil.Process(os.getpid())\n",
    "    print(str(n) + \" : \" + str(process.memory_info()[0]/1024/1024/1024))\n",
    "    print(str(n) + \" : \" + str(psutil.virtual_memory()))\n",
    "\n",
    "\n",
    "def mem_obj(obj):\n",
    "    import sys\n",
    "    print(str(sys.getsizeof(obj)/1024/1024/1024))\n",
    "\n",
    "\n",
    "class Data_reader():\n",
    "    # Override by subclasses\n",
    "\n",
    "    def __init__(self, folder_name, np_shape, formats):\n",
    "        self.folder_name = folder_name\n",
    "        self.np_shape = np_shape\n",
    "        self.formats = formats\n",
    "        self.data = {}\n",
    "        self.data['train'] = {}\n",
    "        self.data['val'] = {}\n",
    "        self.data['test'] = {}\n",
    "\n",
    "    def __del__(self):\n",
    "        del self.data\n",
    "\n",
    "    # Search for all folder with name folder_name within the paths passed\n",
    "    # Read all files inside using the read_file method and create a list\n",
    "    # Finally, all file data is added to the data dictionary\n",
    "    def read_data(self, paths, dataset='train'):\n",
    "        for path in tqdm(paths):\n",
    "            case_id = os.path.split(path)[-1]\n",
    "            data_path = os.path.join(path, self.folder_name)\n",
    "            if not os.path.exists(data_path) or len(os.listdir(data_path)) == 0:\n",
    "                #pass\n",
    "                self.data[dataset][case_id] = [np.full(self.np_shape,-3)]\n",
    "            else:\n",
    "                file_data = []\n",
    "                for format in self.formats:\n",
    "                    for file in glob.glob(data_path + \"/*\" + format):\n",
    "                        file_data += [self.read_file(file)]\n",
    "                self.data[dataset][case_id] = file_data\n",
    "\n",
    "    def read_file(self, file):\n",
    "        print(\"Read method not overwritten!\")\n",
    "        return None\n",
    "\n",
    "    # Return a random data value for a case (if there are multiple)\n",
    "\n",
    "    def get_data(self, mode, case_id):\n",
    "        input_data = None\n",
    "        if mode in self.data and case_id in self.data[mode]:\n",
    "            input_data = self.data[mode][case_id]\n",
    "            input_data = input_data[np.random.randint(0, len(input_data))]\n",
    "        else:\n",
    "            print(\"Error, {} or {} not present in data, returning None\".format(mode, case_id))\n",
    "        return input_data\n"
   ]
  },
  {
   "cell_type": "code",
   "execution_count": 6,
   "metadata": {},
   "outputs": [
    {
     "name": "stderr",
     "output_type": "stream",
     "text": [
      "100%|██████████| 1/1 [00:00<00:00, 1846.90it/s]\n"
     ]
    }
   ],
   "source": [
    "paths = [\"\"]\n",
    "\n",
    "data = Data_reader(\"data\", [1,1,1], [])\n",
    "\n",
    "data.read_data(paths)"
   ]
  },
  {
   "cell_type": "code",
   "execution_count": 8,
   "metadata": {},
   "outputs": [
    {
     "data": {
      "text/plain": [
       "<bound method Data_reader.get_data of <__main__.Data_reader object at 0x0000014D4CE04520>>"
      ]
     },
     "execution_count": 8,
     "metadata": {},
     "output_type": "execute_result"
    }
   ],
   "source": [
    "data.get_data"
   ]
  },
  {
   "cell_type": "code",
   "execution_count": 2,
   "metadata": {},
   "outputs": [
    {
     "name": "stderr",
     "output_type": "stream",
     "text": [
      "Failed to loaded tile source openslide\n",
      "Traceback (most recent call last):\n",
      "  File \"D:\\Users\\Alejandro\\anaconda3\\lib\\site-packages\\large_image\\tilesource\\__init__.py\", line 60, in loadTileSources\n",
      "    sourceClass = entryPoint.load()\n",
      "  File \"D:\\Users\\Alejandro\\anaconda3\\lib\\importlib\\metadata.py\", line 77, in load\n",
      "    module = import_module(match.group('module'))\n",
      "  File \"D:\\Users\\Alejandro\\anaconda3\\lib\\importlib\\__init__.py\", line 127, in import_module\n",
      "    return _bootstrap._gcd_import(name[level:], package, level)\n",
      "  File \"<frozen importlib._bootstrap>\", line 1030, in _gcd_import\n",
      "  File \"<frozen importlib._bootstrap>\", line 1007, in _find_and_load\n",
      "  File \"<frozen importlib._bootstrap>\", line 986, in _find_and_load_unlocked\n",
      "  File \"<frozen importlib._bootstrap>\", line 680, in _load_unlocked\n",
      "  File \"<frozen importlib._bootstrap_external>\", line 850, in exec_module\n",
      "  File \"<frozen importlib._bootstrap>\", line 228, in _call_with_frames_removed\n",
      "  File \"D:\\Users\\Alejandro\\anaconda3\\lib\\site-packages\\large_image_source_openslide\\__init__.py\", line 20, in <module>\n",
      "    import openslide\n",
      "  File \"D:\\Users\\Alejandro\\anaconda3\\lib\\site-packages\\openslide\\__init__.py\", line 35, in <module>\n",
      "    from openslide import lowlevel\n",
      "  File \"D:\\Users\\Alejandro\\anaconda3\\lib\\site-packages\\openslide\\lowlevel.py\", line 43, in <module>\n",
      "    _lib = cdll.LoadLibrary('libopenslide-0.dll')\n",
      "  File \"D:\\Users\\Alejandro\\anaconda3\\lib\\ctypes\\__init__.py\", line 460, in LoadLibrary\n",
      "    return self._dlltype(name)\n",
      "  File \"D:\\Users\\Alejandro\\anaconda3\\lib\\ctypes\\__init__.py\", line 382, in __init__\n",
      "    self._handle = _dlopen(self._name, mode)\n",
      "FileNotFoundError: Could not find module 'libopenslide-0.dll' (or one of its dependencies). Try using the full path with constructor syntax.\n"
     ]
    },
    {
     "ename": "TileSourceFileNotFoundError",
     "evalue": "[Errno 2] TCGA-M8-A5N4-01A-01-TS1.E1110AEF-3812-4521-ACE9-17F70FBFF090.svs",
     "output_type": "error",
     "traceback": [
      "\u001b[1;31m---------------------------------------------------------------------------\u001b[0m",
      "\u001b[1;31mTileSourceFileNotFoundError\u001b[0m               Traceback (most recent call last)",
      "\u001b[1;32mC:\\Users\\ALEJAN~1\\AppData\\Local\\Temp/ipykernel_9708/749415070.py\u001b[0m in \u001b[0;36m<module>\u001b[1;34m\u001b[0m\n\u001b[0;32m      4\u001b[0m \u001b[0mf\u001b[0m \u001b[1;33m=\u001b[0m \u001b[1;34m\"TCGA-M8-A5N4-01A-01-TS1.E1110AEF-3812-4521-ACE9-17F70FBFF090.svs\"\u001b[0m\u001b[1;33m\u001b[0m\u001b[1;33m\u001b[0m\u001b[0m\n\u001b[0;32m      5\u001b[0m \u001b[1;33m\u001b[0m\u001b[0m\n\u001b[1;32m----> 6\u001b[1;33m \u001b[0mts\u001b[0m \u001b[1;33m=\u001b[0m \u001b[0mlarge_image\u001b[0m\u001b[1;33m.\u001b[0m\u001b[0mgetTileSource\u001b[0m\u001b[1;33m(\u001b[0m\u001b[0mf\u001b[0m\u001b[1;33m)\u001b[0m\u001b[1;33m\u001b[0m\u001b[1;33m\u001b[0m\u001b[0m\n\u001b[0m\u001b[0;32m      7\u001b[0m \u001b[1;33m\u001b[0m\u001b[0m\n\u001b[0;32m      8\u001b[0m im_low_res , = ts.getRegion(\n",
      "\u001b[1;32mD:\\Users\\Alejandro\\anaconda3\\lib\\site-packages\\large_image\\tilesource\\__init__.py\u001b[0m in \u001b[0;36mgetTileSource\u001b[1;34m(*args, **kwargs)\u001b[0m\n\u001b[0;32m    133\u001b[0m     \u001b[1;32mif\u001b[0m \u001b[1;32mnot\u001b[0m \u001b[0mlen\u001b[0m\u001b[1;33m(\u001b[0m\u001b[0mAvailableTileSources\u001b[0m\u001b[1;33m)\u001b[0m\u001b[1;33m:\u001b[0m\u001b[1;33m\u001b[0m\u001b[1;33m\u001b[0m\u001b[0m\n\u001b[0;32m    134\u001b[0m         \u001b[0mloadTileSources\u001b[0m\u001b[1;33m(\u001b[0m\u001b[1;33m)\u001b[0m\u001b[1;33m\u001b[0m\u001b[1;33m\u001b[0m\u001b[0m\n\u001b[1;32m--> 135\u001b[1;33m     \u001b[1;32mreturn\u001b[0m \u001b[0mgetTileSourceFromDict\u001b[0m\u001b[1;33m(\u001b[0m\u001b[0mAvailableTileSources\u001b[0m\u001b[1;33m,\u001b[0m \u001b[1;33m*\u001b[0m\u001b[0margs\u001b[0m\u001b[1;33m,\u001b[0m \u001b[1;33m**\u001b[0m\u001b[0mkwargs\u001b[0m\u001b[1;33m)\u001b[0m\u001b[1;33m\u001b[0m\u001b[1;33m\u001b[0m\u001b[0m\n\u001b[0m\u001b[0;32m    136\u001b[0m \u001b[1;33m\u001b[0m\u001b[0m\n\u001b[0;32m    137\u001b[0m \u001b[1;33m\u001b[0m\u001b[0m\n",
      "\u001b[1;32mD:\\Users\\Alejandro\\anaconda3\\lib\\site-packages\\large_image\\tilesource\\__init__.py\u001b[0m in \u001b[0;36mgetTileSourceFromDict\u001b[1;34m(availableSources, pathOrUri, *args, **kwargs)\u001b[0m\n\u001b[0;32m    120\u001b[0m         \u001b[1;32mreturn\u001b[0m \u001b[0mavailableSources\u001b[0m\u001b[1;33m[\u001b[0m\u001b[0msourceName\u001b[0m\u001b[1;33m]\u001b[0m\u001b[1;33m(\u001b[0m\u001b[0mpathOrUri\u001b[0m\u001b[1;33m,\u001b[0m \u001b[1;33m*\u001b[0m\u001b[0margs\u001b[0m\u001b[1;33m,\u001b[0m \u001b[1;33m**\u001b[0m\u001b[0mkwargs\u001b[0m\u001b[1;33m)\u001b[0m\u001b[1;33m\u001b[0m\u001b[1;33m\u001b[0m\u001b[0m\n\u001b[0;32m    121\u001b[0m     \u001b[1;32mif\u001b[0m \u001b[1;32mnot\u001b[0m \u001b[0mos\u001b[0m\u001b[1;33m.\u001b[0m\u001b[0mpath\u001b[0m\u001b[1;33m.\u001b[0m\u001b[0mexists\u001b[0m\u001b[1;33m(\u001b[0m\u001b[0mpathOrUri\u001b[0m\u001b[1;33m)\u001b[0m \u001b[1;32mand\u001b[0m \u001b[1;34m'://'\u001b[0m \u001b[1;32mnot\u001b[0m \u001b[1;32min\u001b[0m \u001b[0mpathOrUri\u001b[0m\u001b[1;33m:\u001b[0m\u001b[1;33m\u001b[0m\u001b[1;33m\u001b[0m\u001b[0m\n\u001b[1;32m--> 122\u001b[1;33m         \u001b[1;32mraise\u001b[0m \u001b[0mTileSourceFileNotFoundError\u001b[0m\u001b[1;33m(\u001b[0m\u001b[0mpathOrUri\u001b[0m\u001b[1;33m)\u001b[0m\u001b[1;33m\u001b[0m\u001b[1;33m\u001b[0m\u001b[0m\n\u001b[0m\u001b[0;32m    123\u001b[0m     \u001b[1;32mraise\u001b[0m \u001b[0mTileSourceError\u001b[0m\u001b[1;33m(\u001b[0m\u001b[1;34m'No available tilesource for %s'\u001b[0m \u001b[1;33m%\u001b[0m \u001b[0mpathOrUri\u001b[0m\u001b[1;33m)\u001b[0m\u001b[1;33m\u001b[0m\u001b[1;33m\u001b[0m\u001b[0m\n\u001b[0;32m    124\u001b[0m \u001b[1;33m\u001b[0m\u001b[0m\n",
      "\u001b[1;31mTileSourceFileNotFoundError\u001b[0m: [Errno 2] TCGA-M8-A5N4-01A-01-TS1.E1110AEF-3812-4521-ACE9-17F70FBFF090.svs"
     ]
    }
   ],
   "source": [
    "import large_image\n",
    "import cv2\n",
    "\n",
    "f = \"TCGA-M8-A5N4-01A-01-TS1.E1110AEF-3812-4521-ACE9-17F70FBFF090.svs\"\n",
    "\n",
    "ts = large_image.getTileSource(f)\n",
    "\n",
    "im_low_res , = ts.getRegion(\n",
    "scale=dict(magnification =2.5),\n",
    "format=large_image.tilesource.TILE_FORMAT_NUMPY)"
   ]
  },
  {
   "cell_type": "code",
   "execution_count": null,
   "metadata": {},
   "outputs": [],
   "source": []
  }
 ],
 "metadata": {
  "interpreter": {
   "hash": "5c679b8e464e885a6ba76db12c6687a2a550ae00209876555ec7bb16368b0aa5"
  },
  "kernelspec": {
   "display_name": "Python 3.9.7 ('base')",
   "language": "python",
   "name": "python3"
  },
  "language_info": {
   "codemirror_mode": {
    "name": "ipython",
    "version": 3
   },
   "file_extension": ".py",
   "mimetype": "text/x-python",
   "name": "python",
   "nbconvert_exporter": "python",
   "pygments_lexer": "ipython3",
   "version": "3.9.12"
  },
  "orig_nbformat": 4
 },
 "nbformat": 4,
 "nbformat_minor": 2
}
