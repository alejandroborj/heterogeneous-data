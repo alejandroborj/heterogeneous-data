{
 "cells": [
  {
   "cell_type": "code",
   "execution_count": 4,
   "metadata": {},
   "outputs": [
    {
     "ename": "FileNotFoundError",
     "evalue": "[Errno 2] No such file or directory: 'C:\\\\Users\\\\Alejandro\\\\Desktop\\\\heterogeneous-data\\\\results\\\\WSI\\\\log/model_ejemplo_0.log'",
     "output_type": "error",
     "traceback": [
      "\u001b[1;31m---------------------------------------------------------------------------\u001b[0m",
      "\u001b[1;31mFileNotFoundError\u001b[0m                         Traceback (most recent call last)",
      "\u001b[1;32mc:\\Users\\Alejandro\\Desktop\\heterogeneous-data\\code\\WSI\\plots.ipynb Cell 1'\u001b[0m in \u001b[0;36m<cell line: 99>\u001b[1;34m()\u001b[0m\n\u001b[0;32m     <a href='vscode-notebook-cell:/c%3A/Users/Alejandro/Desktop/heterogeneous-data/code/WSI/plots.ipynb#ch0000000?line=94'>95</a>\u001b[0m     fig\u001b[39m.\u001b[39msavefig(\u001b[39mf\u001b[39m\u001b[39m\"\u001b[39m\u001b[39mC:/Users/Alejandro/Desktop/heterogeneous-data/results/WSI/lc/l_curve_\u001b[39m\u001b[39m{\u001b[39;00mMODEL_NAME[\u001b[39m0\u001b[39m]\u001b[39m}\u001b[39;00m\u001b[39m.pdf\u001b[39m\u001b[39m\"\u001b[39m)\n\u001b[0;32m     <a href='vscode-notebook-cell:/c%3A/Users/Alejandro/Desktop/heterogeneous-data/code/WSI/plots.ipynb#ch0000000?line=96'>97</a>\u001b[0m fig, axs \u001b[39m=\u001b[39m plt\u001b[39m.\u001b[39msubplots(\u001b[39m2\u001b[39m, figsize \u001b[39m=\u001b[39m (\u001b[39m7\u001b[39m,\u001b[39m8\u001b[39m))\n\u001b[1;32m---> <a href='vscode-notebook-cell:/c%3A/Users/Alejandro/Desktop/heterogeneous-data/code/WSI/plots.ipynb#ch0000000?line=98'>99</a>\u001b[0m learning_curve(direc, MODEL_NAMES)\n",
      "\u001b[1;32mc:\\Users\\Alejandro\\Desktop\\heterogeneous-data\\code\\WSI\\plots.ipynb Cell 1'\u001b[0m in \u001b[0;36mlearning_curve\u001b[1;34m(direc, MODEL_NAMES)\u001b[0m\n\u001b[0;32m     <a href='vscode-notebook-cell:/c%3A/Users/Alejandro/Desktop/heterogeneous-data/code/WSI/plots.ipynb#ch0000000?line=16'>17</a>\u001b[0m acc_, val_acc_, loss_, val_loss_ \u001b[39m=\u001b[39m [],[],[],[]\n\u001b[0;32m     <a href='vscode-notebook-cell:/c%3A/Users/Alejandro/Desktop/heterogeneous-data/code/WSI/plots.ipynb#ch0000000?line=18'>19</a>\u001b[0m \u001b[39mfor\u001b[39;00m MODEL_NAME \u001b[39min\u001b[39;00m MODEL_NAMES:\n\u001b[1;32m---> <a href='vscode-notebook-cell:/c%3A/Users/Alejandro/Desktop/heterogeneous-data/code/WSI/plots.ipynb#ch0000000?line=20'>21</a>\u001b[0m     acc_df \u001b[39m=\u001b[39m pd\u001b[39m.\u001b[39;49mread_csv(\u001b[39mf\u001b[39;49m\u001b[39m\"\u001b[39;49m\u001b[39m{\u001b[39;49;00mdirec\u001b[39m}\u001b[39;49;00m\u001b[39m/model_\u001b[39;49m\u001b[39m{\u001b[39;49;00mMODEL_NAME\u001b[39m}\u001b[39;49;00m\u001b[39m.log\u001b[39;49m\u001b[39m\"\u001b[39;49m,\n\u001b[0;32m     <a href='vscode-notebook-cell:/c%3A/Users/Alejandro/Desktop/heterogeneous-data/code/WSI/plots.ipynb#ch0000000?line=21'>22</a>\u001b[0m                         names\u001b[39m=\u001b[39;49m[\u001b[39m\"\u001b[39;49m\u001b[39mMODEL_NAME\u001b[39;49m\u001b[39m\"\u001b[39;49m, \u001b[39m\"\u001b[39;49m\u001b[39mTIME\u001b[39;49m\u001b[39m\"\u001b[39;49m, \u001b[39m\"\u001b[39;49m\u001b[39mACC\u001b[39;49m\u001b[39m\"\u001b[39;49m, \u001b[39m\"\u001b[39;49m\u001b[39mLOSS\u001b[39;49m\u001b[39m\"\u001b[39;49m, \u001b[39m\"\u001b[39;49m\u001b[39mCONF_M\u001b[39;49m\u001b[39m\"\u001b[39;49m, \u001b[39m\"\u001b[39;49m\u001b[39mVAL_PRC\u001b[39;49m\u001b[39m\"\u001b[39;49m, \u001b[39m\"\u001b[39;49m\u001b[39mVAL_ACC\u001b[39;49m\u001b[39m\"\u001b[39;49m, \u001b[39m\"\u001b[39;49m\u001b[39mVAL_LOSS\u001b[39;49m\u001b[39m\"\u001b[39;49m, \u001b[39m\"\u001b[39;49m\u001b[39mVAL_CONF_M\u001b[39;49m\u001b[39m\"\u001b[39;49m, \u001b[39m\"\u001b[39;49m\u001b[39mVAL_REC\u001b[39;49m\u001b[39m\"\u001b[39;49m])\n\u001b[0;32m     <a href='vscode-notebook-cell:/c%3A/Users/Alejandro/Desktop/heterogeneous-data/code/WSI/plots.ipynb#ch0000000?line=23'>24</a>\u001b[0m     acc_df \u001b[39m=\u001b[39m acc_df\u001b[39m.\u001b[39mloc[acc_df[\u001b[39m'\u001b[39m\u001b[39mMODEL_NAME\u001b[39m\u001b[39m'\u001b[39m] \u001b[39m==\u001b[39m MODEL_NAME]\n\u001b[0;32m     <a href='vscode-notebook-cell:/c%3A/Users/Alejandro/Desktop/heterogeneous-data/code/WSI/plots.ipynb#ch0000000?line=25'>26</a>\u001b[0m     acc \u001b[39m=\u001b[39m acc_df[\u001b[39m\"\u001b[39m\u001b[39mACC\u001b[39m\u001b[39m\"\u001b[39m]\u001b[39m.\u001b[39mto_numpy()\n",
      "File \u001b[1;32mc:\\Users\\Alejandro\\anaconda3\\envs\\openslide\\lib\\site-packages\\pandas\\util\\_decorators.py:311\u001b[0m, in \u001b[0;36mdeprecate_nonkeyword_arguments.<locals>.decorate.<locals>.wrapper\u001b[1;34m(*args, **kwargs)\u001b[0m\n\u001b[0;32m    <a href='file:///c%3A/Users/Alejandro/anaconda3/envs/openslide/lib/site-packages/pandas/util/_decorators.py?line=304'>305</a>\u001b[0m \u001b[39mif\u001b[39;00m \u001b[39mlen\u001b[39m(args) \u001b[39m>\u001b[39m num_allow_args:\n\u001b[0;32m    <a href='file:///c%3A/Users/Alejandro/anaconda3/envs/openslide/lib/site-packages/pandas/util/_decorators.py?line=305'>306</a>\u001b[0m     warnings\u001b[39m.\u001b[39mwarn(\n\u001b[0;32m    <a href='file:///c%3A/Users/Alejandro/anaconda3/envs/openslide/lib/site-packages/pandas/util/_decorators.py?line=306'>307</a>\u001b[0m         msg\u001b[39m.\u001b[39mformat(arguments\u001b[39m=\u001b[39marguments),\n\u001b[0;32m    <a href='file:///c%3A/Users/Alejandro/anaconda3/envs/openslide/lib/site-packages/pandas/util/_decorators.py?line=307'>308</a>\u001b[0m         \u001b[39mFutureWarning\u001b[39;00m,\n\u001b[0;32m    <a href='file:///c%3A/Users/Alejandro/anaconda3/envs/openslide/lib/site-packages/pandas/util/_decorators.py?line=308'>309</a>\u001b[0m         stacklevel\u001b[39m=\u001b[39mstacklevel,\n\u001b[0;32m    <a href='file:///c%3A/Users/Alejandro/anaconda3/envs/openslide/lib/site-packages/pandas/util/_decorators.py?line=309'>310</a>\u001b[0m     )\n\u001b[1;32m--> <a href='file:///c%3A/Users/Alejandro/anaconda3/envs/openslide/lib/site-packages/pandas/util/_decorators.py?line=310'>311</a>\u001b[0m \u001b[39mreturn\u001b[39;00m func(\u001b[39m*\u001b[39margs, \u001b[39m*\u001b[39m\u001b[39m*\u001b[39mkwargs)\n",
      "File \u001b[1;32mc:\\Users\\Alejandro\\anaconda3\\envs\\openslide\\lib\\site-packages\\pandas\\io\\parsers\\readers.py:680\u001b[0m, in \u001b[0;36mread_csv\u001b[1;34m(filepath_or_buffer, sep, delimiter, header, names, index_col, usecols, squeeze, prefix, mangle_dupe_cols, dtype, engine, converters, true_values, false_values, skipinitialspace, skiprows, skipfooter, nrows, na_values, keep_default_na, na_filter, verbose, skip_blank_lines, parse_dates, infer_datetime_format, keep_date_col, date_parser, dayfirst, cache_dates, iterator, chunksize, compression, thousands, decimal, lineterminator, quotechar, quoting, doublequote, escapechar, comment, encoding, encoding_errors, dialect, error_bad_lines, warn_bad_lines, on_bad_lines, delim_whitespace, low_memory, memory_map, float_precision, storage_options)\u001b[0m\n\u001b[0;32m    <a href='file:///c%3A/Users/Alejandro/anaconda3/envs/openslide/lib/site-packages/pandas/io/parsers/readers.py?line=664'>665</a>\u001b[0m kwds_defaults \u001b[39m=\u001b[39m _refine_defaults_read(\n\u001b[0;32m    <a href='file:///c%3A/Users/Alejandro/anaconda3/envs/openslide/lib/site-packages/pandas/io/parsers/readers.py?line=665'>666</a>\u001b[0m     dialect,\n\u001b[0;32m    <a href='file:///c%3A/Users/Alejandro/anaconda3/envs/openslide/lib/site-packages/pandas/io/parsers/readers.py?line=666'>667</a>\u001b[0m     delimiter,\n\u001b[1;32m   (...)\u001b[0m\n\u001b[0;32m    <a href='file:///c%3A/Users/Alejandro/anaconda3/envs/openslide/lib/site-packages/pandas/io/parsers/readers.py?line=675'>676</a>\u001b[0m     defaults\u001b[39m=\u001b[39m{\u001b[39m\"\u001b[39m\u001b[39mdelimiter\u001b[39m\u001b[39m\"\u001b[39m: \u001b[39m\"\u001b[39m\u001b[39m,\u001b[39m\u001b[39m\"\u001b[39m},\n\u001b[0;32m    <a href='file:///c%3A/Users/Alejandro/anaconda3/envs/openslide/lib/site-packages/pandas/io/parsers/readers.py?line=676'>677</a>\u001b[0m )\n\u001b[0;32m    <a href='file:///c%3A/Users/Alejandro/anaconda3/envs/openslide/lib/site-packages/pandas/io/parsers/readers.py?line=677'>678</a>\u001b[0m kwds\u001b[39m.\u001b[39mupdate(kwds_defaults)\n\u001b[1;32m--> <a href='file:///c%3A/Users/Alejandro/anaconda3/envs/openslide/lib/site-packages/pandas/io/parsers/readers.py?line=679'>680</a>\u001b[0m \u001b[39mreturn\u001b[39;00m _read(filepath_or_buffer, kwds)\n",
      "File \u001b[1;32mc:\\Users\\Alejandro\\anaconda3\\envs\\openslide\\lib\\site-packages\\pandas\\io\\parsers\\readers.py:575\u001b[0m, in \u001b[0;36m_read\u001b[1;34m(filepath_or_buffer, kwds)\u001b[0m\n\u001b[0;32m    <a href='file:///c%3A/Users/Alejandro/anaconda3/envs/openslide/lib/site-packages/pandas/io/parsers/readers.py?line=571'>572</a>\u001b[0m _validate_names(kwds\u001b[39m.\u001b[39mget(\u001b[39m\"\u001b[39m\u001b[39mnames\u001b[39m\u001b[39m\"\u001b[39m, \u001b[39mNone\u001b[39;00m))\n\u001b[0;32m    <a href='file:///c%3A/Users/Alejandro/anaconda3/envs/openslide/lib/site-packages/pandas/io/parsers/readers.py?line=573'>574</a>\u001b[0m \u001b[39m# Create the parser.\u001b[39;00m\n\u001b[1;32m--> <a href='file:///c%3A/Users/Alejandro/anaconda3/envs/openslide/lib/site-packages/pandas/io/parsers/readers.py?line=574'>575</a>\u001b[0m parser \u001b[39m=\u001b[39m TextFileReader(filepath_or_buffer, \u001b[39m*\u001b[39m\u001b[39m*\u001b[39mkwds)\n\u001b[0;32m    <a href='file:///c%3A/Users/Alejandro/anaconda3/envs/openslide/lib/site-packages/pandas/io/parsers/readers.py?line=576'>577</a>\u001b[0m \u001b[39mif\u001b[39;00m chunksize \u001b[39mor\u001b[39;00m iterator:\n\u001b[0;32m    <a href='file:///c%3A/Users/Alejandro/anaconda3/envs/openslide/lib/site-packages/pandas/io/parsers/readers.py?line=577'>578</a>\u001b[0m     \u001b[39mreturn\u001b[39;00m parser\n",
      "File \u001b[1;32mc:\\Users\\Alejandro\\anaconda3\\envs\\openslide\\lib\\site-packages\\pandas\\io\\parsers\\readers.py:933\u001b[0m, in \u001b[0;36mTextFileReader.__init__\u001b[1;34m(self, f, engine, **kwds)\u001b[0m\n\u001b[0;32m    <a href='file:///c%3A/Users/Alejandro/anaconda3/envs/openslide/lib/site-packages/pandas/io/parsers/readers.py?line=929'>930</a>\u001b[0m     \u001b[39mself\u001b[39m\u001b[39m.\u001b[39moptions[\u001b[39m\"\u001b[39m\u001b[39mhas_index_names\u001b[39m\u001b[39m\"\u001b[39m] \u001b[39m=\u001b[39m kwds[\u001b[39m\"\u001b[39m\u001b[39mhas_index_names\u001b[39m\u001b[39m\"\u001b[39m]\n\u001b[0;32m    <a href='file:///c%3A/Users/Alejandro/anaconda3/envs/openslide/lib/site-packages/pandas/io/parsers/readers.py?line=931'>932</a>\u001b[0m \u001b[39mself\u001b[39m\u001b[39m.\u001b[39mhandles: IOHandles \u001b[39m|\u001b[39m \u001b[39mNone\u001b[39;00m \u001b[39m=\u001b[39m \u001b[39mNone\u001b[39;00m\n\u001b[1;32m--> <a href='file:///c%3A/Users/Alejandro/anaconda3/envs/openslide/lib/site-packages/pandas/io/parsers/readers.py?line=932'>933</a>\u001b[0m \u001b[39mself\u001b[39m\u001b[39m.\u001b[39m_engine \u001b[39m=\u001b[39m \u001b[39mself\u001b[39;49m\u001b[39m.\u001b[39;49m_make_engine(f, \u001b[39mself\u001b[39;49m\u001b[39m.\u001b[39;49mengine)\n",
      "File \u001b[1;32mc:\\Users\\Alejandro\\anaconda3\\envs\\openslide\\lib\\site-packages\\pandas\\io\\parsers\\readers.py:1217\u001b[0m, in \u001b[0;36mTextFileReader._make_engine\u001b[1;34m(self, f, engine)\u001b[0m\n\u001b[0;32m   <a href='file:///c%3A/Users/Alejandro/anaconda3/envs/openslide/lib/site-packages/pandas/io/parsers/readers.py?line=1212'>1213</a>\u001b[0m     mode \u001b[39m=\u001b[39m \u001b[39m\"\u001b[39m\u001b[39mrb\u001b[39m\u001b[39m\"\u001b[39m\n\u001b[0;32m   <a href='file:///c%3A/Users/Alejandro/anaconda3/envs/openslide/lib/site-packages/pandas/io/parsers/readers.py?line=1213'>1214</a>\u001b[0m \u001b[39m# error: No overload variant of \"get_handle\" matches argument types\u001b[39;00m\n\u001b[0;32m   <a href='file:///c%3A/Users/Alejandro/anaconda3/envs/openslide/lib/site-packages/pandas/io/parsers/readers.py?line=1214'>1215</a>\u001b[0m \u001b[39m# \"Union[str, PathLike[str], ReadCsvBuffer[bytes], ReadCsvBuffer[str]]\"\u001b[39;00m\n\u001b[0;32m   <a href='file:///c%3A/Users/Alejandro/anaconda3/envs/openslide/lib/site-packages/pandas/io/parsers/readers.py?line=1215'>1216</a>\u001b[0m \u001b[39m# , \"str\", \"bool\", \"Any\", \"Any\", \"Any\", \"Any\", \"Any\"\u001b[39;00m\n\u001b[1;32m-> <a href='file:///c%3A/Users/Alejandro/anaconda3/envs/openslide/lib/site-packages/pandas/io/parsers/readers.py?line=1216'>1217</a>\u001b[0m \u001b[39mself\u001b[39m\u001b[39m.\u001b[39mhandles \u001b[39m=\u001b[39m get_handle(  \u001b[39m# type: ignore[call-overload]\u001b[39;49;00m\n\u001b[0;32m   <a href='file:///c%3A/Users/Alejandro/anaconda3/envs/openslide/lib/site-packages/pandas/io/parsers/readers.py?line=1217'>1218</a>\u001b[0m     f,\n\u001b[0;32m   <a href='file:///c%3A/Users/Alejandro/anaconda3/envs/openslide/lib/site-packages/pandas/io/parsers/readers.py?line=1218'>1219</a>\u001b[0m     mode,\n\u001b[0;32m   <a href='file:///c%3A/Users/Alejandro/anaconda3/envs/openslide/lib/site-packages/pandas/io/parsers/readers.py?line=1219'>1220</a>\u001b[0m     encoding\u001b[39m=\u001b[39;49m\u001b[39mself\u001b[39;49m\u001b[39m.\u001b[39;49moptions\u001b[39m.\u001b[39;49mget(\u001b[39m\"\u001b[39;49m\u001b[39mencoding\u001b[39;49m\u001b[39m\"\u001b[39;49m, \u001b[39mNone\u001b[39;49;00m),\n\u001b[0;32m   <a href='file:///c%3A/Users/Alejandro/anaconda3/envs/openslide/lib/site-packages/pandas/io/parsers/readers.py?line=1220'>1221</a>\u001b[0m     compression\u001b[39m=\u001b[39;49m\u001b[39mself\u001b[39;49m\u001b[39m.\u001b[39;49moptions\u001b[39m.\u001b[39;49mget(\u001b[39m\"\u001b[39;49m\u001b[39mcompression\u001b[39;49m\u001b[39m\"\u001b[39;49m, \u001b[39mNone\u001b[39;49;00m),\n\u001b[0;32m   <a href='file:///c%3A/Users/Alejandro/anaconda3/envs/openslide/lib/site-packages/pandas/io/parsers/readers.py?line=1221'>1222</a>\u001b[0m     memory_map\u001b[39m=\u001b[39;49m\u001b[39mself\u001b[39;49m\u001b[39m.\u001b[39;49moptions\u001b[39m.\u001b[39;49mget(\u001b[39m\"\u001b[39;49m\u001b[39mmemory_map\u001b[39;49m\u001b[39m\"\u001b[39;49m, \u001b[39mFalse\u001b[39;49;00m),\n\u001b[0;32m   <a href='file:///c%3A/Users/Alejandro/anaconda3/envs/openslide/lib/site-packages/pandas/io/parsers/readers.py?line=1222'>1223</a>\u001b[0m     is_text\u001b[39m=\u001b[39;49mis_text,\n\u001b[0;32m   <a href='file:///c%3A/Users/Alejandro/anaconda3/envs/openslide/lib/site-packages/pandas/io/parsers/readers.py?line=1223'>1224</a>\u001b[0m     errors\u001b[39m=\u001b[39;49m\u001b[39mself\u001b[39;49m\u001b[39m.\u001b[39;49moptions\u001b[39m.\u001b[39;49mget(\u001b[39m\"\u001b[39;49m\u001b[39mencoding_errors\u001b[39;49m\u001b[39m\"\u001b[39;49m, \u001b[39m\"\u001b[39;49m\u001b[39mstrict\u001b[39;49m\u001b[39m\"\u001b[39;49m),\n\u001b[0;32m   <a href='file:///c%3A/Users/Alejandro/anaconda3/envs/openslide/lib/site-packages/pandas/io/parsers/readers.py?line=1224'>1225</a>\u001b[0m     storage_options\u001b[39m=\u001b[39;49m\u001b[39mself\u001b[39;49m\u001b[39m.\u001b[39;49moptions\u001b[39m.\u001b[39;49mget(\u001b[39m\"\u001b[39;49m\u001b[39mstorage_options\u001b[39;49m\u001b[39m\"\u001b[39;49m, \u001b[39mNone\u001b[39;49;00m),\n\u001b[0;32m   <a href='file:///c%3A/Users/Alejandro/anaconda3/envs/openslide/lib/site-packages/pandas/io/parsers/readers.py?line=1225'>1226</a>\u001b[0m )\n\u001b[0;32m   <a href='file:///c%3A/Users/Alejandro/anaconda3/envs/openslide/lib/site-packages/pandas/io/parsers/readers.py?line=1226'>1227</a>\u001b[0m \u001b[39massert\u001b[39;00m \u001b[39mself\u001b[39m\u001b[39m.\u001b[39mhandles \u001b[39mis\u001b[39;00m \u001b[39mnot\u001b[39;00m \u001b[39mNone\u001b[39;00m\n\u001b[0;32m   <a href='file:///c%3A/Users/Alejandro/anaconda3/envs/openslide/lib/site-packages/pandas/io/parsers/readers.py?line=1227'>1228</a>\u001b[0m f \u001b[39m=\u001b[39m \u001b[39mself\u001b[39m\u001b[39m.\u001b[39mhandles\u001b[39m.\u001b[39mhandle\n",
      "File \u001b[1;32mc:\\Users\\Alejandro\\anaconda3\\envs\\openslide\\lib\\site-packages\\pandas\\io\\common.py:789\u001b[0m, in \u001b[0;36mget_handle\u001b[1;34m(path_or_buf, mode, encoding, compression, memory_map, is_text, errors, storage_options)\u001b[0m\n\u001b[0;32m    <a href='file:///c%3A/Users/Alejandro/anaconda3/envs/openslide/lib/site-packages/pandas/io/common.py?line=783'>784</a>\u001b[0m \u001b[39melif\u001b[39;00m \u001b[39misinstance\u001b[39m(handle, \u001b[39mstr\u001b[39m):\n\u001b[0;32m    <a href='file:///c%3A/Users/Alejandro/anaconda3/envs/openslide/lib/site-packages/pandas/io/common.py?line=784'>785</a>\u001b[0m     \u001b[39m# Check whether the filename is to be opened in binary mode.\u001b[39;00m\n\u001b[0;32m    <a href='file:///c%3A/Users/Alejandro/anaconda3/envs/openslide/lib/site-packages/pandas/io/common.py?line=785'>786</a>\u001b[0m     \u001b[39m# Binary mode does not support 'encoding' and 'newline'.\u001b[39;00m\n\u001b[0;32m    <a href='file:///c%3A/Users/Alejandro/anaconda3/envs/openslide/lib/site-packages/pandas/io/common.py?line=786'>787</a>\u001b[0m     \u001b[39mif\u001b[39;00m ioargs\u001b[39m.\u001b[39mencoding \u001b[39mand\u001b[39;00m \u001b[39m\"\u001b[39m\u001b[39mb\u001b[39m\u001b[39m\"\u001b[39m \u001b[39mnot\u001b[39;00m \u001b[39min\u001b[39;00m ioargs\u001b[39m.\u001b[39mmode:\n\u001b[0;32m    <a href='file:///c%3A/Users/Alejandro/anaconda3/envs/openslide/lib/site-packages/pandas/io/common.py?line=787'>788</a>\u001b[0m         \u001b[39m# Encoding\u001b[39;00m\n\u001b[1;32m--> <a href='file:///c%3A/Users/Alejandro/anaconda3/envs/openslide/lib/site-packages/pandas/io/common.py?line=788'>789</a>\u001b[0m         handle \u001b[39m=\u001b[39m \u001b[39mopen\u001b[39;49m(\n\u001b[0;32m    <a href='file:///c%3A/Users/Alejandro/anaconda3/envs/openslide/lib/site-packages/pandas/io/common.py?line=789'>790</a>\u001b[0m             handle,\n\u001b[0;32m    <a href='file:///c%3A/Users/Alejandro/anaconda3/envs/openslide/lib/site-packages/pandas/io/common.py?line=790'>791</a>\u001b[0m             ioargs\u001b[39m.\u001b[39;49mmode,\n\u001b[0;32m    <a href='file:///c%3A/Users/Alejandro/anaconda3/envs/openslide/lib/site-packages/pandas/io/common.py?line=791'>792</a>\u001b[0m             encoding\u001b[39m=\u001b[39;49mioargs\u001b[39m.\u001b[39;49mencoding,\n\u001b[0;32m    <a href='file:///c%3A/Users/Alejandro/anaconda3/envs/openslide/lib/site-packages/pandas/io/common.py?line=792'>793</a>\u001b[0m             errors\u001b[39m=\u001b[39;49merrors,\n\u001b[0;32m    <a href='file:///c%3A/Users/Alejandro/anaconda3/envs/openslide/lib/site-packages/pandas/io/common.py?line=793'>794</a>\u001b[0m             newline\u001b[39m=\u001b[39;49m\u001b[39m\"\u001b[39;49m\u001b[39m\"\u001b[39;49m,\n\u001b[0;32m    <a href='file:///c%3A/Users/Alejandro/anaconda3/envs/openslide/lib/site-packages/pandas/io/common.py?line=794'>795</a>\u001b[0m         )\n\u001b[0;32m    <a href='file:///c%3A/Users/Alejandro/anaconda3/envs/openslide/lib/site-packages/pandas/io/common.py?line=795'>796</a>\u001b[0m     \u001b[39melse\u001b[39;00m:\n\u001b[0;32m    <a href='file:///c%3A/Users/Alejandro/anaconda3/envs/openslide/lib/site-packages/pandas/io/common.py?line=796'>797</a>\u001b[0m         \u001b[39m# Binary mode\u001b[39;00m\n\u001b[0;32m    <a href='file:///c%3A/Users/Alejandro/anaconda3/envs/openslide/lib/site-packages/pandas/io/common.py?line=797'>798</a>\u001b[0m         handle \u001b[39m=\u001b[39m \u001b[39mopen\u001b[39m(handle, ioargs\u001b[39m.\u001b[39mmode)\n",
      "\u001b[1;31mFileNotFoundError\u001b[0m: [Errno 2] No such file or directory: 'C:\\\\Users\\\\Alejandro\\\\Desktop\\\\heterogeneous-data\\\\results\\\\WSI\\\\log/model_ejemplo_0.log'"
     ]
    },
    {
     "data": {
      "image/png": "[encoded data removed]",
      "text/plain": [
       "<Figure size 504x576 with 2 Axes>"
      ]
     },
     "metadata": {
      "needs_background": "light"
     },
     "output_type": "display_data"
    }
   ],
   "source": [
    "import matplotlib.pyplot as plt\n",
    "import pandas as pd\n",
    "import numpy as np\n",
    "from scipy import interpolate\n",
    "from varname import nameof\n",
    "import seaborn as sn\n",
    "\n",
    "#SIMPLE BUENO\n",
    "\n",
    "#COMPLEX MODEL\n",
    "MODEL_NAME = \"ejemplo\"\n",
    "MODEL_NAMES = [f\"{MODEL_NAME}_{SPLIT}\" for SPLIT in range(10)]\n",
    "\n",
    "direc = r\"C:\\Users\\Alejandro\\Desktop\\heterogeneous-data\\results\\WSI\\log\"\n",
    "\n",
    "def learning_curve(direc, MODEL_NAMES):\n",
    "    acc_, val_acc_, loss_, val_loss_ = [],[],[],[]\n",
    "\n",
    "    for MODEL_NAME in MODEL_NAMES:\n",
    "\n",
    "        acc_df = pd.read_csv(f\"{direc}/model_{MODEL_NAME}.log\",\n",
    "                            names=[\"MODEL_NAME\", \"TIME\", \"ACC\", \"LOSS\", \"CONF_M\", \"VAL_PRC\", \"VAL_ACC\", \"VAL_LOSS\", \"VAL_CONF_M\", \"VAL_REC\"])\n",
    "        \n",
    "        acc_df = acc_df.loc[acc_df['MODEL_NAME'] == MODEL_NAME]\n",
    "\n",
    "        acc = acc_df[\"ACC\"].to_numpy()\n",
    "        loss = acc_df[\"LOSS\"].to_numpy()\n",
    "\n",
    "        val_acc = acc_df[\"VAL_ACC\"].to_numpy()\n",
    "        val_loss = acc_df[\"VAL_LOSS\"].to_numpy()\n",
    "    \n",
    "        acc_.append(acc)\n",
    "        loss_.append(loss)\n",
    "\n",
    "        val_acc_.append(val_acc)\n",
    "        val_loss_.append(val_loss)\n",
    "\n",
    "    print(len(acc_))\n",
    "\n",
    "    acc = np.mean(acc_, axis=0)\n",
    "    loss = np.mean(loss_, axis=0)\n",
    "    val_acc = np.mean(val_acc_, axis=0)\n",
    "    val_loss = np.mean(val_loss_, axis=0)\n",
    "\n",
    "    acc_err = np.std(acc_, axis=0)\n",
    "    loss_err = np.std(loss_, axis=0)\n",
    "    val_acc_err = np.std(val_acc_, axis=0)\n",
    "    val_loss_err = np.std(val_loss_, axis=0)\n",
    "\n",
    "    t = range(len(acc))\n",
    "    \n",
    "    axs[0].legend(\"MODEL_NAME\", loc=2)\n",
    "\n",
    "    axs[0].set_xlabel(\"Epoch\")\n",
    "    axs[0].set_ylabel(\"Accuracy\")\n",
    "\n",
    "    axs[0].plot(t,acc, 'o' , ls =\"-\", label= \"Training\")\n",
    "    axs[0].plot(t,val_acc, 'o', ls =\"-\", label= \"Validation\")\n",
    "\n",
    "\n",
    "    axs[1].set_xlabel(\"Epoch\")\n",
    "    axs[1].set_ylabel(\"Binary cross entropy\")\n",
    "\n",
    "    axs[1].plot(t,loss, 'o', ls =\"-\", label= \"Training\")\n",
    "    axs[1].plot(t,val_loss, 'o', ls =\"-\", label= \"Validation\")\n",
    "\n",
    "\n",
    "    for idx, i in enumerate([loss, val_loss, acc , val_acc]):\n",
    "        x = t\n",
    "        y = i\n",
    "        x_list = np.linspace(0,20,100)\n",
    "        poly = np.polyfit(x, y,5)\n",
    "        poly_y = np.poly1d(poly)(x_list)\n",
    "\n",
    "        if idx<2:\n",
    "            if nameof(i)==nameof(acc):\n",
    "                err = acc_err\n",
    "            else:\n",
    "                err = val_acc_err\n",
    "            #axs[1].plot(x_list, poly_y)\n",
    "            axs[1].fill_between(t, y + err,\n",
    "                     y - err, alpha=0.1,)\n",
    "        else:\n",
    "            if nameof(i)==nameof(loss):\n",
    "                err = loss_err\n",
    "            else:\n",
    "                err = val_loss_err\n",
    "            #axs[0].plot(x_list, poly_y)\n",
    "            axs[0].fill_between(t, y + err,\n",
    "                     y - err, alpha=0.1,)\n",
    "\n",
    "    axs[0].legend(loc = \"lower right\")\n",
    "    axs[1].legend()\n",
    "    fig.show()\n",
    "    fig.savefig(f\"C:/Users/Alejandro/Desktop/heterogeneous-data/results/WSI/lc/l_curve_{MODEL_NAME[0]}.pdf\")\n",
    "\n",
    "fig, axs = plt.subplots(2, figsize = (7,8))\n",
    "\n",
    "learning_curve(direc, MODEL_NAMES)"
   ]
  },
  {
   "cell_type": "code",
   "execution_count": 17,
   "metadata": {},
   "outputs": [],
   "source": [
    "conf = np.array([[475,        20],\n",
    "                [43,         158]])\n",
    "                \n",
    "MODEL_NAME = \"ejemplo0\"\n",
    "\n",
    "acc_df = pd.read_csv(f\"{direc}/model_{MODEL_NAME}.log\",\n",
    "                            names=[\"MODEL_NAME\", \"TIME\", \"ACC\", \"LOSS\", \"CONF_M\", \"VAL_PRC\", \"VAL_ACC\", \"VAL_LOSS\", \"VAL_CONF_M\", \"VAL_REC\"])\n",
    "\n",
    "conf = acc_df[\"CONF_M\"]#[0]"
   ]
  },
  {
   "cell_type": "code",
   "execution_count": 18,
   "metadata": {},
   "outputs": [
    {
     "name": "stdout",
     "output_type": "stream",
     "text": [
      "Series([], Name: CONF_M, dtype: object)\n"
     ]
    }
   ],
   "source": [
    "print(conf)"
   ]
  },
  {
   "cell_type": "code",
   "execution_count": 7,
   "metadata": {},
   "outputs": [],
   "source": [
    "direc = \"FT_DATAUG_BUENO\"\n",
    "\n",
    "\n",
    "def evaluate(direc, MODEL_NAMES, conf):\n",
    "\n",
    "    fig, ax = plt.subplots()\n",
    "        \n",
    "    lab = [\"Negative\", \"Positive\"]\n",
    "\n",
    "    group_names = ['True Neg','False Pos','False Neg','True Pos']\n",
    "    group_counts = [\"{0:0.0f}\".format(value) for value in conf.flatten()]\n",
    "    group_percentages = [\"{0:.2%}\".format(value) for value in conf.flatten()/np.sum(conf)]\n",
    "    labels = [f\"{v1}\\n{v2}\\n{v3}\" for v1, v2, v3 in zip(group_names,group_counts,group_percentages)]\n",
    "    labels = np.asarray(labels).reshape(2,2)\n",
    "\n",
    "    sn.heatmap(conf, annot=labels, fmt='', cmap='Blues', ax= ax)\n",
    "\n",
    "    ax.set_xticklabels(lab)\n",
    "    ax.set_yticklabels(lab)\n",
    "\n",
    "    ax.set_xlabel(\"Predicted class\")\n",
    "    ax.set_ylabel(\"True class\")\n",
    "\n",
    "    fig.savefig(f\"conf_matrix_{direc}.pdf\")\n"
   ]
  },
  {
   "cell_type": "code",
   "execution_count": 8,
   "metadata": {},
   "outputs": [
    {
     "name": "stdout",
     "output_type": "stream",
     "text": [
      "[[1 2]\n",
      " [0 1]]\n"
     ]
    },
    {
     "data": {
      "image/png": "[encoded data removed]",
      "text/plain": [
       "<Figure size 432x288 with 2 Axes>"
      ]
     },
     "metadata": {
      "needs_background": "light"
     },
     "output_type": "display_data"
    }
   ],
   "source": [
    "from sklearn.metrics import confusion_matrix\n",
    "x=confusion_matrix([0, 1, 0, 0], [1, 1, 1, 0])\n",
    "print(x) # TRUE, PRED por lo que filas => TRUE CLASS y columnas => PREDICTED CLASS\n",
    "'''\n",
    "00 = TP\n",
    "01 = FP\n",
    "10 = FN\n",
    "11 = TN \n",
    "(0, 2, 1, 1)\n",
    "'''\n",
    "\n",
    "MODEL_NAMES = \"\"\n",
    "\n",
    "evaluate(direc, MODEL_NAMES, x)"
   ]
  },
  {
   "cell_type": "markdown",
   "metadata": {},
   "source": [
    "PRC = 00/(00+01) # TP/TP+FP\n",
    "REC = 00/(00+10) # TP/TP+FN\n",
    "\n",
    "F1 = conf_m[0][0]/(conf_m[0][0]+0.5*(conf_m[1][0]+conf_m[0][1])) # TP/(TP+(FN+FP)/2)\n",
    "F1 = 2*PRC*REC/(PRC+REC)\n",
    "\n",
    "\n",
    "Thus in binary classification, the count of true negatives is C_00 , false negatives is C_10, true positives is C_11 and false positives is C_01\n"
   ]
  }
 ],
 "metadata": {
  "interpreter": {
   "hash": "de74446a7cd3a56c425ecbffb2a7ad915342ddab3c48353acb4566475bd7705f"
  },
  "kernelspec": {
   "display_name": "Python 3.9.12 ('openslide')",
   "language": "python",
   "name": "python3"
  },
  "language_info": {
   "codemirror_mode": {
    "name": "ipython",
    "version": 3
   },
   "file_extension": ".py",
   "mimetype": "text/x-python",
   "name": "python",
   "nbconvert_exporter": "python",
   "pygments_lexer": "ipython3",
   "version": "3.9.12"
  },
  "orig_nbformat": 2
 },
 "nbformat": 4,
 "nbformat_minor": 2
}
