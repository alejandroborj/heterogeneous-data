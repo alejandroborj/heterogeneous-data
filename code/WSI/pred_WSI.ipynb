{
 "cells": [
  {
   "cell_type": "code",
   "execution_count": 1,
   "metadata": {},
   "outputs": [],
   "source": [
    "from tqdm.notebook import tqdm\n",
    "import matplotlib.pyplot as plt\n",
    "\n",
    "import torch\n",
    "import torchvision.transforms as transforms\n",
    "import torch.nn as nn\n",
    "from torch.utils.data import DataLoader\n",
    "\n",
    "import numpy as np\n",
    "from sklearn.metrics import confusion_matrix\n",
    "\n",
    "import dataset\n",
    "import data_reader\n",
    "import plots"
   ]
  },
  {
   "cell_type": "code",
   "execution_count": 2,
   "metadata": {},
   "outputs": [
    {
     "name": "stdout",
     "output_type": "stream",
     "text": [
      "Using GPU : cuda:0\n"
     ]
    }
   ],
   "source": [
    "# Choosing device for tensor processing\n",
    "\n",
    "if torch.cuda.is_available():\n",
    "    device = torch.device(\"cuda:0\")\n",
    "    print(\"Using GPU :\", device)\n",
    "else:\n",
    "    device = torch.device(\"cpu\")\n",
    "    print(\"Using CPU \")"
   ]
  },
  {
   "cell_type": "code",
   "execution_count": 3,
   "metadata": {},
   "outputs": [],
   "source": [
    "EXP_NAME = \"ejemplo_2\"\n",
    "\n",
    "DATA_SET_NAME = f\"data_set_x20_100%_split\""
   ]
  },
  {
   "cell_type": "code",
   "execution_count": 4,
   "metadata": {},
   "outputs": [],
   "source": [
    "def wsi_class(wsi_data_set):\n",
    "    global net\n",
    "    \"\"\"\n",
    "    Input: \n",
    "    - wsi_data_set, patches from a given WSI, dataset object\n",
    "    - y, patch labels\n",
    "    Outputs:\n",
    "    - output, Prediction\n",
    "    \"\"\"\n",
    "    wsi_dataloader = DataLoader(wsi_data_set, batch_size=64)\n",
    "    outputs = []\n",
    "    loss = 0\n",
    "\n",
    "    for batch_X, batch_y in iter(wsi_dataloader):\n",
    "        batch_X, batch_y = batch_X.type(torch.FloatTensor).to(device).permute(0, 3, 2, 1), batch_y.type(torch.FloatTensor).to(device) \n",
    "\n",
    "        mean = [0.485, 0.456, 0.406]\n",
    "        std = [0.229, 0.224, 0.225]\n",
    "        normalize = transforms.Normalize(mean=mean, std=std)\n",
    "\n",
    "        for i, x in enumerate(batch_X):\n",
    "            batch_X[i] = normalize(batch_X[i]/255) # Np array\n",
    "        \n",
    "        output = net(batch_X)\n",
    "        outputs.extend(output.cpu())\n",
    "        #print(batch_y.size(), output.size())\n",
    "        loss += nn.BCELoss()(output, batch_y).cpu()\n",
    "\n",
    "    y_pred = [torch.argmin(i) for i in outputs] # 1 means positive diagnosis: (1,0) => 1\n",
    "\n",
    "    output = sum(y_pred)/len(y_pred)\n",
    "    loss = loss/len(wsi_data_set)\n",
    "\n",
    "    return output, loss"
   ]
  },
  {
   "cell_type": "code",
   "execution_count": 5,
   "metadata": {},
   "outputs": [
    {
     "name": "stdout",
     "output_type": "stream",
     "text": [
      "Read lmdb\n"
     ]
    },
    {
     "data": {
      "application/vnd.jupyter.widget-view+json": {
       "model_id": "5dfd24a3f6cf40c5a07527b325557154",
       "version_major": 2,
       "version_minor": 0
      },
      "text/plain": [
       "  0%|          | 0/25 [00:00<?, ?it/s]"
      ]
     },
     "metadata": {},
     "output_type": "display_data"
    },
    {
     "name": "stderr",
     "output_type": "stream",
     "text": [
      "c:\\Users\\Alejandro\\anaconda3\\envs\\openslide\\lib\\site-packages\\torch\\utils\\data\\_utils\\collate.py:146: UserWarning: The given NumPy array is not writable, and PyTorch does not support non-writable tensors. This means writing to this tensor will result in undefined behavior. You may want to copy the array to protect its data or make it writable before converting it to a tensor. This type of warning will be suppressed for the rest of this program. (Triggered internally at  C:\\cb\\pytorch_1000000000000\\work\\torch\\csrc\\utils\\tensor_numpy.cpp:178.)\n",
      "  return default_collate([torch.as_tensor(b) for b in batch])\n"
     ]
    },
    {
     "name": "stdout",
     "output_type": "stream",
     "text": [
      "Mean Loss:  0.015108648\n",
      "Acc:  0.84\n",
      "PRC:  0.875\n",
      "REC:  0.9545454545454546\n",
      "f1:  0.9130434782608695\n",
      "CONF: \n",
      " [[ 0  3]\n",
      " [ 1 21]] \n",
      "\n"
     ]
    },
    {
     "data": {
      "image/png": "[encoded data removed]",
      "text/plain": [
       "<Figure size 432x288 with 2 Axes>"
      ]
     },
     "metadata": {
      "needs_background": "light"
     },
     "output_type": "display_data"
    }
   ],
   "source": [
    "SPLIT_NAME = DATA_SET_NAME + f\"{1}\"\n",
    "MODEL_NAME = EXP_NAME + f\"{0}\"\n",
    "\n",
    "net = torch.load(f\"C:\\\\Users\\\\Alejandro\\\\Desktop\\\\heterogeneous-data\\\\results\\\\WSI\\\\models\\\\{MODEL_NAME}.pth\") # Model loading\n",
    "\n",
    "X, y, _ , case_ids = data_reader.read_lmdb(f\"C:/Users/Alejandro/Desktop/heterogeneous-data/data/WSI/patches/{SPLIT_NAME}\")\n",
    "\n",
    "case_ids = [case_id[2:38] for case_id in case_ids] # Taking only the case_id, not patch id\n",
    "\n",
    "outputs, loss, labels = [], [], []\n",
    "unique_case_ids = np.unique(case_ids)\n",
    "case_ids = np.array(case_ids)\n",
    "\n",
    "for unique_case_id in tqdm(unique_case_ids):\n",
    "\n",
    "    net.eval()\n",
    "    with torch.no_grad():\n",
    "        ii = np.where(case_ids == unique_case_id)[0]\n",
    "\n",
    "        wsi_data_set = dataset.PatchDataset([], [], [])\n",
    "\n",
    "        wsi_data_set.inputs.extend(X[ii[0]:ii[-1]])# Taking the patches from a given wsi\n",
    "        wsi_data_set.labels.extend(y[ii[0]:ii[-1]])\n",
    "        wsi_data_set.case_ids.extend(case_ids)\n",
    "        \n",
    "        output = wsi_class(wsi_data_set)\n",
    "        outputs.append(output[0])\n",
    "        loss.append(output[1])\n",
    "        labels.append(y[ii[0]][0]) # OHE to binary\n",
    "\n",
    "        del wsi_data_set\n",
    "\n",
    "loss = np.mean(loss)\n",
    "\n",
    "out = [1 if output>0.5 else 0 for output in outputs]\n",
    "\n",
    "conf_m = confusion_matrix(labels, out, labels=[0, 1])\n",
    "\n",
    "acc = (conf_m[0][0]+conf_m[1][1])/(conf_m[1][0]+conf_m[0][1]+conf_m[1][1]+conf_m[0][0])\n",
    "prc = conf_m[1][1]/(conf_m[1][1]+conf_m[0][1])\n",
    "rec = conf_m[1][1]/(conf_m[1][1]+conf_m[1][0])\n",
    "f1 = 2*prc*rec/(prc+rec)\n",
    "\n",
    "print(\"Mean Loss: \", loss)\n",
    "print(\"Acc: \", acc)\n",
    "print(\"PRC: \", prc) # TP/TP+FP\n",
    "print(\"REC: \", rec) # TP/TP+FN\n",
    "print(\"f1: \", f1)\n",
    "print(\"CONF: \\n\", conf_m, \"\\n\")\n",
    "\n",
    "plots.plot_conf(SPLIT_NAME, conf_m)\n"
   ]
  },
  {
   "cell_type": "code",
   "execution_count": 7,
   "metadata": {},
   "outputs": [
    {
     "name": "stdout",
     "output_type": "stream",
     "text": [
      "['0678bef8-d0a3-42ad-810b-377f692b4575'\n",
      " '0972f52a-f558-40ed-9f8d-682da29461f2'\n",
      " '2545c7a6-9557-48c8-b7a7-2ec068390f70'\n",
      " '3c1f1433-58c1-4ff2-9b0b-e7811cc67678'\n",
      " '43e53137-057f-4f0d-a01e-210ee35c6e1a'\n",
      " '449085a5-6126-4640-8f4c-a80e9ef56996'\n",
      " '4565b134-c896-44c1-a24f-cb133d290331'\n",
      " '587350db-5cfc-406b-928c-aaa9387a0202'\n",
      " '6668d531-59a4-4f2a-a18e-c3f5a19c255d'\n",
      " '66699aa9-428d-4f42-a939-f2b5e55033ec'\n",
      " '7b6b91e0-8229-4c12-abb3-92d8242fa547'\n",
      " '7c73d3ea-d732-42cf-b9fa-92739e648cdb'\n",
      " '7caee464-f84c-45ac-ad9e-d3f234d51678'\n",
      " '8e748bd9-f5bf-4be9-ae06-97a2b279bf8c'\n",
      " '9600988b-837f-461e-8dc5-136085e20dd0'\n",
      " '9ea40004-75b6-4317-bc57-f873baa7f10e'\n",
      " 'b35e7197-5624-462f-a69b-c7b98b68c9af'\n",
      " 'b681f69a-e664-4e9d-a479-e9e8e08f0c6d'\n",
      " 'bbde7752-3c5e-4730-abf0-f4b6b0b23077'\n",
      " 'c630b17c-e321-4b90-8b8d-a3ca92cba43a'\n",
      " 'cef8f965-3ffe-4aa6-a79c-dd03b7885fa9'\n",
      " 'd95dd0b2-c8a1-41cd-8d06-31fcd7ff92bc'\n",
      " 'efa22162-d986-4d92-bb50-516f5450caf8'\n",
      " 'fb9c07db-d18d-414c-9abc-14b6c7fd7bc3'\n",
      " 'feba0925-0edd-4077-a5e1-7c93d33283ae']\n",
      "[tensor(0.9273), tensor(0.9481), tensor(0.9151), tensor(0.9556), tensor(0.9362), tensor(0.9341), tensor(0.0945), tensor(0.7649), tensor(1.), tensor(1.), tensor(1.), tensor(1.), tensor(1.), tensor(1.), tensor(1.), tensor(1.), tensor(1.), tensor(1.), tensor(0.5846), tensor(0.6412), tensor(1.), tensor(1.), tensor(1.), tensor(0.9958), tensor(0.9226)]\n",
      "[1, 1, 1, 0, 1, 1, 1, 1, 1, 1, 0, 1, 1, 1, 1, 1, 1, 1, 1, 1, 1, 1, 1, 1, 0]\n"
     ]
    }
   ],
   "source": [
    "print(unique_case_ids)\n",
    "print(labels)\n",
    "\n",
    "# fd232b29-8298-420c-bd99-c61fc27cc1ad does not meet protocol\n",
    "# 1be7d418-81ce-52c4-8feb-7fe23401bf24 does not meet protocol"
   ]
  },
  {
   "cell_type": "code",
   "execution_count": 10,
   "metadata": {},
   "outputs": [],
   "source": [
    "roc = []\n",
    "\n",
    "# ROC\n",
    "for i in reversed(np.linspace(0,1,10000)):\n",
    "    out = [1 if output>i else 0 for output in outputs]\n",
    "    conf_m = confusion_matrix(labels, out, labels=[0, 1])\n",
    "    roc.append(conf_m[1][1]/(conf_m[1][0]+conf_m[1][1]))"
   ]
  },
  {
   "cell_type": "code",
   "execution_count": 11,
   "metadata": {},
   "outputs": [
    {
     "data": {
      "image/png": "[encoded data removed]",
      "text/plain": [
       "<Figure size 432x288 with 1 Axes>"
      ]
     },
     "metadata": {
      "needs_background": "light"
     },
     "output_type": "display_data"
    }
   ],
   "source": [
    "plots.plot_roc(SPLIT_NAME, roc)"
   ]
  },
  {
   "cell_type": "code",
   "execution_count": null,
   "metadata": {},
   "outputs": [],
   "source": [
    "# Choosing only the images from the according splits (10CV)\n",
    "\n",
    "SPLITS = 1 # Number of iterations > n_splits\n",
    "\n",
    "for SPLIT in range(SPLITS):\n",
    "    MODEL_NAME = EXP_NAME + f\"{SPLIT}\"\n",
    "    SPLIT_NAME = DATA_SET_NAME + f\"{SPLIT}\"\n",
    "\n",
    "    test_set = dataset.PatchDataset([], [], [])\n",
    "\n",
    "    X_, y_, _ , case_ids_ = data_reader.read_lmdb(f\"C:/Users/Alejandro/Desktop/heterogeneous-data/data/WSI/patches/{SPLIT_NAME}\")\n",
    "\n",
    "    test_set.inputs.extend(X_)\n",
    "    test_set.labels.extend(y_)\n",
    "    test_set.case_ids.extend(case_ids_)\n",
    "\n",
    "    print(f\"Loading model {MODEL_NAME}\\n\")\n",
    "\n",
    "    net = torch.load(f\"C:\\\\Users\\\\Alejandro\\\\Desktop\\\\heterogeneous-data\\\\results\\\\WSI\\\\models\\\\{MODEL_NAME}.pth\") # Model loading\n",
    "\n",
    "    test_wsi()\n",
    "\n",
    "    del test_set\n"
   ]
  },
  {
   "cell_type": "code",
   "execution_count": null,
   "metadata": {},
   "outputs": [],
   "source": []
  }
 ],
 "metadata": {
  "interpreter": {
   "hash": "de74446a7cd3a56c425ecbffb2a7ad915342ddab3c48353acb4566475bd7705f"
  },
  "kernelspec": {
   "display_name": "Python 3.9.12 ('openslide')",
   "language": "python",
   "name": "python3"
  },
  "language_info": {
   "codemirror_mode": {
    "name": "ipython",
    "version": 3
   },
   "file_extension": ".py",
   "mimetype": "text/x-python",
   "name": "python",
   "nbconvert_exporter": "python",
   "pygments_lexer": "ipython3",
   "version": "3.9.12"
  },
  "orig_nbformat": 4
 },
 "nbformat": 4,
 "nbformat_minor": 2
}
