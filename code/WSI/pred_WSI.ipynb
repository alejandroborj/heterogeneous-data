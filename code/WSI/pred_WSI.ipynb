{
 "cells": [
  {
   "cell_type": "code",
   "execution_count": 8,
   "metadata": {},
   "outputs": [],
   "source": [
    "import torch\n",
    "import torchvision.transforms as torchvision\n",
    "import torch.nn as nn\n",
    "\n",
    "from PIL import Image\n",
    "\n",
    "from tqdm.notebook import tqdm\n",
    "import glob\n",
    "import os\n",
    "\n",
    "import numpy as np\n",
    "import pandas as pd\n",
    "from sklearn.metrics import confusion_matrix\n",
    "\n",
    "## In order to fix .dll openslide bug a path for said file is provided\n",
    "os.environ['PATH'] = r\"C:\\Users\\Alejandro\\Downloads\\openslide-win64-20171122\\openslide-win64-20171122\\bin\" + \";\" + os.environ['PATH']  #libvips-bin-path is where you save the libvips files\n",
    "import openslide\n",
    "import large_image"
   ]
  },
  {
   "cell_type": "code",
   "execution_count": 9,
   "metadata": {},
   "outputs": [],
   "source": [
    "def pred_data(paths, patch_size, formats, net): #  paths => paths for all data folders. dataset => train, test or val\n",
    "    for path in tqdm(paths):\n",
    "        case_id = os.path.split(path)[-1]\n",
    "        if not os.path.exists(path) or len(os.listdir(path)) == 0:\n",
    "            print(\"Path does not exist\")\n",
    "            pass\n",
    "        else:\n",
    "            file_data = []\n",
    "            for format in formats:\n",
    "                for file in glob.glob(path + r\"\\*\" + format):\n",
    "                    if file[-51:-49] in (\"01\", \"02\", \"03\", \"04\" ,\"05\", \"06\", \"07\", \"08\", \"09\"): # Reading the ID diagnostic sample type 01 == Primary tumor\n",
    "                        label = torch.tensor([1,0]).to(\"cuda:0\").float()\n",
    "                    else:\n",
    "                        label = torch.tensor([0,1]).to(\"cuda:0\").float()\n",
    "                    file_data += pred_file(file, label, patch_size, net)\n",
    "    return file_data"
   ]
  },
  {
   "cell_type": "code",
   "execution_count": 21,
   "metadata": {},
   "outputs": [],
   "source": [
    "def pred_file(file, patch_size, label, net):\n",
    "    \"\"\"\n",
    "    Classifies a WSI (file) using net classifier\n",
    "    \"\"\"\n",
    "    device = \"cuda:0\"\n",
    "    ts = large_image.getTileSource(file)\n",
    "    \n",
    "    patches = []\n",
    "    labels = []\n",
    "    \n",
    "    mean = [0.485, 0.456, 0.406]\n",
    "    std = [0.229, 0.224, 0.225]\n",
    "    normalize = torchvision.transforms.Normalize(mean=mean, std=std)\n",
    "\n",
    "    for tile_info in ts.tileIterator(\n",
    "    scale=dict(magnification=20),\n",
    "    tile_size=dict(width=patch_size, height=patch_size),\n",
    "    tile_overlap=dict(x=0, y=0),\n",
    "    format=large_image.tilesource.TILE_FORMAT_PIL\n",
    "    ):  \n",
    "        patch = tile_info['tile']\n",
    "        print(patch)\n",
    "\n",
    "        # Changing from PIL RGBA image to RGB tensor\n",
    "        patch_aux = Image.new(\"RGB\", patch.size, (255, 255, 255))\n",
    "        patch_aux.paste(patch, mask=patch.split()[3]) # 3 is the alpha channel\n",
    "\n",
    "        patch = np.asarray(patch_aux)\n",
    "\n",
    "        avg = patch.mean(axis=0).mean(axis=0)\n",
    "\n",
    "        if  avg[0]< 220 and avg[1]< 220 and avg[2]< 220 and patch.shape == (patch_size, patch_size, 3): # Checking if the patch is white and its a square tile\n",
    "            patch = (torch.from_numpy(patch)/255).to(device)\n",
    "            patch = normalize(patch.permute(2, 1, 0))\n",
    "            patches.append(patch)\n",
    "            labels.append(label)\n",
    "            \n",
    "    patches = torch.stack(patches).view(-1, 3, patch_size, patch_size)\n",
    "    labels = torch.stack(labels)\n",
    "    \n",
    "    acc, loss, output = fwd_pass(patches, labels, net)\n",
    "            \n",
    "    return acc, loss, output"
   ]
  },
  {
   "cell_type": "code",
   "execution_count": 22,
   "metadata": {},
   "outputs": [],
   "source": [
    "def fwd_pass(X, y, net, train=False):\n",
    "    loss_function = loss_function = nn.BCELoss()\n",
    "\n",
    "    outputs = net(X)\n",
    "\n",
    "    matches = [torch.argmax(i) == torch.argmax(j) for i,j in zip(outputs, y)]\n",
    "\n",
    "    acc = matches.count(True)/len(matches)\n",
    "    loss = loss_function(outputs, y)\n",
    "    \n",
    "    output = torch.sum(outputs, dim=0)\n",
    "    if output[0]>output[1]:\n",
    "        output = [1, 0]\n",
    "    else:\n",
    "        output = [0, 1]\n",
    "\n",
    "    del outputs\n",
    "\n",
    "    return acc, loss, output"
   ]
  },
  {
   "cell_type": "code",
   "execution_count": 23,
   "metadata": {},
   "outputs": [],
   "source": [
    "data_path = r\"C:\\Users\\Alejandro\\Desktop\\heterogeneous-data\\data\\gdc_download_20220427_144600.480657\"\n",
    "\n",
    "case_id = os.listdir(data_path)\n",
    "\n",
    "paths = [data_path + \"\\\\\" + case for case in case_id][2:3] # All case folders paths"
   ]
  },
  {
   "cell_type": "code",
   "execution_count": 24,
   "metadata": {},
   "outputs": [],
   "source": [
    "net = torch.load(r\"C:\\Users\\Alejandro\\Desktop\\heterogeneous-data\\results\\WSI\\models\\ejemplo_0.pth\")"
   ]
  },
  {
   "cell_type": "code",
   "execution_count": 25,
   "metadata": {},
   "outputs": [
    {
     "data": {
      "application/vnd.jupyter.widget-view+json": {
       "model_id": "57cbf573f781442e8d0984ca81cb58c5",
       "version_major": 2,
       "version_minor": 0
      },
      "text/plain": [
       "  0%|          | 0/1 [00:00<?, ?it/s]"
      ]
     },
     "metadata": {},
     "output_type": "display_data"
    },
    {
     "name": "stdout",
     "output_type": "stream",
     "text": [
      "d\n"
     ]
    },
    {
     "ename": "ValueError",
     "evalue": "only one element tensors can be converted to Python scalars",
     "output_type": "error",
     "traceback": [
      "\u001b[1;31m---------------------------------------------------------------------------\u001b[0m",
      "\u001b[1;31mValueError\u001b[0m                                Traceback (most recent call last)",
      "\u001b[1;32mc:\\Users\\Alejandro\\Desktop\\heterogeneous-data\\code\\WSI\\pred_WSI.ipynb Cell 7'\u001b[0m in \u001b[0;36m<cell line: 3>\u001b[1;34m()\u001b[0m\n\u001b[0;32m      <a href='vscode-notebook-cell:/c%3A/Users/Alejandro/Desktop/heterogeneous-data/code/WSI/pred_WSI.ipynb#ch0000007?line=0'>1</a>\u001b[0m patch_size \u001b[39m=\u001b[39m \u001b[39m512\u001b[39m\n\u001b[0;32m      <a href='vscode-notebook-cell:/c%3A/Users/Alejandro/Desktop/heterogeneous-data/code/WSI/pred_WSI.ipynb#ch0000007?line=1'>2</a>\u001b[0m paths \u001b[39m=\u001b[39m [\u001b[39mr\u001b[39m\u001b[39m\"\u001b[39m\u001b[39mC:\u001b[39m\u001b[39m\\\u001b[39m\u001b[39mUsers\u001b[39m\u001b[39m\\\u001b[39m\u001b[39mAlejandro\u001b[39m\u001b[39m\\\u001b[39m\u001b[39mDesktop\u001b[39m\u001b[39m\\\u001b[39m\u001b[39mheterogeneous-data\u001b[39m\u001b[39m\\\u001b[39m\u001b[39mdata\u001b[39m\u001b[39m\\\u001b[39m\u001b[39mgdc_download_20220427_144600.480657\u001b[39m\u001b[39m\\\u001b[39m\u001b[39m02b370ac-0168-4bd4-8178-54770b134a45\u001b[39m\u001b[39m\"\u001b[39m]\n\u001b[1;32m----> <a href='vscode-notebook-cell:/c%3A/Users/Alejandro/Desktop/heterogeneous-data/code/WSI/pred_WSI.ipynb#ch0000007?line=2'>3</a>\u001b[0m pred_data(paths, patch_size, [\u001b[39m\"\u001b[39;49m\u001b[39m.svs\u001b[39;49m\u001b[39m\"\u001b[39;49m], net)\n",
      "\u001b[1;32mc:\\Users\\Alejandro\\Desktop\\heterogeneous-data\\code\\WSI\\pred_WSI.ipynb Cell 2'\u001b[0m in \u001b[0;36mpred_data\u001b[1;34m(paths, patch_size, formats, net)\u001b[0m\n\u001b[0;32m     <a href='vscode-notebook-cell:/c%3A/Users/Alejandro/Desktop/heterogeneous-data/code/WSI/pred_WSI.ipynb#ch0000002?line=12'>13</a>\u001b[0m                 \u001b[39melse\u001b[39;00m:\n\u001b[0;32m     <a href='vscode-notebook-cell:/c%3A/Users/Alejandro/Desktop/heterogeneous-data/code/WSI/pred_WSI.ipynb#ch0000002?line=13'>14</a>\u001b[0m                     label \u001b[39m=\u001b[39m torch\u001b[39m.\u001b[39mtensor([\u001b[39m0\u001b[39m,\u001b[39m1\u001b[39m])\u001b[39m.\u001b[39mto(\u001b[39m\"\u001b[39m\u001b[39mcuda:0\u001b[39m\u001b[39m\"\u001b[39m)\u001b[39m.\u001b[39mfloat()\n\u001b[1;32m---> <a href='vscode-notebook-cell:/c%3A/Users/Alejandro/Desktop/heterogeneous-data/code/WSI/pred_WSI.ipynb#ch0000002?line=14'>15</a>\u001b[0m                 file_data \u001b[39m+\u001b[39m\u001b[39m=\u001b[39m pred_file(file, label, patch_size, net)\n\u001b[0;32m     <a href='vscode-notebook-cell:/c%3A/Users/Alejandro/Desktop/heterogeneous-data/code/WSI/pred_WSI.ipynb#ch0000002?line=15'>16</a>\u001b[0m \u001b[39mreturn\u001b[39;00m file_data\n",
      "\u001b[1;32mc:\\Users\\Alejandro\\Desktop\\heterogeneous-data\\code\\WSI\\pred_WSI.ipynb Cell 3'\u001b[0m in \u001b[0;36mpred_file\u001b[1;34m(file, patch_size, label, net)\u001b[0m\n\u001b[0;32m     <a href='vscode-notebook-cell:/c%3A/Users/Alejandro/Desktop/heterogeneous-data/code/WSI/pred_WSI.ipynb#ch0000006?line=12'>13</a>\u001b[0m normalize \u001b[39m=\u001b[39m torchvision\u001b[39m.\u001b[39mtransforms\u001b[39m.\u001b[39mNormalize(mean\u001b[39m=\u001b[39mmean, std\u001b[39m=\u001b[39mstd)\n\u001b[0;32m     <a href='vscode-notebook-cell:/c%3A/Users/Alejandro/Desktop/heterogeneous-data/code/WSI/pred_WSI.ipynb#ch0000006?line=14'>15</a>\u001b[0m \u001b[39mprint\u001b[39m(\u001b[39m\"\u001b[39m\u001b[39md\u001b[39m\u001b[39m\"\u001b[39m)\n\u001b[1;32m---> <a href='vscode-notebook-cell:/c%3A/Users/Alejandro/Desktop/heterogeneous-data/code/WSI/pred_WSI.ipynb#ch0000006?line=15'>16</a>\u001b[0m \u001b[39mfor\u001b[39;00m tile_info \u001b[39min\u001b[39;00m ts\u001b[39m.\u001b[39mtileIterator(\n\u001b[0;32m     <a href='vscode-notebook-cell:/c%3A/Users/Alejandro/Desktop/heterogeneous-data/code/WSI/pred_WSI.ipynb#ch0000006?line=16'>17</a>\u001b[0m scale\u001b[39m=\u001b[39m\u001b[39mdict\u001b[39m(magnification\u001b[39m=\u001b[39m\u001b[39m20\u001b[39m),\n\u001b[0;32m     <a href='vscode-notebook-cell:/c%3A/Users/Alejandro/Desktop/heterogeneous-data/code/WSI/pred_WSI.ipynb#ch0000006?line=17'>18</a>\u001b[0m tile_size\u001b[39m=\u001b[39m\u001b[39mdict\u001b[39m(width\u001b[39m=\u001b[39mpatch_size, height\u001b[39m=\u001b[39mpatch_size),\n\u001b[0;32m     <a href='vscode-notebook-cell:/c%3A/Users/Alejandro/Desktop/heterogeneous-data/code/WSI/pred_WSI.ipynb#ch0000006?line=18'>19</a>\u001b[0m tile_overlap\u001b[39m=\u001b[39m\u001b[39mdict\u001b[39m(x\u001b[39m=\u001b[39m\u001b[39m0\u001b[39m, y\u001b[39m=\u001b[39m\u001b[39m0\u001b[39m),\n\u001b[0;32m     <a href='vscode-notebook-cell:/c%3A/Users/Alejandro/Desktop/heterogeneous-data/code/WSI/pred_WSI.ipynb#ch0000006?line=19'>20</a>\u001b[0m \u001b[39mformat\u001b[39m\u001b[39m=\u001b[39mlarge_image\u001b[39m.\u001b[39mtilesource\u001b[39m.\u001b[39mTILE_FORMAT_PIL\n\u001b[0;32m     <a href='vscode-notebook-cell:/c%3A/Users/Alejandro/Desktop/heterogeneous-data/code/WSI/pred_WSI.ipynb#ch0000006?line=20'>21</a>\u001b[0m ):  \n\u001b[0;32m     <a href='vscode-notebook-cell:/c%3A/Users/Alejandro/Desktop/heterogeneous-data/code/WSI/pred_WSI.ipynb#ch0000006?line=21'>22</a>\u001b[0m     patch \u001b[39m=\u001b[39m tile_info[\u001b[39m'\u001b[39m\u001b[39mtile\u001b[39m\u001b[39m'\u001b[39m]\n\u001b[0;32m     <a href='vscode-notebook-cell:/c%3A/Users/Alejandro/Desktop/heterogeneous-data/code/WSI/pred_WSI.ipynb#ch0000006?line=22'>23</a>\u001b[0m     \u001b[39mprint\u001b[39m(patch)\n",
      "File \u001b[1;32mc:\\Users\\Alejandro\\anaconda3\\envs\\openslide\\lib\\site-packages\\large_image\\tilesource\\base.py:2288\u001b[0m, in \u001b[0;36mTileSource.tileIterator\u001b[1;34m(self, format, resample, **kwargs)\u001b[0m\n\u001b[0;32m   <a href='file:///c%3A/Users/Alejandro/anaconda3/envs/openslide/lib/site-packages/large_image/tilesource/base.py?line=2284'>2285</a>\u001b[0m         \u001b[39mraise\u001b[39;00m \u001b[39mValueError\u001b[39;00m(\u001b[39m'\u001b[39m\u001b[39mInvalid encoding \u001b[39m\u001b[39m\"\u001b[39m\u001b[39m%s\u001b[39;00m\u001b[39m\"\u001b[39m\u001b[39m'\u001b[39m \u001b[39m%\u001b[39m encoding)\n\u001b[0;32m   <a href='file:///c%3A/Users/Alejandro/anaconda3/envs/openslide/lib/site-packages/large_image/tilesource/base.py?line=2285'>2286</a>\u001b[0m iterFormat \u001b[39m=\u001b[39m \u001b[39mformat\u001b[39m \u001b[39mif\u001b[39;00m resample \u001b[39min\u001b[39;00m (\u001b[39mFalse\u001b[39;00m, \u001b[39mNone\u001b[39;00m) \u001b[39melse\u001b[39;00m (\n\u001b[0;32m   <a href='file:///c%3A/Users/Alejandro/anaconda3/envs/openslide/lib/site-packages/large_image/tilesource/base.py?line=2286'>2287</a>\u001b[0m     TILE_FORMAT_PIL, )\n\u001b[1;32m-> <a href='file:///c%3A/Users/Alejandro/anaconda3/envs/openslide/lib/site-packages/large_image/tilesource/base.py?line=2287'>2288</a>\u001b[0m iterInfo \u001b[39m=\u001b[39m \u001b[39mself\u001b[39m\u001b[39m.\u001b[39m_tileIteratorInfo(\u001b[39mformat\u001b[39m\u001b[39m=\u001b[39miterFormat, resample\u001b[39m=\u001b[39mresample,\n\u001b[0;32m   <a href='file:///c%3A/Users/Alejandro/anaconda3/envs/openslide/lib/site-packages/large_image/tilesource/base.py?line=2288'>2289</a>\u001b[0m                                   \u001b[39m*\u001b[39m\u001b[39m*\u001b[39mkwargs)\n\u001b[0;32m   <a href='file:///c%3A/Users/Alejandro/anaconda3/envs/openslide/lib/site-packages/large_image/tilesource/base.py?line=2289'>2290</a>\u001b[0m \u001b[39mif\u001b[39;00m \u001b[39mnot\u001b[39;00m iterInfo:\n\u001b[0;32m   <a href='file:///c%3A/Users/Alejandro/anaconda3/envs/openslide/lib/site-packages/large_image/tilesource/base.py?line=2290'>2291</a>\u001b[0m     \u001b[39mreturn\u001b[39;00m\n",
      "File \u001b[1;32mc:\\Users\\Alejandro\\anaconda3\\envs\\openslide\\lib\\site-packages\\large_image\\tilesource\\base.py:566\u001b[0m, in \u001b[0;36mTileSource._tileIteratorInfo\u001b[1;34m(self, **kwargs)\u001b[0m\n\u001b[0;32m    <a href='file:///c%3A/Users/Alejandro/anaconda3/envs/openslide/lib/site-packages/large_image/tilesource/base.py?line=563'>564</a>\u001b[0m     tile_overlap[\u001b[39m'\u001b[39m\u001b[39mrange_y\u001b[39m\u001b[39m'\u001b[39m] \u001b[39m=\u001b[39m tile_overlap[\u001b[39m'\u001b[39m\u001b[39my\u001b[39m\u001b[39m'\u001b[39m]\n\u001b[0;32m    <a href='file:///c%3A/Users/Alejandro/anaconda3/envs/openslide/lib/site-packages/large_image/tilesource/base.py?line=564'>565</a>\u001b[0m \u001b[39mif\u001b[39;00m \u001b[39m'\u001b[39m\u001b[39mtile_size\u001b[39m\u001b[39m'\u001b[39m \u001b[39min\u001b[39;00m kwargs:\n\u001b[1;32m--> <a href='file:///c%3A/Users/Alejandro/anaconda3/envs/openslide/lib/site-packages/large_image/tilesource/base.py?line=565'>566</a>\u001b[0m     tile_size[\u001b[39m'\u001b[39m\u001b[39mwidth\u001b[39m\u001b[39m'\u001b[39m] \u001b[39m=\u001b[39m \u001b[39mint\u001b[39;49m(kwargs[\u001b[39m'\u001b[39;49m\u001b[39mtile_size\u001b[39;49m\u001b[39m'\u001b[39;49m]\u001b[39m.\u001b[39;49mget(\n\u001b[0;32m    <a href='file:///c%3A/Users/Alejandro/anaconda3/envs/openslide/lib/site-packages/large_image/tilesource/base.py?line=566'>567</a>\u001b[0m         \u001b[39m'\u001b[39;49m\u001b[39mwidth\u001b[39;49m\u001b[39m'\u001b[39;49m, kwargs[\u001b[39m'\u001b[39;49m\u001b[39mtile_size\u001b[39;49m\u001b[39m'\u001b[39;49m]\u001b[39m.\u001b[39;49mget(\u001b[39m'\u001b[39;49m\u001b[39mheight\u001b[39;49m\u001b[39m'\u001b[39;49m, tile_size[\u001b[39m'\u001b[39;49m\u001b[39mwidth\u001b[39;49m\u001b[39m'\u001b[39;49m])))\n\u001b[0;32m    <a href='file:///c%3A/Users/Alejandro/anaconda3/envs/openslide/lib/site-packages/large_image/tilesource/base.py?line=567'>568</a>\u001b[0m     tile_size[\u001b[39m'\u001b[39m\u001b[39mheight\u001b[39m\u001b[39m'\u001b[39m] \u001b[39m=\u001b[39m \u001b[39mint\u001b[39m(kwargs[\u001b[39m'\u001b[39m\u001b[39mtile_size\u001b[39m\u001b[39m'\u001b[39m]\u001b[39m.\u001b[39mget(\n\u001b[0;32m    <a href='file:///c%3A/Users/Alejandro/anaconda3/envs/openslide/lib/site-packages/large_image/tilesource/base.py?line=568'>569</a>\u001b[0m         \u001b[39m'\u001b[39m\u001b[39mheight\u001b[39m\u001b[39m'\u001b[39m, kwargs[\u001b[39m'\u001b[39m\u001b[39mtile_size\u001b[39m\u001b[39m'\u001b[39m]\u001b[39m.\u001b[39mget(\u001b[39m'\u001b[39m\u001b[39mwidth\u001b[39m\u001b[39m'\u001b[39m, tile_size[\u001b[39m'\u001b[39m\u001b[39mheight\u001b[39m\u001b[39m'\u001b[39m])))\n\u001b[0;32m    <a href='file:///c%3A/Users/Alejandro/anaconda3/envs/openslide/lib/site-packages/large_image/tilesource/base.py?line=569'>570</a>\u001b[0m \u001b[39m# Tile size includes the overlap\u001b[39;00m\n",
      "\u001b[1;31mValueError\u001b[0m: only one element tensors can be converted to Python scalars"
     ]
    }
   ],
   "source": [
    "patch_size = 512\n",
    "paths = [r\"C:\\Users\\Alejandro\\Desktop\\heterogeneous-data\\data\\gdc_download_20220427_144600.480657\\02b370ac-0168-4bd4-8178-54770b134a45\"]\n",
    "pred_data(paths, patch_size, [\".svs\"], net)"
   ]
  },
  {
   "cell_type": "code",
   "execution_count": 15,
   "metadata": {},
   "outputs": [
    {
     "data": {
      "text/plain": [
       "(0.9855072463768116,\n",
       " tensor(0.1074, device='cuda:0', grad_fn=<BinaryCrossEntropyBackward0>),\n",
       " [1, 0])"
      ]
     },
     "execution_count": 15,
     "metadata": {},
     "output_type": "execute_result"
    }
   ],
   "source": [
    "label = torch.tensor([1,0]).to(\"cuda:0\").float()\n",
    "file = r\"C:\\Users\\Alejandro\\Desktop\\heterogeneous-data\\data\\gdc_download_20220427_144600.480657\\02b370ac-0168-4bd4-8178-54770b134a45\\TCGA-3A-A9IL-01A-01-TS1.F811C83B-1C85-4F69-9E14-E5104E385D84.svs\"\n",
    "patch_size = 512\n",
    "\n",
    "pred_file(file, patch_size, label, net)"
   ]
  },
  {
   "cell_type": "code",
   "execution_count": 1,
   "metadata": {},
   "outputs": [
    {
     "name": "stderr",
     "output_type": "stream",
     "text": [
      "C:\\Users\\Alejandro\\Desktop\\heterogeneous-data\\code\\WSI\\patch_gen_grid.py:15: DeprecationWarning: Please use `binary_dilation` from the `scipy.ndimage` namespace, the `scipy.ndimage.morphology` namespace is deprecated.\n",
      "  from scipy.ndimage.morphology import binary_dilation, binary_erosion\n",
      "C:\\Users\\Alejandro\\Desktop\\heterogeneous-data\\code\\WSI\\patch_gen_grid.py:15: DeprecationWarning: Please use `binary_erosion` from the `scipy.ndimage` namespace, the `scipy.ndimage.morphology` namespace is deprecated.\n",
      "  from scipy.ndimage.morphology import binary_dilation, binary_erosion\n"
     ]
    },
    {
     "name": "stdout",
     "output_type": "stream",
     "text": [
      "ArgumentParser(prog='patch_gen_grid.py', usage=None, description='Generate patches from a given folder of images', formatter_class=<class 'argparse.HelpFormatter'>, conflict_handler='error', add_help=True)\n"
     ]
    },
    {
     "name": "stderr",
     "output_type": "stream",
     "text": [
      "100%|██████████| 2/2 [00:00<?, ?it/s]\n"
     ]
    }
   ],
   "source": [
    "%run patch_gen_grid.py --wsi_path=\"C:/Users/Alejandro/Desktop/heterogeneous-data/data/gdc_download_20220427_144600.480657/feba0925-0edd-4077-a5e1-7c93d33283ae\" --patch_path=\"C:/Users/Alejandro/Desktop/heterogeneous-data/data/patches\""
   ]
  },
  {
   "cell_type": "code",
   "execution_count": null,
   "metadata": {},
   "outputs": [],
   "source": []
  }
 ],
 "metadata": {
  "interpreter": {
   "hash": "de74446a7cd3a56c425ecbffb2a7ad915342ddab3c48353acb4566475bd7705f"
  },
  "kernelspec": {
   "display_name": "Python 3.9.12 ('openslide')",
   "language": "python",
   "name": "python3"
  },
  "language_info": {
   "codemirror_mode": {
    "name": "ipython",
    "version": 3
   },
   "file_extension": ".py",
   "mimetype": "text/x-python",
   "name": "python",
   "nbconvert_exporter": "python",
   "pygments_lexer": "ipython3",
   "version": "3.9.12"
  },
  "orig_nbformat": 4
 },
 "nbformat": 4,
 "nbformat_minor": 2
}
